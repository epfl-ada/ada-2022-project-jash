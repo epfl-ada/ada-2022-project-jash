{
 "cells": [
  {
   "cell_type": "code",
   "execution_count": 2,
   "metadata": {},
   "outputs": [],
   "source": [
    "import pandas as pd\n",
    "import numpy as np\n",
    "\n",
    "import requests\n",
    "from bs4 import BeautifulSoup"
   ]
  },
  {
   "cell_type": "markdown",
   "metadata": {},
   "source": [
    "# Scraping missing data\n",
    "In this notebook, we are scrappping missing data for our data story: analysing the ideal actor profile for each genre over time.\n",
    "\n",
    "The missing data is:\n",
    "1. height of every actor\n",
    "2. movie success metric: imdb review score\n",
    "3. ...???"
   ]
  },
  {
   "cell_type": "markdown",
   "metadata": {},
   "source": [
    "## Scraping the height of every actor"
   ]
  },
  {
   "cell_type": "code",
   "execution_count": 3,
   "metadata": {},
   "outputs": [],
   "source": [
    "# import data sets (column names are based on readme file of data set publisher)\n",
    "character_metadata = pd.read_csv('./data/character.metadata.tsv', sep='\\t', names=[\n",
    "    'Wikipedia movie ID',\n",
    "    'Freebase movie ID',\n",
    "    'Movie release date',\n",
    "    'Character name',\n",
    "    'Actor date of birth',\n",
    "    'Actor gender',\n",
    "    'Actor height (in meters)',\n",
    "    'Actor ethnicity (Freebase ID)',\n",
    "    'Actor name',\n",
    "    'Actor age at movie release',\n",
    "    'Freebase character/actor map ID',\n",
    "    'Freebase character ID',\n",
    "    'Freebase actor ID',\n",
    "])"
   ]
  },
  {
   "cell_type": "code",
   "execution_count": 4,
   "metadata": {},
   "outputs": [
    {
     "data": {
      "text/html": [
       "<div>\n",
       "<style scoped>\n",
       "    .dataframe tbody tr th:only-of-type {\n",
       "        vertical-align: middle;\n",
       "    }\n",
       "\n",
       "    .dataframe tbody tr th {\n",
       "        vertical-align: top;\n",
       "    }\n",
       "\n",
       "    .dataframe thead th {\n",
       "        text-align: right;\n",
       "    }\n",
       "</style>\n",
       "<table border=\"1\" class=\"dataframe\">\n",
       "  <thead>\n",
       "    <tr style=\"text-align: right;\">\n",
       "      <th></th>\n",
       "      <th>Actor name</th>\n",
       "    </tr>\n",
       "  </thead>\n",
       "  <tbody>\n",
       "    <tr>\n",
       "      <th>7</th>\n",
       "      <td>Richard Cetrone</td>\n",
       "    </tr>\n",
       "    <tr>\n",
       "      <th>9</th>\n",
       "      <td>Duane Davis</td>\n",
       "    </tr>\n",
       "    <tr>\n",
       "      <th>10</th>\n",
       "      <td>Lobo Sebastian</td>\n",
       "    </tr>\n",
       "    <tr>\n",
       "      <th>11</th>\n",
       "      <td>Rodney A. Grant</td>\n",
       "    </tr>\n",
       "    <tr>\n",
       "      <th>13</th>\n",
       "      <td>Rick Edelstein</td>\n",
       "    </tr>\n",
       "  </tbody>\n",
       "</table>\n",
       "</div>"
      ],
      "text/plain": [
       "         Actor name\n",
       "7   Richard Cetrone\n",
       "9       Duane Davis\n",
       "10   Lobo Sebastian\n",
       "11  Rodney A. Grant\n",
       "13   Rick Edelstein"
      ]
     },
     "execution_count": 4,
     "metadata": {},
     "output_type": "execute_result"
    }
   ],
   "source": [
    "# determmine amount of actor whoe height is unknown\n",
    "actors_unknown_height = character_metadata[np.isnan(character_metadata[\"Actor height (in meters)\"])][[\"Actor name\"]].drop_duplicates()\n",
    "actors_unknown_height.head()"
   ]
  },
  {
   "cell_type": "code",
   "execution_count": 5,
   "metadata": {},
   "outputs": [
    {
     "data": {
      "text/plain": [
       "(121417, 1)"
      ]
     },
     "execution_count": 5,
     "metadata": {},
     "output_type": "execute_result"
    }
   ],
   "source": [
    "actors_unknown_height.shape"
   ]
  },
  {
   "cell_type": "code",
   "execution_count": 6,
   "metadata": {},
   "outputs": [
    {
     "data": {
      "text/html": [
       "<div>\n",
       "<style scoped>\n",
       "    .dataframe tbody tr th:only-of-type {\n",
       "        vertical-align: middle;\n",
       "    }\n",
       "\n",
       "    .dataframe tbody tr th {\n",
       "        vertical-align: top;\n",
       "    }\n",
       "\n",
       "    .dataframe thead th {\n",
       "        text-align: right;\n",
       "    }\n",
       "</style>\n",
       "<table border=\"1\" class=\"dataframe\">\n",
       "  <thead>\n",
       "    <tr style=\"text-align: right;\">\n",
       "      <th></th>\n",
       "      <th>nconst</th>\n",
       "      <th>primaryName</th>\n",
       "      <th>birthYear</th>\n",
       "      <th>deathYear</th>\n",
       "      <th>primaryProfession</th>\n",
       "      <th>knownForTitles</th>\n",
       "    </tr>\n",
       "  </thead>\n",
       "  <tbody>\n",
       "    <tr>\n",
       "      <th>0</th>\n",
       "      <td>nm0000001</td>\n",
       "      <td>Fred Astaire</td>\n",
       "      <td>1899</td>\n",
       "      <td>1987</td>\n",
       "      <td>soundtrack,actor,miscellaneous</td>\n",
       "      <td>tt0050419,tt0031983,tt0072308,tt0053137</td>\n",
       "    </tr>\n",
       "    <tr>\n",
       "      <th>1</th>\n",
       "      <td>nm0000002</td>\n",
       "      <td>Lauren Bacall</td>\n",
       "      <td>1924</td>\n",
       "      <td>2014</td>\n",
       "      <td>actress,soundtrack</td>\n",
       "      <td>tt0071877,tt0037382,tt0038355,tt0117057</td>\n",
       "    </tr>\n",
       "    <tr>\n",
       "      <th>2</th>\n",
       "      <td>nm0000003</td>\n",
       "      <td>Brigitte Bardot</td>\n",
       "      <td>1934</td>\n",
       "      <td>\\N</td>\n",
       "      <td>actress,soundtrack,music_department</td>\n",
       "      <td>tt0049189,tt0056404,tt0057345,tt0054452</td>\n",
       "    </tr>\n",
       "    <tr>\n",
       "      <th>3</th>\n",
       "      <td>nm0000004</td>\n",
       "      <td>John Belushi</td>\n",
       "      <td>1949</td>\n",
       "      <td>1982</td>\n",
       "      <td>actor,soundtrack,writer</td>\n",
       "      <td>tt0072562,tt0080455,tt0078723,tt0077975</td>\n",
       "    </tr>\n",
       "    <tr>\n",
       "      <th>4</th>\n",
       "      <td>nm0000005</td>\n",
       "      <td>Ingmar Bergman</td>\n",
       "      <td>1918</td>\n",
       "      <td>2007</td>\n",
       "      <td>writer,director,actor</td>\n",
       "      <td>tt0083922,tt0060827,tt0050986,tt0050976</td>\n",
       "    </tr>\n",
       "  </tbody>\n",
       "</table>\n",
       "</div>"
      ],
      "text/plain": [
       "      nconst      primaryName birthYear deathYear  \\\n",
       "0  nm0000001     Fred Astaire      1899      1987   \n",
       "1  nm0000002    Lauren Bacall      1924      2014   \n",
       "2  nm0000003  Brigitte Bardot      1934        \\N   \n",
       "3  nm0000004     John Belushi      1949      1982   \n",
       "4  nm0000005   Ingmar Bergman      1918      2007   \n",
       "\n",
       "                     primaryProfession  \\\n",
       "0       soundtrack,actor,miscellaneous   \n",
       "1                   actress,soundtrack   \n",
       "2  actress,soundtrack,music_department   \n",
       "3              actor,soundtrack,writer   \n",
       "4                writer,director,actor   \n",
       "\n",
       "                            knownForTitles  \n",
       "0  tt0050419,tt0031983,tt0072308,tt0053137  \n",
       "1  tt0071877,tt0037382,tt0038355,tt0117057  \n",
       "2  tt0049189,tt0056404,tt0057345,tt0054452  \n",
       "3  tt0072562,tt0080455,tt0078723,tt0077975  \n",
       "4  tt0083922,tt0060827,tt0050986,tt0050976  "
      ]
     },
     "execution_count": 6,
     "metadata": {},
     "output_type": "execute_result"
    }
   ],
   "source": [
    "# get imdb actor list (source: https://datasets.imdbws.com/)\n",
    "actors_imdb = pd.read_csv('./data/name.basics.tsv/data.tsv', sep='\\t')\n",
    "actors_imdb.head()"
   ]
  },
  {
   "cell_type": "code",
   "execution_count": 7,
   "metadata": {},
   "outputs": [
    {
     "data": {
      "text/plain": [
       "(12081796, 6)"
      ]
     },
     "execution_count": 7,
     "metadata": {},
     "output_type": "execute_result"
    }
   ],
   "source": [
    "actors_imdb.shape"
   ]
  },
  {
   "cell_type": "code",
   "execution_count": 8,
   "metadata": {},
   "outputs": [
    {
     "data": {
      "text/html": [
       "<div>\n",
       "<style scoped>\n",
       "    .dataframe tbody tr th:only-of-type {\n",
       "        vertical-align: middle;\n",
       "    }\n",
       "\n",
       "    .dataframe tbody tr th {\n",
       "        vertical-align: top;\n",
       "    }\n",
       "\n",
       "    .dataframe thead th {\n",
       "        text-align: right;\n",
       "    }\n",
       "</style>\n",
       "<table border=\"1\" class=\"dataframe\">\n",
       "  <thead>\n",
       "    <tr style=\"text-align: right;\">\n",
       "      <th></th>\n",
       "      <th>Actor name</th>\n",
       "      <th>nconst</th>\n",
       "      <th>primaryName</th>\n",
       "      <th>birthYear</th>\n",
       "      <th>deathYear</th>\n",
       "      <th>primaryProfession</th>\n",
       "      <th>knownForTitles</th>\n",
       "    </tr>\n",
       "  </thead>\n",
       "  <tbody>\n",
       "    <tr>\n",
       "      <th>0</th>\n",
       "      <td>Richard Cetrone</td>\n",
       "      <td>nm0149150</td>\n",
       "      <td>Richard Cetrone</td>\n",
       "      <td>1961</td>\n",
       "      <td>\\N</td>\n",
       "      <td>stunts,actor</td>\n",
       "      <td>tt3498820,tt3778644,tt0451279,tt2975590</td>\n",
       "    </tr>\n",
       "    <tr>\n",
       "      <th>1</th>\n",
       "      <td>Duane Davis</td>\n",
       "      <td>nm0204523</td>\n",
       "      <td>Duane Davis</td>\n",
       "      <td>\\N</td>\n",
       "      <td>\\N</td>\n",
       "      <td>actor,producer</td>\n",
       "      <td>tt0228333,tt0107889,tt0094721,tt0095742</td>\n",
       "    </tr>\n",
       "    <tr>\n",
       "      <th>2</th>\n",
       "      <td>Duane Davis</td>\n",
       "      <td>nm12443572</td>\n",
       "      <td>Duane Davis</td>\n",
       "      <td>\\N</td>\n",
       "      <td>\\N</td>\n",
       "      <td>actor</td>\n",
       "      <td>tt13620374</td>\n",
       "    </tr>\n",
       "    <tr>\n",
       "      <th>3</th>\n",
       "      <td>Duane Davis</td>\n",
       "      <td>nm2483556</td>\n",
       "      <td>Duane Davis</td>\n",
       "      <td>\\N</td>\n",
       "      <td>\\N</td>\n",
       "      <td>actor</td>\n",
       "      <td>tt0816237</td>\n",
       "    </tr>\n",
       "    <tr>\n",
       "      <th>4</th>\n",
       "      <td>Duane Davis</td>\n",
       "      <td>nm2836184</td>\n",
       "      <td>Duane Davis</td>\n",
       "      <td>\\N</td>\n",
       "      <td>\\N</td>\n",
       "      <td>actor</td>\n",
       "      <td>tt1141256</td>\n",
       "    </tr>\n",
       "  </tbody>\n",
       "</table>\n",
       "</div>"
      ],
      "text/plain": [
       "        Actor name      nconst      primaryName birthYear deathYear  \\\n",
       "0  Richard Cetrone   nm0149150  Richard Cetrone      1961        \\N   \n",
       "1      Duane Davis   nm0204523      Duane Davis        \\N        \\N   \n",
       "2      Duane Davis  nm12443572      Duane Davis        \\N        \\N   \n",
       "3      Duane Davis   nm2483556      Duane Davis        \\N        \\N   \n",
       "4      Duane Davis   nm2836184      Duane Davis        \\N        \\N   \n",
       "\n",
       "  primaryProfession                           knownForTitles  \n",
       "0      stunts,actor  tt3498820,tt3778644,tt0451279,tt2975590  \n",
       "1    actor,producer  tt0228333,tt0107889,tt0094721,tt0095742  \n",
       "2             actor                               tt13620374  \n",
       "3             actor                                tt0816237  \n",
       "4             actor                                tt1141256  "
      ]
     },
     "execution_count": 8,
     "metadata": {},
     "output_type": "execute_result"
    }
   ],
   "source": [
    "#filter for actors whose height is unknown\n",
    "actors_unknown_height = actors_unknown_height.merge(actors_imdb, left_on=\"Actor name\", right_on='primaryName', how=\"left\")\n",
    "actors_unknown_height.head()\n",
    "\n",
    "# note: one actor has several imdb ids from time to time"
   ]
  },
  {
   "cell_type": "code",
   "execution_count": 9,
   "metadata": {},
   "outputs": [
    {
     "data": {
      "text/plain": [
       "(393614, 7)"
      ]
     },
     "execution_count": 9,
     "metadata": {},
     "output_type": "execute_result"
    }
   ],
   "source": [
    "actors_unknown_height.shape"
   ]
  },
  {
   "cell_type": "code",
   "execution_count": 10,
   "metadata": {},
   "outputs": [],
   "source": [
    "# perform webscrape for height\n",
    "base_url = \"https://www.imdb.com/name/\" #+ imdb_id + \"/bio/\" e. g.: \"nm0000226/\"\"\n",
    "\n",
    "\n",
    "\n",
    "\n",
    "\n"
   ]
  },
  {
   "cell_type": "code",
   "execution_count": 20,
   "metadata": {},
   "outputs": [
    {
     "name": "stdout",
     "output_type": "stream",
     "text": [
      "<table class=\"dataTable labelValueTable\" id=\"overviewTable\">\n",
      "<tr class=\"even\"><td class=\"label\">Born</td>\n",
      "<td>\n",
      "<time datetime=\"1968-9-25\">\n",
      "<a href=\"/search/name?birth_monthday=9-25&amp;refine=birth_monthday\">September 25</a>, \n",
      "     \n",
      "<a href=\"/search/name?birth_year=1968\">1968</a>\n",
      "</time>\n",
      "in <a href=\"/search/name?birth_place=Philadelphia,%20Pennsylvania,%20USA\">Philadelphia, Pennsylvania, USA</a> </td>\n",
      "</tr>\n",
      "<tr class=\"odd\">\n",
      "<td class=\"label\">Birth Name</td><td>Willard Carroll Smith</td>\n",
      "</tr>\n",
      "<tr class=\"even\"><td class=\"label\">Nicknames</td><td>\n",
      "Fresh Prince<br/>Mr. July<br/>Will    </td></tr>\n",
      "<tr class=\"odd\"><td class=\"label\">Height</td>\n",
      "<td>\n",
      "6' 1½\" (1.87 m)    </td></tr>\n",
      "</table>\n"
     ]
    },
    {
     "data": {
      "text/plain": [
       "[['Born',\n",
       "  'September 25, \\n     \\n1968\\n\\nin\\xa0Philadelphia, Pennsylvania, USA'],\n",
       " ['Birth Name', 'Willard Carroll Smith'],\n",
       " ['Nicknames', 'Fresh PrinceMr. JulyWill'],\n",
       " ['Height', '6\\'\\xa01½\"\\xa0(1.87\\xa0m)']]"
      ]
     },
     "execution_count": 20,
     "metadata": {},
     "output_type": "execute_result"
    }
   ],
   "source": [
    "page = requests.get('https://www.imdb.com/name/nm0000226/bio/')\n",
    "soup = BeautifulSoup(page.text, 'html.parser')\n",
    "\n",
    "table = soup.find('table', attrs={'id':'overviewTable'})\n",
    "print(table)\n",
    "\n",
    "data = []\n",
    "rows = table.find_all('tr')\n",
    "for row in rows:\n",
    "    cols = row.find_all('td')\n",
    "    cols = [ele.text.strip() for ele in cols]\n",
    "    data.append([ele for ele in cols if ele]) # Get rid of empty values\n",
    "data"
   ]
  },
  {
   "cell_type": "code",
   "execution_count": 12,
   "metadata": {},
   "outputs": [
    {
     "ename": "TypeError",
     "evalue": "can only concatenate str (not \"float\") to str",
     "output_type": "error",
     "traceback": [
      "\u001b[1;31m---------------------------------------------------------------------------\u001b[0m",
      "\u001b[1;31mTypeError\u001b[0m                                 Traceback (most recent call last)",
      "Cell \u001b[1;32mIn [12], line 2\u001b[0m\n\u001b[0;32m      1\u001b[0m \u001b[39mfor\u001b[39;00m imdb_actor_id \u001b[39min\u001b[39;00m actors_unknown_height[\u001b[39m\"\u001b[39m\u001b[39mnconst\u001b[39m\u001b[39m\"\u001b[39m] : \n\u001b[1;32m----> 2\u001b[0m     base_url \u001b[39m=\u001b[39m \u001b[39m\"\u001b[39;49m\u001b[39mhttps://www.imdb.com/name/\u001b[39;49m\u001b[39m\"\u001b[39;49m\u001b[39m+\u001b[39;49mimdb_actor_id\u001b[39m+\u001b[39m\u001b[39m\"\u001b[39m\u001b[39m/bio/\u001b[39m\u001b[39m\"\u001b[39m\n",
      "\u001b[1;31mTypeError\u001b[0m: can only concatenate str (not \"float\") to str"
     ]
    }
   ],
   "source": [
    "for imdb_actor_id in actors_unknown_height[\"nconst\"] : \n",
    "    base_url = \"https://www.imdb.com/name/\"+imdb_actor_id+\"/bio/\""
   ]
  },
  {
   "cell_type": "markdown",
   "metadata": {},
   "source": [
    "## Scraping imdb score of every given movie"
   ]
  }
 ],
 "metadata": {
  "kernelspec": {
   "display_name": "Python 3.10.5 64-bit",
   "language": "python",
   "name": "python3"
  },
  "language_info": {
   "codemirror_mode": {
    "name": "ipython",
    "version": 3
   },
   "file_extension": ".py",
   "mimetype": "text/x-python",
   "name": "python",
   "nbconvert_exporter": "python",
   "pygments_lexer": "ipython3",
   "version": "3.10.5"
  },
  "orig_nbformat": 4,
  "vscode": {
   "interpreter": {
    "hash": "b58835502958df7a8f6f9a9f687cdfbc590c168a3f7a37877418ee335f674714"
   }
  }
 },
 "nbformat": 4,
 "nbformat_minor": 2
}
