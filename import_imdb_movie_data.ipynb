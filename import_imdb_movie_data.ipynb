{
 "cells": [
  {
   "cell_type": "markdown",
   "metadata": {},
   "source": [
    "# Importing Imdb Movie data\n",
    "In this notebook we are retrieving basic data of movies and their popularity score - all published by imdb. In order to do so, we firstly download ```title.basics.tsv.gz``` and ```title.ratings.tsv.gz``` from ```https://datasets.imdbws.com/```. Secondly, we put the downloaded data in the folder ```data```. Thirdly, we load in the newly obtained data and merge it with our given movie data set. Lastly, we analyse how more or less movie data imdb provides compared to our given data."
   ]
  },
  {
   "cell_type": "code",
   "execution_count": null,
   "metadata": {},
   "outputs": [],
   "source": [
    "import pandas as pd\n",
    "import numpy as np"
   ]
  },
  {
   "cell_type": "code",
   "execution_count": null,
   "metadata": {},
   "outputs": [],
   "source": [
    "#loading in imdb's movie data\n",
    "movies_imdb = pd.read_csv('./data/title.basics.tsv/data.tsv', sep='\\t')\n",
    "movies_imdb.head()"
   ]
  },
  {
   "cell_type": "code",
   "execution_count": null,
   "metadata": {},
   "outputs": [],
   "source": [
    "#loading in imdb's movie ratings\n",
    "ratings_imdb = pd.read_csv('./data/title.ratings.tsv/data.tsv', sep='\\t')\n",
    "ratings_imdb.head()"
   ]
  },
  {
   "cell_type": "code",
   "execution_count": null,
   "metadata": {},
   "outputs": [],
   "source": [
    "# TODO\n",
    "# add rating to movie data set \n",
    "\n",
    "# merge imdb movie data with given movie data in order to have imdb movie id and ratings (only keep all movies in given movie data)\n",
    "\n",
    "# compare how many movies are in imdb and how many are in the given movie data set\n"
   ]
  }
 ],
 "metadata": {
  "kernelspec": {
   "display_name": "Python 3.10.5 64-bit",
   "language": "python",
   "name": "python3"
  },
  "language_info": {
   "name": "python",
   "version": "3.10.5"
  },
  "orig_nbformat": 4,
  "vscode": {
   "interpreter": {
    "hash": "b58835502958df7a8f6f9a9f687cdfbc590c168a3f7a37877418ee335f674714"
   }
  }
 },
 "nbformat": 4,
 "nbformat_minor": 2
}
