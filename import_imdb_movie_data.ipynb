{
 "cells": [
  {
   "cell_type": "markdown",
   "metadata": {},
   "source": [
    "# Importing Imdb Movie data\n",
    "In this notebook we are retrieving basic data of movies and their popularity score - all published by imdb. In order to do so, we firstly download ```title.basics.tsv.gz``` and ```title.ratings.tsv.gz``` from ```https://datasets.imdbws.com/```. Secondly, we put the downloaded data in the folder ```data```. Thirdly, we load in the newly obtained data and merge it with our given movie data set. Lastly, we analyse how more or less movie data imdb provides compared to our given data."
   ]
  },
  {
   "cell_type": "code",
   "execution_count": 127,
   "metadata": {},
   "outputs": [],
   "source": [
    "import pandas as pd\n",
    "import numpy as np\n",
    "\n",
    "import matplotlib.pyplot as plt"
   ]
  },
  {
   "cell_type": "code",
   "execution_count": 211,
   "metadata": {},
   "outputs": [
    {
     "name": "stderr",
     "output_type": "stream",
     "text": [
      "C:\\Users\\Asus\\AppData\\Local\\Temp\\ipykernel_27536\\129067258.py:2: DtypeWarning: Columns (4) have mixed types. Specify dtype option on import or set low_memory=False.\n",
      "  movies_imdb = pd.read_csv('./data/title.basics.tsv/data.tsv', sep='\\t')\n"
     ]
    },
    {
     "data": {
      "text/html": [
       "<div>\n",
       "<style scoped>\n",
       "    .dataframe tbody tr th:only-of-type {\n",
       "        vertical-align: middle;\n",
       "    }\n",
       "\n",
       "    .dataframe tbody tr th {\n",
       "        vertical-align: top;\n",
       "    }\n",
       "\n",
       "    .dataframe thead th {\n",
       "        text-align: right;\n",
       "    }\n",
       "</style>\n",
       "<table border=\"1\" class=\"dataframe\">\n",
       "  <thead>\n",
       "    <tr style=\"text-align: right;\">\n",
       "      <th></th>\n",
       "      <th>tconst</th>\n",
       "      <th>titleType</th>\n",
       "      <th>primaryTitle</th>\n",
       "      <th>originalTitle</th>\n",
       "      <th>isAdult</th>\n",
       "      <th>startYear</th>\n",
       "      <th>endYear</th>\n",
       "      <th>runtimeMinutes</th>\n",
       "      <th>genres</th>\n",
       "    </tr>\n",
       "  </thead>\n",
       "  <tbody>\n",
       "    <tr>\n",
       "      <th>0</th>\n",
       "      <td>tt0000001</td>\n",
       "      <td>short</td>\n",
       "      <td>Carmencita</td>\n",
       "      <td>Carmencita</td>\n",
       "      <td>0</td>\n",
       "      <td>1894</td>\n",
       "      <td>\\N</td>\n",
       "      <td>1</td>\n",
       "      <td>Documentary,Short</td>\n",
       "    </tr>\n",
       "    <tr>\n",
       "      <th>1</th>\n",
       "      <td>tt0000002</td>\n",
       "      <td>short</td>\n",
       "      <td>Le clown et ses chiens</td>\n",
       "      <td>Le clown et ses chiens</td>\n",
       "      <td>0</td>\n",
       "      <td>1892</td>\n",
       "      <td>\\N</td>\n",
       "      <td>5</td>\n",
       "      <td>Animation,Short</td>\n",
       "    </tr>\n",
       "    <tr>\n",
       "      <th>2</th>\n",
       "      <td>tt0000003</td>\n",
       "      <td>short</td>\n",
       "      <td>Pauvre Pierrot</td>\n",
       "      <td>Pauvre Pierrot</td>\n",
       "      <td>0</td>\n",
       "      <td>1892</td>\n",
       "      <td>\\N</td>\n",
       "      <td>4</td>\n",
       "      <td>Animation,Comedy,Romance</td>\n",
       "    </tr>\n",
       "    <tr>\n",
       "      <th>3</th>\n",
       "      <td>tt0000004</td>\n",
       "      <td>short</td>\n",
       "      <td>Un bon bock</td>\n",
       "      <td>Un bon bock</td>\n",
       "      <td>0</td>\n",
       "      <td>1892</td>\n",
       "      <td>\\N</td>\n",
       "      <td>12</td>\n",
       "      <td>Animation,Short</td>\n",
       "    </tr>\n",
       "    <tr>\n",
       "      <th>4</th>\n",
       "      <td>tt0000005</td>\n",
       "      <td>short</td>\n",
       "      <td>Blacksmith Scene</td>\n",
       "      <td>Blacksmith Scene</td>\n",
       "      <td>0</td>\n",
       "      <td>1893</td>\n",
       "      <td>\\N</td>\n",
       "      <td>1</td>\n",
       "      <td>Comedy,Short</td>\n",
       "    </tr>\n",
       "  </tbody>\n",
       "</table>\n",
       "</div>"
      ],
      "text/plain": [
       "      tconst titleType            primaryTitle           originalTitle  \\\n",
       "0  tt0000001     short              Carmencita              Carmencita   \n",
       "1  tt0000002     short  Le clown et ses chiens  Le clown et ses chiens   \n",
       "2  tt0000003     short          Pauvre Pierrot          Pauvre Pierrot   \n",
       "3  tt0000004     short             Un bon bock             Un bon bock   \n",
       "4  tt0000005     short        Blacksmith Scene        Blacksmith Scene   \n",
       "\n",
       "  isAdult startYear endYear runtimeMinutes                    genres  \n",
       "0       0      1894      \\N              1         Documentary,Short  \n",
       "1       0      1892      \\N              5           Animation,Short  \n",
       "2       0      1892      \\N              4  Animation,Comedy,Romance  \n",
       "3       0      1892      \\N             12           Animation,Short  \n",
       "4       0      1893      \\N              1              Comedy,Short  "
      ]
     },
     "execution_count": 211,
     "metadata": {},
     "output_type": "execute_result"
    }
   ],
   "source": [
    "#loading in imdb's movie data\n",
    "movies_imdb = pd.read_csv('./data/title.basics.tsv/data.tsv', sep='\\t')\n",
    "movies_imdb.head()"
   ]
  },
  {
   "cell_type": "code",
   "execution_count": 3,
   "metadata": {},
   "outputs": [
    {
     "data": {
      "text/html": [
       "<div>\n",
       "<style scoped>\n",
       "    .dataframe tbody tr th:only-of-type {\n",
       "        vertical-align: middle;\n",
       "    }\n",
       "\n",
       "    .dataframe tbody tr th {\n",
       "        vertical-align: top;\n",
       "    }\n",
       "\n",
       "    .dataframe thead th {\n",
       "        text-align: right;\n",
       "    }\n",
       "</style>\n",
       "<table border=\"1\" class=\"dataframe\">\n",
       "  <thead>\n",
       "    <tr style=\"text-align: right;\">\n",
       "      <th></th>\n",
       "      <th>tconst</th>\n",
       "      <th>averageRating</th>\n",
       "      <th>numVotes</th>\n",
       "    </tr>\n",
       "  </thead>\n",
       "  <tbody>\n",
       "    <tr>\n",
       "      <th>0</th>\n",
       "      <td>tt0000001</td>\n",
       "      <td>5.7</td>\n",
       "      <td>1926</td>\n",
       "    </tr>\n",
       "    <tr>\n",
       "      <th>1</th>\n",
       "      <td>tt0000002</td>\n",
       "      <td>5.8</td>\n",
       "      <td>261</td>\n",
       "    </tr>\n",
       "    <tr>\n",
       "      <th>2</th>\n",
       "      <td>tt0000003</td>\n",
       "      <td>6.5</td>\n",
       "      <td>1743</td>\n",
       "    </tr>\n",
       "    <tr>\n",
       "      <th>3</th>\n",
       "      <td>tt0000004</td>\n",
       "      <td>5.6</td>\n",
       "      <td>176</td>\n",
       "    </tr>\n",
       "    <tr>\n",
       "      <th>4</th>\n",
       "      <td>tt0000005</td>\n",
       "      <td>6.2</td>\n",
       "      <td>2555</td>\n",
       "    </tr>\n",
       "  </tbody>\n",
       "</table>\n",
       "</div>"
      ],
      "text/plain": [
       "      tconst  averageRating  numVotes\n",
       "0  tt0000001            5.7      1926\n",
       "1  tt0000002            5.8       261\n",
       "2  tt0000003            6.5      1743\n",
       "3  tt0000004            5.6       176\n",
       "4  tt0000005            6.2      2555"
      ]
     },
     "execution_count": 3,
     "metadata": {},
     "output_type": "execute_result"
    }
   ],
   "source": [
    "#loading in imdb's movie ratings\n",
    "ratings_imdb = pd.read_csv('./data/title.ratings.tsv/data.tsv', sep='\\t')\n",
    "ratings_imdb.head()"
   ]
  },
  {
   "cell_type": "code",
   "execution_count": 4,
   "metadata": {},
   "outputs": [],
   "source": [
    "# TODO\n",
    "# add rating to movie data set \n",
    "\n",
    "# merge imdb movie data with given movie data in order to have imdb movie id and ratings (only keep all movies in given movie data)\n",
    "\n",
    "# compare how many movies are in imdb and how many are in the given movie data set\n"
   ]
  },
  {
   "cell_type": "code",
   "execution_count": 5,
   "metadata": {},
   "outputs": [],
   "source": [
    "x = []\n",
    "\n",
    "for y in movies_imdb['genres']:\n",
    "\n",
    "    if type(y) == str:\n",
    "        x+= y.split(\",\")\n",
    "\n",
    "z = np.unique(x)"
   ]
  },
  {
   "cell_type": "code",
   "execution_count": 6,
   "metadata": {},
   "outputs": [
    {
     "data": {
      "text/plain": [
       "array(['Action', 'Adult', 'Adventure', 'Animation', 'Biography', 'Comedy',\n",
       "       'Crime', 'Documentary', 'Drama', 'Experimental', 'Family',\n",
       "       'Fantasy', 'Film-Noir', 'Game-Show', 'History', 'Horror', 'Music',\n",
       "       'Musical', 'Mystery', 'News', 'Reality-TV', 'Romance', 'Sci-Fi',\n",
       "       'Short', 'Sport', 'Talk-Show', 'Thriller', 'War', 'Western', '\\\\N'],\n",
       "      dtype='<U12')"
      ]
     },
     "execution_count": 6,
     "metadata": {},
     "output_type": "execute_result"
    }
   ],
   "source": [
    "z"
   ]
  },
  {
   "attachments": {},
   "cell_type": "markdown",
   "metadata": {},
   "source": [
    "# Major genres - Romance, Action, Comedy, Horror, Family(??)\n",
    "\n",
    "## Secondary genres - War, sci-fi, history, animation (only voice actors)\n",
    "\n",
    "###  interesting one could be - documentary, biography (total irrelevance to our study - so control group) - actor choice cannot be generalized based on the subject of the biography or documentary. Can be used to contrast the results or outcomes from a similar analysis used for the popular genres\n"
   ]
  },
  {
   "cell_type": "code",
   "execution_count": 244,
   "metadata": {},
   "outputs": [
    {
     "name": "stdout",
     "output_type": "stream",
     "text": [
      "521880\n"
     ]
    }
   ],
   "source": [
    "dataset = pd.read_csv('./data/actor_movie_combi.csv', sep=',')\n",
    "\n",
    "print(len(dataset))"
   ]
  },
  {
   "cell_type": "code",
   "execution_count": 247,
   "metadata": {},
   "outputs": [],
   "source": [
    "pd.options.mode.chained_assignment = None  # default='warn'\n",
    "\n",
    "# for the sake of diversity - not taking crime and adventure reduces significantly after animation is removed\n",
    "genres_major = ['Drama', \"Action\", \"Romance\",\"Comedy\"]\n",
    "\n",
    "# remove genres which do not have a relation to actor features\n",
    "genres_remove = [\"Animation\", \"Biography\", \"Documentary\",\"Short\"]\n",
    "\n",
    "\n",
    "# function removes certain genres and makes additional columns for each major genre marking which category the movie belongs to \n",
    "\n",
    "def extract_genres(dataset, genres_major=genres_major, genres_remove=genres_remove):\n",
    "\n",
    "    dataset.dropna(inplace=True)\n",
    "\n",
    "    x = []\n",
    "    a = []\n",
    "\n",
    "\n",
    "    # filter genres that we are not considering = [short, documentary, biography, animation]\n",
    "    dataset_filtered = dataset[~dataset['genres'].str.contains('|'.join(genres_remove))]\n",
    "\n",
    "    # to store only movies and actors that have worked in the major genres\n",
    "    movies_major = dataset_filtered[dataset_filtered['genres'].str.contains('|'.join(genres_major))]\n",
    "\n",
    "    for i in genres_major:\n",
    "\n",
    "        movies_major[i] = movies_major['genres'].apply(lambda x: 1 if i in x else 0)\n",
    "\n",
    "    movies_major.sort_values(by ='startYear', ascending=True)\n",
    "\n",
    "    for y in movies_major['genres']:\n",
    "\n",
    "        if type(y) == str:\n",
    "            x+= y.split(\",\")\n",
    "\n",
    "    genres_all, counts = np.unique(x, return_counts=True)\n",
    "\n",
    "    genre_df = pd.DataFrame(list(zip(genres_all, counts)), columns=[\"genre\", \"count\"])\n",
    "\n",
    "        \n",
    "    genre_df.sort_values('count',inplace=True, ascending = False)\n",
    "    genre_df.reset_index(drop=True,inplace=True)\n",
    "    genre_df.set_index('genre').plot(kind='bar', figsize=(13,4))\n",
    "\n",
    "    return genres_all, counts, movies_major\n",
    "\n",
    "\n",
    "# fig = plt.figure(1, figsize=(13,4))\n",
    "\n",
    "# plt.bar(genres_all, counts)\n",
    "\n",
    "# plt.xticks(genres_all, rotation = 90)\n",
    "\n",
    "# plt.show()\n",
    "\n",
    "# print(genre_df)"
   ]
  },
  {
   "cell_type": "code",
   "execution_count": 248,
   "metadata": {},
   "outputs": [
    {
     "name": "stdout",
     "output_type": "stream",
     "text": [
      "['Action' 'Adult' 'Adventure' 'Comedy' 'Crime' 'Drama' 'Family' 'Fantasy'\n",
      " 'Film-Noir' 'Game-Show' 'History' 'Horror' 'Music' 'Musical' 'Mystery'\n",
      " 'News' 'Reality-TV' 'Romance' 'Sci-Fi' 'Sport' 'Talk-Show' 'Thriller'\n",
      " 'War' 'Western']\n",
      "342276\n",
      "521880\n"
     ]
    },
    {
     "data": {
      "image/png": "[encoded data removed]",
      "text/plain": [
       "<Figure size 1300x400 with 1 Axes>"
      ]
     },
     "metadata": {},
     "output_type": "display_data"
    }
   ],
   "source": [
    "\n",
    "genres_all, counts, movies_major = extract_genres(dataset=dataset)\n",
    "\n",
    "print(genres_all)\n",
    "\n",
    "print(len(movies_major))\n",
    "print(len(dataset))\n"
   ]
  },
  {
   "cell_type": "code",
   "execution_count": 177,
   "metadata": {},
   "outputs": [],
   "source": [
    "movies_major.to_csv(\"./data/major_genre_movies.csv\", index=False)"
   ]
  },
  {
   "attachments": {},
   "cell_type": "markdown",
   "metadata": {},
   "source": [
    "## Time to make an actor profile"
   ]
  },
  {
   "attachments": {},
   "cell_type": "markdown",
   "metadata": {},
   "source": [
    "# features such as experience, age, genre diversity\n",
    "\n",
    "# how to justify an ideal actor profile - average rating around these features and also give an example of a famous actor with such a background"
   ]
  },
  {
   "cell_type": "code",
   "execution_count": 252,
   "metadata": {},
   "outputs": [
    {
     "data": {
      "text/html": [
       "<div>\n",
       "<style scoped>\n",
       "    .dataframe tbody tr th:only-of-type {\n",
       "        vertical-align: middle;\n",
       "    }\n",
       "\n",
       "    .dataframe tbody tr th {\n",
       "        vertical-align: top;\n",
       "    }\n",
       "\n",
       "    .dataframe thead th {\n",
       "        text-align: right;\n",
       "    }\n",
       "</style>\n",
       "<table border=\"1\" class=\"dataframe\">\n",
       "  <thead>\n",
       "    <tr style=\"text-align: right;\">\n",
       "      <th></th>\n",
       "      <th>tconst</th>\n",
       "      <th>ordering</th>\n",
       "      <th>nconst</th>\n",
       "      <th>gender</th>\n",
       "      <th>primaryName</th>\n",
       "      <th>birthYear</th>\n",
       "      <th>deathYear</th>\n",
       "      <th>startYear</th>\n",
       "      <th>genres</th>\n",
       "      <th>deatYear</th>\n",
       "      <th>age_at_movie_start</th>\n",
       "      <th>averageRating</th>\n",
       "      <th>numVotes</th>\n",
       "      <th>exp_so_far</th>\n",
       "      <th>Drama</th>\n",
       "      <th>Action</th>\n",
       "      <th>Romance</th>\n",
       "      <th>Comedy</th>\n",
       "    </tr>\n",
       "  </thead>\n",
       "  <tbody>\n",
       "    <tr>\n",
       "      <th>455573</th>\n",
       "      <td>tt1295453</td>\n",
       "      <td>1</td>\n",
       "      <td>nm0000008</td>\n",
       "      <td>0</td>\n",
       "      <td>Marlon Brando</td>\n",
       "      <td>1924</td>\n",
       "      <td>2004</td>\n",
       "      <td>1977</td>\n",
       "      <td>Crime,Drama,Thriller</td>\n",
       "      <td>2004</td>\n",
       "      <td>53</td>\n",
       "      <td>9.2</td>\n",
       "      <td>172</td>\n",
       "      <td>47</td>\n",
       "      <td>1</td>\n",
       "      <td>0</td>\n",
       "      <td>0</td>\n",
       "      <td>0</td>\n",
       "    </tr>\n",
       "    <tr>\n",
       "      <th>455570</th>\n",
       "      <td>tt1295452</td>\n",
       "      <td>1</td>\n",
       "      <td>nm0000008</td>\n",
       "      <td>0</td>\n",
       "      <td>Marlon Brando</td>\n",
       "      <td>1924</td>\n",
       "      <td>2004</td>\n",
       "      <td>1977</td>\n",
       "      <td>Crime,Drama,Thriller</td>\n",
       "      <td>2004</td>\n",
       "      <td>53</td>\n",
       "      <td>9.3</td>\n",
       "      <td>162</td>\n",
       "      <td>46</td>\n",
       "      <td>1</td>\n",
       "      <td>0</td>\n",
       "      <td>0</td>\n",
       "      <td>0</td>\n",
       "    </tr>\n",
       "    <tr>\n",
       "      <th>455567</th>\n",
       "      <td>tt1295451</td>\n",
       "      <td>1</td>\n",
       "      <td>nm0000008</td>\n",
       "      <td>0</td>\n",
       "      <td>Marlon Brando</td>\n",
       "      <td>1924</td>\n",
       "      <td>2004</td>\n",
       "      <td>1977</td>\n",
       "      <td>Crime,Drama,Thriller</td>\n",
       "      <td>2004</td>\n",
       "      <td>53</td>\n",
       "      <td>9.3</td>\n",
       "      <td>163</td>\n",
       "      <td>45</td>\n",
       "      <td>1</td>\n",
       "      <td>0</td>\n",
       "      <td>0</td>\n",
       "      <td>0</td>\n",
       "    </tr>\n",
       "    <tr>\n",
       "      <th>455564</th>\n",
       "      <td>tt1295450</td>\n",
       "      <td>1</td>\n",
       "      <td>nm0000008</td>\n",
       "      <td>0</td>\n",
       "      <td>Marlon Brando</td>\n",
       "      <td>1924</td>\n",
       "      <td>2004</td>\n",
       "      <td>1977</td>\n",
       "      <td>Crime,Drama,Thriller</td>\n",
       "      <td>2004</td>\n",
       "      <td>53</td>\n",
       "      <td>9.4</td>\n",
       "      <td>176</td>\n",
       "      <td>44</td>\n",
       "      <td>1</td>\n",
       "      <td>0</td>\n",
       "      <td>0</td>\n",
       "      <td>0</td>\n",
       "    </tr>\n",
       "    <tr>\n",
       "      <th>411288</th>\n",
       "      <td>tt0839995</td>\n",
       "      <td>3</td>\n",
       "      <td>nm0000008</td>\n",
       "      <td>0</td>\n",
       "      <td>Marlon Brando</td>\n",
       "      <td>1924</td>\n",
       "      <td>2004</td>\n",
       "      <td>1980</td>\n",
       "      <td>Action,Adventure,Romance</td>\n",
       "      <td>2004</td>\n",
       "      <td>56</td>\n",
       "      <td>7.6</td>\n",
       "      <td>17306</td>\n",
       "      <td>42</td>\n",
       "      <td>0</td>\n",
       "      <td>1</td>\n",
       "      <td>1</td>\n",
       "      <td>0</td>\n",
       "    </tr>\n",
       "  </tbody>\n",
       "</table>\n",
       "</div>"
      ],
      "text/plain": [
       "           tconst  ordering     nconst  gender    primaryName  birthYear  \\\n",
       "455573  tt1295453         1  nm0000008       0  Marlon Brando       1924   \n",
       "455570  tt1295452         1  nm0000008       0  Marlon Brando       1924   \n",
       "455567  tt1295451         1  nm0000008       0  Marlon Brando       1924   \n",
       "455564  tt1295450         1  nm0000008       0  Marlon Brando       1924   \n",
       "411288  tt0839995         3  nm0000008       0  Marlon Brando       1924   \n",
       "\n",
       "        deathYear  startYear                    genres  deatYear  \\\n",
       "455573       2004       1977      Crime,Drama,Thriller      2004   \n",
       "455570       2004       1977      Crime,Drama,Thriller      2004   \n",
       "455567       2004       1977      Crime,Drama,Thriller      2004   \n",
       "455564       2004       1977      Crime,Drama,Thriller      2004   \n",
       "411288       2004       1980  Action,Adventure,Romance      2004   \n",
       "\n",
       "        age_at_movie_start  averageRating  numVotes  exp_so_far  Drama  \\\n",
       "455573                  53            9.2       172          47      1   \n",
       "455570                  53            9.3       162          46      1   \n",
       "455567                  53            9.3       163          45      1   \n",
       "455564                  53            9.4       176          44      1   \n",
       "411288                  56            7.6     17306          42      0   \n",
       "\n",
       "        Action  Romance  Comedy  \n",
       "455573       0        0       0  \n",
       "455570       0        0       0  \n",
       "455567       0        0       0  \n",
       "455564       0        0       0  \n",
       "411288       1        1       0  "
      ]
     },
     "execution_count": 252,
     "metadata": {},
     "output_type": "execute_result"
    }
   ],
   "source": [
    "movies_major[movies_major[\"primaryName\"].str.contains(\"Marlon Brando\")].sort_values(by=\"exp_so_far\", ascending=False).head()"
   ]
  },
  {
   "cell_type": "code",
   "execution_count": null,
   "metadata": {},
   "outputs": [],
   "source": []
  }
 ],
 "metadata": {
  "kernelspec": {
   "display_name": "Python 3",
   "language": "python",
   "name": "python3"
  },
  "language_info": {
   "codemirror_mode": {
    "name": "ipython",
    "version": 3
   },
   "file_extension": ".py",
   "mimetype": "text/x-python",
   "name": "python",
   "nbconvert_exporter": "python",
   "pygments_lexer": "ipython3",
   "version": "3.10.5 (tags/v3.10.5:f377153, Jun  6 2022, 16:14:13) [MSC v.1929 64 bit (AMD64)]"
  },
  "orig_nbformat": 4,
  "vscode": {
   "interpreter": {
    "hash": "b58835502958df7a8f6f9a9f687cdfbc590c168a3f7a37877418ee335f674714"
   }
  }
 },
 "nbformat": 4,
 "nbformat_minor": 2
}
