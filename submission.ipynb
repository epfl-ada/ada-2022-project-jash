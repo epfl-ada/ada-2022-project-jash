{
 "cells": [
  {
   "cell_type": "code",
   "execution_count": 1,
   "metadata": {},
   "outputs": [],
   "source": [
    "# imports\n",
    "# processing data\n",
    "import pandas as pd\n",
    "import numpy as np\n",
    "\n",
    "# analysis\n",
    "import statsmodels.formula.api as smf\n",
    "from sklearn.ensemble import RandomForestRegressor\n",
    "from sklearn.model_selection import train_test_split\n",
    "\n",
    "# plot\n",
    "import matplotlib.pyplot as plt\n",
    "from d3blocks import D3Blocks\n",
    "import seaborn as sns\n",
    "import plotly.express as px\n",
    "\n"
   ]
  },
  {
   "cell_type": "markdown",
   "metadata": {},
   "source": [
    "# Section 1: preprocessing data."
   ]
  },
  {
   "cell_type": "code",
   "execution_count": 2,
   "metadata": {},
   "outputs": [],
   "source": [
    "# Please add all preprocessing code here."
   ]
  },
  {
   "cell_type": "markdown",
   "metadata": {},
   "source": [
    "# Section 2: genre analysis"
   ]
  },
  {
   "cell_type": "markdown",
   "metadata": {},
   "source": [
    "- 1. Feature engineering\n"
   ]
  },
  {
   "cell_type": "markdown",
   "metadata": {},
   "source": [
    "- 2. Genre pattern evaluation."
   ]
  },
  {
   "cell_type": "code",
   "execution_count": 22,
   "metadata": {},
   "outputs": [
    {
     "data": {
      "text/html": [
       "<div>\n",
       "<style scoped>\n",
       "    .dataframe tbody tr th:only-of-type {\n",
       "        vertical-align: middle;\n",
       "    }\n",
       "\n",
       "    .dataframe tbody tr th {\n",
       "        vertical-align: top;\n",
       "    }\n",
       "\n",
       "    .dataframe thead th {\n",
       "        text-align: right;\n",
       "    }\n",
       "</style>\n",
       "<table border=\"1\" class=\"dataframe\">\n",
       "  <thead>\n",
       "    <tr style=\"text-align: right;\">\n",
       "      <th></th>\n",
       "      <th>tconst</th>\n",
       "      <th>ordering</th>\n",
       "      <th>nconst</th>\n",
       "      <th>gender</th>\n",
       "      <th>primaryName</th>\n",
       "      <th>birthYear</th>\n",
       "      <th>startYear</th>\n",
       "      <th>genres</th>\n",
       "      <th>age_at_movie_start</th>\n",
       "      <th>averageRating</th>\n",
       "      <th>...</th>\n",
       "      <th>exp_so_far</th>\n",
       "      <th>Drama_exp_so_far</th>\n",
       "      <th>Action_exp_so_far</th>\n",
       "      <th>Romance_exp_so_far</th>\n",
       "      <th>Comedy_exp_so_far</th>\n",
       "      <th>Adventure_exp_so_far</th>\n",
       "      <th>Crime_exp_so_far</th>\n",
       "      <th>War_exp_so_far</th>\n",
       "      <th>Family_exp_so_far</th>\n",
       "      <th>Mystery_exp_so_far</th>\n",
       "    </tr>\n",
       "  </thead>\n",
       "  <tbody>\n",
       "    <tr>\n",
       "      <th>0</th>\n",
       "      <td>tt0000009</td>\n",
       "      <td>2</td>\n",
       "      <td>nm0183823</td>\n",
       "      <td>0</td>\n",
       "      <td>William Courtenay</td>\n",
       "      <td>1875</td>\n",
       "      <td>1894.0</td>\n",
       "      <td>Romance</td>\n",
       "      <td>19.0</td>\n",
       "      <td>5.3</td>\n",
       "      <td>...</td>\n",
       "      <td>0</td>\n",
       "      <td>0</td>\n",
       "      <td>0</td>\n",
       "      <td>1</td>\n",
       "      <td>0</td>\n",
       "      <td>0</td>\n",
       "      <td>0</td>\n",
       "      <td>0</td>\n",
       "      <td>0</td>\n",
       "      <td>0</td>\n",
       "    </tr>\n",
       "    <tr>\n",
       "      <th>1</th>\n",
       "      <td>tt0000009</td>\n",
       "      <td>3</td>\n",
       "      <td>nm1309758</td>\n",
       "      <td>0</td>\n",
       "      <td>Chauncey Depew</td>\n",
       "      <td>1834</td>\n",
       "      <td>1894.0</td>\n",
       "      <td>Romance</td>\n",
       "      <td>60.0</td>\n",
       "      <td>5.3</td>\n",
       "      <td>...</td>\n",
       "      <td>0</td>\n",
       "      <td>0</td>\n",
       "      <td>0</td>\n",
       "      <td>1</td>\n",
       "      <td>0</td>\n",
       "      <td>0</td>\n",
       "      <td>0</td>\n",
       "      <td>0</td>\n",
       "      <td>0</td>\n",
       "      <td>0</td>\n",
       "    </tr>\n",
       "    <tr>\n",
       "      <th>2</th>\n",
       "      <td>tt0000009</td>\n",
       "      <td>1</td>\n",
       "      <td>nm0063086</td>\n",
       "      <td>1</td>\n",
       "      <td>Blanche Bayliss</td>\n",
       "      <td>1878</td>\n",
       "      <td>1894.0</td>\n",
       "      <td>Romance</td>\n",
       "      <td>16.0</td>\n",
       "      <td>5.3</td>\n",
       "      <td>...</td>\n",
       "      <td>0</td>\n",
       "      <td>0</td>\n",
       "      <td>0</td>\n",
       "      <td>1</td>\n",
       "      <td>0</td>\n",
       "      <td>0</td>\n",
       "      <td>0</td>\n",
       "      <td>0</td>\n",
       "      <td>0</td>\n",
       "      <td>0</td>\n",
       "    </tr>\n",
       "    <tr>\n",
       "      <th>3</th>\n",
       "      <td>tt1666737</td>\n",
       "      <td>1</td>\n",
       "      <td>nm0525908</td>\n",
       "      <td>0</td>\n",
       "      <td>Auguste Lumière</td>\n",
       "      <td>1862</td>\n",
       "      <td>1896.0</td>\n",
       "      <td>Action,Comedy,Family</td>\n",
       "      <td>34.0</td>\n",
       "      <td>5.3</td>\n",
       "      <td>...</td>\n",
       "      <td>1</td>\n",
       "      <td>0</td>\n",
       "      <td>1</td>\n",
       "      <td>0</td>\n",
       "      <td>2</td>\n",
       "      <td>0</td>\n",
       "      <td>0</td>\n",
       "      <td>0</td>\n",
       "      <td>1</td>\n",
       "      <td>0</td>\n",
       "    </tr>\n",
       "    <tr>\n",
       "      <th>4</th>\n",
       "      <td>tt0000211</td>\n",
       "      <td>2</td>\n",
       "      <td>nm0617588</td>\n",
       "      <td>0</td>\n",
       "      <td>Georges Méliès</td>\n",
       "      <td>1861</td>\n",
       "      <td>1898.0</td>\n",
       "      <td>Comedy,Fantasy,Horror</td>\n",
       "      <td>37.0</td>\n",
       "      <td>7.4</td>\n",
       "      <td>...</td>\n",
       "      <td>19</td>\n",
       "      <td>0</td>\n",
       "      <td>0</td>\n",
       "      <td>0</td>\n",
       "      <td>5</td>\n",
       "      <td>0</td>\n",
       "      <td>0</td>\n",
       "      <td>0</td>\n",
       "      <td>0</td>\n",
       "      <td>0</td>\n",
       "    </tr>\n",
       "  </tbody>\n",
       "</table>\n",
       "<p>5 rows × 21 columns</p>\n",
       "</div>"
      ],
      "text/plain": [
       "      tconst  ordering     nconst  gender        primaryName  birthYear  \\\n",
       "0  tt0000009         2  nm0183823       0  William Courtenay       1875   \n",
       "1  tt0000009         3  nm1309758       0     Chauncey Depew       1834   \n",
       "2  tt0000009         1  nm0063086       1    Blanche Bayliss       1878   \n",
       "3  tt1666737         1  nm0525908       0    Auguste Lumière       1862   \n",
       "4  tt0000211         2  nm0617588       0     Georges Méliès       1861   \n",
       "\n",
       "   startYear                 genres  age_at_movie_start  averageRating  ...  \\\n",
       "0     1894.0                Romance                19.0            5.3  ...   \n",
       "1     1894.0                Romance                60.0            5.3  ...   \n",
       "2     1894.0                Romance                16.0            5.3  ...   \n",
       "3     1896.0   Action,Comedy,Family                34.0            5.3  ...   \n",
       "4     1898.0  Comedy,Fantasy,Horror                37.0            7.4  ...   \n",
       "\n",
       "   exp_so_far  Drama_exp_so_far  Action_exp_so_far  Romance_exp_so_far  \\\n",
       "0           0                 0                  0                   1   \n",
       "1           0                 0                  0                   1   \n",
       "2           0                 0                  0                   1   \n",
       "3           1                 0                  1                   0   \n",
       "4          19                 0                  0                   0   \n",
       "\n",
       "   Comedy_exp_so_far  Adventure_exp_so_far  Crime_exp_so_far  War_exp_so_far  \\\n",
       "0                  0                     0                 0               0   \n",
       "1                  0                     0                 0               0   \n",
       "2                  0                     0                 0               0   \n",
       "3                  2                     0                 0               0   \n",
       "4                  5                     0                 0               0   \n",
       "\n",
       "   Family_exp_so_far  Mystery_exp_so_far  \n",
       "0                  0                   0  \n",
       "1                  0                   0  \n",
       "2                  0                   0  \n",
       "3                  1                   0  \n",
       "4                  0                   0  \n",
       "\n",
       "[5 rows x 21 columns]"
      ]
     },
     "execution_count": 22,
     "metadata": {},
     "output_type": "execute_result"
    }
   ],
   "source": [
    "# load data.\n",
    "movie_data = pd.read_csv(\"data/genre_experience_alive.csv\")\n",
    "movie_data.head(5)"
   ]
  },
  {
   "cell_type": "code",
   "execution_count": null,
   "metadata": {},
   "outputs": [],
   "source": [
    "%%capture\n",
    "# pair-wise genre analysis\n",
    "# we are interested in popular genres here.\n",
    "target_genres = [\"Drama\", \"Comedy\", \"Crime\", \"Action\", \"Romance\", \"Family\", \"Adventure\", \"Mystery\", \"War\", \"Musical\", \"Thriller\"]\n",
    "corr_matrix = np.zeros((len(target_genres), len(target_genres)))\n",
    "\n",
    "# filter out movies with single genre.\n",
    "multiple_genres_movie = movie_data[movie_data[\"genres\"].str.contains(\",\")].reset_index()\n",
    "\n",
    "# count pair-wise movie genres.\n",
    "for i in range(len(multiple_genres_movie)):\n",
    "    for index1, first_genre in enumerate(target_genres):\n",
    "        for index2, second_genre in enumerate(target_genres):\n",
    "            if (first_genre != second_genre) and (first_genre in multiple_genres_movie[\"genres\"][i]) and (second_genre in multiple_genres_movie[\"genres\"][i]):\n",
    "                corr_matrix[index1, index2] += 1\n",
    "\n",
    "# build the matrix for plot.\n",
    "weight_matrix = [list(corr_matrix[genre_index, :]) for genre_index in range(len(target_genres))]\n",
    "rows = []\n",
    "for index1 in range(len(target_genres)):\n",
    "    for index2 in range(index1, len(target_genres)):\n",
    "        row = {\n",
    "            \"source\": target_genres[index1],\n",
    "            \"target\": target_genres[index2],\n",
    "            \"weight\": weight_matrix[index1][index2],\n",
    "        }\n",
    "        row = pd.DataFrame(data=row, index=[0])\n",
    "        rows.append(row)\n",
    "\n",
    "matrix = pd.concat(rows)\n",
    "\n",
    "# Initialize plot\n",
    "d3 = D3Blocks()\n",
    "\n",
    "# chord plot\n",
    "d3.chord(matrix);\n"
   ]
  },
  {
   "cell_type": "markdown",
   "metadata": {},
   "source": [
    "- 3. Correlation matrix of the background of actors (i.e., experience in each genre) to the genre of the movie he was filming."
   ]
  },
  {
   "cell_type": "code",
   "execution_count": 14,
   "metadata": {},
   "outputs": [
    {
     "data": {
      "text/html": [
       "<div>\n",
       "<style scoped>\n",
       "    .dataframe tbody tr th:only-of-type {\n",
       "        vertical-align: middle;\n",
       "    }\n",
       "\n",
       "    .dataframe tbody tr th {\n",
       "        vertical-align: top;\n",
       "    }\n",
       "\n",
       "    .dataframe thead th {\n",
       "        text-align: right;\n",
       "    }\n",
       "</style>\n",
       "<table border=\"1\" class=\"dataframe\">\n",
       "  <thead>\n",
       "    <tr style=\"text-align: right;\">\n",
       "      <th></th>\n",
       "      <th>tconst</th>\n",
       "      <th>ordering</th>\n",
       "      <th>nconst</th>\n",
       "      <th>gender</th>\n",
       "      <th>primaryName</th>\n",
       "      <th>birthYear</th>\n",
       "      <th>startYear</th>\n",
       "      <th>genres</th>\n",
       "      <th>age_at_movie_start</th>\n",
       "      <th>averageRating</th>\n",
       "      <th>...</th>\n",
       "      <th>exp_so_far</th>\n",
       "      <th>Drama_exp_so_far</th>\n",
       "      <th>Action_exp_so_far</th>\n",
       "      <th>Romance_exp_so_far</th>\n",
       "      <th>Comedy_exp_so_far</th>\n",
       "      <th>Adventure_exp_so_far</th>\n",
       "      <th>Crime_exp_so_far</th>\n",
       "      <th>War_exp_so_far</th>\n",
       "      <th>Family_exp_so_far</th>\n",
       "      <th>Mystery_exp_so_far</th>\n",
       "    </tr>\n",
       "  </thead>\n",
       "  <tbody>\n",
       "    <tr>\n",
       "      <th>0</th>\n",
       "      <td>tt0000009</td>\n",
       "      <td>2</td>\n",
       "      <td>nm0183823</td>\n",
       "      <td>0</td>\n",
       "      <td>William Courtenay</td>\n",
       "      <td>1875</td>\n",
       "      <td>1894.0</td>\n",
       "      <td>Romance</td>\n",
       "      <td>19.0</td>\n",
       "      <td>5.3</td>\n",
       "      <td>...</td>\n",
       "      <td>0</td>\n",
       "      <td>0</td>\n",
       "      <td>0</td>\n",
       "      <td>1</td>\n",
       "      <td>0</td>\n",
       "      <td>0</td>\n",
       "      <td>0</td>\n",
       "      <td>0</td>\n",
       "      <td>0</td>\n",
       "      <td>0</td>\n",
       "    </tr>\n",
       "    <tr>\n",
       "      <th>1</th>\n",
       "      <td>tt0000009</td>\n",
       "      <td>3</td>\n",
       "      <td>nm1309758</td>\n",
       "      <td>0</td>\n",
       "      <td>Chauncey Depew</td>\n",
       "      <td>1834</td>\n",
       "      <td>1894.0</td>\n",
       "      <td>Romance</td>\n",
       "      <td>60.0</td>\n",
       "      <td>5.3</td>\n",
       "      <td>...</td>\n",
       "      <td>0</td>\n",
       "      <td>0</td>\n",
       "      <td>0</td>\n",
       "      <td>1</td>\n",
       "      <td>0</td>\n",
       "      <td>0</td>\n",
       "      <td>0</td>\n",
       "      <td>0</td>\n",
       "      <td>0</td>\n",
       "      <td>0</td>\n",
       "    </tr>\n",
       "    <tr>\n",
       "      <th>2</th>\n",
       "      <td>tt0000009</td>\n",
       "      <td>1</td>\n",
       "      <td>nm0063086</td>\n",
       "      <td>1</td>\n",
       "      <td>Blanche Bayliss</td>\n",
       "      <td>1878</td>\n",
       "      <td>1894.0</td>\n",
       "      <td>Romance</td>\n",
       "      <td>16.0</td>\n",
       "      <td>5.3</td>\n",
       "      <td>...</td>\n",
       "      <td>0</td>\n",
       "      <td>0</td>\n",
       "      <td>0</td>\n",
       "      <td>1</td>\n",
       "      <td>0</td>\n",
       "      <td>0</td>\n",
       "      <td>0</td>\n",
       "      <td>0</td>\n",
       "      <td>0</td>\n",
       "      <td>0</td>\n",
       "    </tr>\n",
       "    <tr>\n",
       "      <th>3</th>\n",
       "      <td>tt1666737</td>\n",
       "      <td>1</td>\n",
       "      <td>nm0525908</td>\n",
       "      <td>0</td>\n",
       "      <td>Auguste Lumière</td>\n",
       "      <td>1862</td>\n",
       "      <td>1896.0</td>\n",
       "      <td>Action,Comedy,Family</td>\n",
       "      <td>34.0</td>\n",
       "      <td>5.3</td>\n",
       "      <td>...</td>\n",
       "      <td>1</td>\n",
       "      <td>0</td>\n",
       "      <td>1</td>\n",
       "      <td>0</td>\n",
       "      <td>2</td>\n",
       "      <td>0</td>\n",
       "      <td>0</td>\n",
       "      <td>0</td>\n",
       "      <td>1</td>\n",
       "      <td>0</td>\n",
       "    </tr>\n",
       "    <tr>\n",
       "      <th>4</th>\n",
       "      <td>tt0000211</td>\n",
       "      <td>2</td>\n",
       "      <td>nm0617588</td>\n",
       "      <td>0</td>\n",
       "      <td>Georges Méliès</td>\n",
       "      <td>1861</td>\n",
       "      <td>1898.0</td>\n",
       "      <td>Comedy,Fantasy,Horror</td>\n",
       "      <td>37.0</td>\n",
       "      <td>7.4</td>\n",
       "      <td>...</td>\n",
       "      <td>19</td>\n",
       "      <td>0</td>\n",
       "      <td>0</td>\n",
       "      <td>0</td>\n",
       "      <td>5</td>\n",
       "      <td>0</td>\n",
       "      <td>0</td>\n",
       "      <td>0</td>\n",
       "      <td>0</td>\n",
       "      <td>0</td>\n",
       "    </tr>\n",
       "    <tr>\n",
       "      <th>...</th>\n",
       "      <td>...</td>\n",
       "      <td>...</td>\n",
       "      <td>...</td>\n",
       "      <td>...</td>\n",
       "      <td>...</td>\n",
       "      <td>...</td>\n",
       "      <td>...</td>\n",
       "      <td>...</td>\n",
       "      <td>...</td>\n",
       "      <td>...</td>\n",
       "      <td>...</td>\n",
       "      <td>...</td>\n",
       "      <td>...</td>\n",
       "      <td>...</td>\n",
       "      <td>...</td>\n",
       "      <td>...</td>\n",
       "      <td>...</td>\n",
       "      <td>...</td>\n",
       "      <td>...</td>\n",
       "      <td>...</td>\n",
       "      <td>...</td>\n",
       "    </tr>\n",
       "    <tr>\n",
       "      <th>1976488</th>\n",
       "      <td>tt13760918</td>\n",
       "      <td>3</td>\n",
       "      <td>nm1589340</td>\n",
       "      <td>1</td>\n",
       "      <td>Isha Talwar</td>\n",
       "      <td>1987</td>\n",
       "      <td>2022.0</td>\n",
       "      <td>Drama,Thriller</td>\n",
       "      <td>35.0</td>\n",
       "      <td>5.5</td>\n",
       "      <td>...</td>\n",
       "      <td>15</td>\n",
       "      <td>13</td>\n",
       "      <td>1</td>\n",
       "      <td>4</td>\n",
       "      <td>8</td>\n",
       "      <td>0</td>\n",
       "      <td>1</td>\n",
       "      <td>0</td>\n",
       "      <td>4</td>\n",
       "      <td>0</td>\n",
       "    </tr>\n",
       "    <tr>\n",
       "      <th>1976489</th>\n",
       "      <td>tt16374130</td>\n",
       "      <td>2</td>\n",
       "      <td>nm4609670</td>\n",
       "      <td>0</td>\n",
       "      <td>Lou Ferrigno Jr.</td>\n",
       "      <td>1984</td>\n",
       "      <td>2022.0</td>\n",
       "      <td>Drama,Romance</td>\n",
       "      <td>38.0</td>\n",
       "      <td>5.4</td>\n",
       "      <td>...</td>\n",
       "      <td>15</td>\n",
       "      <td>9</td>\n",
       "      <td>6</td>\n",
       "      <td>2</td>\n",
       "      <td>0</td>\n",
       "      <td>1</td>\n",
       "      <td>0</td>\n",
       "      <td>4</td>\n",
       "      <td>0</td>\n",
       "      <td>2</td>\n",
       "    </tr>\n",
       "    <tr>\n",
       "      <th>1976490</th>\n",
       "      <td>tt19394272</td>\n",
       "      <td>8</td>\n",
       "      <td>nm9462038</td>\n",
       "      <td>1</td>\n",
       "      <td>Kimya Gökçe Aytaç</td>\n",
       "      <td>1990</td>\n",
       "      <td>2022.0</td>\n",
       "      <td>Comedy,Drama,Romance</td>\n",
       "      <td>32.0</td>\n",
       "      <td>7.0</td>\n",
       "      <td>...</td>\n",
       "      <td>3</td>\n",
       "      <td>1</td>\n",
       "      <td>1</td>\n",
       "      <td>2</td>\n",
       "      <td>4</td>\n",
       "      <td>0</td>\n",
       "      <td>1</td>\n",
       "      <td>0</td>\n",
       "      <td>0</td>\n",
       "      <td>0</td>\n",
       "    </tr>\n",
       "    <tr>\n",
       "      <th>1976491</th>\n",
       "      <td>tt11318364</td>\n",
       "      <td>2</td>\n",
       "      <td>nm0154169</td>\n",
       "      <td>1</td>\n",
       "      <td>Swatilekha Sengupta</td>\n",
       "      <td>1950</td>\n",
       "      <td>2022.0</td>\n",
       "      <td>Drama,Family</td>\n",
       "      <td>72.0</td>\n",
       "      <td>7.1</td>\n",
       "      <td>...</td>\n",
       "      <td>2</td>\n",
       "      <td>3</td>\n",
       "      <td>0</td>\n",
       "      <td>0</td>\n",
       "      <td>0</td>\n",
       "      <td>0</td>\n",
       "      <td>0</td>\n",
       "      <td>0</td>\n",
       "      <td>2</td>\n",
       "      <td>0</td>\n",
       "    </tr>\n",
       "    <tr>\n",
       "      <th>1976492</th>\n",
       "      <td>tt13835546</td>\n",
       "      <td>1</td>\n",
       "      <td>nm2899175</td>\n",
       "      <td>0</td>\n",
       "      <td>Alessandro Borghi</td>\n",
       "      <td>1986</td>\n",
       "      <td>2022.0</td>\n",
       "      <td>Drama,Thriller</td>\n",
       "      <td>36.0</td>\n",
       "      <td>8.0</td>\n",
       "      <td>...</td>\n",
       "      <td>63</td>\n",
       "      <td>32</td>\n",
       "      <td>27</td>\n",
       "      <td>3</td>\n",
       "      <td>6</td>\n",
       "      <td>1</td>\n",
       "      <td>29</td>\n",
       "      <td>0</td>\n",
       "      <td>0</td>\n",
       "      <td>3</td>\n",
       "    </tr>\n",
       "  </tbody>\n",
       "</table>\n",
       "<p>1976493 rows × 21 columns</p>\n",
       "</div>"
      ],
      "text/plain": [
       "             tconst  ordering     nconst  gender          primaryName  \\\n",
       "0         tt0000009         2  nm0183823       0    William Courtenay   \n",
       "1         tt0000009         3  nm1309758       0       Chauncey Depew   \n",
       "2         tt0000009         1  nm0063086       1      Blanche Bayliss   \n",
       "3         tt1666737         1  nm0525908       0      Auguste Lumière   \n",
       "4         tt0000211         2  nm0617588       0       Georges Méliès   \n",
       "...             ...       ...        ...     ...                  ...   \n",
       "1976488  tt13760918         3  nm1589340       1          Isha Talwar   \n",
       "1976489  tt16374130         2  nm4609670       0     Lou Ferrigno Jr.   \n",
       "1976490  tt19394272         8  nm9462038       1    Kimya Gökçe Aytaç   \n",
       "1976491  tt11318364         2  nm0154169       1  Swatilekha Sengupta   \n",
       "1976492  tt13835546         1  nm2899175       0    Alessandro Borghi   \n",
       "\n",
       "         birthYear  startYear                 genres  age_at_movie_start  \\\n",
       "0             1875     1894.0                Romance                19.0   \n",
       "1             1834     1894.0                Romance                60.0   \n",
       "2             1878     1894.0                Romance                16.0   \n",
       "3             1862     1896.0   Action,Comedy,Family                34.0   \n",
       "4             1861     1898.0  Comedy,Fantasy,Horror                37.0   \n",
       "...            ...        ...                    ...                 ...   \n",
       "1976488       1987     2022.0         Drama,Thriller                35.0   \n",
       "1976489       1984     2022.0          Drama,Romance                38.0   \n",
       "1976490       1990     2022.0   Comedy,Drama,Romance                32.0   \n",
       "1976491       1950     2022.0           Drama,Family                72.0   \n",
       "1976492       1986     2022.0         Drama,Thriller                36.0   \n",
       "\n",
       "         averageRating  ...  exp_so_far  Drama_exp_so_far  Action_exp_so_far  \\\n",
       "0                  5.3  ...           0                 0                  0   \n",
       "1                  5.3  ...           0                 0                  0   \n",
       "2                  5.3  ...           0                 0                  0   \n",
       "3                  5.3  ...           1                 0                  1   \n",
       "4                  7.4  ...          19                 0                  0   \n",
       "...                ...  ...         ...               ...                ...   \n",
       "1976488            5.5  ...          15                13                  1   \n",
       "1976489            5.4  ...          15                 9                  6   \n",
       "1976490            7.0  ...           3                 1                  1   \n",
       "1976491            7.1  ...           2                 3                  0   \n",
       "1976492            8.0  ...          63                32                 27   \n",
       "\n",
       "         Romance_exp_so_far  Comedy_exp_so_far  Adventure_exp_so_far  \\\n",
       "0                         1                  0                     0   \n",
       "1                         1                  0                     0   \n",
       "2                         1                  0                     0   \n",
       "3                         0                  2                     0   \n",
       "4                         0                  5                     0   \n",
       "...                     ...                ...                   ...   \n",
       "1976488                   4                  8                     0   \n",
       "1976489                   2                  0                     1   \n",
       "1976490                   2                  4                     0   \n",
       "1976491                   0                  0                     0   \n",
       "1976492                   3                  6                     1   \n",
       "\n",
       "         Crime_exp_so_far  War_exp_so_far  Family_exp_so_far  \\\n",
       "0                       0               0                  0   \n",
       "1                       0               0                  0   \n",
       "2                       0               0                  0   \n",
       "3                       0               0                  1   \n",
       "4                       0               0                  0   \n",
       "...                   ...             ...                ...   \n",
       "1976488                 1               0                  4   \n",
       "1976489                 0               4                  0   \n",
       "1976490                 1               0                  0   \n",
       "1976491                 0               0                  2   \n",
       "1976492                29               0                  0   \n",
       "\n",
       "         Mystery_exp_so_far  \n",
       "0                         0  \n",
       "1                         0  \n",
       "2                         0  \n",
       "3                         0  \n",
       "4                         0  \n",
       "...                     ...  \n",
       "1976488                   0  \n",
       "1976489                   2  \n",
       "1976490                   0  \n",
       "1976491                   0  \n",
       "1976492                   3  \n",
       "\n",
       "[1976493 rows x 21 columns]"
      ]
     },
     "execution_count": 14,
     "metadata": {},
     "output_type": "execute_result"
    }
   ],
   "source": [
    "# load data\n",
    "movie_data = pd.read_csv(\"data/genre_experience_alive.csv\")\n",
    "movie_data.head(-10)"
   ]
  },
  {
   "cell_type": "code",
   "execution_count": 17,
   "metadata": {},
   "outputs": [],
   "source": [
    "# we focus on popular genres.\n",
    "genres = [\"Drama\", \"Action\", \"Romance\", \"Comedy\", \"Crime\", \"War\", \"Family\", \"Mystery\", \"Adventure\"]\n",
    "\n",
    "# calculate correlation.\n",
    "corr_before_ongoing_genres = []\n",
    "for genre in genres:\n",
    "    movie_data_par_genre = movie_data[movie_data[\"genres\"].str.contains(genre)]\n",
    "    corr = movie_data_par_genre[[\"Drama_exp_so_far\", \"Action_exp_so_far\", \"Romance_exp_so_far\", \"Comedy_exp_so_far\", \"Crime_exp_so_far\", \"War_exp_so_far\", \"Family_exp_so_far\", \"Mystery_exp_so_far\", \"Adventure_exp_so_far\"]].corr()\n",
    "    corr_before_ongoing_genres.append(list(corr.loc[f\"{genre}_exp_so_far\"]))"
   ]
  },
  {
   "cell_type": "code",
   "execution_count": 18,
   "metadata": {},
   "outputs": [
    {
     "data": {
      "application/vnd.plotly.v1+json": {
       "config": {
        "plotlyServerURL": "https://plot.ly"
       },
       "data": [
        {
         "coloraxis": "coloraxis",
         "hovertemplate": "Actor's experience in each genre: %{x}<br>Genre of the movie: %{y}<br>correlation: %{z}<extra></extra>",
         "name": "0",
         "type": "heatmap",
         "x": [
          "Drama",
          "Action",
          "Romance",
          "Comedy",
          "Crime",
          "War",
          "Family",
          "Mystery",
          "Adventure"
         ],
         "xaxis": "x",
         "y": [
          "Drama",
          "Action",
          "Romance",
          "Comedy",
          "Crime",
          "War",
          "Family",
          "Mystery",
          "Adventure"
         ],
         "yaxis": "y",
         "z": [
          [
           1,
           0.3781826932426186,
           0.3969997252853487,
           0.3876739152654846,
           0.6541416423357627,
           0.12731205740705856,
           0.2818042282075151,
           0.4437806204474195,
           0.24280754841990063
          ],
          [
           0.3729086540854358,
           1,
           0.016374244625634766,
           0.2317409329786943,
           0.39776541139243915,
           0.03879437257275422,
           0.10931831274936404,
           0.05353529321991599,
           0.4879313981816755
          ],
          [
           0.7038683065180148,
           0.059109784701379335,
           1,
           0.6374870044515769,
           0.09663579952506028,
           0.02562799054869919,
           0.224366816148624,
           0.08818329374913596,
           0.09772575839956626
          ],
          [
           0.3703937046449889,
           0.16178863231999976,
           0.34840353887810055,
           1,
           0.1367556148722002,
           0.07777394887417827,
           0.46133582496563574,
           0.06148378241328618,
           0.26901163097411795
          ],
          [
           0.8739362205426331,
           0.4361635396818198,
           0.0256566443446965,
           0.16850999936858543,
           1,
           0.018425893996820302,
           0.04593649765949646,
           0.5562691113475413,
           0.1457814211156077
          ],
          [
           0.6241931786644689,
           0.1514665105575681,
           0.06896055316080561,
           0.6192257385604503,
           0.10471409539578143,
           1,
           0.003020118741677216,
           0.15133553930294882,
           -0.020171368654269342
          ],
          [
           0.48073882805380846,
           0.016973166706851322,
           0.15225851279456656,
           0.750438349888031,
           0.01427288951531591,
           0.009667615457433538,
           1,
           0.021150810550649105,
           0.3135268491198287
          ],
          [
           0.8798084082277483,
           0.05351329456636947,
           0.035870433466564954,
           0.09497682784817296,
           0.8974077993089034,
           0.024789618309074442,
           0.08350727892059089,
           1,
           0.024951694979121034
          ],
          [
           0.46554761167539943,
           0.7467774678433222,
           0.04030812031247023,
           0.5034955547176928,
           0.2397391728549888,
           0.015398415998321249,
           0.48721374296555864,
           0.044690230417954176,
           1
          ]
         ]
        }
       ],
       "layout": {
        "coloraxis": {
         "colorbar": {
          "title": {
           "text": "correlation"
          }
         },
         "colorscale": [
          [
           0,
           "#fee838"
          ],
          [
           0.1111111111111111,
           "#e1cc55"
          ],
          [
           0.2222222222222222,
           "#c3b369"
          ],
          [
           0.3333333333333333,
           "#a59c74"
          ],
          [
           0.4444444444444444,
           "#8a8678"
          ],
          [
           0.5555555555555556,
           "#707173"
          ],
          [
           0.6666666666666666,
           "#575d6d"
          ],
          [
           0.7777777777777778,
           "#3b496c"
          ],
          [
           0.8888888888888888,
           "#123570"
          ],
          [
           1,
           "#00224e"
          ]
         ]
        },
        "margin": {
         "t": 60
        },
        "template": {
         "data": {
          "bar": [
           {
            "error_x": {
             "color": "#2a3f5f"
            },
            "error_y": {
             "color": "#2a3f5f"
            },
            "marker": {
             "line": {
              "color": "#E5ECF6",
              "width": 0.5
             },
             "pattern": {
              "fillmode": "overlay",
              "size": 10,
              "solidity": 0.2
             }
            },
            "type": "bar"
           }
          ],
          "barpolar": [
           {
            "marker": {
             "line": {
              "color": "#E5ECF6",
              "width": 0.5
             },
             "pattern": {
              "fillmode": "overlay",
              "size": 10,
              "solidity": 0.2
             }
            },
            "type": "barpolar"
           }
          ],
          "carpet": [
           {
            "aaxis": {
             "endlinecolor": "#2a3f5f",
             "gridcolor": "white",
             "linecolor": "white",
             "minorgridcolor": "white",
             "startlinecolor": "#2a3f5f"
            },
            "baxis": {
             "endlinecolor": "#2a3f5f",
             "gridcolor": "white",
             "linecolor": "white",
             "minorgridcolor": "white",
             "startlinecolor": "#2a3f5f"
            },
            "type": "carpet"
           }
          ],
          "choropleth": [
           {
            "colorbar": {
             "outlinewidth": 0,
             "ticks": ""
            },
            "type": "choropleth"
           }
          ],
          "contour": [
           {
            "colorbar": {
             "outlinewidth": 0,
             "ticks": ""
            },
            "colorscale": [
             [
              0,
              "#0d0887"
             ],
             [
              0.1111111111111111,
              "#46039f"
             ],
             [
              0.2222222222222222,
              "#7201a8"
             ],
             [
              0.3333333333333333,
              "#9c179e"
             ],
             [
              0.4444444444444444,
              "#bd3786"
             ],
             [
              0.5555555555555556,
              "#d8576b"
             ],
             [
              0.6666666666666666,
              "#ed7953"
             ],
             [
              0.7777777777777778,
              "#fb9f3a"
             ],
             [
              0.8888888888888888,
              "#fdca26"
             ],
             [
              1,
              "#f0f921"
             ]
            ],
            "type": "contour"
           }
          ],
          "contourcarpet": [
           {
            "colorbar": {
             "outlinewidth": 0,
             "ticks": ""
            },
            "type": "contourcarpet"
           }
          ],
          "heatmap": [
           {
            "colorbar": {
             "outlinewidth": 0,
             "ticks": ""
            },
            "colorscale": [
             [
              0,
              "#0d0887"
             ],
             [
              0.1111111111111111,
              "#46039f"
             ],
             [
              0.2222222222222222,
              "#7201a8"
             ],
             [
              0.3333333333333333,
              "#9c179e"
             ],
             [
              0.4444444444444444,
              "#bd3786"
             ],
             [
              0.5555555555555556,
              "#d8576b"
             ],
             [
              0.6666666666666666,
              "#ed7953"
             ],
             [
              0.7777777777777778,
              "#fb9f3a"
             ],
             [
              0.8888888888888888,
              "#fdca26"
             ],
             [
              1,
              "#f0f921"
             ]
            ],
            "type": "heatmap"
           }
          ],
          "heatmapgl": [
           {
            "colorbar": {
             "outlinewidth": 0,
             "ticks": ""
            },
            "colorscale": [
             [
              0,
              "#0d0887"
             ],
             [
              0.1111111111111111,
              "#46039f"
             ],
             [
              0.2222222222222222,
              "#7201a8"
             ],
             [
              0.3333333333333333,
              "#9c179e"
             ],
             [
              0.4444444444444444,
              "#bd3786"
             ],
             [
              0.5555555555555556,
              "#d8576b"
             ],
             [
              0.6666666666666666,
              "#ed7953"
             ],
             [
              0.7777777777777778,
              "#fb9f3a"
             ],
             [
              0.8888888888888888,
              "#fdca26"
             ],
             [
              1,
              "#f0f921"
             ]
            ],
            "type": "heatmapgl"
           }
          ],
          "histogram": [
           {
            "marker": {
             "pattern": {
              "fillmode": "overlay",
              "size": 10,
              "solidity": 0.2
             }
            },
            "type": "histogram"
           }
          ],
          "histogram2d": [
           {
            "colorbar": {
             "outlinewidth": 0,
             "ticks": ""
            },
            "colorscale": [
             [
              0,
              "#0d0887"
             ],
             [
              0.1111111111111111,
              "#46039f"
             ],
             [
              0.2222222222222222,
              "#7201a8"
             ],
             [
              0.3333333333333333,
              "#9c179e"
             ],
             [
              0.4444444444444444,
              "#bd3786"
             ],
             [
              0.5555555555555556,
              "#d8576b"
             ],
             [
              0.6666666666666666,
              "#ed7953"
             ],
             [
              0.7777777777777778,
              "#fb9f3a"
             ],
             [
              0.8888888888888888,
              "#fdca26"
             ],
             [
              1,
              "#f0f921"
             ]
            ],
            "type": "histogram2d"
           }
          ],
          "histogram2dcontour": [
           {
            "colorbar": {
             "outlinewidth": 0,
             "ticks": ""
            },
            "colorscale": [
             [
              0,
              "#0d0887"
             ],
             [
              0.1111111111111111,
              "#46039f"
             ],
             [
              0.2222222222222222,
              "#7201a8"
             ],
             [
              0.3333333333333333,
              "#9c179e"
             ],
             [
              0.4444444444444444,
              "#bd3786"
             ],
             [
              0.5555555555555556,
              "#d8576b"
             ],
             [
              0.6666666666666666,
              "#ed7953"
             ],
             [
              0.7777777777777778,
              "#fb9f3a"
             ],
             [
              0.8888888888888888,
              "#fdca26"
             ],
             [
              1,
              "#f0f921"
             ]
            ],
            "type": "histogram2dcontour"
           }
          ],
          "mesh3d": [
           {
            "colorbar": {
             "outlinewidth": 0,
             "ticks": ""
            },
            "type": "mesh3d"
           }
          ],
          "parcoords": [
           {
            "line": {
             "colorbar": {
              "outlinewidth": 0,
              "ticks": ""
             }
            },
            "type": "parcoords"
           }
          ],
          "pie": [
           {
            "automargin": true,
            "type": "pie"
           }
          ],
          "scatter": [
           {
            "fillpattern": {
             "fillmode": "overlay",
             "size": 10,
             "solidity": 0.2
            },
            "type": "scatter"
           }
          ],
          "scatter3d": [
           {
            "line": {
             "colorbar": {
              "outlinewidth": 0,
              "ticks": ""
             }
            },
            "marker": {
             "colorbar": {
              "outlinewidth": 0,
              "ticks": ""
             }
            },
            "type": "scatter3d"
           }
          ],
          "scattercarpet": [
           {
            "marker": {
             "colorbar": {
              "outlinewidth": 0,
              "ticks": ""
             }
            },
            "type": "scattercarpet"
           }
          ],
          "scattergeo": [
           {
            "marker": {
             "colorbar": {
              "outlinewidth": 0,
              "ticks": ""
             }
            },
            "type": "scattergeo"
           }
          ],
          "scattergl": [
           {
            "marker": {
             "colorbar": {
              "outlinewidth": 0,
              "ticks": ""
             }
            },
            "type": "scattergl"
           }
          ],
          "scattermapbox": [
           {
            "marker": {
             "colorbar": {
              "outlinewidth": 0,
              "ticks": ""
             }
            },
            "type": "scattermapbox"
           }
          ],
          "scatterpolar": [
           {
            "marker": {
             "colorbar": {
              "outlinewidth": 0,
              "ticks": ""
             }
            },
            "type": "scatterpolar"
           }
          ],
          "scatterpolargl": [
           {
            "marker": {
             "colorbar": {
              "outlinewidth": 0,
              "ticks": ""
             }
            },
            "type": "scatterpolargl"
           }
          ],
          "scatterternary": [
           {
            "marker": {
             "colorbar": {
              "outlinewidth": 0,
              "ticks": ""
             }
            },
            "type": "scatterternary"
           }
          ],
          "surface": [
           {
            "colorbar": {
             "outlinewidth": 0,
             "ticks": ""
            },
            "colorscale": [
             [
              0,
              "#0d0887"
             ],
             [
              0.1111111111111111,
              "#46039f"
             ],
             [
              0.2222222222222222,
              "#7201a8"
             ],
             [
              0.3333333333333333,
              "#9c179e"
             ],
             [
              0.4444444444444444,
              "#bd3786"
             ],
             [
              0.5555555555555556,
              "#d8576b"
             ],
             [
              0.6666666666666666,
              "#ed7953"
             ],
             [
              0.7777777777777778,
              "#fb9f3a"
             ],
             [
              0.8888888888888888,
              "#fdca26"
             ],
             [
              1,
              "#f0f921"
             ]
            ],
            "type": "surface"
           }
          ],
          "table": [
           {
            "cells": {
             "fill": {
              "color": "#EBF0F8"
             },
             "line": {
              "color": "white"
             }
            },
            "header": {
             "fill": {
              "color": "#C8D4E3"
             },
             "line": {
              "color": "white"
             }
            },
            "type": "table"
           }
          ]
         },
         "layout": {
          "annotationdefaults": {
           "arrowcolor": "#2a3f5f",
           "arrowhead": 0,
           "arrowwidth": 1
          },
          "autotypenumbers": "strict",
          "coloraxis": {
           "colorbar": {
            "outlinewidth": 0,
            "ticks": ""
           }
          },
          "colorscale": {
           "diverging": [
            [
             0,
             "#8e0152"
            ],
            [
             0.1,
             "#c51b7d"
            ],
            [
             0.2,
             "#de77ae"
            ],
            [
             0.3,
             "#f1b6da"
            ],
            [
             0.4,
             "#fde0ef"
            ],
            [
             0.5,
             "#f7f7f7"
            ],
            [
             0.6,
             "#e6f5d0"
            ],
            [
             0.7,
             "#b8e186"
            ],
            [
             0.8,
             "#7fbc41"
            ],
            [
             0.9,
             "#4d9221"
            ],
            [
             1,
             "#276419"
            ]
           ],
           "sequential": [
            [
             0,
             "#0d0887"
            ],
            [
             0.1111111111111111,
             "#46039f"
            ],
            [
             0.2222222222222222,
             "#7201a8"
            ],
            [
             0.3333333333333333,
             "#9c179e"
            ],
            [
             0.4444444444444444,
             "#bd3786"
            ],
            [
             0.5555555555555556,
             "#d8576b"
            ],
            [
             0.6666666666666666,
             "#ed7953"
            ],
            [
             0.7777777777777778,
             "#fb9f3a"
            ],
            [
             0.8888888888888888,
             "#fdca26"
            ],
            [
             1,
             "#f0f921"
            ]
           ],
           "sequentialminus": [
            [
             0,
             "#0d0887"
            ],
            [
             0.1111111111111111,
             "#46039f"
            ],
            [
             0.2222222222222222,
             "#7201a8"
            ],
            [
             0.3333333333333333,
             "#9c179e"
            ],
            [
             0.4444444444444444,
             "#bd3786"
            ],
            [
             0.5555555555555556,
             "#d8576b"
            ],
            [
             0.6666666666666666,
             "#ed7953"
            ],
            [
             0.7777777777777778,
             "#fb9f3a"
            ],
            [
             0.8888888888888888,
             "#fdca26"
            ],
            [
             1,
             "#f0f921"
            ]
           ]
          },
          "colorway": [
           "#636efa",
           "#EF553B",
           "#00cc96",
           "#ab63fa",
           "#FFA15A",
           "#19d3f3",
           "#FF6692",
           "#B6E880",
           "#FF97FF",
           "#FECB52"
          ],
          "font": {
           "color": "#2a3f5f"
          },
          "geo": {
           "bgcolor": "white",
           "lakecolor": "white",
           "landcolor": "#E5ECF6",
           "showlakes": true,
           "showland": true,
           "subunitcolor": "white"
          },
          "hoverlabel": {
           "align": "left"
          },
          "hovermode": "closest",
          "mapbox": {
           "style": "light"
          },
          "paper_bgcolor": "white",
          "plot_bgcolor": "#E5ECF6",
          "polar": {
           "angularaxis": {
            "gridcolor": "white",
            "linecolor": "white",
            "ticks": ""
           },
           "bgcolor": "#E5ECF6",
           "radialaxis": {
            "gridcolor": "white",
            "linecolor": "white",
            "ticks": ""
           }
          },
          "scene": {
           "xaxis": {
            "backgroundcolor": "#E5ECF6",
            "gridcolor": "white",
            "gridwidth": 2,
            "linecolor": "white",
            "showbackground": true,
            "ticks": "",
            "zerolinecolor": "white"
           },
           "yaxis": {
            "backgroundcolor": "#E5ECF6",
            "gridcolor": "white",
            "gridwidth": 2,
            "linecolor": "white",
            "showbackground": true,
            "ticks": "",
            "zerolinecolor": "white"
           },
           "zaxis": {
            "backgroundcolor": "#E5ECF6",
            "gridcolor": "white",
            "gridwidth": 2,
            "linecolor": "white",
            "showbackground": true,
            "ticks": "",
            "zerolinecolor": "white"
           }
          },
          "shapedefaults": {
           "line": {
            "color": "#2a3f5f"
           }
          },
          "ternary": {
           "aaxis": {
            "gridcolor": "white",
            "linecolor": "white",
            "ticks": ""
           },
           "baxis": {
            "gridcolor": "white",
            "linecolor": "white",
            "ticks": ""
           },
           "bgcolor": "#E5ECF6",
           "caxis": {
            "gridcolor": "white",
            "linecolor": "white",
            "ticks": ""
           }
          },
          "title": {
           "x": 0.05
          },
          "xaxis": {
           "automargin": true,
           "gridcolor": "white",
           "linecolor": "white",
           "ticks": "",
           "title": {
            "standoff": 15
           },
           "zerolinecolor": "white",
           "zerolinewidth": 2
          },
          "yaxis": {
           "automargin": true,
           "gridcolor": "white",
           "linecolor": "white",
           "ticks": "",
           "title": {
            "standoff": 15
           },
           "zerolinecolor": "white",
           "zerolinewidth": 2
          }
         }
        },
        "xaxis": {
         "anchor": "y",
         "constrain": "domain",
         "domain": [
          0,
          1
         ],
         "scaleanchor": "y",
         "side": "top",
         "title": {
          "text": "Actor's experience in each genre"
         }
        },
        "yaxis": {
         "anchor": "x",
         "autorange": "reversed",
         "constrain": "domain",
         "domain": [
          0,
          1
         ],
         "title": {
          "text": "Genre of the movie"
         }
        }
       }
      }
     },
     "metadata": {},
     "output_type": "display_data"
    }
   ],
   "source": [
    "# plot.\n",
    "fig = px.imshow(corr_before_ongoing_genres,\n",
    "                labels=dict(x=\"Actor's experience in each genre\", y=\"Genre of the movie\", color=\"correlation\"),\n",
    "                x=['Drama', 'Action', 'Romance', 'Comedy', 'Crime', 'War', 'Family', 'Mystery', 'Adventure'],\n",
    "                y=['Drama', 'Action', 'Romance', 'Comedy', 'Crime', 'War', 'Family', 'Mystery', 'Adventure'],\n",
    "                color_continuous_scale=px.colors.sequential.Cividis_r\n",
    "               )\n",
    "fig.update_xaxes(side=\"top\")\n",
    "fig.show()\n",
    "# fig.write_html(\"./data/correlation_map.html\")"
   ]
  }
 ],
 "metadata": {
  "kernelspec": {
   "display_name": "Python 3.7.15 ('ada')",
   "language": "python",
   "name": "python3"
  },
  "language_info": {
   "codemirror_mode": {
    "name": "ipython",
    "version": 3
   },
   "file_extension": ".py",
   "mimetype": "text/x-python",
   "name": "python",
   "nbconvert_exporter": "python",
   "pygments_lexer": "ipython3",
   "version": "3.7.15"
  },
  "orig_nbformat": 4,
  "vscode": {
   "interpreter": {
    "hash": "63b0f96a7ed47cef9ab35015ef1216089d7ec8d8d7aec9bdd2a146a1ec72f473"
   }
  }
 },
 "nbformat": 4,
 "nbformat_minor": 2
}
