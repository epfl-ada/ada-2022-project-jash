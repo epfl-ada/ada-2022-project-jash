{
 "cells": [
  {
   "cell_type": "code",
   "execution_count": 1,
   "metadata": {},
   "outputs": [],
   "source": [
    "# imports\n",
    "# processing data\n",
    "import pandas as pd\n",
    "import numpy as np\n",
    "\n",
    "# analysis\n",
    "import statsmodels.formula.api as smf\n",
    "from sklearn.ensemble import RandomForestRegressor\n",
    "from sklearn.model_selection import train_test_split\n",
    "\n",
    "# plot\n",
    "import matplotlib.pyplot as plt\n",
    "from d3blocks import D3Blocks\n",
    "import seaborn as sns\n",
    "import plotly.express as px\n",
    "\n"
   ]
  },
  {
   "cell_type": "markdown",
   "metadata": {},
   "source": [
    "# Section 1: preprocessing data."
   ]
  },
  {
   "cell_type": "code",
   "execution_count": 2,
   "metadata": {},
   "outputs": [],
   "source": [
    "# Please add all preprocessing code here."
   ]
  },
  {
   "cell_type": "markdown",
   "metadata": {},
   "source": [
    "# Section 2: genre analysis"
   ]
  },
  {
   "cell_type": "markdown",
   "metadata": {},
   "source": [
    "- 1. Feature engineering\n"
   ]
  },
  {
   "cell_type": "markdown",
   "metadata": {},
   "source": [
    "- 2. Genre pattern evaluation."
   ]
  },
  {
   "cell_type": "code",
   "execution_count": 3,
   "metadata": {},
   "outputs": [
    {
     "data": {
      "text/html": [
       "<div>\n",
       "<style scoped>\n",
       "    .dataframe tbody tr th:only-of-type {\n",
       "        vertical-align: middle;\n",
       "    }\n",
       "\n",
       "    .dataframe tbody tr th {\n",
       "        vertical-align: top;\n",
       "    }\n",
       "\n",
       "    .dataframe thead th {\n",
       "        text-align: right;\n",
       "    }\n",
       "</style>\n",
       "<table border=\"1\" class=\"dataframe\">\n",
       "  <thead>\n",
       "    <tr style=\"text-align: right;\">\n",
       "      <th></th>\n",
       "      <th>tconst</th>\n",
       "      <th>ordering</th>\n",
       "      <th>nconst</th>\n",
       "      <th>gender</th>\n",
       "      <th>primaryName</th>\n",
       "      <th>birthYear</th>\n",
       "      <th>deathYear</th>\n",
       "      <th>startYear</th>\n",
       "      <th>genres</th>\n",
       "      <th>deatYear</th>\n",
       "      <th>age_at_movie_start</th>\n",
       "      <th>averageRating</th>\n",
       "      <th>numVotes</th>\n",
       "      <th>exp_so_far</th>\n",
       "      <th>drama_exp_so_far</th>\n",
       "      <th>action_exp_so_far</th>\n",
       "      <th>romance_exp_so_far</th>\n",
       "      <th>comedy_exp_so_far</th>\n",
       "    </tr>\n",
       "  </thead>\n",
       "  <tbody>\n",
       "    <tr>\n",
       "      <th>0</th>\n",
       "      <td>tt7816420</td>\n",
       "      <td>1</td>\n",
       "      <td>nm1155956</td>\n",
       "      <td>0</td>\n",
       "      <td>Eadweard Muybridge</td>\n",
       "      <td>1830.0</td>\n",
       "      <td>1904</td>\n",
       "      <td>1881.0</td>\n",
       "      <td>Documentary,Short</td>\n",
       "      <td>1904.0</td>\n",
       "      <td>51.0</td>\n",
       "      <td>5.2</td>\n",
       "      <td>462.0</td>\n",
       "      <td>0</td>\n",
       "      <td>0</td>\n",
       "      <td>0</td>\n",
       "      <td>0</td>\n",
       "      <td>0</td>\n",
       "    </tr>\n",
       "    <tr>\n",
       "      <th>1</th>\n",
       "      <td>tt1758563</td>\n",
       "      <td>1</td>\n",
       "      <td>nm1796515</td>\n",
       "      <td>0</td>\n",
       "      <td>Adolphe Le Prince</td>\n",
       "      <td>1872.0</td>\n",
       "      <td>1901</td>\n",
       "      <td>1888.0</td>\n",
       "      <td>Documentary,Short</td>\n",
       "      <td>1901.0</td>\n",
       "      <td>16.0</td>\n",
       "      <td>5.5</td>\n",
       "      <td>1333.0</td>\n",
       "      <td>0</td>\n",
       "      <td>0</td>\n",
       "      <td>0</td>\n",
       "      <td>0</td>\n",
       "      <td>0</td>\n",
       "    </tr>\n",
       "    <tr>\n",
       "      <th>2</th>\n",
       "      <td>tt0361921</td>\n",
       "      <td>1</td>\n",
       "      <td>nm1362928</td>\n",
       "      <td>0</td>\n",
       "      <td>Giuseppe Sacco Albanese</td>\n",
       "      <td>1872.0</td>\n",
       "      <td>1943</td>\n",
       "      <td>1890.0</td>\n",
       "      <td>Documentary,Short</td>\n",
       "      <td>1943.0</td>\n",
       "      <td>18.0</td>\n",
       "      <td>5.0</td>\n",
       "      <td>1508.0</td>\n",
       "      <td>0</td>\n",
       "      <td>0</td>\n",
       "      <td>0</td>\n",
       "      <td>0</td>\n",
       "      <td>0</td>\n",
       "    </tr>\n",
       "    <tr>\n",
       "      <th>3</th>\n",
       "      <td>tt0416047</td>\n",
       "      <td>1</td>\n",
       "      <td>nm1362928</td>\n",
       "      <td>0</td>\n",
       "      <td>Giuseppe Sacco Albanese</td>\n",
       "      <td>1872.0</td>\n",
       "      <td>1943</td>\n",
       "      <td>1890.0</td>\n",
       "      <td>Short</td>\n",
       "      <td>1943.0</td>\n",
       "      <td>18.0</td>\n",
       "      <td>4.2</td>\n",
       "      <td>425.0</td>\n",
       "      <td>1</td>\n",
       "      <td>0</td>\n",
       "      <td>0</td>\n",
       "      <td>0</td>\n",
       "      <td>0</td>\n",
       "    </tr>\n",
       "    <tr>\n",
       "      <th>4</th>\n",
       "      <td>tt0416046</td>\n",
       "      <td>1</td>\n",
       "      <td>nm1362928</td>\n",
       "      <td>0</td>\n",
       "      <td>Giuseppe Sacco Albanese</td>\n",
       "      <td>1872.0</td>\n",
       "      <td>1943</td>\n",
       "      <td>1890.0</td>\n",
       "      <td>Short</td>\n",
       "      <td>1943.0</td>\n",
       "      <td>18.0</td>\n",
       "      <td>4.8</td>\n",
       "      <td>1106.0</td>\n",
       "      <td>2</td>\n",
       "      <td>0</td>\n",
       "      <td>0</td>\n",
       "      <td>0</td>\n",
       "      <td>0</td>\n",
       "    </tr>\n",
       "    <tr>\n",
       "      <th>...</th>\n",
       "      <td>...</td>\n",
       "      <td>...</td>\n",
       "      <td>...</td>\n",
       "      <td>...</td>\n",
       "      <td>...</td>\n",
       "      <td>...</td>\n",
       "      <td>...</td>\n",
       "      <td>...</td>\n",
       "      <td>...</td>\n",
       "      <td>...</td>\n",
       "      <td>...</td>\n",
       "      <td>...</td>\n",
       "      <td>...</td>\n",
       "      <td>...</td>\n",
       "      <td>...</td>\n",
       "      <td>...</td>\n",
       "      <td>...</td>\n",
       "      <td>...</td>\n",
       "    </tr>\n",
       "    <tr>\n",
       "      <th>698931</th>\n",
       "      <td>tt7728792</td>\n",
       "      <td>2</td>\n",
       "      <td>nm6074154</td>\n",
       "      <td>0</td>\n",
       "      <td>Harry Hains</td>\n",
       "      <td>1992.0</td>\n",
       "      <td>2020</td>\n",
       "      <td>2022.0</td>\n",
       "      <td>Drama</td>\n",
       "      <td>2020.0</td>\n",
       "      <td>30.0</td>\n",
       "      <td>8.2</td>\n",
       "      <td>19.0</td>\n",
       "      <td>5</td>\n",
       "      <td>4</td>\n",
       "      <td>0</td>\n",
       "      <td>2</td>\n",
       "      <td>0</td>\n",
       "    </tr>\n",
       "    <tr>\n",
       "      <th>698932</th>\n",
       "      <td>tt21045916</td>\n",
       "      <td>3</td>\n",
       "      <td>nm0582378</td>\n",
       "      <td>0</td>\n",
       "      <td>Sombat Metanee</td>\n",
       "      <td>1937.0</td>\n",
       "      <td>2022</td>\n",
       "      <td>2022.0</td>\n",
       "      <td>Drama,Romance</td>\n",
       "      <td>2022.0</td>\n",
       "      <td>85.0</td>\n",
       "      <td>10.0</td>\n",
       "      <td>5.0</td>\n",
       "      <td>16</td>\n",
       "      <td>2</td>\n",
       "      <td>9</td>\n",
       "      <td>2</td>\n",
       "      <td>4</td>\n",
       "    </tr>\n",
       "    <tr>\n",
       "      <th>698933</th>\n",
       "      <td>tt21045922</td>\n",
       "      <td>3</td>\n",
       "      <td>nm0582378</td>\n",
       "      <td>0</td>\n",
       "      <td>Sombat Metanee</td>\n",
       "      <td>1937.0</td>\n",
       "      <td>2022</td>\n",
       "      <td>2022.0</td>\n",
       "      <td>Drama,Romance</td>\n",
       "      <td>2022.0</td>\n",
       "      <td>85.0</td>\n",
       "      <td>10.0</td>\n",
       "      <td>5.0</td>\n",
       "      <td>17</td>\n",
       "      <td>3</td>\n",
       "      <td>9</td>\n",
       "      <td>3</td>\n",
       "      <td>4</td>\n",
       "    </tr>\n",
       "    <tr>\n",
       "      <th>698934</th>\n",
       "      <td>tt21048302</td>\n",
       "      <td>2</td>\n",
       "      <td>nm7670169</td>\n",
       "      <td>0</td>\n",
       "      <td>Papangkorn Lerkchaleampote</td>\n",
       "      <td>1996.0</td>\n",
       "      <td>2022</td>\n",
       "      <td>2022.0</td>\n",
       "      <td>Adventure,Drama,Thriller</td>\n",
       "      <td>2022.0</td>\n",
       "      <td>26.0</td>\n",
       "      <td>8.0</td>\n",
       "      <td>57.0</td>\n",
       "      <td>13</td>\n",
       "      <td>13</td>\n",
       "      <td>0</td>\n",
       "      <td>1</td>\n",
       "      <td>1</td>\n",
       "    </tr>\n",
       "    <tr>\n",
       "      <th>698935</th>\n",
       "      <td>tt21050062</td>\n",
       "      <td>2</td>\n",
       "      <td>nm7670169</td>\n",
       "      <td>0</td>\n",
       "      <td>Papangkorn Lerkchaleampote</td>\n",
       "      <td>1996.0</td>\n",
       "      <td>2022</td>\n",
       "      <td>2022.0</td>\n",
       "      <td>Adventure,Drama,Thriller</td>\n",
       "      <td>2022.0</td>\n",
       "      <td>26.0</td>\n",
       "      <td>7.7</td>\n",
       "      <td>62.0</td>\n",
       "      <td>14</td>\n",
       "      <td>14</td>\n",
       "      <td>0</td>\n",
       "      <td>1</td>\n",
       "      <td>1</td>\n",
       "    </tr>\n",
       "  </tbody>\n",
       "</table>\n",
       "<p>698936 rows × 18 columns</p>\n",
       "</div>"
      ],
      "text/plain": [
       "            tconst  ordering     nconst  gender                 primaryName  \\\n",
       "0        tt7816420         1  nm1155956       0          Eadweard Muybridge   \n",
       "1        tt1758563         1  nm1796515       0           Adolphe Le Prince   \n",
       "2        tt0361921         1  nm1362928       0     Giuseppe Sacco Albanese   \n",
       "3        tt0416047         1  nm1362928       0     Giuseppe Sacco Albanese   \n",
       "4        tt0416046         1  nm1362928       0     Giuseppe Sacco Albanese   \n",
       "...            ...       ...        ...     ...                         ...   \n",
       "698931   tt7728792         2  nm6074154       0                 Harry Hains   \n",
       "698932  tt21045916         3  nm0582378       0              Sombat Metanee   \n",
       "698933  tt21045922         3  nm0582378       0              Sombat Metanee   \n",
       "698934  tt21048302         2  nm7670169       0  Papangkorn Lerkchaleampote   \n",
       "698935  tt21050062         2  nm7670169       0  Papangkorn Lerkchaleampote   \n",
       "\n",
       "        birthYear  deathYear  startYear                    genres  deatYear  \\\n",
       "0          1830.0       1904     1881.0         Documentary,Short    1904.0   \n",
       "1          1872.0       1901     1888.0         Documentary,Short    1901.0   \n",
       "2          1872.0       1943     1890.0         Documentary,Short    1943.0   \n",
       "3          1872.0       1943     1890.0                     Short    1943.0   \n",
       "4          1872.0       1943     1890.0                     Short    1943.0   \n",
       "...           ...        ...        ...                       ...       ...   \n",
       "698931     1992.0       2020     2022.0                     Drama    2020.0   \n",
       "698932     1937.0       2022     2022.0             Drama,Romance    2022.0   \n",
       "698933     1937.0       2022     2022.0             Drama,Romance    2022.0   \n",
       "698934     1996.0       2022     2022.0  Adventure,Drama,Thriller    2022.0   \n",
       "698935     1996.0       2022     2022.0  Adventure,Drama,Thriller    2022.0   \n",
       "\n",
       "        age_at_movie_start  averageRating  numVotes  exp_so_far  \\\n",
       "0                     51.0            5.2     462.0           0   \n",
       "1                     16.0            5.5    1333.0           0   \n",
       "2                     18.0            5.0    1508.0           0   \n",
       "3                     18.0            4.2     425.0           1   \n",
       "4                     18.0            4.8    1106.0           2   \n",
       "...                    ...            ...       ...         ...   \n",
       "698931                30.0            8.2      19.0           5   \n",
       "698932                85.0           10.0       5.0          16   \n",
       "698933                85.0           10.0       5.0          17   \n",
       "698934                26.0            8.0      57.0          13   \n",
       "698935                26.0            7.7      62.0          14   \n",
       "\n",
       "        drama_exp_so_far  action_exp_so_far  romance_exp_so_far  \\\n",
       "0                      0                  0                   0   \n",
       "1                      0                  0                   0   \n",
       "2                      0                  0                   0   \n",
       "3                      0                  0                   0   \n",
       "4                      0                  0                   0   \n",
       "...                  ...                ...                 ...   \n",
       "698931                 4                  0                   2   \n",
       "698932                 2                  9                   2   \n",
       "698933                 3                  9                   3   \n",
       "698934                13                  0                   1   \n",
       "698935                14                  0                   1   \n",
       "\n",
       "        comedy_exp_so_far  \n",
       "0                       0  \n",
       "1                       0  \n",
       "2                       0  \n",
       "3                       0  \n",
       "4                       0  \n",
       "...                   ...  \n",
       "698931                  0  \n",
       "698932                  4  \n",
       "698933                  4  \n",
       "698934                  1  \n",
       "698935                  1  \n",
       "\n",
       "[698936 rows x 18 columns]"
      ]
     },
     "execution_count": 3,
     "metadata": {},
     "output_type": "execute_result"
    }
   ],
   "source": [
    "# load data.\n",
    "movie_data = pd.read_csv(\"data/actor_movie_combi.csv\")\n",
    "movie_data.head(-10)"
   ]
  },
  {
   "cell_type": "code",
   "execution_count": null,
   "metadata": {},
   "outputs": [],
   "source": [
    "%%capture\n",
    "# pair-wise genre analysis\n",
    "# we are interested in popular genres here.\n",
    "target_genres = [\"Drama\", \"Comedy\", \"Crime\", \"Action\", \"Romance\", \"Family\", \"Adventure\", \"Mystery\", \"War\", \"Musical\", \"Thriller\"]\n",
    "corr_matrix = np.zeros((len(target_genres), len(target_genres)))\n",
    "\n",
    "# filter out movies with single genre.\n",
    "multiple_genres_movie = movie_data[movie_data[\"genres\"].str.contains(\",\")].reset_index()\n",
    "for i in range(len(multiple_genres_movie)):\n",
    "    for index1, first_genre in enumerate(target_genres):\n",
    "        for index2, second_genre in enumerate(target_genres):\n",
    "            if (first_genre != second_genre) and (first_genre in multiple_genres_movie[\"genres\"][i]) and (second_genre in multiple_genres_movie[\"genres\"][i]):\n",
    "                corr_matrix[index1, index2] += 1\n",
    "\n",
    "weight_matrix = [list(corr_matrix[genre_index, :]) for genre_index in range(len(target_genres))]\n",
    "rows = []\n",
    "for index1 in range(len(target_genres)):\n",
    "    for index2 in range(index1, len(target_genres)):\n",
    "        row = {\n",
    "            \"source\": target_genres[index1],\n",
    "            \"target\": target_genres[index2],\n",
    "            \"weight\": weight_matrix[index1][index2],\n",
    "        }\n",
    "        row = pd.DataFrame(data=row, index=[0])\n",
    "        rows.append(row)\n",
    "\n",
    "matrix = pd.concat(rows)\n",
    "\n",
    "# Initialize plot\n",
    "d3 = D3Blocks()\n",
    "\n",
    "# chord plot\n",
    "d3.chord(matrix);\n"
   ]
  },
  {
   "cell_type": "markdown",
   "metadata": {},
   "source": [
    "- 3. Correlation matrix of the background of actors (i.e., experience in each genre) to the genre of the movie he was filming."
   ]
  },
  {
   "cell_type": "code",
   "execution_count": 9,
   "metadata": {},
   "outputs": [
    {
     "data": {
      "text/html": [
       "<div>\n",
       "<style scoped>\n",
       "    .dataframe tbody tr th:only-of-type {\n",
       "        vertical-align: middle;\n",
       "    }\n",
       "\n",
       "    .dataframe tbody tr th {\n",
       "        vertical-align: top;\n",
       "    }\n",
       "\n",
       "    .dataframe thead th {\n",
       "        text-align: right;\n",
       "    }\n",
       "</style>\n",
       "<table border=\"1\" class=\"dataframe\">\n",
       "  <thead>\n",
       "    <tr style=\"text-align: right;\">\n",
       "      <th></th>\n",
       "      <th>Unnamed: 0</th>\n",
       "      <th>tconst</th>\n",
       "      <th>ordering</th>\n",
       "      <th>nconst</th>\n",
       "      <th>gender</th>\n",
       "      <th>primaryName</th>\n",
       "      <th>birthYear</th>\n",
       "      <th>deathYear</th>\n",
       "      <th>startYear</th>\n",
       "      <th>genres</th>\n",
       "      <th>...</th>\n",
       "      <th>comedy_exp_so_far</th>\n",
       "      <th>adventure_exp_so_far</th>\n",
       "      <th>crime_exp_so_far</th>\n",
       "      <th>war_exp_so_far</th>\n",
       "      <th>family_exp_so_far</th>\n",
       "      <th>mystery_exp_so_far</th>\n",
       "      <th>Drama</th>\n",
       "      <th>Action</th>\n",
       "      <th>Romance</th>\n",
       "      <th>Comedy</th>\n",
       "    </tr>\n",
       "  </thead>\n",
       "  <tbody>\n",
       "    <tr>\n",
       "      <th>0</th>\n",
       "      <td>0</td>\n",
       "      <td>tt0000009</td>\n",
       "      <td>3</td>\n",
       "      <td>nm1309758</td>\n",
       "      <td>0</td>\n",
       "      <td>Chauncey Depew</td>\n",
       "      <td>1834.0</td>\n",
       "      <td>1928</td>\n",
       "      <td>1894.0</td>\n",
       "      <td>Romance</td>\n",
       "      <td>...</td>\n",
       "      <td>0</td>\n",
       "      <td>0</td>\n",
       "      <td>0</td>\n",
       "      <td>0</td>\n",
       "      <td>0</td>\n",
       "      <td>0</td>\n",
       "      <td>0</td>\n",
       "      <td>0</td>\n",
       "      <td>1</td>\n",
       "      <td>0</td>\n",
       "    </tr>\n",
       "    <tr>\n",
       "      <th>1</th>\n",
       "      <td>1</td>\n",
       "      <td>tt0000009</td>\n",
       "      <td>1</td>\n",
       "      <td>nm0063086</td>\n",
       "      <td>1</td>\n",
       "      <td>Blanche Bayliss</td>\n",
       "      <td>1878.0</td>\n",
       "      <td>1951</td>\n",
       "      <td>1894.0</td>\n",
       "      <td>Romance</td>\n",
       "      <td>...</td>\n",
       "      <td>0</td>\n",
       "      <td>0</td>\n",
       "      <td>0</td>\n",
       "      <td>0</td>\n",
       "      <td>0</td>\n",
       "      <td>0</td>\n",
       "      <td>0</td>\n",
       "      <td>0</td>\n",
       "      <td>1</td>\n",
       "      <td>0</td>\n",
       "    </tr>\n",
       "    <tr>\n",
       "      <th>2</th>\n",
       "      <td>2</td>\n",
       "      <td>tt0000009</td>\n",
       "      <td>2</td>\n",
       "      <td>nm0183823</td>\n",
       "      <td>0</td>\n",
       "      <td>William Courtenay</td>\n",
       "      <td>1875.0</td>\n",
       "      <td>1933</td>\n",
       "      <td>1894.0</td>\n",
       "      <td>Romance</td>\n",
       "      <td>...</td>\n",
       "      <td>0</td>\n",
       "      <td>0</td>\n",
       "      <td>0</td>\n",
       "      <td>0</td>\n",
       "      <td>0</td>\n",
       "      <td>0</td>\n",
       "      <td>0</td>\n",
       "      <td>0</td>\n",
       "      <td>1</td>\n",
       "      <td>0</td>\n",
       "    </tr>\n",
       "    <tr>\n",
       "      <th>3</th>\n",
       "      <td>3</td>\n",
       "      <td>tt1666737</td>\n",
       "      <td>1</td>\n",
       "      <td>nm0525908</td>\n",
       "      <td>0</td>\n",
       "      <td>Auguste Lumière</td>\n",
       "      <td>1862.0</td>\n",
       "      <td>1954</td>\n",
       "      <td>1896.0</td>\n",
       "      <td>Action,Comedy,Family</td>\n",
       "      <td>...</td>\n",
       "      <td>2</td>\n",
       "      <td>0</td>\n",
       "      <td>0</td>\n",
       "      <td>0</td>\n",
       "      <td>1</td>\n",
       "      <td>0</td>\n",
       "      <td>0</td>\n",
       "      <td>1</td>\n",
       "      <td>0</td>\n",
       "      <td>1</td>\n",
       "    </tr>\n",
       "    <tr>\n",
       "      <th>4</th>\n",
       "      <td>4</td>\n",
       "      <td>tt0000211</td>\n",
       "      <td>1</td>\n",
       "      <td>nm0194945</td>\n",
       "      <td>1</td>\n",
       "      <td>Jehanne d'Alcy</td>\n",
       "      <td>1865.0</td>\n",
       "      <td>1956</td>\n",
       "      <td>1898.0</td>\n",
       "      <td>Comedy,Fantasy,Horror</td>\n",
       "      <td>...</td>\n",
       "      <td>1</td>\n",
       "      <td>0</td>\n",
       "      <td>0</td>\n",
       "      <td>0</td>\n",
       "      <td>0</td>\n",
       "      <td>0</td>\n",
       "      <td>0</td>\n",
       "      <td>0</td>\n",
       "      <td>0</td>\n",
       "      <td>1</td>\n",
       "    </tr>\n",
       "    <tr>\n",
       "      <th>...</th>\n",
       "      <td>...</td>\n",
       "      <td>...</td>\n",
       "      <td>...</td>\n",
       "      <td>...</td>\n",
       "      <td>...</td>\n",
       "      <td>...</td>\n",
       "      <td>...</td>\n",
       "      <td>...</td>\n",
       "      <td>...</td>\n",
       "      <td>...</td>\n",
       "      <td>...</td>\n",
       "      <td>...</td>\n",
       "      <td>...</td>\n",
       "      <td>...</td>\n",
       "      <td>...</td>\n",
       "      <td>...</td>\n",
       "      <td>...</td>\n",
       "      <td>...</td>\n",
       "      <td>...</td>\n",
       "      <td>...</td>\n",
       "      <td>...</td>\n",
       "    </tr>\n",
       "    <tr>\n",
       "      <th>468542</th>\n",
       "      <td>468542</td>\n",
       "      <td>tt18351130</td>\n",
       "      <td>3</td>\n",
       "      <td>nm0430074</td>\n",
       "      <td>0</td>\n",
       "      <td>Leslie Jordan</td>\n",
       "      <td>1955.0</td>\n",
       "      <td>2022</td>\n",
       "      <td>2022.0</td>\n",
       "      <td>Comedy</td>\n",
       "      <td>...</td>\n",
       "      <td>99</td>\n",
       "      <td>4</td>\n",
       "      <td>18</td>\n",
       "      <td>0</td>\n",
       "      <td>1</td>\n",
       "      <td>0</td>\n",
       "      <td>0</td>\n",
       "      <td>0</td>\n",
       "      <td>0</td>\n",
       "      <td>1</td>\n",
       "    </tr>\n",
       "    <tr>\n",
       "      <th>468543</th>\n",
       "      <td>468543</td>\n",
       "      <td>tt18561180</td>\n",
       "      <td>3</td>\n",
       "      <td>nm0430074</td>\n",
       "      <td>0</td>\n",
       "      <td>Leslie Jordan</td>\n",
       "      <td>1955.0</td>\n",
       "      <td>2022</td>\n",
       "      <td>2022.0</td>\n",
       "      <td>Comedy</td>\n",
       "      <td>...</td>\n",
       "      <td>100</td>\n",
       "      <td>4</td>\n",
       "      <td>18</td>\n",
       "      <td>0</td>\n",
       "      <td>1</td>\n",
       "      <td>0</td>\n",
       "      <td>0</td>\n",
       "      <td>0</td>\n",
       "      <td>0</td>\n",
       "      <td>1</td>\n",
       "    </tr>\n",
       "    <tr>\n",
       "      <th>468544</th>\n",
       "      <td>468544</td>\n",
       "      <td>tt18568804</td>\n",
       "      <td>3</td>\n",
       "      <td>nm0430074</td>\n",
       "      <td>0</td>\n",
       "      <td>Leslie Jordan</td>\n",
       "      <td>1955.0</td>\n",
       "      <td>2022</td>\n",
       "      <td>2022.0</td>\n",
       "      <td>Comedy</td>\n",
       "      <td>...</td>\n",
       "      <td>101</td>\n",
       "      <td>4</td>\n",
       "      <td>18</td>\n",
       "      <td>0</td>\n",
       "      <td>1</td>\n",
       "      <td>0</td>\n",
       "      <td>0</td>\n",
       "      <td>0</td>\n",
       "      <td>0</td>\n",
       "      <td>1</td>\n",
       "    </tr>\n",
       "    <tr>\n",
       "      <th>468545</th>\n",
       "      <td>468545</td>\n",
       "      <td>tt7728792</td>\n",
       "      <td>2</td>\n",
       "      <td>nm6074154</td>\n",
       "      <td>0</td>\n",
       "      <td>Harry Hains</td>\n",
       "      <td>1992.0</td>\n",
       "      <td>2020</td>\n",
       "      <td>2022.0</td>\n",
       "      <td>Drama</td>\n",
       "      <td>...</td>\n",
       "      <td>0</td>\n",
       "      <td>0</td>\n",
       "      <td>0</td>\n",
       "      <td>0</td>\n",
       "      <td>0</td>\n",
       "      <td>0</td>\n",
       "      <td>1</td>\n",
       "      <td>0</td>\n",
       "      <td>0</td>\n",
       "      <td>0</td>\n",
       "    </tr>\n",
       "    <tr>\n",
       "      <th>468546</th>\n",
       "      <td>468546</td>\n",
       "      <td>tt21045916</td>\n",
       "      <td>3</td>\n",
       "      <td>nm0582378</td>\n",
       "      <td>0</td>\n",
       "      <td>Sombat Metanee</td>\n",
       "      <td>1937.0</td>\n",
       "      <td>2022</td>\n",
       "      <td>2022.0</td>\n",
       "      <td>Drama,Romance</td>\n",
       "      <td>...</td>\n",
       "      <td>4</td>\n",
       "      <td>3</td>\n",
       "      <td>3</td>\n",
       "      <td>0</td>\n",
       "      <td>0</td>\n",
       "      <td>0</td>\n",
       "      <td>1</td>\n",
       "      <td>0</td>\n",
       "      <td>1</td>\n",
       "      <td>0</td>\n",
       "    </tr>\n",
       "  </tbody>\n",
       "</table>\n",
       "<p>468547 rows × 28 columns</p>\n",
       "</div>"
      ],
      "text/plain": [
       "        Unnamed: 0      tconst  ordering     nconst  gender  \\\n",
       "0                0   tt0000009         3  nm1309758       0   \n",
       "1                1   tt0000009         1  nm0063086       1   \n",
       "2                2   tt0000009         2  nm0183823       0   \n",
       "3                3   tt1666737         1  nm0525908       0   \n",
       "4                4   tt0000211         1  nm0194945       1   \n",
       "...            ...         ...       ...        ...     ...   \n",
       "468542      468542  tt18351130         3  nm0430074       0   \n",
       "468543      468543  tt18561180         3  nm0430074       0   \n",
       "468544      468544  tt18568804         3  nm0430074       0   \n",
       "468545      468545   tt7728792         2  nm6074154       0   \n",
       "468546      468546  tt21045916         3  nm0582378       0   \n",
       "\n",
       "              primaryName  birthYear  deathYear  startYear  \\\n",
       "0          Chauncey Depew     1834.0       1928     1894.0   \n",
       "1         Blanche Bayliss     1878.0       1951     1894.0   \n",
       "2       William Courtenay     1875.0       1933     1894.0   \n",
       "3         Auguste Lumière     1862.0       1954     1896.0   \n",
       "4          Jehanne d'Alcy     1865.0       1956     1898.0   \n",
       "...                   ...        ...        ...        ...   \n",
       "468542      Leslie Jordan     1955.0       2022     2022.0   \n",
       "468543      Leslie Jordan     1955.0       2022     2022.0   \n",
       "468544      Leslie Jordan     1955.0       2022     2022.0   \n",
       "468545        Harry Hains     1992.0       2020     2022.0   \n",
       "468546     Sombat Metanee     1937.0       2022     2022.0   \n",
       "\n",
       "                       genres  ...  comedy_exp_so_far  adventure_exp_so_far  \\\n",
       "0                     Romance  ...                  0                     0   \n",
       "1                     Romance  ...                  0                     0   \n",
       "2                     Romance  ...                  0                     0   \n",
       "3        Action,Comedy,Family  ...                  2                     0   \n",
       "4       Comedy,Fantasy,Horror  ...                  1                     0   \n",
       "...                       ...  ...                ...                   ...   \n",
       "468542                 Comedy  ...                 99                     4   \n",
       "468543                 Comedy  ...                100                     4   \n",
       "468544                 Comedy  ...                101                     4   \n",
       "468545                  Drama  ...                  0                     0   \n",
       "468546          Drama,Romance  ...                  4                     3   \n",
       "\n",
       "        crime_exp_so_far  war_exp_so_far  family_exp_so_far  \\\n",
       "0                      0               0                  0   \n",
       "1                      0               0                  0   \n",
       "2                      0               0                  0   \n",
       "3                      0               0                  1   \n",
       "4                      0               0                  0   \n",
       "...                  ...             ...                ...   \n",
       "468542                18               0                  1   \n",
       "468543                18               0                  1   \n",
       "468544                18               0                  1   \n",
       "468545                 0               0                  0   \n",
       "468546                 3               0                  0   \n",
       "\n",
       "        mystery_exp_so_far  Drama  Action  Romance  Comedy  \n",
       "0                        0      0       0        1       0  \n",
       "1                        0      0       0        1       0  \n",
       "2                        0      0       0        1       0  \n",
       "3                        0      0       1        0       1  \n",
       "4                        0      0       0        0       1  \n",
       "...                    ...    ...     ...      ...     ...  \n",
       "468542                   0      0       0        0       1  \n",
       "468543                   0      0       0        0       1  \n",
       "468544                   0      0       0        0       1  \n",
       "468545                   0      1       0        0       0  \n",
       "468546                   0      1       0        1       0  \n",
       "\n",
       "[468547 rows x 28 columns]"
      ]
     },
     "execution_count": 9,
     "metadata": {},
     "output_type": "execute_result"
    }
   ],
   "source": [
    "# load data\n",
    "movie_data = pd.read_csv(\"data/genre_experience.csv\")\n",
    "movie_data.head(-10)"
   ]
  },
  {
   "cell_type": "code",
   "execution_count": 10,
   "metadata": {},
   "outputs": [],
   "source": [
    "genres = [\"Drama\", \"Action\", \"Romance\", \"Comedy\", \"Crime\", \"War\", \"Family\", \"Mystery\", \"Adventure\"]\n",
    "corr_before_ongoing_genres = []\n",
    "for genre in genres:\n",
    "    movie_data_par_genre = movie_data[movie_data[\"genres\"].str.contains(genre)]\n",
    "    corr = movie_data_par_genre[[\"drama_exp_so_far\", \"action_exp_so_far\", \"romance_exp_so_far\", \"comedy_exp_so_far\", \"crime_exp_so_far\", \"war_exp_so_far\", \"family_exp_so_far\", \"mystery_exp_so_far\", \"adventure_exp_so_far\"]].corr()\n",
    "    corr_before_ongoing_genres.append(list(corr.loc[f\"{genre.lower()}_exp_so_far\"]))"
   ]
  },
  {
   "cell_type": "code",
   "execution_count": 12,
   "metadata": {},
   "outputs": [
    {
     "data": {
      "application/vnd.plotly.v1+json": {
       "config": {
        "plotlyServerURL": "https://plot.ly"
       },
       "data": [
        {
         "coloraxis": "coloraxis",
         "hovertemplate": "Actor's experience in each genre: %{x}<br>Genre of the movie: %{y}<br>correlation: %{z}<extra></extra>",
         "name": "0",
         "type": "heatmap",
         "x": [
          "Drama",
          "Action",
          "Romance",
          "Comedy",
          "Crime",
          "War",
          "Family",
          "Mystery",
          "Adventure"
         ],
         "xaxis": "x",
         "y": [
          "Drama",
          "Action",
          "Romance",
          "Comedy",
          "Crime",
          "War",
          "Family",
          "Mystery",
          "Adventure"
         ],
         "yaxis": "y",
         "z": [
          [
           1,
           0.33122421638616023,
           0.3475828366072777,
           0.4148992625300694,
           0.6604587195636393,
           0.14133254010769872,
           0.33219610937447064,
           0.5027843235441387,
           0.20606383437411466
          ],
          [
           0.4741118747804988,
           1,
           0.01053863903995987,
           0.23217147187192408,
           0.5987133526364763,
           0.12570959619981595,
           0.12328133616806136,
           0.11397715346952726,
           0.6184896628581387
          ],
          [
           0.8236204855536398,
           0.11494900241236616,
           1,
           0.632892937004162,
           0.1359947922914056,
           -0.0034836157456953044,
           0.3676120963548429,
           0.07908826734728817,
           0.1128029158785875
          ],
          [
           0.3730353223014378,
           0.11369746914139921,
           0.2401741930318785,
           1,
           0.15588788511153553,
           0.13275332471803414,
           0.6801294674909604,
           0.06305040564199375,
           0.22890046326547991
          ],
          [
           0.8846562253451029,
           0.44165176242838977,
           -0.006058996049774071,
           0.22957554444595246,
           1,
           0.0308397767775995,
           0.10174359108917386,
           0.681437001920402,
           0.24807140518409967
          ],
          [
           0.36844618736749013,
           0.29529179132362554,
           -0.058924408513469556,
           0.845752045671422,
           0.2173273816304083,
           1,
           0.0548316411922916,
           0.2524935933654927,
           -0.0008633623135779832
          ],
          [
           0.38488715960402764,
           -0.031937918180135694,
           0.1446580408600858,
           0.9115411809273072,
           -0.0019973693265406853,
           0.004101243642707427,
           1,
           0.0013848822677645497,
           0.0678153487461702
          ],
          [
           0.9121246680780766,
           0.11440378403020855,
           -0.018520361346195547,
           0.11987139619421923,
           0.9423080886524384,
           0.019688767643799145,
           0.12179899575703244,
           1,
           0.07091479513411612
          ],
          [
           0.44659504798448596,
           0.8313586976381103,
           0.06910865780858665,
           0.36916441844381265,
           0.47258713532653407,
           0.03250330094871031,
           0.33071291127388797,
           0.132987153283678,
           1
          ]
         ]
        }
       ],
       "layout": {
        "coloraxis": {
         "colorbar": {
          "title": {
           "text": "correlation"
          }
         },
         "colorscale": [
          [
           0,
           "#fee838"
          ],
          [
           0.1111111111111111,
           "#e1cc55"
          ],
          [
           0.2222222222222222,
           "#c3b369"
          ],
          [
           0.3333333333333333,
           "#a59c74"
          ],
          [
           0.4444444444444444,
           "#8a8678"
          ],
          [
           0.5555555555555556,
           "#707173"
          ],
          [
           0.6666666666666666,
           "#575d6d"
          ],
          [
           0.7777777777777778,
           "#3b496c"
          ],
          [
           0.8888888888888888,
           "#123570"
          ],
          [
           1,
           "#00224e"
          ]
         ]
        },
        "margin": {
         "t": 60
        },
        "template": {
         "data": {
          "bar": [
           {
            "error_x": {
             "color": "#2a3f5f"
            },
            "error_y": {
             "color": "#2a3f5f"
            },
            "marker": {
             "line": {
              "color": "#E5ECF6",
              "width": 0.5
             },
             "pattern": {
              "fillmode": "overlay",
              "size": 10,
              "solidity": 0.2
             }
            },
            "type": "bar"
           }
          ],
          "barpolar": [
           {
            "marker": {
             "line": {
              "color": "#E5ECF6",
              "width": 0.5
             },
             "pattern": {
              "fillmode": "overlay",
              "size": 10,
              "solidity": 0.2
             }
            },
            "type": "barpolar"
           }
          ],
          "carpet": [
           {
            "aaxis": {
             "endlinecolor": "#2a3f5f",
             "gridcolor": "white",
             "linecolor": "white",
             "minorgridcolor": "white",
             "startlinecolor": "#2a3f5f"
            },
            "baxis": {
             "endlinecolor": "#2a3f5f",
             "gridcolor": "white",
             "linecolor": "white",
             "minorgridcolor": "white",
             "startlinecolor": "#2a3f5f"
            },
            "type": "carpet"
           }
          ],
          "choropleth": [
           {
            "colorbar": {
             "outlinewidth": 0,
             "ticks": ""
            },
            "type": "choropleth"
           }
          ],
          "contour": [
           {
            "colorbar": {
             "outlinewidth": 0,
             "ticks": ""
            },
            "colorscale": [
             [
              0,
              "#0d0887"
             ],
             [
              0.1111111111111111,
              "#46039f"
             ],
             [
              0.2222222222222222,
              "#7201a8"
             ],
             [
              0.3333333333333333,
              "#9c179e"
             ],
             [
              0.4444444444444444,
              "#bd3786"
             ],
             [
              0.5555555555555556,
              "#d8576b"
             ],
             [
              0.6666666666666666,
              "#ed7953"
             ],
             [
              0.7777777777777778,
              "#fb9f3a"
             ],
             [
              0.8888888888888888,
              "#fdca26"
             ],
             [
              1,
              "#f0f921"
             ]
            ],
            "type": "contour"
           }
          ],
          "contourcarpet": [
           {
            "colorbar": {
             "outlinewidth": 0,
             "ticks": ""
            },
            "type": "contourcarpet"
           }
          ],
          "heatmap": [
           {
            "colorbar": {
             "outlinewidth": 0,
             "ticks": ""
            },
            "colorscale": [
             [
              0,
              "#0d0887"
             ],
             [
              0.1111111111111111,
              "#46039f"
             ],
             [
              0.2222222222222222,
              "#7201a8"
             ],
             [
              0.3333333333333333,
              "#9c179e"
             ],
             [
              0.4444444444444444,
              "#bd3786"
             ],
             [
              0.5555555555555556,
              "#d8576b"
             ],
             [
              0.6666666666666666,
              "#ed7953"
             ],
             [
              0.7777777777777778,
              "#fb9f3a"
             ],
             [
              0.8888888888888888,
              "#fdca26"
             ],
             [
              1,
              "#f0f921"
             ]
            ],
            "type": "heatmap"
           }
          ],
          "heatmapgl": [
           {
            "colorbar": {
             "outlinewidth": 0,
             "ticks": ""
            },
            "colorscale": [
             [
              0,
              "#0d0887"
             ],
             [
              0.1111111111111111,
              "#46039f"
             ],
             [
              0.2222222222222222,
              "#7201a8"
             ],
             [
              0.3333333333333333,
              "#9c179e"
             ],
             [
              0.4444444444444444,
              "#bd3786"
             ],
             [
              0.5555555555555556,
              "#d8576b"
             ],
             [
              0.6666666666666666,
              "#ed7953"
             ],
             [
              0.7777777777777778,
              "#fb9f3a"
             ],
             [
              0.8888888888888888,
              "#fdca26"
             ],
             [
              1,
              "#f0f921"
             ]
            ],
            "type": "heatmapgl"
           }
          ],
          "histogram": [
           {
            "marker": {
             "pattern": {
              "fillmode": "overlay",
              "size": 10,
              "solidity": 0.2
             }
            },
            "type": "histogram"
           }
          ],
          "histogram2d": [
           {
            "colorbar": {
             "outlinewidth": 0,
             "ticks": ""
            },
            "colorscale": [
             [
              0,
              "#0d0887"
             ],
             [
              0.1111111111111111,
              "#46039f"
             ],
             [
              0.2222222222222222,
              "#7201a8"
             ],
             [
              0.3333333333333333,
              "#9c179e"
             ],
             [
              0.4444444444444444,
              "#bd3786"
             ],
             [
              0.5555555555555556,
              "#d8576b"
             ],
             [
              0.6666666666666666,
              "#ed7953"
             ],
             [
              0.7777777777777778,
              "#fb9f3a"
             ],
             [
              0.8888888888888888,
              "#fdca26"
             ],
             [
              1,
              "#f0f921"
             ]
            ],
            "type": "histogram2d"
           }
          ],
          "histogram2dcontour": [
           {
            "colorbar": {
             "outlinewidth": 0,
             "ticks": ""
            },
            "colorscale": [
             [
              0,
              "#0d0887"
             ],
             [
              0.1111111111111111,
              "#46039f"
             ],
             [
              0.2222222222222222,
              "#7201a8"
             ],
             [
              0.3333333333333333,
              "#9c179e"
             ],
             [
              0.4444444444444444,
              "#bd3786"
             ],
             [
              0.5555555555555556,
              "#d8576b"
             ],
             [
              0.6666666666666666,
              "#ed7953"
             ],
             [
              0.7777777777777778,
              "#fb9f3a"
             ],
             [
              0.8888888888888888,
              "#fdca26"
             ],
             [
              1,
              "#f0f921"
             ]
            ],
            "type": "histogram2dcontour"
           }
          ],
          "mesh3d": [
           {
            "colorbar": {
             "outlinewidth": 0,
             "ticks": ""
            },
            "type": "mesh3d"
           }
          ],
          "parcoords": [
           {
            "line": {
             "colorbar": {
              "outlinewidth": 0,
              "ticks": ""
             }
            },
            "type": "parcoords"
           }
          ],
          "pie": [
           {
            "automargin": true,
            "type": "pie"
           }
          ],
          "scatter": [
           {
            "fillpattern": {
             "fillmode": "overlay",
             "size": 10,
             "solidity": 0.2
            },
            "type": "scatter"
           }
          ],
          "scatter3d": [
           {
            "line": {
             "colorbar": {
              "outlinewidth": 0,
              "ticks": ""
             }
            },
            "marker": {
             "colorbar": {
              "outlinewidth": 0,
              "ticks": ""
             }
            },
            "type": "scatter3d"
           }
          ],
          "scattercarpet": [
           {
            "marker": {
             "colorbar": {
              "outlinewidth": 0,
              "ticks": ""
             }
            },
            "type": "scattercarpet"
           }
          ],
          "scattergeo": [
           {
            "marker": {
             "colorbar": {
              "outlinewidth": 0,
              "ticks": ""
             }
            },
            "type": "scattergeo"
           }
          ],
          "scattergl": [
           {
            "marker": {
             "colorbar": {
              "outlinewidth": 0,
              "ticks": ""
             }
            },
            "type": "scattergl"
           }
          ],
          "scattermapbox": [
           {
            "marker": {
             "colorbar": {
              "outlinewidth": 0,
              "ticks": ""
             }
            },
            "type": "scattermapbox"
           }
          ],
          "scatterpolar": [
           {
            "marker": {
             "colorbar": {
              "outlinewidth": 0,
              "ticks": ""
             }
            },
            "type": "scatterpolar"
           }
          ],
          "scatterpolargl": [
           {
            "marker": {
             "colorbar": {
              "outlinewidth": 0,
              "ticks": ""
             }
            },
            "type": "scatterpolargl"
           }
          ],
          "scatterternary": [
           {
            "marker": {
             "colorbar": {
              "outlinewidth": 0,
              "ticks": ""
             }
            },
            "type": "scatterternary"
           }
          ],
          "surface": [
           {
            "colorbar": {
             "outlinewidth": 0,
             "ticks": ""
            },
            "colorscale": [
             [
              0,
              "#0d0887"
             ],
             [
              0.1111111111111111,
              "#46039f"
             ],
             [
              0.2222222222222222,
              "#7201a8"
             ],
             [
              0.3333333333333333,
              "#9c179e"
             ],
             [
              0.4444444444444444,
              "#bd3786"
             ],
             [
              0.5555555555555556,
              "#d8576b"
             ],
             [
              0.6666666666666666,
              "#ed7953"
             ],
             [
              0.7777777777777778,
              "#fb9f3a"
             ],
             [
              0.8888888888888888,
              "#fdca26"
             ],
             [
              1,
              "#f0f921"
             ]
            ],
            "type": "surface"
           }
          ],
          "table": [
           {
            "cells": {
             "fill": {
              "color": "#EBF0F8"
             },
             "line": {
              "color": "white"
             }
            },
            "header": {
             "fill": {
              "color": "#C8D4E3"
             },
             "line": {
              "color": "white"
             }
            },
            "type": "table"
           }
          ]
         },
         "layout": {
          "annotationdefaults": {
           "arrowcolor": "#2a3f5f",
           "arrowhead": 0,
           "arrowwidth": 1
          },
          "autotypenumbers": "strict",
          "coloraxis": {
           "colorbar": {
            "outlinewidth": 0,
            "ticks": ""
           }
          },
          "colorscale": {
           "diverging": [
            [
             0,
             "#8e0152"
            ],
            [
             0.1,
             "#c51b7d"
            ],
            [
             0.2,
             "#de77ae"
            ],
            [
             0.3,
             "#f1b6da"
            ],
            [
             0.4,
             "#fde0ef"
            ],
            [
             0.5,
             "#f7f7f7"
            ],
            [
             0.6,
             "#e6f5d0"
            ],
            [
             0.7,
             "#b8e186"
            ],
            [
             0.8,
             "#7fbc41"
            ],
            [
             0.9,
             "#4d9221"
            ],
            [
             1,
             "#276419"
            ]
           ],
           "sequential": [
            [
             0,
             "#0d0887"
            ],
            [
             0.1111111111111111,
             "#46039f"
            ],
            [
             0.2222222222222222,
             "#7201a8"
            ],
            [
             0.3333333333333333,
             "#9c179e"
            ],
            [
             0.4444444444444444,
             "#bd3786"
            ],
            [
             0.5555555555555556,
             "#d8576b"
            ],
            [
             0.6666666666666666,
             "#ed7953"
            ],
            [
             0.7777777777777778,
             "#fb9f3a"
            ],
            [
             0.8888888888888888,
             "#fdca26"
            ],
            [
             1,
             "#f0f921"
            ]
           ],
           "sequentialminus": [
            [
             0,
             "#0d0887"
            ],
            [
             0.1111111111111111,
             "#46039f"
            ],
            [
             0.2222222222222222,
             "#7201a8"
            ],
            [
             0.3333333333333333,
             "#9c179e"
            ],
            [
             0.4444444444444444,
             "#bd3786"
            ],
            [
             0.5555555555555556,
             "#d8576b"
            ],
            [
             0.6666666666666666,
             "#ed7953"
            ],
            [
             0.7777777777777778,
             "#fb9f3a"
            ],
            [
             0.8888888888888888,
             "#fdca26"
            ],
            [
             1,
             "#f0f921"
            ]
           ]
          },
          "colorway": [
           "#636efa",
           "#EF553B",
           "#00cc96",
           "#ab63fa",
           "#FFA15A",
           "#19d3f3",
           "#FF6692",
           "#B6E880",
           "#FF97FF",
           "#FECB52"
          ],
          "font": {
           "color": "#2a3f5f"
          },
          "geo": {
           "bgcolor": "white",
           "lakecolor": "white",
           "landcolor": "#E5ECF6",
           "showlakes": true,
           "showland": true,
           "subunitcolor": "white"
          },
          "hoverlabel": {
           "align": "left"
          },
          "hovermode": "closest",
          "mapbox": {
           "style": "light"
          },
          "paper_bgcolor": "white",
          "plot_bgcolor": "#E5ECF6",
          "polar": {
           "angularaxis": {
            "gridcolor": "white",
            "linecolor": "white",
            "ticks": ""
           },
           "bgcolor": "#E5ECF6",
           "radialaxis": {
            "gridcolor": "white",
            "linecolor": "white",
            "ticks": ""
           }
          },
          "scene": {
           "xaxis": {
            "backgroundcolor": "#E5ECF6",
            "gridcolor": "white",
            "gridwidth": 2,
            "linecolor": "white",
            "showbackground": true,
            "ticks": "",
            "zerolinecolor": "white"
           },
           "yaxis": {
            "backgroundcolor": "#E5ECF6",
            "gridcolor": "white",
            "gridwidth": 2,
            "linecolor": "white",
            "showbackground": true,
            "ticks": "",
            "zerolinecolor": "white"
           },
           "zaxis": {
            "backgroundcolor": "#E5ECF6",
            "gridcolor": "white",
            "gridwidth": 2,
            "linecolor": "white",
            "showbackground": true,
            "ticks": "",
            "zerolinecolor": "white"
           }
          },
          "shapedefaults": {
           "line": {
            "color": "#2a3f5f"
           }
          },
          "ternary": {
           "aaxis": {
            "gridcolor": "white",
            "linecolor": "white",
            "ticks": ""
           },
           "baxis": {
            "gridcolor": "white",
            "linecolor": "white",
            "ticks": ""
           },
           "bgcolor": "#E5ECF6",
           "caxis": {
            "gridcolor": "white",
            "linecolor": "white",
            "ticks": ""
           }
          },
          "title": {
           "x": 0.05
          },
          "xaxis": {
           "automargin": true,
           "gridcolor": "white",
           "linecolor": "white",
           "ticks": "",
           "title": {
            "standoff": 15
           },
           "zerolinecolor": "white",
           "zerolinewidth": 2
          },
          "yaxis": {
           "automargin": true,
           "gridcolor": "white",
           "linecolor": "white",
           "ticks": "",
           "title": {
            "standoff": 15
           },
           "zerolinecolor": "white",
           "zerolinewidth": 2
          }
         }
        },
        "xaxis": {
         "anchor": "y",
         "constrain": "domain",
         "domain": [
          0,
          1
         ],
         "scaleanchor": "y",
         "side": "top",
         "title": {
          "text": "Actor's experience in each genre"
         }
        },
        "yaxis": {
         "anchor": "x",
         "autorange": "reversed",
         "constrain": "domain",
         "domain": [
          0,
          1
         ],
         "title": {
          "text": "Genre of the movie"
         }
        }
       }
      }
     },
     "metadata": {},
     "output_type": "display_data"
    }
   ],
   "source": [
    "# plot.\n",
    "fig = px.imshow(corr_before_ongoing_genres,\n",
    "                labels=dict(x=\"Actor's experience in each genre\", y=\"Genre of the movie\", color=\"correlation\"),\n",
    "                x=['Drama', 'Action', 'Romance', 'Comedy', 'Crime', 'War', 'Family', 'Mystery', 'Adventure'],\n",
    "                y=['Drama', 'Action', 'Romance', 'Comedy', 'Crime', 'War', 'Family', 'Mystery', 'Adventure'],\n",
    "                color_continuous_scale=px.colors.sequential.Cividis_r\n",
    "               )\n",
    "fig.update_xaxes(side=\"top\")\n",
    "fig.show()\n",
    "# fig.write_html(\"./data/correlation_map.html\")"
   ]
  },
  {
   "attachments": {},
   "cell_type": "markdown",
   "metadata": {},
   "source": [
    "# Section 3: Analysis of actors' features over time"
   ]
  },
  {
   "cell_type": "code",
   "execution_count": null,
   "metadata": {},
   "outputs": [],
   "source": [
    "# import movie and actor data\n",
    "# TODO get experience_so_far_per_genre into the movie-actor combi data set\n",
    "movie_actor_combi = pd.read_csv(\"./data/actor_movie_combi.csv\", index_col=0) #note: index_col=0 to solve unnamed colunm issue\n",
    "movie_actor_combi # note: only actors with importance to the respective movieare considered. The importance is determined by IMDB itself and stored in \"ordering\" column"
   ]
  },
  {
   "cell_type": "code",
   "execution_count": null,
   "metadata": {},
   "outputs": [],
   "source": [
    "# add startDecade column to prepare data over time\n",
    "def getGeneration(movieReleaseYear):\n",
    "    if movieReleaseYear <= 1924:\n",
    "        return \"greatest\"\n",
    "    else:\n",
    "        if movieReleaseYear >= 1925 and movieReleaseYear <= 1945:\n",
    "            return \"silent\"\n",
    "        else:\n",
    "            if movieReleaseYear >= 1946 and movieReleaseYear <= 1964:\n",
    "                return \"baby_boomer\"\n",
    "            else:\n",
    "                if movieReleaseYear >= 1965 and movieReleaseYear <= 1985:\n",
    "                    return \"boomer\"\n",
    "                else:\n",
    "                    if movieReleaseYear >= 1986 and movieReleaseYear <= 1996:\n",
    "                        return \"millennial\"\n",
    "                    else:\n",
    "                        if movieReleaseYear >= 1997 and movieReleaseYear <= 2012:\n",
    "                            return \"gen_z\"\n",
    "                        else:\n",
    "                            return \"gen_x\"   \n",
    "\n",
    "movie_actor_combi[\"generation\"] = movie_actor_combi.apply(lambda x: getGeneration(x[\"startYear\"]), axis=1)\n",
    "movie_actor_combi"
   ]
  },
  {
   "cell_type": "code",
   "execution_count": null,
   "metadata": {},
   "outputs": [],
   "source": [
    "# filter for selected genres\n",
    "selected_genres = [\"Drama\", \"Action\", \"Comedy\", \"Adventure\", \"Romance\"]\n",
    "movie_actor_combi[\"genres\"] = movie_actor_combi[\"genres\"].values #converting genres column from series to np.array\n",
    "\n",
    "# add binary column for each selected genre which indicates if movie is part of respective selected genre \n",
    "for genre in selected_genres:\n",
    "    movie_actor_combi[genre] = [1 if genre in genres else 0 for genres in movie_actor_combi[\"genres\"]] # 0 = movie not part of genre\n",
    "\n",
    "# filter for movie-actor combies whose movies are part of at least on of the selected genres\n",
    "selected_movie_actor_combi = movie_actor_combi[movie_actor_combi[selected_genres].sum(axis = 1) == 1] # aka filter out rows which only have zeros in colums of selected genres\n",
    "selected_movie_actor_combi # TODO add column for experience so far in selected genre "
   ]
  },
  {
   "attachments": {},
   "cell_type": "markdown",
   "metadata": {},
   "source": [
    "## Analyse movies per selected genre overtime"
   ]
  },
  {
   "cell_type": "code",
   "execution_count": null,
   "metadata": {},
   "outputs": [],
   "source": [
    "# count movies of selected genres for each generation\n",
    "count_selected_genres_in_generation = selected_movie_actor_combi.drop_duplicates(subset=[\"tconst\"]).groupby(\"generation\").sum().reset_index()[selected_genres + [\"generation\"]]\n",
    "\n",
    "# get total amount of movies aired in each generation\n",
    "count_selected_genres_in_generation[\"total_movie_amount\"] = movie_actor_combi.drop_duplicates(subset=[\"tconst\"]).groupby(\"generation\").count().reset_index()[\"tconst\"]\n",
    "\n",
    "# get number of movies of other genres aired in each generation\n",
    "count_selected_genres_in_generation[\"other_genres\"] = count_selected_genres_in_generation[\"total_movie_amount\"] - count_selected_genres_in_generation[selected_genres].sum(axis=1)\n",
    "\n",
    "# sort by generation\n",
    "def sortByGeneration(df):\n",
    "    generationOrder = {\"greatest\":0, \"silent\":1, \"baby_boomer\":2, \"boomer\":3, \"millennial\":4, \"gen_z\":5, \"gen_x\":6}     \n",
    "    df = df.sort_values(by=[\"generation\"], key=lambda x: x.map(generationOrder))\n",
    "    return df\n",
    "count_selected_genres_in_generation = sortByGeneration(count_selected_genres_in_generation)\n",
    "count_selected_genres_in_generation"
   ]
  },
  {
   "cell_type": "code",
   "execution_count": null,
   "metadata": {},
   "outputs": [],
   "source": [
    "# staked plot of movies per selected genre for each generation as mosaik\n",
    "y = []\n",
    "\n",
    "for genre in selected_genres + [\"other_genres\"]:\n",
    "    y.append(count_selected_genres_in_generation[genre]/count_selected_genres_in_generation[\"total_movie_amount\"])\n",
    "\n",
    "plt.stackplot(count_selected_genres_in_generation[\"generation\"], y, labels=selected_genres + [\"other_genres\"])\n",
    "plt.ylabel(\"Movies' share of total\")\n",
    "plt.xlabel(\"Generation\")\n",
    "plt.legend(title = \"Genre\", loc='center right', bbox_to_anchor=(1.3, 0.5))\n",
    "plt.title(\"Genre composition over generations\")\n",
    "plt.xticks(rotation=90)\n",
    "plt.show()"
   ]
  },
  {
   "attachments": {},
   "cell_type": "markdown",
   "metadata": {},
   "source": [
    "## Creating weights based on different success metrics for movies for actor profile analysis\n",
    "To incooperate success of movies into actor profile analysis and thus making it interesting for producers who seek a cast which create successfull movies.\n",
    "\n",
    "Used weights:\n",
    "1. no weight\n",
    "2. numVotes (= popularity/trendingness)\n",
    "3. imdb score (= opinion)\n",
    "4. 0.8 * numVotes + 0.2 imdb score (= considering opinion of viewers and overall popularity with an emphasis on opinion)\n"
   ]
  },
  {
   "cell_type": "code",
   "execution_count": null,
   "metadata": {},
   "outputs": [],
   "source": [
    "# creating a column for \"opinion and popularity\" success metric\n",
    "selected_movie_actor_combi[\"opinion_and_popularity\"] = 0.8 * selected_movie_actor_combi[\"averageRating\"] + 0.2 * selected_movie_actor_combi[\"numVotes\"]\n"
   ]
  },
  {
   "cell_type": "code",
   "execution_count": null,
   "metadata": {},
   "outputs": [],
   "source": [
    "## Analysis of (successfull) actor profiles over time using different weights of movie success\n",
    "selected_features = [\"gender\", \"age_at_movie_start\", \"exp_so_far\"]\n",
    "# analyse selected features of actors in selected genres over generations (using average or weighted averages)\n",
    "\n",
    "# helper variables and functions\n",
    "weights = [\"none\", \"numVotes\", \"averageRating\", \"opinion_and_popularity\"]\n",
    "\n",
    "def weighted_average(x, values, weights):\n",
    "    return sum(x[weights] * x[values]) / x[weights].sum()\n",
    "\n",
    "# analyse for each selected genre\n",
    "for genre in selected_genres:\n",
    "\n",
    "    # filter for genre in selected genres\n",
    "    movie_actor_combi_filtered_by_genre = selected_movie_actor_combi[selected_movie_actor_combi[genre] == 1]\n",
    "\n",
    "    # run feature analysis over generation for genre \n",
    "    for feature in selected_features:\n",
    "\n",
    "        # analyse using different weights\n",
    "        for weight in weights:\n",
    "            if \"none\" == weight:\n",
    "                avg_movie_actor_combi_per_generation = movie_actor_combi_filtered_by_genre.groupby(\"generation\").mean().reset_index()\n",
    "            else:\n",
    "                avg_movie_actor_combi_per_generation = movie_actor_combi_filtered_by_genre.groupby(\"generation\").apply(lambda x : weighted_average(x, feature, weight)).to_frame(name=feature).reset_index()\n",
    "            \n",
    "            avg_movie_actor_combi_per_generation = sortByGeneration(avg_movie_actor_combi_per_generation)\n",
    "            plt.plot(avg_movie_actor_combi_per_generation[\"generation\"], avg_movie_actor_combi_per_generation[feature], label=weight) \n",
    "            \n",
    "        plt.title(feature+\"' s change in '\"+genre+\"' over generations\")\n",
    "        plt.ylabel(feature)\n",
    "        plt.xlabel(\"Era\")\n",
    "        plt.xticks(rotation=90)\n",
    "        plt.legend()\n",
    "        plt.show()"
   ]
  },
  {
   "attachments": {},
   "cell_type": "markdown",
   "metadata": {},
   "source": [
    "### Interpretation and concerns\n",
    "1. Interpretation\n",
    "\n",
    "2. Concerns\n",
    "    - age always compounds up --> there has to be an error\n",
    "    - non-weighted average and average weighted with imdb score more or less the same --> why?\n",
    "    - opininon_and_popularity should be in the middle of numVotes and averageRating. However, it follows numVotes more (although it was weighted down) --> que?\n",
    "    - concern about how gender is analysed:"
   ]
  },
  {
   "attachments": {},
   "cell_type": "markdown",
   "metadata": {},
   "source": [
    "## Visualise actor feature change over generations for each genre\n",
    "Since weighting the average with any success metrics does not really matter, we are not considering a movie success metric for the following visuals. This means that we cannot say that those are the profiles of successfull actors."
   ]
  },
  {
   "cell_type": "code",
   "execution_count": null,
   "metadata": {},
   "outputs": [],
   "source": [
    "import warnings\n",
    "warnings.filterwarnings('ignore')"
   ]
  },
  {
   "cell_type": "code",
   "execution_count": null,
   "metadata": {},
   "outputs": [],
   "source": [
    "for feature in selected_features:   \n",
    "\n",
    "    if len(selected_genres) % 2 == 1:\n",
    "        fig, axs = plt.subplots(int(len(selected_genres)/2)+1, 2, sharex=True, sharey=True)\n",
    "        fig.delaxes(axs[int(len(selected_genres)/2), 1])\n",
    "    else:\n",
    "        fig, axs = plt.subplots(len(selected_genres)/2, 2, sharex=True, sharey=True)\n",
    "\n",
    "    x_len = 0\n",
    "    y_len = 0\n",
    "        \n",
    "    for idx, genre in enumerate(selected_genres):   \n",
    "        avg_selected_movie_actor_combi_by_genre = selected_movie_actor_combi.groupby(\"generation\").apply(lambda x: x[x[genre] == 1].mean()).reset_index()\n",
    "        axs[y_len, x_len].plot(avg_selected_movie_actor_combi_by_genre[\"generation\"], avg_selected_movie_actor_combi_by_genre[feature])\n",
    "        axs[y_len, x_len].set_title(genre)\n",
    "        axs[y_len, x_len].tick_params(axis='x', rotation= 90)\n",
    "\n",
    "        if idx%2 == 0:\n",
    "            x_len += 1\n",
    "        else:\n",
    "            y_len += 1\n",
    "            x_len = 0\n",
    "\n",
    "    # Hide x labels and tick labels for top plots and y ticks for right plots.\n",
    "    for ax in axs.flat:\n",
    "        ax.label_outer()\n",
    "\n",
    "    # add title\n",
    "    fig.tight_layout(pad=1.5) # improve spacing\n",
    "    fig.suptitle(\"Analysis of feature '\"+feature+\"'\", y=1.05)"
   ]
  },
  {
   "attachments": {},
   "cell_type": "markdown",
   "metadata": {},
   "source": [
    "## Visualise change in features of actors and actresses over generations for each genre"
   ]
  }
 ],
 "metadata": {
  "kernelspec": {
   "display_name": "Python 3",
   "language": "python",
   "name": "python3"
  },
  "language_info": {
   "codemirror_mode": {
    "name": "ipython",
    "version": 3
   },
   "file_extension": ".py",
   "mimetype": "text/x-python",
   "name": "python",
   "nbconvert_exporter": "python",
   "pygments_lexer": "ipython3",
   "version": "3.10.5 (tags/v3.10.5:f377153, Jun  6 2022, 16:14:13) [MSC v.1929 64 bit (AMD64)]"
  },
  "orig_nbformat": 4,
  "vscode": {
   "interpreter": {
    "hash": "b58835502958df7a8f6f9a9f687cdfbc590c168a3f7a37877418ee335f674714"
   }
  }
 },
 "nbformat": 4,
 "nbformat_minor": 2
}
