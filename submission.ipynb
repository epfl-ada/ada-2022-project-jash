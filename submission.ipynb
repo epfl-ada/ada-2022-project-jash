{
 "cells": [
  {
   "cell_type": "code",
   "execution_count": 2,
   "metadata": {},
   "outputs": [],
   "source": [
    "# imports\n",
    "# processing data\n",
    "import pandas as pd\n",
    "import numpy as np\n",
    "\n",
    "# analysis\n",
    "import statsmodels.formula.api as smf\n",
    "from scipy.stats import entropy\n",
    "\n",
    "# plot\n",
    "import matplotlib.pyplot as plt\n",
    "from d3blocks import D3Blocks\n",
    "import seaborn as sns\n",
    "import plotly.express as px\n",
    "\n",
    "# misc\n",
    "import warnings\n",
    "warnings.filterwarnings('ignore')"
   ]
  },
  {
   "cell_type": "markdown",
   "metadata": {},
   "source": [
    "# Section 1: preprocessing data."
   ]
  },
  {
   "cell_type": "code",
   "execution_count": 38,
   "metadata": {},
   "outputs": [],
   "source": [
    "# Please add all preprocessing code here.\n",
    "\n",
    "# loading imdb actor information\n",
    "actors_raw = pd.read_csv('data/name.basics.tsv', sep='\\t')\n",
    "\n",
    "# filter out rows with missing data cruical for analysis\n",
    "actors_raw = actors_raw[actors_raw[\"birthYear\"] != r\"\\N\"]\n",
    "\n",
    "# loading imdb's principals\n",
    "principals_raw = pd.read_csv('data/title.principals.tsv', sep='\\t')"
   ]
  },
  {
   "attachments": {},
   "cell_type": "markdown",
   "metadata": {},
   "source": [
    "## Filter for leading actors and add column for gender\n",
    "Filter for leading actors based on imdb's principals data which contains for each movie the most important people (i. e. actors, actress, directors etc.). The importance is given by imdb and stored in the 'ordering' column"
   ]
  },
  {
   "cell_type": "code",
   "execution_count": null,
   "metadata": {},
   "outputs": [],
   "source": [
    "\n",
    "# filter for actors and actress in principals\n",
    "principals = principals_raw[(principals_raw[\"category\"] == \"actress\") | (principals_raw[\"category\"] == \"actor\")] \n",
    "\n",
    "# add gender column (0=male, 1=female)\n",
    "principals[\"gender\"] = 0\n",
    "principals.loc[principals[\"category\"] == \"actress\", \"gender\"] = 1\n",
    "\n",
    "# select ony important columns of principal and actors data set and join them left\n",
    "principal_actors = principals[[\"tconst\", \"ordering\", \"nconst\", \"gender\"]].merge(actors_raw[[\"nconst\",\t\"primaryName\",\t\"birthYear\", \"deathYear\"]], how=\"left\", on=\"nconst\")\n",
    "\n",
    "# Find total number of movies played by every leading actor\n",
    "principal_actors.drop(columns=[\"deathYear\"], inplace=True)\n",
    "unique_actors = principal_actors[\"nconst\"].unique()\n",
    "\n",
    "male_actors = principal_actors[principal_actors[\"gender\"] == 0][\"nconst\"].unique()\n",
    "female_actors = principal_actors[principal_actors[\"gender\"] == 1][\"nconst\"].unique()"
   ]
  },
  {
   "cell_type": "code",
   "execution_count": 40,
   "metadata": {},
   "outputs": [
    {
     "data": {
      "text/html": [
       "<div>\n",
       "<style scoped>\n",
       "    .dataframe tbody tr th:only-of-type {\n",
       "        vertical-align: middle;\n",
       "    }\n",
       "\n",
       "    .dataframe tbody tr th {\n",
       "        vertical-align: top;\n",
       "    }\n",
       "\n",
       "    .dataframe thead th {\n",
       "        text-align: right;\n",
       "    }\n",
       "</style>\n",
       "<table border=\"1\" class=\"dataframe\">\n",
       "  <thead>\n",
       "    <tr style=\"text-align: right;\">\n",
       "      <th></th>\n",
       "      <th>tconst</th>\n",
       "      <th>ordering</th>\n",
       "      <th>nconst</th>\n",
       "      <th>gender</th>\n",
       "      <th>primaryName</th>\n",
       "      <th>birthYear</th>\n",
       "    </tr>\n",
       "  </thead>\n",
       "  <tbody>\n",
       "    <tr>\n",
       "      <th>0</th>\n",
       "      <td>tt0000005</td>\n",
       "      <td>1</td>\n",
       "      <td>nm0443482</td>\n",
       "      <td>0</td>\n",
       "      <td>Charles Kayser</td>\n",
       "      <td>1878</td>\n",
       "    </tr>\n",
       "    <tr>\n",
       "      <th>1</th>\n",
       "      <td>tt0000005</td>\n",
       "      <td>2</td>\n",
       "      <td>nm0653042</td>\n",
       "      <td>0</td>\n",
       "      <td>John Ott</td>\n",
       "      <td>1850</td>\n",
       "    </tr>\n",
       "    <tr>\n",
       "      <th>2</th>\n",
       "      <td>tt0000007</td>\n",
       "      <td>1</td>\n",
       "      <td>nm0179163</td>\n",
       "      <td>0</td>\n",
       "      <td>James J. Corbett</td>\n",
       "      <td>1866</td>\n",
       "    </tr>\n",
       "    <tr>\n",
       "      <th>3</th>\n",
       "      <td>tt0000007</td>\n",
       "      <td>2</td>\n",
       "      <td>nm0183947</td>\n",
       "      <td>0</td>\n",
       "      <td>Peter Courtney</td>\n",
       "      <td>1867</td>\n",
       "    </tr>\n",
       "    <tr>\n",
       "      <th>4</th>\n",
       "      <td>tt0000008</td>\n",
       "      <td>1</td>\n",
       "      <td>nm0653028</td>\n",
       "      <td>0</td>\n",
       "      <td>Fred Ott</td>\n",
       "      <td>1860</td>\n",
       "    </tr>\n",
       "  </tbody>\n",
       "</table>\n",
       "</div>"
      ],
      "text/plain": [
       "      tconst  ordering     nconst  gender       primaryName birthYear\n",
       "0  tt0000005         1  nm0443482       0    Charles Kayser      1878\n",
       "1  tt0000005         2  nm0653042       0          John Ott      1850\n",
       "2  tt0000007         1  nm0179163       0  James J. Corbett      1866\n",
       "3  tt0000007         2  nm0183947       0    Peter Courtney      1867\n",
       "4  tt0000008         1  nm0653028       0          Fred Ott      1860"
      ]
     },
     "execution_count": 40,
     "metadata": {},
     "output_type": "execute_result"
    }
   ],
   "source": [
    "# groupby actors\n",
    "total_actor_experience = principal_actors.groupby([\"nconst\"]).count()\n",
    "actor_to_experience = {}\n",
    "for row in total_actor_experience.iterrows():\n",
    "    actor_to_experience[row[0]] = row[1][\"tconst\"]\n",
    "\n",
    "principal_actors.dropna(inplace=True)\n",
    "principal_actors.head()"
   ]
  },
  {
   "attachments": {},
   "cell_type": "markdown",
   "metadata": {},
   "source": [
    "## Add column for age of actor during start of movie"
   ]
  },
  {
   "cell_type": "code",
   "execution_count": null,
   "metadata": {},
   "outputs": [],
   "source": [
    "# load in movie data and select relevent columns: tconst and startYear\n",
    "movies_raw = pd.read_csv(\"data/title.basics.tsv\", sep=\"\\t\")[[\"tconst\", \"startYear\", \"genres\"]]\n",
    "\n",
    "# filter out rows with missing data cruical for analysis\n",
    "movies_raw = movies_raw[movies_raw[\"startYear\"] != r\"\\N\"]\n",
    "\n",
    "# join movie data with actors\n",
    "actor_movie_combi = principal_actors.merge(movies_raw, how=\"left\", on=\"tconst\")\n",
    "\n",
    "# cast year columns to numeric in order to calculate\n",
    "actor_movie_combi[\"startYear\"] = pd.to_numeric(actor_movie_combi[\"startYear\"]) # errors parameter for the case when date not given\n",
    "actor_movie_combi[\"birthYear\"] = pd.to_numeric(actor_movie_combi[\"birthYear\"]) # errors parameter for the case when date not given\n",
    "\n",
    "# add age_at_movie_start column\n",
    "actor_movie_combi[\"age_at_movie_start\"] = actor_movie_combi[\"startYear\"] - actor_movie_combi[\"birthYear\"]"
   ]
  },
  {
   "attachments": {},
   "cell_type": "markdown",
   "metadata": {},
   "source": [
    "## Add column for imdb ratings"
   ]
  },
  {
   "cell_type": "code",
   "execution_count": 36,
   "metadata": {},
   "outputs": [
    {
     "data": {
      "text/html": [
       "<div>\n",
       "<style scoped>\n",
       "    .dataframe tbody tr th:only-of-type {\n",
       "        vertical-align: middle;\n",
       "    }\n",
       "\n",
       "    .dataframe tbody tr th {\n",
       "        vertical-align: top;\n",
       "    }\n",
       "\n",
       "    .dataframe thead th {\n",
       "        text-align: right;\n",
       "    }\n",
       "</style>\n",
       "<table border=\"1\" class=\"dataframe\">\n",
       "  <thead>\n",
       "    <tr style=\"text-align: right;\">\n",
       "      <th></th>\n",
       "      <th>tconst</th>\n",
       "      <th>ordering</th>\n",
       "      <th>nconst</th>\n",
       "      <th>gender</th>\n",
       "      <th>primaryName</th>\n",
       "      <th>birthYear</th>\n",
       "      <th>startYear</th>\n",
       "      <th>genres</th>\n",
       "      <th>age_at_movie_start</th>\n",
       "      <th>averageRating_x</th>\n",
       "      <th>numVotes_x</th>\n",
       "      <th>exp_so_far</th>\n",
       "      <th>averageRating_y</th>\n",
       "      <th>numVotes_y</th>\n",
       "    </tr>\n",
       "  </thead>\n",
       "  <tbody>\n",
       "    <tr>\n",
       "      <th>0</th>\n",
       "      <td>tt7816420</td>\n",
       "      <td>1</td>\n",
       "      <td>nm1155956</td>\n",
       "      <td>0</td>\n",
       "      <td>Eadweard Muybridge</td>\n",
       "      <td>1830</td>\n",
       "      <td>1881.0</td>\n",
       "      <td>Documentary,Short</td>\n",
       "      <td>51.0</td>\n",
       "      <td>5.2</td>\n",
       "      <td>466.0</td>\n",
       "      <td>0</td>\n",
       "      <td>5.2</td>\n",
       "      <td>466.0</td>\n",
       "    </tr>\n",
       "    <tr>\n",
       "      <th>1</th>\n",
       "      <td>tt1758563</td>\n",
       "      <td>1</td>\n",
       "      <td>nm1796515</td>\n",
       "      <td>0</td>\n",
       "      <td>Adolphe Le Prince</td>\n",
       "      <td>1872</td>\n",
       "      <td>1888.0</td>\n",
       "      <td>Documentary,Short</td>\n",
       "      <td>16.0</td>\n",
       "      <td>5.5</td>\n",
       "      <td>1338.0</td>\n",
       "      <td>0</td>\n",
       "      <td>5.5</td>\n",
       "      <td>1338.0</td>\n",
       "    </tr>\n",
       "    <tr>\n",
       "      <th>2</th>\n",
       "      <td>tt0416047</td>\n",
       "      <td>1</td>\n",
       "      <td>nm1362928</td>\n",
       "      <td>0</td>\n",
       "      <td>Giuseppe Sacco Albanese</td>\n",
       "      <td>1872</td>\n",
       "      <td>1890.0</td>\n",
       "      <td>Short</td>\n",
       "      <td>18.0</td>\n",
       "      <td>4.2</td>\n",
       "      <td>427.0</td>\n",
       "      <td>0</td>\n",
       "      <td>4.2</td>\n",
       "      <td>427.0</td>\n",
       "    </tr>\n",
       "    <tr>\n",
       "      <th>3</th>\n",
       "      <td>tt0416046</td>\n",
       "      <td>1</td>\n",
       "      <td>nm1362928</td>\n",
       "      <td>0</td>\n",
       "      <td>Giuseppe Sacco Albanese</td>\n",
       "      <td>1872</td>\n",
       "      <td>1890.0</td>\n",
       "      <td>Short</td>\n",
       "      <td>18.0</td>\n",
       "      <td>4.8</td>\n",
       "      <td>1111.0</td>\n",
       "      <td>1</td>\n",
       "      <td>4.8</td>\n",
       "      <td>1111.0</td>\n",
       "    </tr>\n",
       "    <tr>\n",
       "      <th>4</th>\n",
       "      <td>tt0361921</td>\n",
       "      <td>1</td>\n",
       "      <td>nm1362928</td>\n",
       "      <td>0</td>\n",
       "      <td>Giuseppe Sacco Albanese</td>\n",
       "      <td>1872</td>\n",
       "      <td>1890.0</td>\n",
       "      <td>Documentary,Short</td>\n",
       "      <td>18.0</td>\n",
       "      <td>5.0</td>\n",
       "      <td>1512.0</td>\n",
       "      <td>2</td>\n",
       "      <td>5.0</td>\n",
       "      <td>1512.0</td>\n",
       "    </tr>\n",
       "  </tbody>\n",
       "</table>\n",
       "</div>"
      ],
      "text/plain": [
       "      tconst  ordering     nconst  gender              primaryName  birthYear  \\\n",
       "0  tt7816420         1  nm1155956       0       Eadweard Muybridge       1830   \n",
       "1  tt1758563         1  nm1796515       0        Adolphe Le Prince       1872   \n",
       "2  tt0416047         1  nm1362928       0  Giuseppe Sacco Albanese       1872   \n",
       "3  tt0416046         1  nm1362928       0  Giuseppe Sacco Albanese       1872   \n",
       "4  tt0361921         1  nm1362928       0  Giuseppe Sacco Albanese       1872   \n",
       "\n",
       "   startYear             genres  age_at_movie_start  averageRating_x  \\\n",
       "0     1881.0  Documentary,Short                51.0              5.2   \n",
       "1     1888.0  Documentary,Short                16.0              5.5   \n",
       "2     1890.0              Short                18.0              4.2   \n",
       "3     1890.0              Short                18.0              4.8   \n",
       "4     1890.0  Documentary,Short                18.0              5.0   \n",
       "\n",
       "   numVotes_x  exp_so_far  averageRating_y  numVotes_y  \n",
       "0       466.0           0              5.2       466.0  \n",
       "1      1338.0           0              5.5      1338.0  \n",
       "2       427.0           0              4.2       427.0  \n",
       "3      1111.0           1              4.8      1111.0  \n",
       "4      1512.0           2              5.0      1512.0  "
      ]
     },
     "execution_count": 36,
     "metadata": {},
     "output_type": "execute_result"
    }
   ],
   "source": [
    "# load in imdb ratings\n",
    "ratings_raw = pd.read_csv('data/title.ratings.tsv', sep='\\t')\n",
    "\n",
    "# add ratings to overall data set\n",
    "actor_movie_combi = actor_movie_combi.merge(ratings_raw, how=\"left\", on=\"tconst\")\n",
    "actor_movie_combi.head()"
   ]
  },
  {
   "attachments": {},
   "cell_type": "markdown",
   "metadata": {},
   "source": [
    "## Add column for number of movies an actor has been in before start of respective movie"
   ]
  },
  {
   "cell_type": "code",
   "execution_count": null,
   "metadata": {},
   "outputs": [],
   "source": [
    "actor_movie_combi[\"exp_so_far\"] = 0\n",
    "actor_movie_combi.sort_values(by=\"startYear\", inplace=True, ascending=True)\n",
    "from collections import defaultdict\n",
    "exp_so_far = defaultdict(int)\n",
    "for row in actor_movie_combi.iterrows():\n",
    "    actor = row[1][\"nconst\"]\n",
    "    actor_movie_combi.loc[row[0], \"exp_so_far\"] = exp_so_far[actor]\n",
    "    exp_so_far[actor] += 1\n",
    "\n",
    "# # Drop rows with NA values and save to CSV\n",
    "actor_movie_combi.dropna(inplace=True) \n",
    "actor_movie_combi.to_csv(\"data/actor_movie_combi.csv\" , index=None)"
   ]
  },
  {
   "attachments": {},
   "cell_type": "markdown",
   "metadata": {},
   "source": [
    "# Defining functions to :\n",
    "* Filter out movies from unwanted movie genres = [\"Animation\", \"Biography\", \"Documentary\",\"Short\"] \n",
    "    * Animation - Only voice actors meanning that casting is heavily dictated by voice and language\n",
    "    * Biography, Documentary - Heavily dependent on the subject\n",
    "    * Short - We aim to study larger scale movies\n",
    "* Study the genre density of the movie dataset\n",
    "* Calculate the experience of actors per genre at the time of each movie release"
   ]
  },
  {
   "cell_type": "code",
   "execution_count": 42,
   "metadata": {},
   "outputs": [],
   "source": [
    "pd.options.mode.chained_assignment = None  # default='warn'\n",
    "\n",
    "# Broad range of genres taken into consideration\n",
    "genres_major_add =  ['Drama', \"Action\", \"Romance\", \"Comedy\", \"Adventure\", \"Crime\", \"War\", \"Family\", \"Mystery\"]\n",
    "\n",
    "# remove genres which do not have a strict relation to actor features in general\n",
    "genres_remove = [\"Animation\", \"Biography\", \"Documentary\", \"Short\"]\n",
    "\n",
    "# build features representing actor's experience of different movie genres.\n",
    "def genre_exp(dataset, actor_keyword = \"nconst\", genre_keyword = \"genres\"):\n",
    "\n",
    "    for x in genres_major_add:\n",
    "        genre_label = x+\"_exp_so_far\"\n",
    "        dataset[genre_label] = 0\n",
    "        genre_exp_so_far = defaultdict(int)\n",
    "\n",
    "        for row in dataset.iterrows():\n",
    "            actor = row[1][actor_keyword]\n",
    "            genres = row[1][genre_keyword].split(\",\")\n",
    "\n",
    "            if x in genres:\n",
    "                genre_exp_so_far[actor] += 1\n",
    "\n",
    "\n",
    "            dataset.loc[row[0], genre_label] = genre_exp_so_far[actor]\n",
    "\n",
    "    return dataset\n",
    "\n",
    "\n",
    "# function removes certain genres and makes additional columns for each major genre marking which category the movie belongs to \n",
    "\n",
    "def extract_genres(dataset, genres_major=genres_major, genres_remove=genres_remove, genre_keyword ='genres', year_keyword='startYear'):\n",
    "\n",
    "    x = []\n",
    "    a = []\n",
    "\n",
    "\n",
    "    # filter genres that we are not considering = [short, documentary, biography, animation]\n",
    "    dataset_filtered = dataset[~dataset[genre_keyword].str.contains('|'.join(genres_remove))]\n",
    "\n",
    "    # to store only movies and actors that have worked in the major genres\n",
    "    movies_major = dataset_filtered[dataset_filtered[genre_keyword].str.contains('|'.join(genres_major))]\n",
    "\n",
    "    # for i in genres_major:\n",
    "\n",
    "    #     movies_major[i] = movies_major[genre_keyword].apply(lambda x: 1 if i in x else 0)\n",
    "\n",
    "    movies_major.sort_values(by=year_keyword, ascending=True)\n",
    "\n",
    "    for y in movies_major[genre_keyword]:\n",
    "\n",
    "        if type(y) == str:\n",
    "            x+= y.split(\",\")\n",
    "\n",
    "    genres_all, counts = np.unique(x, return_counts=True)\n",
    "    fig1 = plt.figure()\n",
    "\n",
    "    # count movie genres.\n",
    "    genre_df = pd.DataFrame(list(zip(genres_all, counts)), columns=[\"genre\", \"count\"])\n",
    "    genre_df.sort_values('count',inplace=True, ascending = False)\n",
    "    genre_df.reset_index(drop=True,inplace=True)\n",
    "    genre_df.set_index('genre').plot(kind='bar', figsize=(13,4))\n",
    "\n",
    "    fig2 = plt.figure(figsize=(9,9))\n",
    "    df_draw = genre_df.copy()\n",
    "    df_draw.loc[df_draw['count'] < 50000, 'genre'] = 'Others'\n",
    "\n",
    "    exp = np.zeros(len(df_draw[\"genre\"].unique()))\n",
    "    exp[0:5] = 0.1\n",
    "\n",
    "    df_draw = df_draw.groupby('genre')['count'].sum().reset_index()\n",
    "    df_draw.sort_values('count',inplace=True, ascending = False)\n",
    "\n",
    "    plt.pie(df_draw['count'], labels=df_draw['genre'], autopct='%.0f%%', explode=exp)\n",
    "    plt.show()\n",
    "\n",
    "    return genres_all, counts, movies_major"
   ]
  },
  {
   "cell_type": "markdown",
   "metadata": {},
   "source": [
    "# Section 2: genre analysis"
   ]
  },
  {
   "cell_type": "markdown",
   "metadata": {},
   "source": [
    "- 1. Feature engineering\n"
   ]
  },
  {
   "cell_type": "markdown",
   "metadata": {},
   "source": [
    "- 2. Genre pattern evaluation."
   ]
  },
  {
   "cell_type": "code",
   "execution_count": 3,
   "metadata": {},
   "outputs": [
    {
     "data": {
      "text/html": [
       "<div>\n",
       "<style scoped>\n",
       "    .dataframe tbody tr th:only-of-type {\n",
       "        vertical-align: middle;\n",
       "    }\n",
       "\n",
       "    .dataframe tbody tr th {\n",
       "        vertical-align: top;\n",
       "    }\n",
       "\n",
       "    .dataframe thead th {\n",
       "        text-align: right;\n",
       "    }\n",
       "</style>\n",
       "<table border=\"1\" class=\"dataframe\">\n",
       "  <thead>\n",
       "    <tr style=\"text-align: right;\">\n",
       "      <th></th>\n",
       "      <th>tconst</th>\n",
       "      <th>ordering</th>\n",
       "      <th>nconst</th>\n",
       "      <th>gender</th>\n",
       "      <th>primaryName</th>\n",
       "      <th>birthYear</th>\n",
       "      <th>deathYear</th>\n",
       "      <th>startYear</th>\n",
       "      <th>genres</th>\n",
       "      <th>deatYear</th>\n",
       "      <th>age_at_movie_start</th>\n",
       "      <th>averageRating</th>\n",
       "      <th>numVotes</th>\n",
       "      <th>exp_so_far</th>\n",
       "      <th>drama_exp_so_far</th>\n",
       "      <th>action_exp_so_far</th>\n",
       "      <th>romance_exp_so_far</th>\n",
       "      <th>comedy_exp_so_far</th>\n",
       "    </tr>\n",
       "  </thead>\n",
       "  <tbody>\n",
       "    <tr>\n",
       "      <th>0</th>\n",
       "      <td>tt7816420</td>\n",
       "      <td>1</td>\n",
       "      <td>nm1155956</td>\n",
       "      <td>0</td>\n",
       "      <td>Eadweard Muybridge</td>\n",
       "      <td>1830.0</td>\n",
       "      <td>1904</td>\n",
       "      <td>1881.0</td>\n",
       "      <td>Documentary,Short</td>\n",
       "      <td>1904.0</td>\n",
       "      <td>51.0</td>\n",
       "      <td>5.2</td>\n",
       "      <td>462.0</td>\n",
       "      <td>0</td>\n",
       "      <td>0</td>\n",
       "      <td>0</td>\n",
       "      <td>0</td>\n",
       "      <td>0</td>\n",
       "    </tr>\n",
       "    <tr>\n",
       "      <th>1</th>\n",
       "      <td>tt1758563</td>\n",
       "      <td>1</td>\n",
       "      <td>nm1796515</td>\n",
       "      <td>0</td>\n",
       "      <td>Adolphe Le Prince</td>\n",
       "      <td>1872.0</td>\n",
       "      <td>1901</td>\n",
       "      <td>1888.0</td>\n",
       "      <td>Documentary,Short</td>\n",
       "      <td>1901.0</td>\n",
       "      <td>16.0</td>\n",
       "      <td>5.5</td>\n",
       "      <td>1333.0</td>\n",
       "      <td>0</td>\n",
       "      <td>0</td>\n",
       "      <td>0</td>\n",
       "      <td>0</td>\n",
       "      <td>0</td>\n",
       "    </tr>\n",
       "    <tr>\n",
       "      <th>2</th>\n",
       "      <td>tt0361921</td>\n",
       "      <td>1</td>\n",
       "      <td>nm1362928</td>\n",
       "      <td>0</td>\n",
       "      <td>Giuseppe Sacco Albanese</td>\n",
       "      <td>1872.0</td>\n",
       "      <td>1943</td>\n",
       "      <td>1890.0</td>\n",
       "      <td>Documentary,Short</td>\n",
       "      <td>1943.0</td>\n",
       "      <td>18.0</td>\n",
       "      <td>5.0</td>\n",
       "      <td>1508.0</td>\n",
       "      <td>0</td>\n",
       "      <td>0</td>\n",
       "      <td>0</td>\n",
       "      <td>0</td>\n",
       "      <td>0</td>\n",
       "    </tr>\n",
       "    <tr>\n",
       "      <th>3</th>\n",
       "      <td>tt0416047</td>\n",
       "      <td>1</td>\n",
       "      <td>nm1362928</td>\n",
       "      <td>0</td>\n",
       "      <td>Giuseppe Sacco Albanese</td>\n",
       "      <td>1872.0</td>\n",
       "      <td>1943</td>\n",
       "      <td>1890.0</td>\n",
       "      <td>Short</td>\n",
       "      <td>1943.0</td>\n",
       "      <td>18.0</td>\n",
       "      <td>4.2</td>\n",
       "      <td>425.0</td>\n",
       "      <td>1</td>\n",
       "      <td>0</td>\n",
       "      <td>0</td>\n",
       "      <td>0</td>\n",
       "      <td>0</td>\n",
       "    </tr>\n",
       "    <tr>\n",
       "      <th>4</th>\n",
       "      <td>tt0416046</td>\n",
       "      <td>1</td>\n",
       "      <td>nm1362928</td>\n",
       "      <td>0</td>\n",
       "      <td>Giuseppe Sacco Albanese</td>\n",
       "      <td>1872.0</td>\n",
       "      <td>1943</td>\n",
       "      <td>1890.0</td>\n",
       "      <td>Short</td>\n",
       "      <td>1943.0</td>\n",
       "      <td>18.0</td>\n",
       "      <td>4.8</td>\n",
       "      <td>1106.0</td>\n",
       "      <td>2</td>\n",
       "      <td>0</td>\n",
       "      <td>0</td>\n",
       "      <td>0</td>\n",
       "      <td>0</td>\n",
       "    </tr>\n",
       "    <tr>\n",
       "      <th>...</th>\n",
       "      <td>...</td>\n",
       "      <td>...</td>\n",
       "      <td>...</td>\n",
       "      <td>...</td>\n",
       "      <td>...</td>\n",
       "      <td>...</td>\n",
       "      <td>...</td>\n",
       "      <td>...</td>\n",
       "      <td>...</td>\n",
       "      <td>...</td>\n",
       "      <td>...</td>\n",
       "      <td>...</td>\n",
       "      <td>...</td>\n",
       "      <td>...</td>\n",
       "      <td>...</td>\n",
       "      <td>...</td>\n",
       "      <td>...</td>\n",
       "      <td>...</td>\n",
       "    </tr>\n",
       "    <tr>\n",
       "      <th>698931</th>\n",
       "      <td>tt7728792</td>\n",
       "      <td>2</td>\n",
       "      <td>nm6074154</td>\n",
       "      <td>0</td>\n",
       "      <td>Harry Hains</td>\n",
       "      <td>1992.0</td>\n",
       "      <td>2020</td>\n",
       "      <td>2022.0</td>\n",
       "      <td>Drama</td>\n",
       "      <td>2020.0</td>\n",
       "      <td>30.0</td>\n",
       "      <td>8.2</td>\n",
       "      <td>19.0</td>\n",
       "      <td>5</td>\n",
       "      <td>4</td>\n",
       "      <td>0</td>\n",
       "      <td>2</td>\n",
       "      <td>0</td>\n",
       "    </tr>\n",
       "    <tr>\n",
       "      <th>698932</th>\n",
       "      <td>tt21045916</td>\n",
       "      <td>3</td>\n",
       "      <td>nm0582378</td>\n",
       "      <td>0</td>\n",
       "      <td>Sombat Metanee</td>\n",
       "      <td>1937.0</td>\n",
       "      <td>2022</td>\n",
       "      <td>2022.0</td>\n",
       "      <td>Drama,Romance</td>\n",
       "      <td>2022.0</td>\n",
       "      <td>85.0</td>\n",
       "      <td>10.0</td>\n",
       "      <td>5.0</td>\n",
       "      <td>16</td>\n",
       "      <td>2</td>\n",
       "      <td>9</td>\n",
       "      <td>2</td>\n",
       "      <td>4</td>\n",
       "    </tr>\n",
       "    <tr>\n",
       "      <th>698933</th>\n",
       "      <td>tt21045922</td>\n",
       "      <td>3</td>\n",
       "      <td>nm0582378</td>\n",
       "      <td>0</td>\n",
       "      <td>Sombat Metanee</td>\n",
       "      <td>1937.0</td>\n",
       "      <td>2022</td>\n",
       "      <td>2022.0</td>\n",
       "      <td>Drama,Romance</td>\n",
       "      <td>2022.0</td>\n",
       "      <td>85.0</td>\n",
       "      <td>10.0</td>\n",
       "      <td>5.0</td>\n",
       "      <td>17</td>\n",
       "      <td>3</td>\n",
       "      <td>9</td>\n",
       "      <td>3</td>\n",
       "      <td>4</td>\n",
       "    </tr>\n",
       "    <tr>\n",
       "      <th>698934</th>\n",
       "      <td>tt21048302</td>\n",
       "      <td>2</td>\n",
       "      <td>nm7670169</td>\n",
       "      <td>0</td>\n",
       "      <td>Papangkorn Lerkchaleampote</td>\n",
       "      <td>1996.0</td>\n",
       "      <td>2022</td>\n",
       "      <td>2022.0</td>\n",
       "      <td>Adventure,Drama,Thriller</td>\n",
       "      <td>2022.0</td>\n",
       "      <td>26.0</td>\n",
       "      <td>8.0</td>\n",
       "      <td>57.0</td>\n",
       "      <td>13</td>\n",
       "      <td>13</td>\n",
       "      <td>0</td>\n",
       "      <td>1</td>\n",
       "      <td>1</td>\n",
       "    </tr>\n",
       "    <tr>\n",
       "      <th>698935</th>\n",
       "      <td>tt21050062</td>\n",
       "      <td>2</td>\n",
       "      <td>nm7670169</td>\n",
       "      <td>0</td>\n",
       "      <td>Papangkorn Lerkchaleampote</td>\n",
       "      <td>1996.0</td>\n",
       "      <td>2022</td>\n",
       "      <td>2022.0</td>\n",
       "      <td>Adventure,Drama,Thriller</td>\n",
       "      <td>2022.0</td>\n",
       "      <td>26.0</td>\n",
       "      <td>7.7</td>\n",
       "      <td>62.0</td>\n",
       "      <td>14</td>\n",
       "      <td>14</td>\n",
       "      <td>0</td>\n",
       "      <td>1</td>\n",
       "      <td>1</td>\n",
       "    </tr>\n",
       "  </tbody>\n",
       "</table>\n",
       "<p>698936 rows × 18 columns</p>\n",
       "</div>"
      ],
      "text/plain": [
       "            tconst  ordering     nconst  gender                 primaryName  \\\n",
       "0        tt7816420         1  nm1155956       0          Eadweard Muybridge   \n",
       "1        tt1758563         1  nm1796515       0           Adolphe Le Prince   \n",
       "2        tt0361921         1  nm1362928       0     Giuseppe Sacco Albanese   \n",
       "3        tt0416047         1  nm1362928       0     Giuseppe Sacco Albanese   \n",
       "4        tt0416046         1  nm1362928       0     Giuseppe Sacco Albanese   \n",
       "...            ...       ...        ...     ...                         ...   \n",
       "698931   tt7728792         2  nm6074154       0                 Harry Hains   \n",
       "698932  tt21045916         3  nm0582378       0              Sombat Metanee   \n",
       "698933  tt21045922         3  nm0582378       0              Sombat Metanee   \n",
       "698934  tt21048302         2  nm7670169       0  Papangkorn Lerkchaleampote   \n",
       "698935  tt21050062         2  nm7670169       0  Papangkorn Lerkchaleampote   \n",
       "\n",
       "        birthYear  deathYear  startYear                    genres  deatYear  \\\n",
       "0          1830.0       1904     1881.0         Documentary,Short    1904.0   \n",
       "1          1872.0       1901     1888.0         Documentary,Short    1901.0   \n",
       "2          1872.0       1943     1890.0         Documentary,Short    1943.0   \n",
       "3          1872.0       1943     1890.0                     Short    1943.0   \n",
       "4          1872.0       1943     1890.0                     Short    1943.0   \n",
       "...           ...        ...        ...                       ...       ...   \n",
       "698931     1992.0       2020     2022.0                     Drama    2020.0   \n",
       "698932     1937.0       2022     2022.0             Drama,Romance    2022.0   \n",
       "698933     1937.0       2022     2022.0             Drama,Romance    2022.0   \n",
       "698934     1996.0       2022     2022.0  Adventure,Drama,Thriller    2022.0   \n",
       "698935     1996.0       2022     2022.0  Adventure,Drama,Thriller    2022.0   \n",
       "\n",
       "        age_at_movie_start  averageRating  numVotes  exp_so_far  \\\n",
       "0                     51.0            5.2     462.0           0   \n",
       "1                     16.0            5.5    1333.0           0   \n",
       "2                     18.0            5.0    1508.0           0   \n",
       "3                     18.0            4.2     425.0           1   \n",
       "4                     18.0            4.8    1106.0           2   \n",
       "...                    ...            ...       ...         ...   \n",
       "698931                30.0            8.2      19.0           5   \n",
       "698932                85.0           10.0       5.0          16   \n",
       "698933                85.0           10.0       5.0          17   \n",
       "698934                26.0            8.0      57.0          13   \n",
       "698935                26.0            7.7      62.0          14   \n",
       "\n",
       "        drama_exp_so_far  action_exp_so_far  romance_exp_so_far  \\\n",
       "0                      0                  0                   0   \n",
       "1                      0                  0                   0   \n",
       "2                      0                  0                   0   \n",
       "3                      0                  0                   0   \n",
       "4                      0                  0                   0   \n",
       "...                  ...                ...                 ...   \n",
       "698931                 4                  0                   2   \n",
       "698932                 2                  9                   2   \n",
       "698933                 3                  9                   3   \n",
       "698934                13                  0                   1   \n",
       "698935                14                  0                   1   \n",
       "\n",
       "        comedy_exp_so_far  \n",
       "0                       0  \n",
       "1                       0  \n",
       "2                       0  \n",
       "3                       0  \n",
       "4                       0  \n",
       "...                   ...  \n",
       "698931                  0  \n",
       "698932                  4  \n",
       "698933                  4  \n",
       "698934                  1  \n",
       "698935                  1  \n",
       "\n",
       "[698936 rows x 18 columns]"
      ]
     },
     "execution_count": 3,
     "metadata": {},
     "output_type": "execute_result"
    }
   ],
   "source": [
    "# load data.\n",
    "movie_data = pd.read_csv(\"data/actor_movie_combi.csv\")\n",
    "movie_data.head(-10)"
   ]
  },
  {
   "cell_type": "code",
   "execution_count": null,
   "metadata": {},
   "outputs": [],
   "source": [
    "%%capture\n",
    "# pair-wise genre analysis\n",
    "# we are interested in popular genres here.\n",
    "target_genres = [\"Drama\", \"Comedy\", \"Crime\", \"Action\", \"Romance\", \"Family\", \"Adventure\", \"Mystery\", \"War\", \"Musical\", \"Thriller\"]\n",
    "corr_matrix = np.zeros((len(target_genres), len(target_genres)))\n",
    "\n",
    "# filter out movies with single genre.\n",
    "multiple_genres_movie = movie_data[movie_data[\"genres\"].str.contains(\",\")].reset_index()\n",
    "for i in range(len(multiple_genres_movie)):\n",
    "    for index1, first_genre in enumerate(target_genres):\n",
    "        for index2, second_genre in enumerate(target_genres):\n",
    "            if (first_genre != second_genre) and (first_genre in multiple_genres_movie[\"genres\"][i]) and (second_genre in multiple_genres_movie[\"genres\"][i]):\n",
    "                corr_matrix[index1, index2] += 1\n",
    "\n",
    "weight_matrix = [list(corr_matrix[genre_index, :]) for genre_index in range(len(target_genres))]\n",
    "rows = []\n",
    "for index1 in range(len(target_genres)):\n",
    "    for index2 in range(index1, len(target_genres)):\n",
    "        row = {\n",
    "            \"source\": target_genres[index1],\n",
    "            \"target\": target_genres[index2],\n",
    "            \"weight\": weight_matrix[index1][index2],\n",
    "        }\n",
    "        row = pd.DataFrame(data=row, index=[0])\n",
    "        rows.append(row)\n",
    "\n",
    "matrix = pd.concat(rows)\n",
    "\n",
    "# Initialize plot\n",
    "d3 = D3Blocks()\n",
    "\n",
    "# chord plot\n",
    "d3.chord(matrix);"
   ]
  },
  {
   "cell_type": "markdown",
   "metadata": {},
   "source": [
    "- 3. Correlation matrix of the background of actors (i.e., experience in each genre) to the genre of the movie he was filming."
   ]
  },
  {
   "cell_type": "code",
   "execution_count": 9,
   "metadata": {},
   "outputs": [
    {
     "data": {
      "text/html": [
       "<div>\n",
       "<style scoped>\n",
       "    .dataframe tbody tr th:only-of-type {\n",
       "        vertical-align: middle;\n",
       "    }\n",
       "\n",
       "    .dataframe tbody tr th {\n",
       "        vertical-align: top;\n",
       "    }\n",
       "\n",
       "    .dataframe thead th {\n",
       "        text-align: right;\n",
       "    }\n",
       "</style>\n",
       "<table border=\"1\" class=\"dataframe\">\n",
       "  <thead>\n",
       "    <tr style=\"text-align: right;\">\n",
       "      <th></th>\n",
       "      <th>Unnamed: 0</th>\n",
       "      <th>tconst</th>\n",
       "      <th>ordering</th>\n",
       "      <th>nconst</th>\n",
       "      <th>gender</th>\n",
       "      <th>primaryName</th>\n",
       "      <th>birthYear</th>\n",
       "      <th>deathYear</th>\n",
       "      <th>startYear</th>\n",
       "      <th>genres</th>\n",
       "      <th>...</th>\n",
       "      <th>comedy_exp_so_far</th>\n",
       "      <th>adventure_exp_so_far</th>\n",
       "      <th>crime_exp_so_far</th>\n",
       "      <th>war_exp_so_far</th>\n",
       "      <th>family_exp_so_far</th>\n",
       "      <th>mystery_exp_so_far</th>\n",
       "      <th>Drama</th>\n",
       "      <th>Action</th>\n",
       "      <th>Romance</th>\n",
       "      <th>Comedy</th>\n",
       "    </tr>\n",
       "  </thead>\n",
       "  <tbody>\n",
       "    <tr>\n",
       "      <th>0</th>\n",
       "      <td>0</td>\n",
       "      <td>tt0000009</td>\n",
       "      <td>3</td>\n",
       "      <td>nm1309758</td>\n",
       "      <td>0</td>\n",
       "      <td>Chauncey Depew</td>\n",
       "      <td>1834.0</td>\n",
       "      <td>1928</td>\n",
       "      <td>1894.0</td>\n",
       "      <td>Romance</td>\n",
       "      <td>...</td>\n",
       "      <td>0</td>\n",
       "      <td>0</td>\n",
       "      <td>0</td>\n",
       "      <td>0</td>\n",
       "      <td>0</td>\n",
       "      <td>0</td>\n",
       "      <td>0</td>\n",
       "      <td>0</td>\n",
       "      <td>1</td>\n",
       "      <td>0</td>\n",
       "    </tr>\n",
       "    <tr>\n",
       "      <th>1</th>\n",
       "      <td>1</td>\n",
       "      <td>tt0000009</td>\n",
       "      <td>1</td>\n",
       "      <td>nm0063086</td>\n",
       "      <td>1</td>\n",
       "      <td>Blanche Bayliss</td>\n",
       "      <td>1878.0</td>\n",
       "      <td>1951</td>\n",
       "      <td>1894.0</td>\n",
       "      <td>Romance</td>\n",
       "      <td>...</td>\n",
       "      <td>0</td>\n",
       "      <td>0</td>\n",
       "      <td>0</td>\n",
       "      <td>0</td>\n",
       "      <td>0</td>\n",
       "      <td>0</td>\n",
       "      <td>0</td>\n",
       "      <td>0</td>\n",
       "      <td>1</td>\n",
       "      <td>0</td>\n",
       "    </tr>\n",
       "    <tr>\n",
       "      <th>2</th>\n",
       "      <td>2</td>\n",
       "      <td>tt0000009</td>\n",
       "      <td>2</td>\n",
       "      <td>nm0183823</td>\n",
       "      <td>0</td>\n",
       "      <td>William Courtenay</td>\n",
       "      <td>1875.0</td>\n",
       "      <td>1933</td>\n",
       "      <td>1894.0</td>\n",
       "      <td>Romance</td>\n",
       "      <td>...</td>\n",
       "      <td>0</td>\n",
       "      <td>0</td>\n",
       "      <td>0</td>\n",
       "      <td>0</td>\n",
       "      <td>0</td>\n",
       "      <td>0</td>\n",
       "      <td>0</td>\n",
       "      <td>0</td>\n",
       "      <td>1</td>\n",
       "      <td>0</td>\n",
       "    </tr>\n",
       "    <tr>\n",
       "      <th>3</th>\n",
       "      <td>3</td>\n",
       "      <td>tt1666737</td>\n",
       "      <td>1</td>\n",
       "      <td>nm0525908</td>\n",
       "      <td>0</td>\n",
       "      <td>Auguste Lumière</td>\n",
       "      <td>1862.0</td>\n",
       "      <td>1954</td>\n",
       "      <td>1896.0</td>\n",
       "      <td>Action,Comedy,Family</td>\n",
       "      <td>...</td>\n",
       "      <td>2</td>\n",
       "      <td>0</td>\n",
       "      <td>0</td>\n",
       "      <td>0</td>\n",
       "      <td>1</td>\n",
       "      <td>0</td>\n",
       "      <td>0</td>\n",
       "      <td>1</td>\n",
       "      <td>0</td>\n",
       "      <td>1</td>\n",
       "    </tr>\n",
       "    <tr>\n",
       "      <th>4</th>\n",
       "      <td>4</td>\n",
       "      <td>tt0000211</td>\n",
       "      <td>1</td>\n",
       "      <td>nm0194945</td>\n",
       "      <td>1</td>\n",
       "      <td>Jehanne d'Alcy</td>\n",
       "      <td>1865.0</td>\n",
       "      <td>1956</td>\n",
       "      <td>1898.0</td>\n",
       "      <td>Comedy,Fantasy,Horror</td>\n",
       "      <td>...</td>\n",
       "      <td>1</td>\n",
       "      <td>0</td>\n",
       "      <td>0</td>\n",
       "      <td>0</td>\n",
       "      <td>0</td>\n",
       "      <td>0</td>\n",
       "      <td>0</td>\n",
       "      <td>0</td>\n",
       "      <td>0</td>\n",
       "      <td>1</td>\n",
       "    </tr>\n",
       "    <tr>\n",
       "      <th>...</th>\n",
       "      <td>...</td>\n",
       "      <td>...</td>\n",
       "      <td>...</td>\n",
       "      <td>...</td>\n",
       "      <td>...</td>\n",
       "      <td>...</td>\n",
       "      <td>...</td>\n",
       "      <td>...</td>\n",
       "      <td>...</td>\n",
       "      <td>...</td>\n",
       "      <td>...</td>\n",
       "      <td>...</td>\n",
       "      <td>...</td>\n",
       "      <td>...</td>\n",
       "      <td>...</td>\n",
       "      <td>...</td>\n",
       "      <td>...</td>\n",
       "      <td>...</td>\n",
       "      <td>...</td>\n",
       "      <td>...</td>\n",
       "      <td>...</td>\n",
       "    </tr>\n",
       "    <tr>\n",
       "      <th>468542</th>\n",
       "      <td>468542</td>\n",
       "      <td>tt18351130</td>\n",
       "      <td>3</td>\n",
       "      <td>nm0430074</td>\n",
       "      <td>0</td>\n",
       "      <td>Leslie Jordan</td>\n",
       "      <td>1955.0</td>\n",
       "      <td>2022</td>\n",
       "      <td>2022.0</td>\n",
       "      <td>Comedy</td>\n",
       "      <td>...</td>\n",
       "      <td>99</td>\n",
       "      <td>4</td>\n",
       "      <td>18</td>\n",
       "      <td>0</td>\n",
       "      <td>1</td>\n",
       "      <td>0</td>\n",
       "      <td>0</td>\n",
       "      <td>0</td>\n",
       "      <td>0</td>\n",
       "      <td>1</td>\n",
       "    </tr>\n",
       "    <tr>\n",
       "      <th>468543</th>\n",
       "      <td>468543</td>\n",
       "      <td>tt18561180</td>\n",
       "      <td>3</td>\n",
       "      <td>nm0430074</td>\n",
       "      <td>0</td>\n",
       "      <td>Leslie Jordan</td>\n",
       "      <td>1955.0</td>\n",
       "      <td>2022</td>\n",
       "      <td>2022.0</td>\n",
       "      <td>Comedy</td>\n",
       "      <td>...</td>\n",
       "      <td>100</td>\n",
       "      <td>4</td>\n",
       "      <td>18</td>\n",
       "      <td>0</td>\n",
       "      <td>1</td>\n",
       "      <td>0</td>\n",
       "      <td>0</td>\n",
       "      <td>0</td>\n",
       "      <td>0</td>\n",
       "      <td>1</td>\n",
       "    </tr>\n",
       "    <tr>\n",
       "      <th>468544</th>\n",
       "      <td>468544</td>\n",
       "      <td>tt18568804</td>\n",
       "      <td>3</td>\n",
       "      <td>nm0430074</td>\n",
       "      <td>0</td>\n",
       "      <td>Leslie Jordan</td>\n",
       "      <td>1955.0</td>\n",
       "      <td>2022</td>\n",
       "      <td>2022.0</td>\n",
       "      <td>Comedy</td>\n",
       "      <td>...</td>\n",
       "      <td>101</td>\n",
       "      <td>4</td>\n",
       "      <td>18</td>\n",
       "      <td>0</td>\n",
       "      <td>1</td>\n",
       "      <td>0</td>\n",
       "      <td>0</td>\n",
       "      <td>0</td>\n",
       "      <td>0</td>\n",
       "      <td>1</td>\n",
       "    </tr>\n",
       "    <tr>\n",
       "      <th>468545</th>\n",
       "      <td>468545</td>\n",
       "      <td>tt7728792</td>\n",
       "      <td>2</td>\n",
       "      <td>nm6074154</td>\n",
       "      <td>0</td>\n",
       "      <td>Harry Hains</td>\n",
       "      <td>1992.0</td>\n",
       "      <td>2020</td>\n",
       "      <td>2022.0</td>\n",
       "      <td>Drama</td>\n",
       "      <td>...</td>\n",
       "      <td>0</td>\n",
       "      <td>0</td>\n",
       "      <td>0</td>\n",
       "      <td>0</td>\n",
       "      <td>0</td>\n",
       "      <td>0</td>\n",
       "      <td>1</td>\n",
       "      <td>0</td>\n",
       "      <td>0</td>\n",
       "      <td>0</td>\n",
       "    </tr>\n",
       "    <tr>\n",
       "      <th>468546</th>\n",
       "      <td>468546</td>\n",
       "      <td>tt21045916</td>\n",
       "      <td>3</td>\n",
       "      <td>nm0582378</td>\n",
       "      <td>0</td>\n",
       "      <td>Sombat Metanee</td>\n",
       "      <td>1937.0</td>\n",
       "      <td>2022</td>\n",
       "      <td>2022.0</td>\n",
       "      <td>Drama,Romance</td>\n",
       "      <td>...</td>\n",
       "      <td>4</td>\n",
       "      <td>3</td>\n",
       "      <td>3</td>\n",
       "      <td>0</td>\n",
       "      <td>0</td>\n",
       "      <td>0</td>\n",
       "      <td>1</td>\n",
       "      <td>0</td>\n",
       "      <td>1</td>\n",
       "      <td>0</td>\n",
       "    </tr>\n",
       "  </tbody>\n",
       "</table>\n",
       "<p>468547 rows × 28 columns</p>\n",
       "</div>"
      ],
      "text/plain": [
       "        Unnamed: 0      tconst  ordering     nconst  gender  \\\n",
       "0                0   tt0000009         3  nm1309758       0   \n",
       "1                1   tt0000009         1  nm0063086       1   \n",
       "2                2   tt0000009         2  nm0183823       0   \n",
       "3                3   tt1666737         1  nm0525908       0   \n",
       "4                4   tt0000211         1  nm0194945       1   \n",
       "...            ...         ...       ...        ...     ...   \n",
       "468542      468542  tt18351130         3  nm0430074       0   \n",
       "468543      468543  tt18561180         3  nm0430074       0   \n",
       "468544      468544  tt18568804         3  nm0430074       0   \n",
       "468545      468545   tt7728792         2  nm6074154       0   \n",
       "468546      468546  tt21045916         3  nm0582378       0   \n",
       "\n",
       "              primaryName  birthYear  deathYear  startYear  \\\n",
       "0          Chauncey Depew     1834.0       1928     1894.0   \n",
       "1         Blanche Bayliss     1878.0       1951     1894.0   \n",
       "2       William Courtenay     1875.0       1933     1894.0   \n",
       "3         Auguste Lumière     1862.0       1954     1896.0   \n",
       "4          Jehanne d'Alcy     1865.0       1956     1898.0   \n",
       "...                   ...        ...        ...        ...   \n",
       "468542      Leslie Jordan     1955.0       2022     2022.0   \n",
       "468543      Leslie Jordan     1955.0       2022     2022.0   \n",
       "468544      Leslie Jordan     1955.0       2022     2022.0   \n",
       "468545        Harry Hains     1992.0       2020     2022.0   \n",
       "468546     Sombat Metanee     1937.0       2022     2022.0   \n",
       "\n",
       "                       genres  ...  comedy_exp_so_far  adventure_exp_so_far  \\\n",
       "0                     Romance  ...                  0                     0   \n",
       "1                     Romance  ...                  0                     0   \n",
       "2                     Romance  ...                  0                     0   \n",
       "3        Action,Comedy,Family  ...                  2                     0   \n",
       "4       Comedy,Fantasy,Horror  ...                  1                     0   \n",
       "...                       ...  ...                ...                   ...   \n",
       "468542                 Comedy  ...                 99                     4   \n",
       "468543                 Comedy  ...                100                     4   \n",
       "468544                 Comedy  ...                101                     4   \n",
       "468545                  Drama  ...                  0                     0   \n",
       "468546          Drama,Romance  ...                  4                     3   \n",
       "\n",
       "        crime_exp_so_far  war_exp_so_far  family_exp_so_far  \\\n",
       "0                      0               0                  0   \n",
       "1                      0               0                  0   \n",
       "2                      0               0                  0   \n",
       "3                      0               0                  1   \n",
       "4                      0               0                  0   \n",
       "...                  ...             ...                ...   \n",
       "468542                18               0                  1   \n",
       "468543                18               0                  1   \n",
       "468544                18               0                  1   \n",
       "468545                 0               0                  0   \n",
       "468546                 3               0                  0   \n",
       "\n",
       "        mystery_exp_so_far  Drama  Action  Romance  Comedy  \n",
       "0                        0      0       0        1       0  \n",
       "1                        0      0       0        1       0  \n",
       "2                        0      0       0        1       0  \n",
       "3                        0      0       1        0       1  \n",
       "4                        0      0       0        0       1  \n",
       "...                    ...    ...     ...      ...     ...  \n",
       "468542                   0      0       0        0       1  \n",
       "468543                   0      0       0        0       1  \n",
       "468544                   0      0       0        0       1  \n",
       "468545                   0      1       0        0       0  \n",
       "468546                   0      1       0        1       0  \n",
       "\n",
       "[468547 rows x 28 columns]"
      ]
     },
     "execution_count": 9,
     "metadata": {},
     "output_type": "execute_result"
    }
   ],
   "source": [
    "# load data\n",
    "movie_data = pd.read_csv(\"data/genre_experience_alive.csv\")\n",
    "movie_data.head(-5)"
   ]
  },
  {
   "cell_type": "code",
   "execution_count": 10,
   "metadata": {},
   "outputs": [],
   "source": [
    "genres = [\"Drama\", \"Action\", \"Romance\", \"Comedy\", \"Crime\", \"War\", \"Family\", \"Mystery\", \"Adventure\"]\n",
    "corr_before_ongoing_genres = []\n",
    "for genre in genres:\n",
    "    movie_data_par_genre = movie_data[movie_data[\"genres\"].str.contains(genre)]\n",
    "    corr = movie_data_par_genre[[\"drama_exp_so_far\", \"action_exp_so_far\", \"romance_exp_so_far\", \"comedy_exp_so_far\", \"crime_exp_so_far\", \"war_exp_so_far\", \"family_exp_so_far\", \"mystery_exp_so_far\", \"adventure_exp_so_far\"]].corr()\n",
    "    corr_before_ongoing_genres.append(list(corr.loc[f\"{genre.lower()}_exp_so_far\"]))"
   ]
  },
  {
   "cell_type": "code",
   "execution_count": 12,
   "metadata": {},
   "outputs": [
    {
     "data": {
      "application/vnd.plotly.v1+json": {
       "config": {
        "plotlyServerURL": "https://plot.ly"
       },
       "data": [
        {
         "coloraxis": "coloraxis",
         "hovertemplate": "Actor's experience in each genre: %{x}<br>Genre of the movie: %{y}<br>correlation: %{z}<extra></extra>",
         "name": "0",
         "type": "heatmap",
         "x": [
          "Drama",
          "Action",
          "Romance",
          "Comedy",
          "Crime",
          "War",
          "Family",
          "Mystery",
          "Adventure"
         ],
         "xaxis": "x",
         "y": [
          "Drama",
          "Action",
          "Romance",
          "Comedy",
          "Crime",
          "War",
          "Family",
          "Mystery",
          "Adventure"
         ],
         "yaxis": "y",
         "z": [
          [
           1,
           0.33122421638616023,
           0.3475828366072777,
           0.4148992625300694,
           0.6604587195636393,
           0.14133254010769872,
           0.33219610937447064,
           0.5027843235441387,
           0.20606383437411466
          ],
          [
           0.4741118747804988,
           1,
           0.01053863903995987,
           0.23217147187192408,
           0.5987133526364763,
           0.12570959619981595,
           0.12328133616806136,
           0.11397715346952726,
           0.6184896628581387
          ],
          [
           0.8236204855536398,
           0.11494900241236616,
           1,
           0.632892937004162,
           0.1359947922914056,
           -0.0034836157456953044,
           0.3676120963548429,
           0.07908826734728817,
           0.1128029158785875
          ],
          [
           0.3730353223014378,
           0.11369746914139921,
           0.2401741930318785,
           1,
           0.15588788511153553,
           0.13275332471803414,
           0.6801294674909604,
           0.06305040564199375,
           0.22890046326547991
          ],
          [
           0.8846562253451029,
           0.44165176242838977,
           -0.006058996049774071,
           0.22957554444595246,
           1,
           0.0308397767775995,
           0.10174359108917386,
           0.681437001920402,
           0.24807140518409967
          ],
          [
           0.36844618736749013,
           0.29529179132362554,
           -0.058924408513469556,
           0.845752045671422,
           0.2173273816304083,
           1,
           0.0548316411922916,
           0.2524935933654927,
           -0.0008633623135779832
          ],
          [
           0.38488715960402764,
           -0.031937918180135694,
           0.1446580408600858,
           0.9115411809273072,
           -0.0019973693265406853,
           0.004101243642707427,
           1,
           0.0013848822677645497,
           0.0678153487461702
          ],
          [
           0.9121246680780766,
           0.11440378403020855,
           -0.018520361346195547,
           0.11987139619421923,
           0.9423080886524384,
           0.019688767643799145,
           0.12179899575703244,
           1,
           0.07091479513411612
          ],
          [
           0.44659504798448596,
           0.8313586976381103,
           0.06910865780858665,
           0.36916441844381265,
           0.47258713532653407,
           0.03250330094871031,
           0.33071291127388797,
           0.132987153283678,
           1
          ]
         ]
        }
       ],
       "layout": {
        "coloraxis": {
         "colorbar": {
          "title": {
           "text": "correlation"
          }
         },
         "colorscale": [
          [
           0,
           "#fee838"
          ],
          [
           0.1111111111111111,
           "#e1cc55"
          ],
          [
           0.2222222222222222,
           "#c3b369"
          ],
          [
           0.3333333333333333,
           "#a59c74"
          ],
          [
           0.4444444444444444,
           "#8a8678"
          ],
          [
           0.5555555555555556,
           "#707173"
          ],
          [
           0.6666666666666666,
           "#575d6d"
          ],
          [
           0.7777777777777778,
           "#3b496c"
          ],
          [
           0.8888888888888888,
           "#123570"
          ],
          [
           1,
           "#00224e"
          ]
         ]
        },
        "margin": {
         "t": 60
        },
        "template": {
         "data": {
          "bar": [
           {
            "error_x": {
             "color": "#2a3f5f"
            },
            "error_y": {
             "color": "#2a3f5f"
            },
            "marker": {
             "line": {
              "color": "#E5ECF6",
              "width": 0.5
             },
             "pattern": {
              "fillmode": "overlay",
              "size": 10,
              "solidity": 0.2
             }
            },
            "type": "bar"
           }
          ],
          "barpolar": [
           {
            "marker": {
             "line": {
              "color": "#E5ECF6",
              "width": 0.5
             },
             "pattern": {
              "fillmode": "overlay",
              "size": 10,
              "solidity": 0.2
             }
            },
            "type": "barpolar"
           }
          ],
          "carpet": [
           {
            "aaxis": {
             "endlinecolor": "#2a3f5f",
             "gridcolor": "white",
             "linecolor": "white",
             "minorgridcolor": "white",
             "startlinecolor": "#2a3f5f"
            },
            "baxis": {
             "endlinecolor": "#2a3f5f",
             "gridcolor": "white",
             "linecolor": "white",
             "minorgridcolor": "white",
             "startlinecolor": "#2a3f5f"
            },
            "type": "carpet"
           }
          ],
          "choropleth": [
           {
            "colorbar": {
             "outlinewidth": 0,
             "ticks": ""
            },
            "type": "choropleth"
           }
          ],
          "contour": [
           {
            "colorbar": {
             "outlinewidth": 0,
             "ticks": ""
            },
            "colorscale": [
             [
              0,
              "#0d0887"
             ],
             [
              0.1111111111111111,
              "#46039f"
             ],
             [
              0.2222222222222222,
              "#7201a8"
             ],
             [
              0.3333333333333333,
              "#9c179e"
             ],
             [
              0.4444444444444444,
              "#bd3786"
             ],
             [
              0.5555555555555556,
              "#d8576b"
             ],
             [
              0.6666666666666666,
              "#ed7953"
             ],
             [
              0.7777777777777778,
              "#fb9f3a"
             ],
             [
              0.8888888888888888,
              "#fdca26"
             ],
             [
              1,
              "#f0f921"
             ]
            ],
            "type": "contour"
           }
          ],
          "contourcarpet": [
           {
            "colorbar": {
             "outlinewidth": 0,
             "ticks": ""
            },
            "type": "contourcarpet"
           }
          ],
          "heatmap": [
           {
            "colorbar": {
             "outlinewidth": 0,
             "ticks": ""
            },
            "colorscale": [
             [
              0,
              "#0d0887"
             ],
             [
              0.1111111111111111,
              "#46039f"
             ],
             [
              0.2222222222222222,
              "#7201a8"
             ],
             [
              0.3333333333333333,
              "#9c179e"
             ],
             [
              0.4444444444444444,
              "#bd3786"
             ],
             [
              0.5555555555555556,
              "#d8576b"
             ],
             [
              0.6666666666666666,
              "#ed7953"
             ],
             [
              0.7777777777777778,
              "#fb9f3a"
             ],
             [
              0.8888888888888888,
              "#fdca26"
             ],
             [
              1,
              "#f0f921"
             ]
            ],
            "type": "heatmap"
           }
          ],
          "heatmapgl": [
           {
            "colorbar": {
             "outlinewidth": 0,
             "ticks": ""
            },
            "colorscale": [
             [
              0,
              "#0d0887"
             ],
             [
              0.1111111111111111,
              "#46039f"
             ],
             [
              0.2222222222222222,
              "#7201a8"
             ],
             [
              0.3333333333333333,
              "#9c179e"
             ],
             [
              0.4444444444444444,
              "#bd3786"
             ],
             [
              0.5555555555555556,
              "#d8576b"
             ],
             [
              0.6666666666666666,
              "#ed7953"
             ],
             [
              0.7777777777777778,
              "#fb9f3a"
             ],
             [
              0.8888888888888888,
              "#fdca26"
             ],
             [
              1,
              "#f0f921"
             ]
            ],
            "type": "heatmapgl"
           }
          ],
          "histogram": [
           {
            "marker": {
             "pattern": {
              "fillmode": "overlay",
              "size": 10,
              "solidity": 0.2
             }
            },
            "type": "histogram"
           }
          ],
          "histogram2d": [
           {
            "colorbar": {
             "outlinewidth": 0,
             "ticks": ""
            },
            "colorscale": [
             [
              0,
              "#0d0887"
             ],
             [
              0.1111111111111111,
              "#46039f"
             ],
             [
              0.2222222222222222,
              "#7201a8"
             ],
             [
              0.3333333333333333,
              "#9c179e"
             ],
             [
              0.4444444444444444,
              "#bd3786"
             ],
             [
              0.5555555555555556,
              "#d8576b"
             ],
             [
              0.6666666666666666,
              "#ed7953"
             ],
             [
              0.7777777777777778,
              "#fb9f3a"
             ],
             [
              0.8888888888888888,
              "#fdca26"
             ],
             [
              1,
              "#f0f921"
             ]
            ],
            "type": "histogram2d"
           }
          ],
          "histogram2dcontour": [
           {
            "colorbar": {
             "outlinewidth": 0,
             "ticks": ""
            },
            "colorscale": [
             [
              0,
              "#0d0887"
             ],
             [
              0.1111111111111111,
              "#46039f"
             ],
             [
              0.2222222222222222,
              "#7201a8"
             ],
             [
              0.3333333333333333,
              "#9c179e"
             ],
             [
              0.4444444444444444,
              "#bd3786"
             ],
             [
              0.5555555555555556,
              "#d8576b"
             ],
             [
              0.6666666666666666,
              "#ed7953"
             ],
             [
              0.7777777777777778,
              "#fb9f3a"
             ],
             [
              0.8888888888888888,
              "#fdca26"
             ],
             [
              1,
              "#f0f921"
             ]
            ],
            "type": "histogram2dcontour"
           }
          ],
          "mesh3d": [
           {
            "colorbar": {
             "outlinewidth": 0,
             "ticks": ""
            },
            "type": "mesh3d"
           }
          ],
          "parcoords": [
           {
            "line": {
             "colorbar": {
              "outlinewidth": 0,
              "ticks": ""
             }
            },
            "type": "parcoords"
           }
          ],
          "pie": [
           {
            "automargin": true,
            "type": "pie"
           }
          ],
          "scatter": [
           {
            "fillpattern": {
             "fillmode": "overlay",
             "size": 10,
             "solidity": 0.2
            },
            "type": "scatter"
           }
          ],
          "scatter3d": [
           {
            "line": {
             "colorbar": {
              "outlinewidth": 0,
              "ticks": ""
             }
            },
            "marker": {
             "colorbar": {
              "outlinewidth": 0,
              "ticks": ""
             }
            },
            "type": "scatter3d"
           }
          ],
          "scattercarpet": [
           {
            "marker": {
             "colorbar": {
              "outlinewidth": 0,
              "ticks": ""
             }
            },
            "type": "scattercarpet"
           }
          ],
          "scattergeo": [
           {
            "marker": {
             "colorbar": {
              "outlinewidth": 0,
              "ticks": ""
             }
            },
            "type": "scattergeo"
           }
          ],
          "scattergl": [
           {
            "marker": {
             "colorbar": {
              "outlinewidth": 0,
              "ticks": ""
             }
            },
            "type": "scattergl"
           }
          ],
          "scattermapbox": [
           {
            "marker": {
             "colorbar": {
              "outlinewidth": 0,
              "ticks": ""
             }
            },
            "type": "scattermapbox"
           }
          ],
          "scatterpolar": [
           {
            "marker": {
             "colorbar": {
              "outlinewidth": 0,
              "ticks": ""
             }
            },
            "type": "scatterpolar"
           }
          ],
          "scatterpolargl": [
           {
            "marker": {
             "colorbar": {
              "outlinewidth": 0,
              "ticks": ""
             }
            },
            "type": "scatterpolargl"
           }
          ],
          "scatterternary": [
           {
            "marker": {
             "colorbar": {
              "outlinewidth": 0,
              "ticks": ""
             }
            },
            "type": "scatterternary"
           }
          ],
          "surface": [
           {
            "colorbar": {
             "outlinewidth": 0,
             "ticks": ""
            },
            "colorscale": [
             [
              0,
              "#0d0887"
             ],
             [
              0.1111111111111111,
              "#46039f"
             ],
             [
              0.2222222222222222,
              "#7201a8"
             ],
             [
              0.3333333333333333,
              "#9c179e"
             ],
             [
              0.4444444444444444,
              "#bd3786"
             ],
             [
              0.5555555555555556,
              "#d8576b"
             ],
             [
              0.6666666666666666,
              "#ed7953"
             ],
             [
              0.7777777777777778,
              "#fb9f3a"
             ],
             [
              0.8888888888888888,
              "#fdca26"
             ],
             [
              1,
              "#f0f921"
             ]
            ],
            "type": "surface"
           }
          ],
          "table": [
           {
            "cells": {
             "fill": {
              "color": "#EBF0F8"
             },
             "line": {
              "color": "white"
             }
            },
            "header": {
             "fill": {
              "color": "#C8D4E3"
             },
             "line": {
              "color": "white"
             }
            },
            "type": "table"
           }
          ]
         },
         "layout": {
          "annotationdefaults": {
           "arrowcolor": "#2a3f5f",
           "arrowhead": 0,
           "arrowwidth": 1
          },
          "autotypenumbers": "strict",
          "coloraxis": {
           "colorbar": {
            "outlinewidth": 0,
            "ticks": ""
           }
          },
          "colorscale": {
           "diverging": [
            [
             0,
             "#8e0152"
            ],
            [
             0.1,
             "#c51b7d"
            ],
            [
             0.2,
             "#de77ae"
            ],
            [
             0.3,
             "#f1b6da"
            ],
            [
             0.4,
             "#fde0ef"
            ],
            [
             0.5,
             "#f7f7f7"
            ],
            [
             0.6,
             "#e6f5d0"
            ],
            [
             0.7,
             "#b8e186"
            ],
            [
             0.8,
             "#7fbc41"
            ],
            [
             0.9,
             "#4d9221"
            ],
            [
             1,
             "#276419"
            ]
           ],
           "sequential": [
            [
             0,
             "#0d0887"
            ],
            [
             0.1111111111111111,
             "#46039f"
            ],
            [
             0.2222222222222222,
             "#7201a8"
            ],
            [
             0.3333333333333333,
             "#9c179e"
            ],
            [
             0.4444444444444444,
             "#bd3786"
            ],
            [
             0.5555555555555556,
             "#d8576b"
            ],
            [
             0.6666666666666666,
             "#ed7953"
            ],
            [
             0.7777777777777778,
             "#fb9f3a"
            ],
            [
             0.8888888888888888,
             "#fdca26"
            ],
            [
             1,
             "#f0f921"
            ]
           ],
           "sequentialminus": [
            [
             0,
             "#0d0887"
            ],
            [
             0.1111111111111111,
             "#46039f"
            ],
            [
             0.2222222222222222,
             "#7201a8"
            ],
            [
             0.3333333333333333,
             "#9c179e"
            ],
            [
             0.4444444444444444,
             "#bd3786"
            ],
            [
             0.5555555555555556,
             "#d8576b"
            ],
            [
             0.6666666666666666,
             "#ed7953"
            ],
            [
             0.7777777777777778,
             "#fb9f3a"
            ],
            [
             0.8888888888888888,
             "#fdca26"
            ],
            [
             1,
             "#f0f921"
            ]
           ]
          },
          "colorway": [
           "#636efa",
           "#EF553B",
           "#00cc96",
           "#ab63fa",
           "#FFA15A",
           "#19d3f3",
           "#FF6692",
           "#B6E880",
           "#FF97FF",
           "#FECB52"
          ],
          "font": {
           "color": "#2a3f5f"
          },
          "geo": {
           "bgcolor": "white",
           "lakecolor": "white",
           "landcolor": "#E5ECF6",
           "showlakes": true,
           "showland": true,
           "subunitcolor": "white"
          },
          "hoverlabel": {
           "align": "left"
          },
          "hovermode": "closest",
          "mapbox": {
           "style": "light"
          },
          "paper_bgcolor": "white",
          "plot_bgcolor": "#E5ECF6",
          "polar": {
           "angularaxis": {
            "gridcolor": "white",
            "linecolor": "white",
            "ticks": ""
           },
           "bgcolor": "#E5ECF6",
           "radialaxis": {
            "gridcolor": "white",
            "linecolor": "white",
            "ticks": ""
           }
          },
          "scene": {
           "xaxis": {
            "backgroundcolor": "#E5ECF6",
            "gridcolor": "white",
            "gridwidth": 2,
            "linecolor": "white",
            "showbackground": true,
            "ticks": "",
            "zerolinecolor": "white"
           },
           "yaxis": {
            "backgroundcolor": "#E5ECF6",
            "gridcolor": "white",
            "gridwidth": 2,
            "linecolor": "white",
            "showbackground": true,
            "ticks": "",
            "zerolinecolor": "white"
           },
           "zaxis": {
            "backgroundcolor": "#E5ECF6",
            "gridcolor": "white",
            "gridwidth": 2,
            "linecolor": "white",
            "showbackground": true,
            "ticks": "",
            "zerolinecolor": "white"
           }
          },
          "shapedefaults": {
           "line": {
            "color": "#2a3f5f"
           }
          },
          "ternary": {
           "aaxis": {
            "gridcolor": "white",
            "linecolor": "white",
            "ticks": ""
           },
           "baxis": {
            "gridcolor": "white",
            "linecolor": "white",
            "ticks": ""
           },
           "bgcolor": "#E5ECF6",
           "caxis": {
            "gridcolor": "white",
            "linecolor": "white",
            "ticks": ""
           }
          },
          "title": {
           "x": 0.05
          },
          "xaxis": {
           "automargin": true,
           "gridcolor": "white",
           "linecolor": "white",
           "ticks": "",
           "title": {
            "standoff": 15
           },
           "zerolinecolor": "white",
           "zerolinewidth": 2
          },
          "yaxis": {
           "automargin": true,
           "gridcolor": "white",
           "linecolor": "white",
           "ticks": "",
           "title": {
            "standoff": 15
           },
           "zerolinecolor": "white",
           "zerolinewidth": 2
          }
         }
        },
        "xaxis": {
         "anchor": "y",
         "constrain": "domain",
         "domain": [
          0,
          1
         ],
         "scaleanchor": "y",
         "side": "top",
         "title": {
          "text": "Actor's experience in each genre"
         }
        },
        "yaxis": {
         "anchor": "x",
         "autorange": "reversed",
         "constrain": "domain",
         "domain": [
          0,
          1
         ],
         "title": {
          "text": "Genre of the movie"
         }
        }
       }
      }
     },
     "metadata": {},
     "output_type": "display_data"
    }
   ],
   "source": [
    "# plot.\n",
    "fig = px.imshow(corr_before_ongoing_genres,\n",
    "                labels=dict(x=\"Actor's experience in each genre\", y=\"Genre of the movie\", color=\"correlation\"),\n",
    "                x=['Drama', 'Action', 'Romance', 'Comedy', 'Crime', 'War', 'Family', 'Mystery', 'Adventure'],\n",
    "                y=['Drama', 'Action', 'Romance', 'Comedy', 'Crime', 'War', 'Family', 'Mystery', 'Adventure'],\n",
    "                color_continuous_scale=px.colors.sequential.Cividis_r\n",
    "               )\n",
    "fig.update_xaxes(side=\"top\")\n",
    "fig.show()\n",
    "# fig.write_html(\"./data/correlation_map.html\")"
   ]
  },
  {
   "attachments": {},
   "cell_type": "markdown",
   "metadata": {},
   "source": [
    "# Section 3: Analysis of actors' features over time"
   ]
  },
  {
   "cell_type": "code",
   "execution_count": 65,
   "metadata": {},
   "outputs": [],
   "source": [
    "movies_actor = pd.read_csv(\"data/actor_movie_combi.csv\")"
   ]
  },
  {
   "attachments": {},
   "cell_type": "markdown",
   "metadata": {},
   "source": [
    "A confounder to consider: Actor experience and audience preference\n",
    "\n",
    "The preferences of moviegoers can change over time. What may have been popular in one era may not be as popular in another. It’s important to consider how audience preferences may have changed over the different time periods we are analyzing. So let's see what we can find. We will divide our data into subgroups that depend on time periods (think baby boomer era vs gen Z era for example) to reduce the impact of the previously considered confounders; movies in the same time-period are much more likely to be made using similar technology and during comparable economic conditions. We can see how audience preference shifts through time by seeing how the top movies genres vary through time and which genres did actors gain most experience in\n",
    "\n",
    "\n",
    "    Greatest Generation (born circa 1901 to 1924)\n",
    "    Silent Generation (circa 1925 to 1945)\n",
    "    Baby Boomers (circa 1946 to 1964)\n",
    "    Generation X (circa 1965 to 1985)\n",
    "    Millennial Generation (circa 1985 to 1996)\n",
    "    Gen Z (post-Millennial) (circa 1997 to 2012)\n"
   ]
  },
  {
   "cell_type": "code",
   "execution_count": 7,
   "metadata": {},
   "outputs": [],
   "source": [
    "greatest = movies_actor.loc[movies_actor[\"startYear\"] <= 1924]\n",
    "\n",
    "silent = movies_actor.loc[movies_actor[\"startYear\"] >= 1925]\n",
    "silent = silent.loc[silent[\"startYear\"] <= 1945]\n",
    "\n",
    "baby_boomers = movies_actor.loc[movies_actor[\"startYear\"] >= 1945] \n",
    "baby_boomers = baby_boomers.loc[baby_boomers[\"startYear\"] <= 1964]\n",
    "\n",
    "boomers = movies_actor[movies_actor[\"startYear\"] >= 1965]\n",
    "boomers = boomers.loc[boomers[\"startYear\"] <= 1985]\n",
    "\n",
    "millennial = movies_actor[movies_actor[\"startYear\"] >= 1986]\n",
    "millennial = millennial.loc[millennial[\"startYear\"] <= 1996]\n",
    "\n",
    "gen_z = movies_actor[movies_actor[\"startYear\"] >= 1997]\n",
    "gen_z = gen_z[gen_z[\"startYear\"] <= 2012]\n",
    "\n",
    "gen_x = movies_actor[movies_actor[\"startYear\"] >= 2013]"
   ]
  },
  {
   "cell_type": "code",
   "execution_count": null,
   "metadata": {},
   "outputs": [],
   "source": [
    "all_data = [greatest, silent, baby_boomers, boomers, millennial, gen_z, gen_x]\n",
    "labels = [\"greatest_generation\", \"silent_generation\", \"baby_boomers\", \"boomers\", \"millennial\", \"gen_z\", \"gen_x\"]"
   ]
  },
  {
   "cell_type": "code",
   "execution_count": 9,
   "metadata": {},
   "outputs": [
    {
     "data": {
      "image/png": "[encoded data removed]",
      "text/plain": [
       "<Figure size 640x480 with 1 Axes>"
      ]
     },
     "metadata": {},
     "output_type": "display_data"
    }
   ],
   "source": [
    "# Now we define the code to apply to every generation\n",
    "def construct_top_genres(data, labelIndex):\n",
    "    g = data[\"genres\"].apply(lambda x: x.split(\",\"))\n",
    "    g = [item for sublist in g for item in sublist]\n",
    "    from collections import Counter\n",
    "    counts = Counter(g)\n",
    "    x, y = [], []\n",
    "    totalMovies = data[\"tconst\"].count().sum()\n",
    "    for key, val in counts.items():\n",
    "        x.append(key)\n",
    "        y.append(val/totalMovies)\n",
    "        \n",
    "    plt.bar(x, y, label=labels[labelIndex])\n",
    "    plt.xticks(rotation=90)\n",
    "    plt.legend()\n",
    "\n",
    "for i, dataset in enumerate(all_data):\n",
    "    construct_top_genres(dataset, i)"
   ]
  },
  {
   "attachments": {},
   "cell_type": "markdown",
   "metadata": {},
   "source": [
    "Gen_X sees a boom in the multitude of genres per movie released. In earlier years, there was less genres per movie on average. Let's see if that's true"
   ]
  },
  {
   "cell_type": "code",
   "execution_count": 67,
   "metadata": {},
   "outputs": [
    {
     "name": "stdout",
     "output_type": "stream",
     "text": [
      "The average number of genres per movie for greatest_generation is 1.87\n",
      "The variance of the number of genres per movie for greatest_generation is 0.45 \n",
      "\n",
      "The average number of genres per movie for silent_generation is 1.97\n",
      "The variance of the number of genres per movie for silent_generation is 0.70 \n",
      "\n",
      "The average number of genres per movie for baby_boomers is 1.84\n",
      "The variance of the number of genres per movie for baby_boomers is 0.69 \n",
      "\n",
      "The average number of genres per movie for boomers is 1.97\n",
      "The variance of the number of genres per movie for boomers is 0.73 \n",
      "\n",
      "The average number of genres per movie for millennial is 2.03\n",
      "The variance of the number of genres per movie for millennial is 0.74 \n",
      "\n",
      "The average number of genres per movie for gen_z is 2.12\n",
      "The variance of the number of genres per movie for gen_z is 0.74 \n",
      "\n",
      "The average number of genres per movie for gen_x is 2.20\n",
      "The variance of the number of genres per movie for gen_x is 0.70 \n",
      "\n"
     ]
    },
    {
     "data": {
      "text/plain": [
       "<matplotlib.legend.Legend at 0x29a4e1a3d30>"
      ]
     },
     "execution_count": 67,
     "metadata": {},
     "output_type": "execute_result"
    },
    {
     "data": {
      "image/png": "[encoded data removed]",
      "text/plain": [
       "<Figure size 640x480 with 1 Axes>"
      ]
     },
     "metadata": {},
     "output_type": "display_data"
    }
   ],
   "source": [
    "def find_mean_and_variance(data, labelIndex):\n",
    "    l = data[\"genres\"].apply(lambda x: len(x.split(\",\"))).sum()\n",
    "    numMovies = data[\"tconst\"].count()\n",
    "\n",
    "    average = l / numMovies\n",
    "    averages.append(average)\n",
    "    variance = np.var(data[\"genres\"].apply(lambda x: len(x.split(\",\"))))\n",
    "    variances.append(variance)\n",
    "    print(f\"The average number of genres per movie for {labels[i]} is {average:.2f}\")\n",
    "    print(f\"The variance of the number of genres per movie for {labels[i]} is {variance:.2f} \\n\")\n",
    "\n",
    "averages = []\n",
    "variances = []\n",
    "for i, dataset in enumerate(all_data):\n",
    "    find_mean_and_variance(dataset, i)\n",
    "\n",
    "plt.plot(labels, averages, label='Mean')\n",
    "plt.plot(labels, variances, label='Variance')\n",
    "plt.xlabel(\"Generation\")\n",
    "plt.ylabel(\"Value\")\n",
    "plt.title(\"Moving mean and variance of the average number of genres per movie over the eras\")\n",
    "plt.xticks(rotation=90)\n",
    "plt.legend()"
   ]
  },
  {
   "attachments": {},
   "cell_type": "markdown",
   "metadata": {},
   "source": [
    "## Visualise actor feature change over generations for each genre\n",
    "Since weighting the average with any success metrics does not really matter, we are not considering a movie success metric for the following visuals. This means that we cannot say that those are the profiles of successfull actors."
   ]
  },
  {
   "cell_type": "code",
   "execution_count": 62,
   "metadata": {},
   "outputs": [],
   "source": [
    "movies_actor = pd.read_csv(\"data/actor_movie_combi_alive.csv\")"
   ]
  },
  {
   "attachments": {},
   "cell_type": "markdown",
   "metadata": {},
   "source": [
    "Gen_X sees a boom in the multitude of genres per movie released. In earlier years, there was less genres per movie on average. Let's see if that's true"
   ]
  },
  {
   "cell_type": "code",
   "execution_count": 16,
   "metadata": {},
   "outputs": [
    {
     "data": {
      "text/plain": [
       "<matplotlib.legend.Legend at 0x2998a2a8940>"
      ]
     },
     "execution_count": 16,
     "metadata": {},
     "output_type": "execute_result"
    },
    {
     "data": {
      "image/png": "[encoded data removed]",
      "text/plain": [
       "<Figure size 640x480 with 1 Axes>"
      ]
     },
     "metadata": {},
     "output_type": "display_data"
    }
   ],
   "source": [
    "def find_mean_and_variance(data, labelIndex):\n",
    "    l = data[\"genres\"].apply(lambda x: len(x.split(\",\"))).sum()\n",
    "    numMovies = data[\"tconst\"].count()\n",
    "\n",
    "    average = l / numMovies\n",
    "    averages.append(average)\n",
    "    variance = np.var(data[\"genres\"].apply(lambda x: len(x.split(\",\"))))\n",
    "    variances.append(variance)\n",
    "    #print(f\"The average number of genres per movie for {labels[i]} is {average:.2f}\")\n",
    "    #print(f\"The variance of the number of genres per movie for {labels[i]} is {variance:.2f} \\n\")\n",
    "\n",
    "averages = []\n",
    "variances = []\n",
    "for i, dataset in enumerate(all_data):\n",
    "    find_mean_and_variance(dataset, i)\n",
    "\n",
    "plt.plot(labels, averages, 'or')\n",
    "plt.plot(labels, averages, label='Mean')\n",
    "plt.fill_between(labels, averages - np.array(variances)/2, averages + np.array(variances)/2,color='gray', alpha=0.2)\n",
    "plt.plot(labels, variances, label='Variance')\n",
    "plt.xlabel(\"Generation\")\n",
    "plt.ylabel(\"Value\")\n",
    "plt.title(\"Moving mean and variance of the average number of genres per movie over the eras\")\n",
    "plt.xticks(rotation=90)\n",
    "plt.legend()"
   ]
  },
  {
   "attachments": {},
   "cell_type": "markdown",
   "metadata": {},
   "source": [
    "Let's look at the average actor experience of actors per era"
   ]
  },
  {
   "cell_type": "code",
   "execution_count": 19,
   "metadata": {},
   "outputs": [
    {
     "data": {
      "text/plain": [
       "([0, 1, 2, 3, 4, 5, 6],\n",
       " [Text(0, 0, ''),\n",
       "  Text(0, 0, ''),\n",
       "  Text(0, 0, ''),\n",
       "  Text(0, 0, ''),\n",
       "  Text(0, 0, ''),\n",
       "  Text(0, 0, ''),\n",
       "  Text(0, 0, '')])"
      ]
     },
     "execution_count": 19,
     "metadata": {},
     "output_type": "execute_result"
    },
    {
     "data": {
      "image/png": "[encoded data removed]",
      "text/plain": [
       "<Figure size 640x480 with 1 Axes>"
      ]
     },
     "metadata": {},
     "output_type": "display_data"
    }
   ],
   "source": [
    "def plot_experience(data, labelIndex, key=\"exp_so_far\"):\n",
    "    total_exp = data[key].sum()\n",
    "    total = data.size\n",
    "    val = total_exp / total\n",
    "    if key == \"exp_so_far\":\n",
    "        avg.append(val)\n",
    "    if key == \"Drama_exp_so_far\":\n",
    "        drama_avg.append(val)\n",
    "    if key == \"Romance_exp_so_far\":\n",
    "        romance_avg.append(val)\n",
    "    if key == \"Action_exp_so_far\":\n",
    "        action_avg.append(val)\n",
    "    if key == \"Comedy_exp_so_far\":\n",
    "        comedy_avg.append(val)\n",
    "\n",
    "avg = []\n",
    "drama_avg = []\n",
    "romance_avg = []\n",
    "comedy_avg = []\n",
    "action_avg = []\n",
    "\n",
    "for i, dataset in enumerate(all_data):\n",
    "    plot_experience(dataset, i)\n",
    "    plot_experience(dataset, i, \"Drama_exp_so_far\")\n",
    "    plot_experience(dataset, i, \"Action_exp_so_far\")\n",
    "    plot_experience(dataset, i, \"Comedy_exp_so_far\")\n",
    "    plot_experience(dataset, i, \"Romance_exp_so_far\")\n",
    "\n",
    "plt.plot(labels, avg) \n",
    "plt.title(\"Average Actor Movie Experience Before Movie Start\")\n",
    "plt.ylabel(\"Average number of movies actors starred in\")\n",
    "plt.xlabel(\"Era\")\n",
    "plt.xticks(rotation=90)"
   ]
  },
  {
   "cell_type": "code",
   "execution_count": 20,
   "metadata": {},
   "outputs": [
    {
     "data": {
      "image/png": "[encoded data removed]",
      "text/plain": [
       "<Figure size 640x480 with 4 Axes>"
      ]
     },
     "metadata": {},
     "output_type": "display_data"
    }
   ],
   "source": [
    "# Now lets look at every genre per area\n",
    "fig, axs = plt.subplots(2, 2, sharex=True, sharey=True)\n",
    "\n",
    "axs[0, 0].plot(labels, comedy_avg)\n",
    "axs[0, 0].set_title('Comedy Experience')\n",
    "axs[0, 1].plot(labels, action_avg, 'tab:orange')\n",
    "axs[0, 1].set_title('Action Experience')\n",
    "axs[1, 0].plot(labels, romance_avg, 'tab:green')\n",
    "axs[1, 0].set_title('Romance Experience')\n",
    "axs[1, 1].plot(labels, drama_avg, 'tab:red')\n",
    "axs[1, 1].set_title('Drama Experience')\n",
    "\n",
    "axs[0,0].tick_params(axis='x', rotation= 90)\n",
    "axs[0,1].tick_params(axis='x', rotation= 90)\n",
    "axs[1,0].tick_params(axis='x', rotation= 90)\n",
    "axs[1,1].tick_params(axis='x', rotation= 90)\n",
    "\n",
    "\n",
    "# Hide x labels and tick labels for top plots and y ticks for right plots.\n",
    "for ax in axs.flat:\n",
    "    ax.label_outer()\n"
   ]
  },
  {
   "attachments": {},
   "cell_type": "markdown",
   "metadata": {},
   "source": [
    "Do more experienced actors/actresses tend to star in certain genres more frequently?"
   ]
  },
  {
   "cell_type": "code",
   "execution_count": 22,
   "metadata": {},
   "outputs": [
    {
     "name": "stdout",
     "output_type": "stream",
     "text": [
      "The top 1000 actor in the earliest generation has 4 movies under his belt.\n",
      "The top 1000 actor in the latest generation has 208 movies under his belt. \n",
      "\n",
      "The top actor in the earliest generation has 150 movies under his belt.\n",
      "The top actor in the latest generation has 2069 movies under his belt. \n",
      "\n",
      "--> big discrepancy!\n"
     ]
    }
   ],
   "source": [
    "maxes = movies_actor.sort_values(\"exp_so_far\", ascending=False)\n",
    "from collections import defaultdict\n",
    "actor_to_total_exp = defaultdict(int)\n",
    "\n",
    "for row in maxes.iterrows():\n",
    "    actor = row[1][\"nconst\"]\n",
    "    votes = row[1][\"exp_so_far\"]\n",
    "\n",
    "    actor_to_total_exp[actor] = max(votes, actor_to_total_exp[actor])\n",
    "\n",
    "maxes = []\n",
    "tops = []\n",
    "\n",
    "greatest_maxes = greatest.sort_values(\"exp_so_far\", ascending=False)\n",
    "maxes.append(greatest_maxes)\n",
    "greatest_top_1000 = defaultdict(int)\n",
    "tops.append(greatest_top_1000)\n",
    "\n",
    "silent_maxes = silent.sort_values(\"exp_so_far\", ascending=False)\n",
    "maxes.append(silent_maxes)\n",
    "silent_top_1000 = defaultdict(int)\n",
    "tops.append(silent_top_1000)\n",
    "\n",
    "baby_maxes = baby_boomers.sort_values(\"exp_so_far\", ascending=False)\n",
    "maxes.append(baby_maxes)\n",
    "baby_top_1000 = defaultdict(int)\n",
    "tops.append(baby_top_1000)\n",
    "\n",
    "boomers_maxes = boomers.sort_values(\"exp_so_far\", ascending=False)\n",
    "maxes.append(boomers_maxes)\n",
    "boomers_top_1000 = defaultdict(int)\n",
    "tops.append(boomers_top_1000)\n",
    "\n",
    "millennial_maxes = millennial.sort_values(\"exp_so_far\", ascending=False)\n",
    "maxes.append(millennial_maxes)\n",
    "millennial_top_1000 = defaultdict(int)\n",
    "tops.append(millennial_top_1000)\n",
    "\n",
    "gen_z_maxes = gen_z.sort_values(\"exp_so_far\", ascending=False)\n",
    "maxes.append(gen_z_maxes)\n",
    "gen_z_top_1000 = defaultdict(int)\n",
    "tops.append(gen_z_top_1000)\n",
    "\n",
    "gen_x_maxes = gen_x.sort_values(\"exp_so_far\", ascending=False)\n",
    "maxes.append(gen_x_maxes)\n",
    "gen_x_top_1000 = defaultdict(int)\n",
    "tops.append(gen_x_top_1000)\n",
    "\n",
    "def find_maxes(data, mapper):\n",
    "    for row in data.iterrows():\n",
    "        actor = row[1][\"nconst\"]\n",
    "        exp = row[1][\"exp_so_far\"]\n",
    "        \n",
    "        if actor not in mapper:\n",
    "            mapper[actor] = (0, 0, 0, 0, 0)\n",
    "        \n",
    "        if exp > mapper[actor][0]:\n",
    "            mapper[actor] = (exp, row[1][\"Drama_exp_so_far\"], row[1][\"Action_exp_so_far\"], row[1][\"Comedy_exp_so_far\"], row[1][\"Romance_exp_so_far\"])\n",
    "        # mapper[actor] = max(votes, mapper[actor])\n",
    "\n",
    "for i in range(len(maxes)):\n",
    "    # Find the max experienced actors for current generation\n",
    "    find_maxes(maxes[i], tops[i])\n",
    "\n",
    "    # Keep the top 1000\n",
    "    tops[i] = sorted(tops[i].items(), key=lambda x: x[1],reverse=True)[:1000]\n",
    "\n",
    "# We can already find interesting things\n",
    "\n",
    "print(\"The top 1000 actor in the earliest generation has\", tops[0][-1][1][0], \"movies under his belt.\")\n",
    "print(\"The top 1000 actor in the latest generation has\", tops[-1][-1][1][0], \"movies under his belt. \\n\")\n",
    "\n",
    "print(\"The top actor in the earliest generation has\", tops[0][0][1][0], \"movies under his belt.\")\n",
    "print(\"The top actor in the latest generation has\", tops[-1][0][1][0], \"movies under his belt. \\n\")\n",
    "\n",
    "print(\"--> big discrepancy!\")"
   ]
  },
  {
   "attachments": {},
   "cell_type": "markdown",
   "metadata": {},
   "source": [
    "We generalize the previous code and add onto it so that we can generate the per genre movie experience distribution of the top 1000 actors per generation in 3 different cases:\n",
    "- Only look at male actors\n",
    "- Only look at female actors\n",
    "- Combine both"
   ]
  },
  {
   "cell_type": "code",
   "execution_count": 26,
   "metadata": {},
   "outputs": [],
   "source": [
    "def gender_based_analysis(gender_based = False, male = True):\n",
    "    maxes = []\n",
    "    tops = []\n",
    "\n",
    "    if not gender_based:\n",
    "        local_greatest = greatest\n",
    "        local_silent = silent\n",
    "        local_baby_boomers = baby_boomers\n",
    "        local_boomers = boomers\n",
    "        local_millennial = millennial\n",
    "        local_gen_z = gen_z\n",
    "        local_gen_x = gen_x\n",
    "    elif gender_based and male:\n",
    "        local_greatest = greatest.loc[greatest[\"gender\"] == 0]\n",
    "        local_silent = silent.loc[silent[\"gender\"]== 0]\n",
    "        local_baby_boomers = baby_boomers.loc[baby_boomers[\"gender\"] == 0]\n",
    "        local_boomers = boomers.loc[boomers[\"gender\"] == 0]\n",
    "        local_millennial = millennial.loc[millennial[\"gender\"] == 0]\n",
    "        local_gen_z = gen_z.loc[gen_z[\"gender\"] == 0]\n",
    "        local_gen_x = gen_x.loc[gen_x[\"gender\"] == 0]\n",
    "    elif gender_based and not male: # so female\n",
    "        local_greatest = greatest.loc[greatest[\"gender\"] == 1]\n",
    "        local_silent = silent.loc[silent[\"gender\"] == 1]\n",
    "        local_baby_boomers = baby_boomers.loc[baby_boomers[\"gender\"] == 1]\n",
    "        local_boomers = boomers.loc[boomers[\"gender\"] == 1]\n",
    "        local_millennial = millennial.loc[millennial[\"gender\"] == 1]\n",
    "        local_gen_z = gen_z.loc[gen_z[\"gender\"] == 1]\n",
    "        local_gen_x = gen_x.loc[gen_x[\"gender\"] == 1]\n",
    "\n",
    "    greatest_maxes = local_greatest.sort_values(\"exp_so_far\", ascending=False)\n",
    "    maxes.append(greatest_maxes)\n",
    "    greatest_top_1000 = defaultdict(int)\n",
    "    tops.append(greatest_top_1000)\n",
    "\n",
    "    silent_maxes = local_silent.sort_values(\"exp_so_far\", ascending=False)\n",
    "    maxes.append(silent_maxes)\n",
    "    silent_top_1000 = defaultdict(int)\n",
    "    tops.append(silent_top_1000)\n",
    "\n",
    "    baby_maxes = local_baby_boomers.sort_values(\"exp_so_far\", ascending=False)\n",
    "    maxes.append(baby_maxes)\n",
    "    baby_top_1000 = defaultdict(int)\n",
    "    tops.append(baby_top_1000)\n",
    "\n",
    "    boomers_maxes = local_boomers.sort_values(\"exp_so_far\", ascending=False)\n",
    "    maxes.append(boomers_maxes)\n",
    "    boomers_top_1000 = defaultdict(int)\n",
    "    tops.append(boomers_top_1000)\n",
    "\n",
    "    millennial_maxes = local_millennial.sort_values(\"exp_so_far\", ascending=False)\n",
    "    maxes.append(millennial_maxes)\n",
    "    millennial_top_1000 = defaultdict(int)\n",
    "    tops.append(millennial_top_1000)\n",
    "\n",
    "    gen_z_maxes = local_gen_z.sort_values(\"exp_so_far\", ascending=False)\n",
    "    maxes.append(gen_z_maxes)\n",
    "    gen_z_top_1000 = defaultdict(int)\n",
    "    tops.append(gen_z_top_1000)\n",
    "\n",
    "    gen_x_maxes = local_gen_x.sort_values(\"exp_so_far\", ascending=False)\n",
    "    maxes.append(gen_x_maxes)\n",
    "    gen_x_top_1000 = defaultdict(int)\n",
    "    tops.append(gen_x_top_1000)\n",
    "\n",
    "    def find_maxes(data, mapper):\n",
    "        for row in data.iterrows():\n",
    "            actor = row[1][\"nconst\"]\n",
    "            exp = row[1][\"exp_so_far\"]\n",
    "            \n",
    "            if actor not in mapper:\n",
    "                mapper[actor] = (0, 0, 0, 0, 0)\n",
    "            \n",
    "            if exp > mapper[actor][0]:\n",
    "                mapper[actor] = (exp, row[1][\"Drama_exp_so_far\"], row[1][\"Action_exp_so_far\"], row[1][\"Comedy_exp_so_far\"], row[1][\"Romance_exp_so_far\"])\n",
    "            # mapper[actor] = max(votes, mapper[actor])\n",
    "\n",
    "    for i in range(len(maxes)):\n",
    "        # Find the max experienced actors for current generation\n",
    "        find_maxes(maxes[i], tops[i])\n",
    "\n",
    "        # Keep the top 1000\n",
    "        tops[i] = sorted(tops[i].items(), key=lambda x: x[1],reverse=True)[:1000]\n",
    "\n",
    "\n",
    "\n",
    "\n",
    "    # We have the distribution of movie in all of them! \n",
    "    # Note that the order is (totalExperience, dramaExperience, actionExperience, comedyExperience, romanceExperience)\n",
    "\n",
    "    # First step is to find the means of every genre for every era\n",
    "\n",
    "    def find_mean(data, idx): #idx from 1 to 4 included\n",
    "        return np.mean([x[1][idx] for x in data])\n",
    "\n",
    "    means = [] # will have the same length as tops! \n",
    "    for top in tops:\n",
    "        currMean = []\n",
    "        for i in range(1, 5):\n",
    "            currMean.append(find_mean(top, i))\n",
    "        means.append(currMean)\n",
    "\n",
    "    # means contains the average major movie genre experience for every generation\n",
    "    # means[0] is the greatest_generation, means[-1] is gen_x\n",
    "    # means[i] = (averageDrama, averageAction, averageComedy, averageRomance)\n",
    "\n",
    "\n",
    "    # The x-locations for the genres\n",
    "    x = np.arange(4)\n",
    "    width = 0.12\n",
    "\n",
    "    fig, ax = plt.subplots(1, figsize=(10, 10))\n",
    "\n",
    "    greatest_means = means[0]\n",
    "    rects1 = ax.bar(x - width * 2, greatest_means, width)\n",
    "\n",
    "    silent_means = means[1]\n",
    "    rects2 = ax.bar(x - width * 1, silent_means, width)\n",
    "\n",
    "    baby_means = means[2]\n",
    "    rects3 = ax.bar(x, baby_means, width)\n",
    "\n",
    "    boomer_means = means[3]\n",
    "    rects4 = ax.bar(x + width, boomer_means, width)\n",
    "\n",
    "    millennial_means = means[4]\n",
    "    rects5 = ax.bar(x + width * 2, millennial_means, width)\n",
    "\n",
    "    gen_z_means = means[5]\n",
    "    rects6 = ax.bar(x + width * 3, gen_z_means, width)\n",
    "\n",
    "    gen_x_means = means[6]\n",
    "    rects7 = ax.bar(x + width * 4, gen_x_means, width)\n",
    "\n",
    "    if not gender_based:\n",
    "        ax.set_title('Top 1000 actors genre experience distribution per generation')\n",
    "    elif gender_based and male:\n",
    "        ax.set_title('Top 1000 Male actors genre experience distribution per generation')\n",
    "    elif gender_based and not male:\n",
    "        ax.set_title('Top 1000 Female actors genre experience distribution per generation')\n",
    "    ax.set_ylabel('Average acting experience in # of movies')\n",
    "    ax.set_xticks(x+width)\n",
    "    ax.set_xticklabels( ('Drama', 'Action', 'Comedy', 'Romance') )\n",
    "    ax.legend( (rects1[0], rects2[0], rects3[0], rects4[0], rects5[0], rects6[0], rects7[0]), labels )\n",
    "\n",
    "    def autolabel(rects):\n",
    "        for rect in rects:\n",
    "            h = rect.get_height()\n",
    "            ax.text(rect.get_x()+rect.get_width()/2., 1.05*h, '%d'%int(h),\n",
    "                    ha='center', va='bottom')\n",
    "\n",
    "    plt.show()"
   ]
  },
  {
   "cell_type": "code",
   "execution_count": 27,
   "metadata": {},
   "outputs": [
    {
     "data": {
      "image/png": "[encoded data removed]",
      "text/plain": [
       "<Figure size 1000x1000 with 1 Axes>"
      ]
     },
     "metadata": {},
     "output_type": "display_data"
    }
   ],
   "source": [
    "# Look at both genders\n",
    "gender_based_analysis(gender_based=False)"
   ]
  },
  {
   "cell_type": "code",
   "execution_count": 28,
   "metadata": {},
   "outputs": [
    {
     "data": {
      "image/png": "[encoded data removed]",
      "text/plain": [
       "<Figure size 1000x1000 with 1 Axes>"
      ]
     },
     "metadata": {},
     "output_type": "display_data"
    }
   ],
   "source": [
    "# Look at male actors only\n",
    "gender_based_analysis(gender_based = True, male=True)"
   ]
  },
  {
   "cell_type": "code",
   "execution_count": 29,
   "metadata": {},
   "outputs": [
    {
     "data": {
      "image/png": "[encoded data removed]",
      "text/plain": [
       "<Figure size 1000x1000 with 1 Axes>"
      ]
     },
     "metadata": {},
     "output_type": "display_data"
    }
   ],
   "source": [
    "# Look at female actors only\n",
    "gender_based_analysis(gender_based= True, male=False)"
   ]
  },
  {
   "attachments": {},
   "cell_type": "markdown",
   "metadata": {},
   "source": [
    "# Section 4 : Do Popular Actors stick to their best genres in the recent scenario?"
   ]
  },
  {
   "attachments": {},
   "cell_type": "markdown",
   "metadata": {},
   "source": [
    "For this analysis we look at the movies that fall into the genX category i.e. from 2013 onwards as defined earlier"
   ]
  },
  {
   "cell_type": "code",
   "execution_count": 32,
   "metadata": {},
   "outputs": [
    {
     "data": {
      "text/plain": [
       "<Figure size 640x480 with 0 Axes>"
      ]
     },
     "metadata": {},
     "output_type": "display_data"
    },
    {
     "data": {
      "image/png": "[encoded data removed]",
      "text/plain": [
       "<Figure size 1300x400 with 1 Axes>"
      ]
     },
     "metadata": {},
     "output_type": "display_data"
    },
    {
     "data": {
      "image/png": "[encoded data removed]",
      "text/plain": [
       "<Figure size 900x900 with 1 Axes>"
      ]
     },
     "metadata": {},
     "output_type": "display_data"
    }
   ],
   "source": [
    "movies_popular = pd.read_csv(\"./data/actor_movie_combi.csv\")\n",
    "\n",
    "genres_popular, counts, mp = extract_genres(movies_popular)\n",
    "\n",
    "# get genre experience for each movie-actor combination\n",
    "movies_popular = genre_exp(mp)\n",
    "\n"
   ]
  },
  {
   "cell_type": "code",
   "execution_count": 33,
   "metadata": {},
   "outputs": [
    {
     "name": "stdout",
     "output_type": "stream",
     "text": [
      "0.020572124058708972\n"
     ]
    }
   ],
   "source": [
    "mp = pd.read_csv(\"./data/actor_movie_combi_alive2.csv\")\n",
    "\n",
    "# very less correlation between the Average Imdb rating and votes \n",
    "print(mp['averageRating'].corr(mp['numVotes']))"
   ]
  },
  {
   "cell_type": "code",
   "execution_count": 34,
   "metadata": {},
   "outputs": [
    {
     "name": "stdout",
     "output_type": "stream",
     "text": [
      "There's a total of 59673 unique actors.\n",
      "There's a total of 33912 male actors.\n",
      "There's a total of 25764 female actors.\n"
     ]
    }
   ],
   "source": [
    "task3_df = mp[mp[\"startYear\"]>=2013]\n",
    "\n",
    "unique_actors = task3_df[\"nconst\"].unique()\n",
    "male_actors = task3_df[task3_df[\"gender\"] == 0][\"nconst\"].unique()\n",
    "female_actors = task3_df[task3_df[\"gender\"] == 1][\"nconst\"].unique()\n",
    "print(\"There's a total of\", len(unique_actors), \"unique actors.\")\n",
    "\n",
    "print(\"There's a total of\", len(male_actors), \"male actors.\")\n",
    "print(\"There's a total of\", len(female_actors), \"female actors.\")"
   ]
  },
  {
   "cell_type": "code",
   "execution_count": 35,
   "metadata": {},
   "outputs": [],
   "source": [
    "task3_df = pd.read_csv(\"./data/Task3.csv\")\n",
    "\n",
    "# weighted average\n",
    "c = ['Drama_exp_so_far', 'Action_exp_so_far',\n",
    "       'Romance_exp_so_far', 'Comedy_exp_so_far', 'Adventure_exp_so_far',\n",
    "       'Crime_exp_so_far', 'War_exp_so_far', 'Family_exp_so_far',\n",
    "       'Mystery_exp_so_far']\n",
    "\n",
    "#normal average\n",
    "c2 =[\"averageRating\", \"numVotes\"]\n",
    "\n",
    "for x in c:\n",
    "    values = task3_df[x]*task3_df.averageRating/10\n",
    "    task3_df[x] = values\n",
    "\n",
    "actors_genre_exp = pd.DataFrame()\n",
    "\n",
    "\n",
    "actors_genre_exp[c] = task3_df.groupby(\"primaryName\")[c].mean()\n",
    "actors_genre_exp[c2] = task3_df.groupby(\"primaryName\")[c2].mean()\n",
    "actors_genre_exp[\"total_exp\"] = task3_df.groupby(\"primaryName\")[\"exp_so_far\"].last()\n",
    "actors_genre_exp[\"gender\"] = task3_df.groupby(\"primaryName\")[\"gender\"].last()\n",
    "\n",
    "# make vectors to represent the actors genre background in past movies\n",
    "actors_genre_exp['all_genre_vector'] = actors_genre_exp[['Drama_exp_so_far',\n",
    "       'Action_exp_so_far', 'Romance_exp_so_far', 'Comedy_exp_so_far',\n",
    "       'Adventure_exp_so_far', 'Crime_exp_so_far', 'War_exp_so_far',\n",
    "       'Family_exp_so_far', 'Mystery_exp_so_far']].values.tolist()\n",
    "actors_genre_exp['major_genre_vector'] = actors_genre_exp[['Drama_exp_so_far',\n",
    "       'Action_exp_so_far', 'Romance_exp_so_far', 'Comedy_exp_so_far',\n",
    "       'Adventure_exp_so_far']].values.tolist()"
   ]
  },
  {
   "attachments": {},
   "cell_type": "markdown",
   "metadata": {},
   "source": [
    "# Calculating the diversity in an Actor's genre background from past movies using entropy\n",
    "\n",
    "Using shannons entropy $H(p)$ which returns 0 if an actor has only been part of 1 genre, and highest value = 2.32 ($log_2(5)$) for a uniform distriubiton. [ Since we are using 5 major genres to construct the major genre vector]"
   ]
  },
  {
   "cell_type": "code",
   "execution_count": 36,
   "metadata": {},
   "outputs": [
    {
     "data": {
      "text/html": [
       "<div>\n",
       "<style scoped>\n",
       "    .dataframe tbody tr th:only-of-type {\n",
       "        vertical-align: middle;\n",
       "    }\n",
       "\n",
       "    .dataframe tbody tr th {\n",
       "        vertical-align: top;\n",
       "    }\n",
       "\n",
       "    .dataframe thead th {\n",
       "        text-align: right;\n",
       "    }\n",
       "</style>\n",
       "<table border=\"1\" class=\"dataframe\">\n",
       "  <thead>\n",
       "    <tr style=\"text-align: right;\">\n",
       "      <th></th>\n",
       "      <th>Drama_exp_so_far</th>\n",
       "      <th>Action_exp_so_far</th>\n",
       "      <th>Romance_exp_so_far</th>\n",
       "      <th>Comedy_exp_so_far</th>\n",
       "      <th>Adventure_exp_so_far</th>\n",
       "      <th>Crime_exp_so_far</th>\n",
       "      <th>War_exp_so_far</th>\n",
       "      <th>Family_exp_so_far</th>\n",
       "      <th>Mystery_exp_so_far</th>\n",
       "      <th>averageRating</th>\n",
       "      <th>numVotes</th>\n",
       "      <th>total_exp</th>\n",
       "      <th>gender</th>\n",
       "      <th>all_genre_vector</th>\n",
       "      <th>major_genre_vector</th>\n",
       "      <th>genre_entropy</th>\n",
       "    </tr>\n",
       "    <tr>\n",
       "      <th>primaryName</th>\n",
       "      <th></th>\n",
       "      <th></th>\n",
       "      <th></th>\n",
       "      <th></th>\n",
       "      <th></th>\n",
       "      <th></th>\n",
       "      <th></th>\n",
       "      <th></th>\n",
       "      <th></th>\n",
       "      <th></th>\n",
       "      <th></th>\n",
       "      <th></th>\n",
       "      <th></th>\n",
       "      <th></th>\n",
       "      <th></th>\n",
       "      <th></th>\n",
       "    </tr>\n",
       "  </thead>\n",
       "  <tbody>\n",
       "    <tr>\n",
       "      <th>'Legs' Larry Smith</th>\n",
       "      <td>0.000000</td>\n",
       "      <td>0.00</td>\n",
       "      <td>0.000000</td>\n",
       "      <td>1.220000</td>\n",
       "      <td>0.000000</td>\n",
       "      <td>0.000000</td>\n",
       "      <td>0.0</td>\n",
       "      <td>0.61</td>\n",
       "      <td>0.000000</td>\n",
       "      <td>6.100000</td>\n",
       "      <td>18.000000</td>\n",
       "      <td>1</td>\n",
       "      <td>0</td>\n",
       "      <td>[0.0, 0.0, 0.0, 1.22, 0.0, 0.0, 0.0, 0.61, 0.0]</td>\n",
       "      <td>[0.0, 0.0, 0.0, 1.22, 0.0]</td>\n",
       "      <td>0.000000</td>\n",
       "    </tr>\n",
       "    <tr>\n",
       "      <th>'The Jinni' Ra'Shawn Vass</th>\n",
       "      <td>0.590000</td>\n",
       "      <td>0.00</td>\n",
       "      <td>0.000000</td>\n",
       "      <td>0.590000</td>\n",
       "      <td>0.000000</td>\n",
       "      <td>0.000000</td>\n",
       "      <td>0.0</td>\n",
       "      <td>0.00</td>\n",
       "      <td>0.000000</td>\n",
       "      <td>5.900000</td>\n",
       "      <td>7.000000</td>\n",
       "      <td>0</td>\n",
       "      <td>0</td>\n",
       "      <td>[0.5900000000000001, 0.0, 0.0, 0.5900000000000...</td>\n",
       "      <td>[0.5900000000000001, 0.0, 0.0, 0.5900000000000...</td>\n",
       "      <td>1.000000</td>\n",
       "    </tr>\n",
       "    <tr>\n",
       "      <th>'Weird Al' Yankovic</th>\n",
       "      <td>0.000000</td>\n",
       "      <td>0.00</td>\n",
       "      <td>0.000000</td>\n",
       "      <td>4.805000</td>\n",
       "      <td>0.000000</td>\n",
       "      <td>0.000000</td>\n",
       "      <td>0.0</td>\n",
       "      <td>0.00</td>\n",
       "      <td>0.000000</td>\n",
       "      <td>6.300000</td>\n",
       "      <td>160.000000</td>\n",
       "      <td>21</td>\n",
       "      <td>0</td>\n",
       "      <td>[0.0, 0.0, 0.0, 4.805, 0.0, 0.0, 0.0, 0.0, 0.0]</td>\n",
       "      <td>[0.0, 0.0, 0.0, 4.805, 0.0]</td>\n",
       "      <td>0.000000</td>\n",
       "    </tr>\n",
       "    <tr>\n",
       "      <th>2 Chainz</th>\n",
       "      <td>0.000000</td>\n",
       "      <td>0.00</td>\n",
       "      <td>0.000000</td>\n",
       "      <td>0.390000</td>\n",
       "      <td>0.000000</td>\n",
       "      <td>0.000000</td>\n",
       "      <td>0.0</td>\n",
       "      <td>0.00</td>\n",
       "      <td>0.000000</td>\n",
       "      <td>3.900000</td>\n",
       "      <td>87.000000</td>\n",
       "      <td>0</td>\n",
       "      <td>0</td>\n",
       "      <td>[0.0, 0.0, 0.0, 0.39, 0.0, 0.0, 0.0, 0.0, 0.0]</td>\n",
       "      <td>[0.0, 0.0, 0.0, 0.39, 0.0]</td>\n",
       "      <td>0.000000</td>\n",
       "    </tr>\n",
       "    <tr>\n",
       "      <th>360</th>\n",
       "      <td>0.000000</td>\n",
       "      <td>0.88</td>\n",
       "      <td>0.000000</td>\n",
       "      <td>0.880000</td>\n",
       "      <td>0.000000</td>\n",
       "      <td>0.880000</td>\n",
       "      <td>0.0</td>\n",
       "      <td>0.00</td>\n",
       "      <td>0.000000</td>\n",
       "      <td>8.800000</td>\n",
       "      <td>6.000000</td>\n",
       "      <td>0</td>\n",
       "      <td>0</td>\n",
       "      <td>[0.0, 0.8800000000000001, 0.0, 0.8800000000000...</td>\n",
       "      <td>[0.0, 0.8800000000000001, 0.0, 0.8800000000000...</td>\n",
       "      <td>1.000000</td>\n",
       "    </tr>\n",
       "    <tr>\n",
       "      <th>...</th>\n",
       "      <td>...</td>\n",
       "      <td>...</td>\n",
       "      <td>...</td>\n",
       "      <td>...</td>\n",
       "      <td>...</td>\n",
       "      <td>...</td>\n",
       "      <td>...</td>\n",
       "      <td>...</td>\n",
       "      <td>...</td>\n",
       "      <td>...</td>\n",
       "      <td>...</td>\n",
       "      <td>...</td>\n",
       "      <td>...</td>\n",
       "      <td>...</td>\n",
       "      <td>...</td>\n",
       "      <td>...</td>\n",
       "    </tr>\n",
       "    <tr>\n",
       "      <th>Ünal Yeter</th>\n",
       "      <td>0.000000</td>\n",
       "      <td>0.00</td>\n",
       "      <td>0.335714</td>\n",
       "      <td>2.255714</td>\n",
       "      <td>0.000000</td>\n",
       "      <td>0.000000</td>\n",
       "      <td>0.0</td>\n",
       "      <td>0.00</td>\n",
       "      <td>0.000000</td>\n",
       "      <td>4.471429</td>\n",
       "      <td>285.142857</td>\n",
       "      <td>7</td>\n",
       "      <td>0</td>\n",
       "      <td>[0.0, 0.0, 0.33571428571428574, 2.255714285714...</td>\n",
       "      <td>[0.0, 0.0, 0.33571428571428574, 2.255714285714...</td>\n",
       "      <td>0.556197</td>\n",
       "    </tr>\n",
       "    <tr>\n",
       "      <th>Þorsteinn Bachmann</th>\n",
       "      <td>20.279231</td>\n",
       "      <td>0.00</td>\n",
       "      <td>0.000000</td>\n",
       "      <td>4.260769</td>\n",
       "      <td>0.057308</td>\n",
       "      <td>2.578462</td>\n",
       "      <td>0.0</td>\n",
       "      <td>0.00</td>\n",
       "      <td>2.719231</td>\n",
       "      <td>6.873077</td>\n",
       "      <td>1937.538462</td>\n",
       "      <td>58</td>\n",
       "      <td>0</td>\n",
       "      <td>[20.279230769230768, 0.0, 0.0, 4.2607692307692...</td>\n",
       "      <td>[20.279230769230768, 0.0, 0.0, 4.2607692307692...</td>\n",
       "      <td>0.688113</td>\n",
       "    </tr>\n",
       "    <tr>\n",
       "      <th>Þorsteinn Guðmundsson</th>\n",
       "      <td>5.364000</td>\n",
       "      <td>0.00</td>\n",
       "      <td>1.480000</td>\n",
       "      <td>2.444000</td>\n",
       "      <td>0.000000</td>\n",
       "      <td>3.884000</td>\n",
       "      <td>0.0</td>\n",
       "      <td>0.00</td>\n",
       "      <td>0.000000</td>\n",
       "      <td>7.400000</td>\n",
       "      <td>160.200000</td>\n",
       "      <td>14</td>\n",
       "      <td>0</td>\n",
       "      <td>[5.364, 0.0, 1.48, 2.444, 0.0, 3.8840000000000...</td>\n",
       "      <td>[5.364, 0.0, 1.48, 2.444, 0.0]</td>\n",
       "      <td>1.386489</td>\n",
       "    </tr>\n",
       "    <tr>\n",
       "      <th>Þröstur Leó Gunnarsson</th>\n",
       "      <td>4.620000</td>\n",
       "      <td>0.66</td>\n",
       "      <td>0.660000</td>\n",
       "      <td>3.660000</td>\n",
       "      <td>0.660000</td>\n",
       "      <td>0.000000</td>\n",
       "      <td>0.0</td>\n",
       "      <td>0.00</td>\n",
       "      <td>0.660000</td>\n",
       "      <td>6.600000</td>\n",
       "      <td>51.250000</td>\n",
       "      <td>18</td>\n",
       "      <td>0</td>\n",
       "      <td>[4.619999999999999, 0.66, 0.66, 3.66, 0.66, 0....</td>\n",
       "      <td>[4.619999999999999, 0.66, 0.66, 3.66, 0.66]</td>\n",
       "      <td>1.812713</td>\n",
       "    </tr>\n",
       "    <tr>\n",
       "      <th>Þórhallur Sigurðsson</th>\n",
       "      <td>1.582500</td>\n",
       "      <td>0.00</td>\n",
       "      <td>0.000000</td>\n",
       "      <td>7.980000</td>\n",
       "      <td>0.705000</td>\n",
       "      <td>0.000000</td>\n",
       "      <td>0.0</td>\n",
       "      <td>1.41</td>\n",
       "      <td>0.000000</td>\n",
       "      <td>7.050000</td>\n",
       "      <td>73.000000</td>\n",
       "      <td>19</td>\n",
       "      <td>0</td>\n",
       "      <td>[1.5825, 0.0, 0.0, 7.98, 0.7050000000000001, 0...</td>\n",
       "      <td>[1.5825, 0.0, 0.0, 7.98, 0.7050000000000001]</td>\n",
       "      <td>0.963754</td>\n",
       "    </tr>\n",
       "  </tbody>\n",
       "</table>\n",
       "<p>59551 rows × 16 columns</p>\n",
       "</div>"
      ],
      "text/plain": [
       "                           Drama_exp_so_far  Action_exp_so_far  \\\n",
       "primaryName                                                      \n",
       "'Legs' Larry Smith                 0.000000               0.00   \n",
       "'The Jinni' Ra'Shawn Vass          0.590000               0.00   \n",
       "'Weird Al' Yankovic                0.000000               0.00   \n",
       "2 Chainz                           0.000000               0.00   \n",
       "360                                0.000000               0.88   \n",
       "...                                     ...                ...   \n",
       "Ünal Yeter                         0.000000               0.00   \n",
       "Þorsteinn Bachmann                20.279231               0.00   \n",
       "Þorsteinn Guðmundsson              5.364000               0.00   \n",
       "Þröstur Leó Gunnarsson             4.620000               0.66   \n",
       "Þórhallur Sigurðsson               1.582500               0.00   \n",
       "\n",
       "                           Romance_exp_so_far  Comedy_exp_so_far  \\\n",
       "primaryName                                                        \n",
       "'Legs' Larry Smith                   0.000000           1.220000   \n",
       "'The Jinni' Ra'Shawn Vass            0.000000           0.590000   \n",
       "'Weird Al' Yankovic                  0.000000           4.805000   \n",
       "2 Chainz                             0.000000           0.390000   \n",
       "360                                  0.000000           0.880000   \n",
       "...                                       ...                ...   \n",
       "Ünal Yeter                           0.335714           2.255714   \n",
       "Þorsteinn Bachmann                   0.000000           4.260769   \n",
       "Þorsteinn Guðmundsson                1.480000           2.444000   \n",
       "Þröstur Leó Gunnarsson               0.660000           3.660000   \n",
       "Þórhallur Sigurðsson                 0.000000           7.980000   \n",
       "\n",
       "                           Adventure_exp_so_far  Crime_exp_so_far  \\\n",
       "primaryName                                                         \n",
       "'Legs' Larry Smith                     0.000000          0.000000   \n",
       "'The Jinni' Ra'Shawn Vass              0.000000          0.000000   \n",
       "'Weird Al' Yankovic                    0.000000          0.000000   \n",
       "2 Chainz                               0.000000          0.000000   \n",
       "360                                    0.000000          0.880000   \n",
       "...                                         ...               ...   \n",
       "Ünal Yeter                             0.000000          0.000000   \n",
       "Þorsteinn Bachmann                     0.057308          2.578462   \n",
       "Þorsteinn Guðmundsson                  0.000000          3.884000   \n",
       "Þröstur Leó Gunnarsson                 0.660000          0.000000   \n",
       "Þórhallur Sigurðsson                   0.705000          0.000000   \n",
       "\n",
       "                           War_exp_so_far  Family_exp_so_far  \\\n",
       "primaryName                                                    \n",
       "'Legs' Larry Smith                    0.0               0.61   \n",
       "'The Jinni' Ra'Shawn Vass             0.0               0.00   \n",
       "'Weird Al' Yankovic                   0.0               0.00   \n",
       "2 Chainz                              0.0               0.00   \n",
       "360                                   0.0               0.00   \n",
       "...                                   ...                ...   \n",
       "Ünal Yeter                            0.0               0.00   \n",
       "Þorsteinn Bachmann                    0.0               0.00   \n",
       "Þorsteinn Guðmundsson                 0.0               0.00   \n",
       "Þröstur Leó Gunnarsson                0.0               0.00   \n",
       "Þórhallur Sigurðsson                  0.0               1.41   \n",
       "\n",
       "                           Mystery_exp_so_far  averageRating     numVotes  \\\n",
       "primaryName                                                                 \n",
       "'Legs' Larry Smith                   0.000000       6.100000    18.000000   \n",
       "'The Jinni' Ra'Shawn Vass            0.000000       5.900000     7.000000   \n",
       "'Weird Al' Yankovic                  0.000000       6.300000   160.000000   \n",
       "2 Chainz                             0.000000       3.900000    87.000000   \n",
       "360                                  0.000000       8.800000     6.000000   \n",
       "...                                       ...            ...          ...   \n",
       "Ünal Yeter                           0.000000       4.471429   285.142857   \n",
       "Þorsteinn Bachmann                   2.719231       6.873077  1937.538462   \n",
       "Þorsteinn Guðmundsson                0.000000       7.400000   160.200000   \n",
       "Þröstur Leó Gunnarsson               0.660000       6.600000    51.250000   \n",
       "Þórhallur Sigurðsson                 0.000000       7.050000    73.000000   \n",
       "\n",
       "                           total_exp  gender  \\\n",
       "primaryName                                    \n",
       "'Legs' Larry Smith                 1       0   \n",
       "'The Jinni' Ra'Shawn Vass          0       0   \n",
       "'Weird Al' Yankovic               21       0   \n",
       "2 Chainz                           0       0   \n",
       "360                                0       0   \n",
       "...                              ...     ...   \n",
       "Ünal Yeter                         7       0   \n",
       "Þorsteinn Bachmann                58       0   \n",
       "Þorsteinn Guðmundsson             14       0   \n",
       "Þröstur Leó Gunnarsson            18       0   \n",
       "Þórhallur Sigurðsson              19       0   \n",
       "\n",
       "                                                            all_genre_vector  \\\n",
       "primaryName                                                                    \n",
       "'Legs' Larry Smith           [0.0, 0.0, 0.0, 1.22, 0.0, 0.0, 0.0, 0.61, 0.0]   \n",
       "'The Jinni' Ra'Shawn Vass  [0.5900000000000001, 0.0, 0.0, 0.5900000000000...   \n",
       "'Weird Al' Yankovic          [0.0, 0.0, 0.0, 4.805, 0.0, 0.0, 0.0, 0.0, 0.0]   \n",
       "2 Chainz                      [0.0, 0.0, 0.0, 0.39, 0.0, 0.0, 0.0, 0.0, 0.0]   \n",
       "360                        [0.0, 0.8800000000000001, 0.0, 0.8800000000000...   \n",
       "...                                                                      ...   \n",
       "Ünal Yeter                 [0.0, 0.0, 0.33571428571428574, 2.255714285714...   \n",
       "Þorsteinn Bachmann         [20.279230769230768, 0.0, 0.0, 4.2607692307692...   \n",
       "Þorsteinn Guðmundsson      [5.364, 0.0, 1.48, 2.444, 0.0, 3.8840000000000...   \n",
       "Þröstur Leó Gunnarsson     [4.619999999999999, 0.66, 0.66, 3.66, 0.66, 0....   \n",
       "Þórhallur Sigurðsson       [1.5825, 0.0, 0.0, 7.98, 0.7050000000000001, 0...   \n",
       "\n",
       "                                                          major_genre_vector  \\\n",
       "primaryName                                                                    \n",
       "'Legs' Larry Smith                                [0.0, 0.0, 0.0, 1.22, 0.0]   \n",
       "'The Jinni' Ra'Shawn Vass  [0.5900000000000001, 0.0, 0.0, 0.5900000000000...   \n",
       "'Weird Al' Yankovic                              [0.0, 0.0, 0.0, 4.805, 0.0]   \n",
       "2 Chainz                                          [0.0, 0.0, 0.0, 0.39, 0.0]   \n",
       "360                        [0.0, 0.8800000000000001, 0.0, 0.8800000000000...   \n",
       "...                                                                      ...   \n",
       "Ünal Yeter                 [0.0, 0.0, 0.33571428571428574, 2.255714285714...   \n",
       "Þorsteinn Bachmann         [20.279230769230768, 0.0, 0.0, 4.2607692307692...   \n",
       "Þorsteinn Guðmundsson                         [5.364, 0.0, 1.48, 2.444, 0.0]   \n",
       "Þröstur Leó Gunnarsson           [4.619999999999999, 0.66, 0.66, 3.66, 0.66]   \n",
       "Þórhallur Sigurðsson            [1.5825, 0.0, 0.0, 7.98, 0.7050000000000001]   \n",
       "\n",
       "                           genre_entropy  \n",
       "primaryName                               \n",
       "'Legs' Larry Smith              0.000000  \n",
       "'The Jinni' Ra'Shawn Vass       1.000000  \n",
       "'Weird Al' Yankovic             0.000000  \n",
       "2 Chainz                        0.000000  \n",
       "360                             1.000000  \n",
       "...                                  ...  \n",
       "Ünal Yeter                      0.556197  \n",
       "Þorsteinn Bachmann              0.688113  \n",
       "Þorsteinn Guðmundsson           1.386489  \n",
       "Þröstur Leó Gunnarsson          1.812713  \n",
       "Þórhallur Sigurðsson            0.963754  \n",
       "\n",
       "[59551 rows x 16 columns]"
      ]
     },
     "execution_count": 36,
     "metadata": {},
     "output_type": "execute_result"
    }
   ],
   "source": [
    "def normal_variance(vv):\n",
    "\n",
    "    #normalizing the vector\n",
    "    vv = vv/np.sum(vv)\n",
    "\n",
    "    return entropy(vv, base=2)\n",
    "\n",
    "actors_genre_exp[\"genre_entropy\"] = actors_genre_exp[\"major_genre_vector\"].apply(normal_variance)\n",
    "\n",
    "actors_genre_exp"
   ]
  },
  {
   "attachments": {},
   "cell_type": "markdown",
   "metadata": {},
   "source": [
    "# Using number of votes to decide the IMDB rating of their past movies as a metric of popularity"
   ]
  },
  {
   "cell_type": "code",
   "execution_count": 40,
   "metadata": {},
   "outputs": [],
   "source": [
    "popular_male = actors_genre_exp[actors_genre_exp[\"gender\"] == 0].nlargest(10, \"numVotes\")\n",
    "\n",
    "popular_female = actors_genre_exp[actors_genre_exp[\"gender\"] == 1].nlargest(10, \"numVotes\")\n",
    "\n"
   ]
  },
  {
   "cell_type": "code",
   "execution_count": 41,
   "metadata": {},
   "outputs": [
    {
     "data": {
      "text/html": [
       "<div>\n",
       "<style scoped>\n",
       "    .dataframe tbody tr th:only-of-type {\n",
       "        vertical-align: middle;\n",
       "    }\n",
       "\n",
       "    .dataframe tbody tr th {\n",
       "        vertical-align: top;\n",
       "    }\n",
       "\n",
       "    .dataframe thead th {\n",
       "        text-align: right;\n",
       "    }\n",
       "</style>\n",
       "<table border=\"1\" class=\"dataframe\">\n",
       "  <thead>\n",
       "    <tr style=\"text-align: right;\">\n",
       "      <th></th>\n",
       "      <th>Drama_exp_so_far</th>\n",
       "      <th>Action_exp_so_far</th>\n",
       "      <th>Romance_exp_so_far</th>\n",
       "      <th>Comedy_exp_so_far</th>\n",
       "      <th>Adventure_exp_so_far</th>\n",
       "      <th>Crime_exp_so_far</th>\n",
       "      <th>War_exp_so_far</th>\n",
       "      <th>Family_exp_so_far</th>\n",
       "      <th>Mystery_exp_so_far</th>\n",
       "      <th>averageRating</th>\n",
       "      <th>numVotes</th>\n",
       "      <th>total_exp</th>\n",
       "      <th>gender</th>\n",
       "      <th>all_genre_vector</th>\n",
       "      <th>major_genre_vector</th>\n",
       "      <th>genre_entropy</th>\n",
       "    </tr>\n",
       "    <tr>\n",
       "      <th>primaryName</th>\n",
       "      <th></th>\n",
       "      <th></th>\n",
       "      <th></th>\n",
       "      <th></th>\n",
       "      <th></th>\n",
       "      <th></th>\n",
       "      <th></th>\n",
       "      <th></th>\n",
       "      <th></th>\n",
       "      <th></th>\n",
       "      <th></th>\n",
       "      <th></th>\n",
       "      <th></th>\n",
       "      <th></th>\n",
       "      <th></th>\n",
       "      <th></th>\n",
       "    </tr>\n",
       "  </thead>\n",
       "  <tbody>\n",
       "    <tr>\n",
       "      <th>Leonardo DiCaprio</th>\n",
       "      <td>13.870000</td>\n",
       "      <td>3.570000</td>\n",
       "      <td>5.250000</td>\n",
       "      <td>3.550000</td>\n",
       "      <td>3.570000</td>\n",
       "      <td>1.500000</td>\n",
       "      <td>0.000000</td>\n",
       "      <td>0.750000</td>\n",
       "      <td>0.000000</td>\n",
       "      <td>7.500000</td>\n",
       "      <td>654976.500000</td>\n",
       "      <td>41</td>\n",
       "      <td>0</td>\n",
       "      <td>[13.870000000000001, 3.57, 5.25, 3.55, 3.57, 1...</td>\n",
       "      <td>[13.870000000000001, 3.57, 5.25, 3.55, 3.57]</td>\n",
       "      <td>2.053771</td>\n",
       "    </tr>\n",
       "    <tr>\n",
       "      <th>Robert Downey Jr.</th>\n",
       "      <td>13.255556</td>\n",
       "      <td>9.804444</td>\n",
       "      <td>3.705556</td>\n",
       "      <td>24.357778</td>\n",
       "      <td>7.482222</td>\n",
       "      <td>6.591111</td>\n",
       "      <td>2.223333</td>\n",
       "      <td>0.803333</td>\n",
       "      <td>2.964444</td>\n",
       "      <td>7.411111</td>\n",
       "      <td>648049.444444</td>\n",
       "      <td>76</td>\n",
       "      <td>0</td>\n",
       "      <td>[13.255555555555556, 9.804444444444444, 3.7055...</td>\n",
       "      <td>[13.255555555555556, 9.804444444444444, 3.7055...</td>\n",
       "      <td>2.074005</td>\n",
       "    </tr>\n",
       "    <tr>\n",
       "      <th>Caleb McLaughlin</th>\n",
       "      <td>1.065000</td>\n",
       "      <td>0.000000</td>\n",
       "      <td>0.000000</td>\n",
       "      <td>0.000000</td>\n",
       "      <td>0.000000</td>\n",
       "      <td>0.000000</td>\n",
       "      <td>0.000000</td>\n",
       "      <td>0.000000</td>\n",
       "      <td>0.000000</td>\n",
       "      <td>7.500000</td>\n",
       "      <td>595739.500000</td>\n",
       "      <td>1</td>\n",
       "      <td>0</td>\n",
       "      <td>[1.065, 0.0, 0.0, 0.0, 0.0, 0.0, 0.0, 0.0, 0.0]</td>\n",
       "      <td>[1.065, 0.0, 0.0, 0.0, 0.0]</td>\n",
       "      <td>0.000000</td>\n",
       "    </tr>\n",
       "    <tr>\n",
       "      <th>Gaten Matarazzo</th>\n",
       "      <td>0.760000</td>\n",
       "      <td>0.000000</td>\n",
       "      <td>0.000000</td>\n",
       "      <td>0.325000</td>\n",
       "      <td>0.000000</td>\n",
       "      <td>0.000000</td>\n",
       "      <td>0.000000</td>\n",
       "      <td>0.000000</td>\n",
       "      <td>0.000000</td>\n",
       "      <td>7.600000</td>\n",
       "      <td>594385.500000</td>\n",
       "      <td>1</td>\n",
       "      <td>0</td>\n",
       "      <td>[0.76, 0.0, 0.0, 0.325, 0.0, 0.0, 0.0, 0.0, 0.0]</td>\n",
       "      <td>[0.76, 0.0, 0.0, 0.325, 0.0]</td>\n",
       "      <td>0.880727</td>\n",
       "    </tr>\n",
       "    <tr>\n",
       "      <th>Darko Peric</th>\n",
       "      <td>0.820000</td>\n",
       "      <td>0.820000</td>\n",
       "      <td>0.000000</td>\n",
       "      <td>0.000000</td>\n",
       "      <td>0.000000</td>\n",
       "      <td>0.820000</td>\n",
       "      <td>0.000000</td>\n",
       "      <td>0.000000</td>\n",
       "      <td>0.000000</td>\n",
       "      <td>8.200000</td>\n",
       "      <td>476787.000000</td>\n",
       "      <td>0</td>\n",
       "      <td>0</td>\n",
       "      <td>[0.82, 0.82, 0.0, 0.0, 0.0, 0.82, 0.0, 0.0, 0.0]</td>\n",
       "      <td>[0.82, 0.82, 0.0, 0.0, 0.0]</td>\n",
       "      <td>1.000000</td>\n",
       "    </tr>\n",
       "    <tr>\n",
       "      <th>Chris Hemsworth</th>\n",
       "      <td>6.568462</td>\n",
       "      <td>6.888462</td>\n",
       "      <td>3.411538</td>\n",
       "      <td>1.190000</td>\n",
       "      <td>5.101538</td>\n",
       "      <td>0.663846</td>\n",
       "      <td>0.000000</td>\n",
       "      <td>0.682308</td>\n",
       "      <td>0.000000</td>\n",
       "      <td>6.823077</td>\n",
       "      <td>421597.461538</td>\n",
       "      <td>33</td>\n",
       "      <td>0</td>\n",
       "      <td>[6.568461538461539, 6.888461538461538, 3.41153...</td>\n",
       "      <td>[6.568461538461539, 6.888461538461538, 3.41153...</td>\n",
       "      <td>2.143769</td>\n",
       "    </tr>\n",
       "    <tr>\n",
       "      <th>Orto Ignatiussen</th>\n",
       "      <td>0.995000</td>\n",
       "      <td>0.000000</td>\n",
       "      <td>0.000000</td>\n",
       "      <td>0.000000</td>\n",
       "      <td>0.000000</td>\n",
       "      <td>0.000000</td>\n",
       "      <td>0.000000</td>\n",
       "      <td>0.000000</td>\n",
       "      <td>0.000000</td>\n",
       "      <td>6.900000</td>\n",
       "      <td>414046.000000</td>\n",
       "      <td>2</td>\n",
       "      <td>0</td>\n",
       "      <td>[0.995, 0.0, 0.0, 0.0, 0.0, 0.0, 0.0, 0.0, 0.0]</td>\n",
       "      <td>[0.995, 0.0, 0.0, 0.0, 0.0]</td>\n",
       "      <td>0.000000</td>\n",
       "    </tr>\n",
       "    <tr>\n",
       "      <th>Hugh Jackman</th>\n",
       "      <td>10.433750</td>\n",
       "      <td>9.008750</td>\n",
       "      <td>4.998750</td>\n",
       "      <td>3.093750</td>\n",
       "      <td>6.371250</td>\n",
       "      <td>7.333750</td>\n",
       "      <td>0.000000</td>\n",
       "      <td>0.000000</td>\n",
       "      <td>6.383750</td>\n",
       "      <td>6.925000</td>\n",
       "      <td>379040.625000</td>\n",
       "      <td>49</td>\n",
       "      <td>0</td>\n",
       "      <td>[10.43375, 9.00875, 4.99875, 3.09375, 6.37125,...</td>\n",
       "      <td>[10.43375, 9.00875, 4.99875, 3.09375, 6.37125]</td>\n",
       "      <td>2.206840</td>\n",
       "    </tr>\n",
       "    <tr>\n",
       "      <th>Russell Harvard</th>\n",
       "      <td>1.780000</td>\n",
       "      <td>0.000000</td>\n",
       "      <td>0.890000</td>\n",
       "      <td>0.890000</td>\n",
       "      <td>0.000000</td>\n",
       "      <td>0.890000</td>\n",
       "      <td>0.000000</td>\n",
       "      <td>0.000000</td>\n",
       "      <td>0.000000</td>\n",
       "      <td>8.900000</td>\n",
       "      <td>374005.000000</td>\n",
       "      <td>5</td>\n",
       "      <td>0</td>\n",
       "      <td>[1.78, 0.0, 0.89, 0.89, 0.0, 0.89, 0.0, 0.0, 0.0]</td>\n",
       "      <td>[1.78, 0.0, 0.89, 0.89, 0.0]</td>\n",
       "      <td>1.500000</td>\n",
       "    </tr>\n",
       "    <tr>\n",
       "      <th>Tom Cruise</th>\n",
       "      <td>14.788750</td>\n",
       "      <td>11.780000</td>\n",
       "      <td>4.275000</td>\n",
       "      <td>4.632500</td>\n",
       "      <td>8.033750</td>\n",
       "      <td>3.641250</td>\n",
       "      <td>0.000000</td>\n",
       "      <td>0.000000</td>\n",
       "      <td>4.275000</td>\n",
       "      <td>7.125000</td>\n",
       "      <td>362477.875000</td>\n",
       "      <td>42</td>\n",
       "      <td>0</td>\n",
       "      <td>[14.78875, 11.780000000000001, 4.275, 4.6325, ...</td>\n",
       "      <td>[14.78875, 11.780000000000001, 4.275, 4.6325, ...</td>\n",
       "      <td>2.162465</td>\n",
       "    </tr>\n",
       "  </tbody>\n",
       "</table>\n",
       "</div>"
      ],
      "text/plain": [
       "                   Drama_exp_so_far  Action_exp_so_far  Romance_exp_so_far  \\\n",
       "primaryName                                                                  \n",
       "Leonardo DiCaprio         13.870000           3.570000            5.250000   \n",
       "Robert Downey Jr.         13.255556           9.804444            3.705556   \n",
       "Caleb McLaughlin           1.065000           0.000000            0.000000   \n",
       "Gaten Matarazzo            0.760000           0.000000            0.000000   \n",
       "Darko Peric                0.820000           0.820000            0.000000   \n",
       "Chris Hemsworth            6.568462           6.888462            3.411538   \n",
       "Orto Ignatiussen           0.995000           0.000000            0.000000   \n",
       "Hugh Jackman              10.433750           9.008750            4.998750   \n",
       "Russell Harvard            1.780000           0.000000            0.890000   \n",
       "Tom Cruise                14.788750          11.780000            4.275000   \n",
       "\n",
       "                   Comedy_exp_so_far  Adventure_exp_so_far  Crime_exp_so_far  \\\n",
       "primaryName                                                                    \n",
       "Leonardo DiCaprio           3.550000              3.570000          1.500000   \n",
       "Robert Downey Jr.          24.357778              7.482222          6.591111   \n",
       "Caleb McLaughlin            0.000000              0.000000          0.000000   \n",
       "Gaten Matarazzo             0.325000              0.000000          0.000000   \n",
       "Darko Peric                 0.000000              0.000000          0.820000   \n",
       "Chris Hemsworth             1.190000              5.101538          0.663846   \n",
       "Orto Ignatiussen            0.000000              0.000000          0.000000   \n",
       "Hugh Jackman                3.093750              6.371250          7.333750   \n",
       "Russell Harvard             0.890000              0.000000          0.890000   \n",
       "Tom Cruise                  4.632500              8.033750          3.641250   \n",
       "\n",
       "                   War_exp_so_far  Family_exp_so_far  Mystery_exp_so_far  \\\n",
       "primaryName                                                                \n",
       "Leonardo DiCaprio        0.000000           0.750000            0.000000   \n",
       "Robert Downey Jr.        2.223333           0.803333            2.964444   \n",
       "Caleb McLaughlin         0.000000           0.000000            0.000000   \n",
       "Gaten Matarazzo          0.000000           0.000000            0.000000   \n",
       "Darko Peric              0.000000           0.000000            0.000000   \n",
       "Chris Hemsworth          0.000000           0.682308            0.000000   \n",
       "Orto Ignatiussen         0.000000           0.000000            0.000000   \n",
       "Hugh Jackman             0.000000           0.000000            6.383750   \n",
       "Russell Harvard          0.000000           0.000000            0.000000   \n",
       "Tom Cruise               0.000000           0.000000            4.275000   \n",
       "\n",
       "                   averageRating       numVotes  total_exp  gender  \\\n",
       "primaryName                                                          \n",
       "Leonardo DiCaprio       7.500000  654976.500000         41       0   \n",
       "Robert Downey Jr.       7.411111  648049.444444         76       0   \n",
       "Caleb McLaughlin        7.500000  595739.500000          1       0   \n",
       "Gaten Matarazzo         7.600000  594385.500000          1       0   \n",
       "Darko Peric             8.200000  476787.000000          0       0   \n",
       "Chris Hemsworth         6.823077  421597.461538         33       0   \n",
       "Orto Ignatiussen        6.900000  414046.000000          2       0   \n",
       "Hugh Jackman            6.925000  379040.625000         49       0   \n",
       "Russell Harvard         8.900000  374005.000000          5       0   \n",
       "Tom Cruise              7.125000  362477.875000         42       0   \n",
       "\n",
       "                                                    all_genre_vector  \\\n",
       "primaryName                                                            \n",
       "Leonardo DiCaprio  [13.870000000000001, 3.57, 5.25, 3.55, 3.57, 1...   \n",
       "Robert Downey Jr.  [13.255555555555556, 9.804444444444444, 3.7055...   \n",
       "Caleb McLaughlin     [1.065, 0.0, 0.0, 0.0, 0.0, 0.0, 0.0, 0.0, 0.0]   \n",
       "Gaten Matarazzo     [0.76, 0.0, 0.0, 0.325, 0.0, 0.0, 0.0, 0.0, 0.0]   \n",
       "Darko Peric         [0.82, 0.82, 0.0, 0.0, 0.0, 0.82, 0.0, 0.0, 0.0]   \n",
       "Chris Hemsworth    [6.568461538461539, 6.888461538461538, 3.41153...   \n",
       "Orto Ignatiussen     [0.995, 0.0, 0.0, 0.0, 0.0, 0.0, 0.0, 0.0, 0.0]   \n",
       "Hugh Jackman       [10.43375, 9.00875, 4.99875, 3.09375, 6.37125,...   \n",
       "Russell Harvard    [1.78, 0.0, 0.89, 0.89, 0.0, 0.89, 0.0, 0.0, 0.0]   \n",
       "Tom Cruise         [14.78875, 11.780000000000001, 4.275, 4.6325, ...   \n",
       "\n",
       "                                                  major_genre_vector  \\\n",
       "primaryName                                                            \n",
       "Leonardo DiCaprio       [13.870000000000001, 3.57, 5.25, 3.55, 3.57]   \n",
       "Robert Downey Jr.  [13.255555555555556, 9.804444444444444, 3.7055...   \n",
       "Caleb McLaughlin                         [1.065, 0.0, 0.0, 0.0, 0.0]   \n",
       "Gaten Matarazzo                         [0.76, 0.0, 0.0, 0.325, 0.0]   \n",
       "Darko Peric                              [0.82, 0.82, 0.0, 0.0, 0.0]   \n",
       "Chris Hemsworth    [6.568461538461539, 6.888461538461538, 3.41153...   \n",
       "Orto Ignatiussen                         [0.995, 0.0, 0.0, 0.0, 0.0]   \n",
       "Hugh Jackman          [10.43375, 9.00875, 4.99875, 3.09375, 6.37125]   \n",
       "Russell Harvard                         [1.78, 0.0, 0.89, 0.89, 0.0]   \n",
       "Tom Cruise         [14.78875, 11.780000000000001, 4.275, 4.6325, ...   \n",
       "\n",
       "                   genre_entropy  \n",
       "primaryName                       \n",
       "Leonardo DiCaprio       2.053771  \n",
       "Robert Downey Jr.       2.074005  \n",
       "Caleb McLaughlin        0.000000  \n",
       "Gaten Matarazzo         0.880727  \n",
       "Darko Peric             1.000000  \n",
       "Chris Hemsworth         2.143769  \n",
       "Orto Ignatiussen        0.000000  \n",
       "Hugh Jackman            2.206840  \n",
       "Russell Harvard         1.500000  \n",
       "Tom Cruise              2.162465  "
      ]
     },
     "execution_count": 41,
     "metadata": {},
     "output_type": "execute_result"
    }
   ],
   "source": [
    "popular_male"
   ]
  },
  {
   "cell_type": "code",
   "execution_count": 42,
   "metadata": {},
   "outputs": [
    {
     "data": {
      "text/html": [
       "<div>\n",
       "<style scoped>\n",
       "    .dataframe tbody tr th:only-of-type {\n",
       "        vertical-align: middle;\n",
       "    }\n",
       "\n",
       "    .dataframe tbody tr th {\n",
       "        vertical-align: top;\n",
       "    }\n",
       "\n",
       "    .dataframe thead th {\n",
       "        text-align: right;\n",
       "    }\n",
       "</style>\n",
       "<table border=\"1\" class=\"dataframe\">\n",
       "  <thead>\n",
       "    <tr style=\"text-align: right;\">\n",
       "      <th></th>\n",
       "      <th>Drama_exp_so_far</th>\n",
       "      <th>Action_exp_so_far</th>\n",
       "      <th>Romance_exp_so_far</th>\n",
       "      <th>Comedy_exp_so_far</th>\n",
       "      <th>Adventure_exp_so_far</th>\n",
       "      <th>Crime_exp_so_far</th>\n",
       "      <th>War_exp_so_far</th>\n",
       "      <th>Family_exp_so_far</th>\n",
       "      <th>Mystery_exp_so_far</th>\n",
       "      <th>averageRating</th>\n",
       "      <th>numVotes</th>\n",
       "      <th>total_exp</th>\n",
       "      <th>gender</th>\n",
       "      <th>all_genre_vector</th>\n",
       "      <th>major_genre_vector</th>\n",
       "      <th>genre_entropy</th>\n",
       "    </tr>\n",
       "    <tr>\n",
       "      <th>primaryName</th>\n",
       "      <th></th>\n",
       "      <th></th>\n",
       "      <th></th>\n",
       "      <th></th>\n",
       "      <th></th>\n",
       "      <th></th>\n",
       "      <th></th>\n",
       "      <th></th>\n",
       "      <th></th>\n",
       "      <th></th>\n",
       "      <th></th>\n",
       "      <th></th>\n",
       "      <th></th>\n",
       "      <th></th>\n",
       "      <th></th>\n",
       "      <th></th>\n",
       "    </tr>\n",
       "  </thead>\n",
       "  <tbody>\n",
       "    <tr>\n",
       "      <th>Anna Shaffer</th>\n",
       "      <td>0.820000</td>\n",
       "      <td>0.820000</td>\n",
       "      <td>0.000000</td>\n",
       "      <td>0.000000</td>\n",
       "      <td>0.820000</td>\n",
       "      <td>0.000000</td>\n",
       "      <td>0.00</td>\n",
       "      <td>0.000000</td>\n",
       "      <td>0.000000</td>\n",
       "      <td>8.200000</td>\n",
       "      <td>492117.000000</td>\n",
       "      <td>2</td>\n",
       "      <td>1</td>\n",
       "      <td>[0.82, 0.82, 0.0, 0.0, 0.82, 0.0, 0.0, 0.0, 0.0]</td>\n",
       "      <td>[0.82, 0.82, 0.0, 0.0, 0.82]</td>\n",
       "      <td>1.584963</td>\n",
       "    </tr>\n",
       "    <tr>\n",
       "      <th>Mackenzie Foy</th>\n",
       "      <td>1.797500</td>\n",
       "      <td>1.455000</td>\n",
       "      <td>0.000000</td>\n",
       "      <td>1.455000</td>\n",
       "      <td>2.017500</td>\n",
       "      <td>0.000000</td>\n",
       "      <td>0.00</td>\n",
       "      <td>0.887500</td>\n",
       "      <td>0.000000</td>\n",
       "      <td>7.275000</td>\n",
       "      <td>456112.250000</td>\n",
       "      <td>9</td>\n",
       "      <td>1</td>\n",
       "      <td>[1.7974999999999999, 1.455, 0.0, 1.455, 2.0175...</td>\n",
       "      <td>[1.7974999999999999, 1.455, 0.0, 1.455, 2.0175]</td>\n",
       "      <td>1.985535</td>\n",
       "    </tr>\n",
       "    <tr>\n",
       "      <th>Lady Gaga</th>\n",
       "      <td>1.520000</td>\n",
       "      <td>0.000000</td>\n",
       "      <td>0.760000</td>\n",
       "      <td>0.000000</td>\n",
       "      <td>0.000000</td>\n",
       "      <td>0.000000</td>\n",
       "      <td>0.00</td>\n",
       "      <td>0.000000</td>\n",
       "      <td>0.000000</td>\n",
       "      <td>7.600000</td>\n",
       "      <td>384951.000000</td>\n",
       "      <td>1</td>\n",
       "      <td>1</td>\n",
       "      <td>[1.52, 0.0, 0.76, 0.0, 0.0, 0.0, 0.0, 0.0, 0.0]</td>\n",
       "      <td>[1.52, 0.0, 0.76, 0.0, 0.0]</td>\n",
       "      <td>0.918296</td>\n",
       "    </tr>\n",
       "    <tr>\n",
       "      <th>Daisy Ridley</th>\n",
       "      <td>0.443333</td>\n",
       "      <td>1.880000</td>\n",
       "      <td>0.443333</td>\n",
       "      <td>0.000000</td>\n",
       "      <td>1.880000</td>\n",
       "      <td>0.000000</td>\n",
       "      <td>0.00</td>\n",
       "      <td>0.000000</td>\n",
       "      <td>0.000000</td>\n",
       "      <td>6.883333</td>\n",
       "      <td>345973.000000</td>\n",
       "      <td>26</td>\n",
       "      <td>1</td>\n",
       "      <td>[0.44333333333333336, 1.8800000000000001, 0.44...</td>\n",
       "      <td>[0.44333333333333336, 1.8800000000000001, 0.44...</td>\n",
       "      <td>1.703179</td>\n",
       "    </tr>\n",
       "    <tr>\n",
       "      <th>Jennifer Lawrence</th>\n",
       "      <td>5.515833</td>\n",
       "      <td>3.623333</td>\n",
       "      <td>2.202500</td>\n",
       "      <td>19.375000</td>\n",
       "      <td>3.406667</td>\n",
       "      <td>0.664167</td>\n",
       "      <td>0.00</td>\n",
       "      <td>18.596667</td>\n",
       "      <td>0.935833</td>\n",
       "      <td>6.641667</td>\n",
       "      <td>329488.666667</td>\n",
       "      <td>50</td>\n",
       "      <td>1</td>\n",
       "      <td>[5.515833333333333, 3.623333333333333, 2.2025,...</td>\n",
       "      <td>[5.515833333333333, 3.623333333333333, 2.2025,...</td>\n",
       "      <td>1.819224</td>\n",
       "    </tr>\n",
       "    <tr>\n",
       "      <th>Milly Shapiro</th>\n",
       "      <td>0.730000</td>\n",
       "      <td>0.000000</td>\n",
       "      <td>0.000000</td>\n",
       "      <td>0.000000</td>\n",
       "      <td>0.000000</td>\n",
       "      <td>0.000000</td>\n",
       "      <td>0.00</td>\n",
       "      <td>0.000000</td>\n",
       "      <td>0.730000</td>\n",
       "      <td>7.300000</td>\n",
       "      <td>317423.000000</td>\n",
       "      <td>0</td>\n",
       "      <td>1</td>\n",
       "      <td>[0.73, 0.0, 0.0, 0.0, 0.0, 0.0, 0.0, 0.0, 0.73]</td>\n",
       "      <td>[0.73, 0.0, 0.0, 0.0, 0.0]</td>\n",
       "      <td>0.000000</td>\n",
       "    </tr>\n",
       "    <tr>\n",
       "      <th>Lauren Revard</th>\n",
       "      <td>0.000000</td>\n",
       "      <td>0.820000</td>\n",
       "      <td>0.000000</td>\n",
       "      <td>0.000000</td>\n",
       "      <td>0.820000</td>\n",
       "      <td>0.000000</td>\n",
       "      <td>0.00</td>\n",
       "      <td>0.000000</td>\n",
       "      <td>0.000000</td>\n",
       "      <td>8.200000</td>\n",
       "      <td>316083.000000</td>\n",
       "      <td>1</td>\n",
       "      <td>1</td>\n",
       "      <td>[0.0, 0.82, 0.0, 0.0, 0.82, 0.0, 0.0, 0.0, 0.0]</td>\n",
       "      <td>[0.0, 0.82, 0.0, 0.0, 0.82]</td>\n",
       "      <td>1.000000</td>\n",
       "    </tr>\n",
       "    <tr>\n",
       "      <th>Lisa Emery</th>\n",
       "      <td>4.250000</td>\n",
       "      <td>0.000000</td>\n",
       "      <td>0.000000</td>\n",
       "      <td>1.700000</td>\n",
       "      <td>0.000000</td>\n",
       "      <td>0.850000</td>\n",
       "      <td>0.00</td>\n",
       "      <td>0.000000</td>\n",
       "      <td>0.000000</td>\n",
       "      <td>8.500000</td>\n",
       "      <td>315737.000000</td>\n",
       "      <td>4</td>\n",
       "      <td>1</td>\n",
       "      <td>[4.25, 0.0, 0.0, 1.7, 0.0, 0.85, 0.0, 0.0, 0.0]</td>\n",
       "      <td>[4.25, 0.0, 0.0, 1.7, 0.0]</td>\n",
       "      <td>0.863121</td>\n",
       "    </tr>\n",
       "    <tr>\n",
       "      <th>Scarlett Johansson</th>\n",
       "      <td>12.712667</td>\n",
       "      <td>4.424667</td>\n",
       "      <td>4.958667</td>\n",
       "      <td>11.025333</td>\n",
       "      <td>2.754000</td>\n",
       "      <td>3.029333</td>\n",
       "      <td>0.15</td>\n",
       "      <td>1.401333</td>\n",
       "      <td>2.005333</td>\n",
       "      <td>7.006667</td>\n",
       "      <td>313052.466667</td>\n",
       "      <td>45</td>\n",
       "      <td>1</td>\n",
       "      <td>[12.712666666666667, 4.424666666666667, 4.9586...</td>\n",
       "      <td>[12.712666666666667, 4.424666666666667, 4.9586...</td>\n",
       "      <td>2.104788</td>\n",
       "    </tr>\n",
       "    <tr>\n",
       "      <th>Gwyneth Paltrow</th>\n",
       "      <td>15.563333</td>\n",
       "      <td>2.890000</td>\n",
       "      <td>6.090000</td>\n",
       "      <td>8.743333</td>\n",
       "      <td>2.890000</td>\n",
       "      <td>2.706667</td>\n",
       "      <td>0.00</td>\n",
       "      <td>0.000000</td>\n",
       "      <td>2.030000</td>\n",
       "      <td>6.766667</td>\n",
       "      <td>307987.666667</td>\n",
       "      <td>38</td>\n",
       "      <td>1</td>\n",
       "      <td>[15.563333333333333, 2.89, 6.09, 8.74333333333...</td>\n",
       "      <td>[15.563333333333333, 2.89, 6.09, 8.74333333333...</td>\n",
       "      <td>2.033923</td>\n",
       "    </tr>\n",
       "  </tbody>\n",
       "</table>\n",
       "</div>"
      ],
      "text/plain": [
       "                    Drama_exp_so_far  Action_exp_so_far  Romance_exp_so_far  \\\n",
       "primaryName                                                                   \n",
       "Anna Shaffer                0.820000           0.820000            0.000000   \n",
       "Mackenzie Foy               1.797500           1.455000            0.000000   \n",
       "Lady Gaga                   1.520000           0.000000            0.760000   \n",
       "Daisy Ridley                0.443333           1.880000            0.443333   \n",
       "Jennifer Lawrence           5.515833           3.623333            2.202500   \n",
       "Milly Shapiro               0.730000           0.000000            0.000000   \n",
       "Lauren Revard               0.000000           0.820000            0.000000   \n",
       "Lisa Emery                  4.250000           0.000000            0.000000   \n",
       "Scarlett Johansson         12.712667           4.424667            4.958667   \n",
       "Gwyneth Paltrow            15.563333           2.890000            6.090000   \n",
       "\n",
       "                    Comedy_exp_so_far  Adventure_exp_so_far  Crime_exp_so_far  \\\n",
       "primaryName                                                                     \n",
       "Anna Shaffer                 0.000000              0.820000          0.000000   \n",
       "Mackenzie Foy                1.455000              2.017500          0.000000   \n",
       "Lady Gaga                    0.000000              0.000000          0.000000   \n",
       "Daisy Ridley                 0.000000              1.880000          0.000000   \n",
       "Jennifer Lawrence           19.375000              3.406667          0.664167   \n",
       "Milly Shapiro                0.000000              0.000000          0.000000   \n",
       "Lauren Revard                0.000000              0.820000          0.000000   \n",
       "Lisa Emery                   1.700000              0.000000          0.850000   \n",
       "Scarlett Johansson          11.025333              2.754000          3.029333   \n",
       "Gwyneth Paltrow              8.743333              2.890000          2.706667   \n",
       "\n",
       "                    War_exp_so_far  Family_exp_so_far  Mystery_exp_so_far  \\\n",
       "primaryName                                                                 \n",
       "Anna Shaffer                  0.00           0.000000            0.000000   \n",
       "Mackenzie Foy                 0.00           0.887500            0.000000   \n",
       "Lady Gaga                     0.00           0.000000            0.000000   \n",
       "Daisy Ridley                  0.00           0.000000            0.000000   \n",
       "Jennifer Lawrence             0.00          18.596667            0.935833   \n",
       "Milly Shapiro                 0.00           0.000000            0.730000   \n",
       "Lauren Revard                 0.00           0.000000            0.000000   \n",
       "Lisa Emery                    0.00           0.000000            0.000000   \n",
       "Scarlett Johansson            0.15           1.401333            2.005333   \n",
       "Gwyneth Paltrow               0.00           0.000000            2.030000   \n",
       "\n",
       "                    averageRating       numVotes  total_exp  gender  \\\n",
       "primaryName                                                           \n",
       "Anna Shaffer             8.200000  492117.000000          2       1   \n",
       "Mackenzie Foy            7.275000  456112.250000          9       1   \n",
       "Lady Gaga                7.600000  384951.000000          1       1   \n",
       "Daisy Ridley             6.883333  345973.000000         26       1   \n",
       "Jennifer Lawrence        6.641667  329488.666667         50       1   \n",
       "Milly Shapiro            7.300000  317423.000000          0       1   \n",
       "Lauren Revard            8.200000  316083.000000          1       1   \n",
       "Lisa Emery               8.500000  315737.000000          4       1   \n",
       "Scarlett Johansson       7.006667  313052.466667         45       1   \n",
       "Gwyneth Paltrow          6.766667  307987.666667         38       1   \n",
       "\n",
       "                                                     all_genre_vector  \\\n",
       "primaryName                                                             \n",
       "Anna Shaffer         [0.82, 0.82, 0.0, 0.0, 0.82, 0.0, 0.0, 0.0, 0.0]   \n",
       "Mackenzie Foy       [1.7974999999999999, 1.455, 0.0, 1.455, 2.0175...   \n",
       "Lady Gaga             [1.52, 0.0, 0.76, 0.0, 0.0, 0.0, 0.0, 0.0, 0.0]   \n",
       "Daisy Ridley        [0.44333333333333336, 1.8800000000000001, 0.44...   \n",
       "Jennifer Lawrence   [5.515833333333333, 3.623333333333333, 2.2025,...   \n",
       "Milly Shapiro         [0.73, 0.0, 0.0, 0.0, 0.0, 0.0, 0.0, 0.0, 0.73]   \n",
       "Lauren Revard         [0.0, 0.82, 0.0, 0.0, 0.82, 0.0, 0.0, 0.0, 0.0]   \n",
       "Lisa Emery            [4.25, 0.0, 0.0, 1.7, 0.0, 0.85, 0.0, 0.0, 0.0]   \n",
       "Scarlett Johansson  [12.712666666666667, 4.424666666666667, 4.9586...   \n",
       "Gwyneth Paltrow     [15.563333333333333, 2.89, 6.09, 8.74333333333...   \n",
       "\n",
       "                                                   major_genre_vector  \\\n",
       "primaryName                                                             \n",
       "Anna Shaffer                             [0.82, 0.82, 0.0, 0.0, 0.82]   \n",
       "Mackenzie Foy         [1.7974999999999999, 1.455, 0.0, 1.455, 2.0175]   \n",
       "Lady Gaga                                 [1.52, 0.0, 0.76, 0.0, 0.0]   \n",
       "Daisy Ridley        [0.44333333333333336, 1.8800000000000001, 0.44...   \n",
       "Jennifer Lawrence   [5.515833333333333, 3.623333333333333, 2.2025,...   \n",
       "Milly Shapiro                              [0.73, 0.0, 0.0, 0.0, 0.0]   \n",
       "Lauren Revard                             [0.0, 0.82, 0.0, 0.0, 0.82]   \n",
       "Lisa Emery                                 [4.25, 0.0, 0.0, 1.7, 0.0]   \n",
       "Scarlett Johansson  [12.712666666666667, 4.424666666666667, 4.9586...   \n",
       "Gwyneth Paltrow     [15.563333333333333, 2.89, 6.09, 8.74333333333...   \n",
       "\n",
       "                    genre_entropy  \n",
       "primaryName                        \n",
       "Anna Shaffer             1.584963  \n",
       "Mackenzie Foy            1.985535  \n",
       "Lady Gaga                0.918296  \n",
       "Daisy Ridley             1.703179  \n",
       "Jennifer Lawrence        1.819224  \n",
       "Milly Shapiro            0.000000  \n",
       "Lauren Revard            1.000000  \n",
       "Lisa Emery               0.863121  \n",
       "Scarlett Johansson       2.104788  \n",
       "Gwyneth Paltrow          2.033923  "
      ]
     },
     "execution_count": 42,
     "metadata": {},
     "output_type": "execute_result"
    }
   ],
   "source": [
    "popular_female"
   ]
  },
  {
   "attachments": {},
   "cell_type": "markdown",
   "metadata": {},
   "source": [
    "# How do these Actors measure up in terms of their genre entropy?"
   ]
  },
  {
   "attachments": {},
   "cell_type": "markdown",
   "metadata": {},
   "source": [
    "Popular male actors"
   ]
  },
  {
   "cell_type": "code",
   "execution_count": 70,
   "metadata": {},
   "outputs": [
    {
     "name": "stderr",
     "output_type": "stream",
     "text": [
      "C:\\Users\\Asus\\AppData\\Local\\Temp\\ipykernel_29484\\753585131.py:25: UserWarning: FixedFormatter should only be used together with FixedLocator\n",
      "  plt.gca().set_xticklabels(dataset.index, rotation=60, horizontalalignment= 'right')\n"
     ]
    },
    {
     "data": {
      "image/png": "[encoded data removed]",
      "text/plain": [
       "<Figure size 1280x800 with 1 Axes>"
      ]
     },
     "metadata": {},
     "output_type": "display_data"
    }
   ],
   "source": [
    "all_colors = list(plt.cm.colors.cnames.keys())\n",
    "random.seed(100)\n",
    "\n",
    "\n",
    "def plot_entropy(dataset, s):\n",
    "\n",
    "    n = len(dataset)\n",
    "    c = random.choices(all_colors, k=n)\n",
    "\n",
    "\n",
    "    # plt.bar(popular_male.index, popular_male[\"genre_entropy\"])\n",
    "    # # Rotation of the bars names\n",
    "    # plt.xticks( rotation=90)\n",
    "\n",
    "\n",
    "    # Plot Bars\n",
    "    plt.figure(figsize=(16,10), dpi= 80)\n",
    "    plt.bar(dataset.index, dataset[\"genre_entropy\"], color=c, width=.5)\n",
    "    for i, val in enumerate(dataset['genre_entropy'].values):\n",
    "        plt.text(i, val, \"{:.2f}\".format(val), horizontalalignment='center', verticalalignment='bottom', fontdict={'fontweight':500, 'size':12})\n",
    "\n",
    "    plt.axhline(y = 2.32, color = 'r', linestyle = '-')\n",
    "\n",
    "    # Decoration\n",
    "    plt.gca().set_xticklabels(dataset.index, rotation=60, horizontalalignment= 'right')\n",
    "    plt.title(\"Genre Entropy for popular \"+s+\" actors\", fontsize=22)\n",
    "    plt.ylabel('Gentre entropy')\n",
    "    plt.ylim(0, 3)\n",
    "    plt.show()\n",
    "\n",
    "plot_entropy(popular_male, s=\"male\")"
   ]
  },
  {
   "attachments": {},
   "cell_type": "markdown",
   "metadata": {},
   "source": [
    "Popular Female Actors"
   ]
  },
  {
   "cell_type": "code",
   "execution_count": 71,
   "metadata": {},
   "outputs": [
    {
     "name": "stderr",
     "output_type": "stream",
     "text": [
      "C:\\Users\\Asus\\AppData\\Local\\Temp\\ipykernel_29484\\753585131.py:25: UserWarning: FixedFormatter should only be used together with FixedLocator\n",
      "  plt.gca().set_xticklabels(dataset.index, rotation=60, horizontalalignment= 'right')\n"
     ]
    },
    {
     "data": {
      "image/png": "[encoded data removed]",
      "text/plain": [
       "<Figure size 1280x800 with 1 Axes>"
      ]
     },
     "metadata": {},
     "output_type": "display_data"
    }
   ],
   "source": [
    "plot_entropy(popular_female, s=\"female\")"
   ]
  },
  {
   "cell_type": "code",
   "execution_count": null,
   "metadata": {},
   "outputs": [],
   "source": []
  }
 ],
 "metadata": {
  "kernelspec": {
   "display_name": "Python 3.7.15 ('ada')",
   "language": "python",
   "name": "python3"
  },
  "language_info": {
   "codemirror_mode": {
    "name": "ipython",
    "version": 3
   },
   "file_extension": ".py",
   "mimetype": "text/x-python",
   "name": "python",
   "nbconvert_exporter": "python",
   "pygments_lexer": "ipython3",
   "version": "3.7.15"
  },
  "orig_nbformat": 4,
  "vscode": {
   "interpreter": {
    "hash": "63b0f96a7ed47cef9ab35015ef1216089d7ec8d8d7aec9bdd2a146a1ec72f473"
   }
  }
 },
 "nbformat": 4,
 "nbformat_minor": 2
}
