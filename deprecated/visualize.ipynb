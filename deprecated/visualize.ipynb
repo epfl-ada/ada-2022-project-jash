{
 "cells": [
  {
   "cell_type": "code",
   "execution_count": 72,
   "metadata": {},
   "outputs": [],
   "source": [
    "# processing data\n",
    "import pandas as pd\n",
    "import numpy as np\n",
    "import itertools\n",
    "\n",
    "# analysis\n",
    "import statsmodels.formula.api as smf\n",
    "from sklearn.ensemble import RandomForestRegressor\n",
    "from sklearn.model_selection import train_test_split\n",
    "import rfpimp\n",
    "\n",
    "# plot\n",
    "import matplotlib.pyplot as plt\n",
    "from d3blocks import D3Blocks\n",
    "import seaborn as sns\n",
    "import plotly.express as px\n",
    "\n"
   ]
  },
  {
   "cell_type": "code",
   "execution_count": 35,
   "metadata": {},
   "outputs": [
    {
     "data": {
      "text/html": [
       "<div>\n",
       "<style scoped>\n",
       "    .dataframe tbody tr th:only-of-type {\n",
       "        vertical-align: middle;\n",
       "    }\n",
       "\n",
       "    .dataframe tbody tr th {\n",
       "        vertical-align: top;\n",
       "    }\n",
       "\n",
       "    .dataframe thead th {\n",
       "        text-align: right;\n",
       "    }\n",
       "</style>\n",
       "<table border=\"1\" class=\"dataframe\">\n",
       "  <thead>\n",
       "    <tr style=\"text-align: right;\">\n",
       "      <th></th>\n",
       "      <th>tconst</th>\n",
       "      <th>ordering</th>\n",
       "      <th>nconst</th>\n",
       "      <th>gender</th>\n",
       "      <th>primaryName</th>\n",
       "      <th>birthYear</th>\n",
       "      <th>deathYear</th>\n",
       "      <th>startYear</th>\n",
       "      <th>genres</th>\n",
       "      <th>deatYear</th>\n",
       "      <th>age_at_movie_start</th>\n",
       "      <th>averageRating</th>\n",
       "      <th>numVotes</th>\n",
       "      <th>exp_so_far</th>\n",
       "      <th>drama_exp_so_far</th>\n",
       "      <th>action_exp_so_far</th>\n",
       "      <th>romance_exp_so_far</th>\n",
       "      <th>comedy_exp_so_far</th>\n",
       "    </tr>\n",
       "  </thead>\n",
       "  <tbody>\n",
       "    <tr>\n",
       "      <th>0</th>\n",
       "      <td>tt7816420</td>\n",
       "      <td>1</td>\n",
       "      <td>nm1155956</td>\n",
       "      <td>0</td>\n",
       "      <td>Eadweard Muybridge</td>\n",
       "      <td>1830.0</td>\n",
       "      <td>1904</td>\n",
       "      <td>1881.0</td>\n",
       "      <td>Documentary,Short</td>\n",
       "      <td>1904.0</td>\n",
       "      <td>51.0</td>\n",
       "      <td>5.2</td>\n",
       "      <td>462.0</td>\n",
       "      <td>0</td>\n",
       "      <td>0</td>\n",
       "      <td>0</td>\n",
       "      <td>0</td>\n",
       "      <td>0</td>\n",
       "    </tr>\n",
       "    <tr>\n",
       "      <th>1</th>\n",
       "      <td>tt1758563</td>\n",
       "      <td>1</td>\n",
       "      <td>nm1796515</td>\n",
       "      <td>0</td>\n",
       "      <td>Adolphe Le Prince</td>\n",
       "      <td>1872.0</td>\n",
       "      <td>1901</td>\n",
       "      <td>1888.0</td>\n",
       "      <td>Documentary,Short</td>\n",
       "      <td>1901.0</td>\n",
       "      <td>16.0</td>\n",
       "      <td>5.5</td>\n",
       "      <td>1333.0</td>\n",
       "      <td>0</td>\n",
       "      <td>0</td>\n",
       "      <td>0</td>\n",
       "      <td>0</td>\n",
       "      <td>0</td>\n",
       "    </tr>\n",
       "    <tr>\n",
       "      <th>2</th>\n",
       "      <td>tt0361921</td>\n",
       "      <td>1</td>\n",
       "      <td>nm1362928</td>\n",
       "      <td>0</td>\n",
       "      <td>Giuseppe Sacco Albanese</td>\n",
       "      <td>1872.0</td>\n",
       "      <td>1943</td>\n",
       "      <td>1890.0</td>\n",
       "      <td>Documentary,Short</td>\n",
       "      <td>1943.0</td>\n",
       "      <td>18.0</td>\n",
       "      <td>5.0</td>\n",
       "      <td>1508.0</td>\n",
       "      <td>0</td>\n",
       "      <td>0</td>\n",
       "      <td>0</td>\n",
       "      <td>0</td>\n",
       "      <td>0</td>\n",
       "    </tr>\n",
       "    <tr>\n",
       "      <th>3</th>\n",
       "      <td>tt0416047</td>\n",
       "      <td>1</td>\n",
       "      <td>nm1362928</td>\n",
       "      <td>0</td>\n",
       "      <td>Giuseppe Sacco Albanese</td>\n",
       "      <td>1872.0</td>\n",
       "      <td>1943</td>\n",
       "      <td>1890.0</td>\n",
       "      <td>Short</td>\n",
       "      <td>1943.0</td>\n",
       "      <td>18.0</td>\n",
       "      <td>4.2</td>\n",
       "      <td>425.0</td>\n",
       "      <td>1</td>\n",
       "      <td>0</td>\n",
       "      <td>0</td>\n",
       "      <td>0</td>\n",
       "      <td>0</td>\n",
       "    </tr>\n",
       "    <tr>\n",
       "      <th>4</th>\n",
       "      <td>tt0416046</td>\n",
       "      <td>1</td>\n",
       "      <td>nm1362928</td>\n",
       "      <td>0</td>\n",
       "      <td>Giuseppe Sacco Albanese</td>\n",
       "      <td>1872.0</td>\n",
       "      <td>1943</td>\n",
       "      <td>1890.0</td>\n",
       "      <td>Short</td>\n",
       "      <td>1943.0</td>\n",
       "      <td>18.0</td>\n",
       "      <td>4.8</td>\n",
       "      <td>1106.0</td>\n",
       "      <td>2</td>\n",
       "      <td>0</td>\n",
       "      <td>0</td>\n",
       "      <td>0</td>\n",
       "      <td>0</td>\n",
       "    </tr>\n",
       "    <tr>\n",
       "      <th>...</th>\n",
       "      <td>...</td>\n",
       "      <td>...</td>\n",
       "      <td>...</td>\n",
       "      <td>...</td>\n",
       "      <td>...</td>\n",
       "      <td>...</td>\n",
       "      <td>...</td>\n",
       "      <td>...</td>\n",
       "      <td>...</td>\n",
       "      <td>...</td>\n",
       "      <td>...</td>\n",
       "      <td>...</td>\n",
       "      <td>...</td>\n",
       "      <td>...</td>\n",
       "      <td>...</td>\n",
       "      <td>...</td>\n",
       "      <td>...</td>\n",
       "      <td>...</td>\n",
       "    </tr>\n",
       "    <tr>\n",
       "      <th>698931</th>\n",
       "      <td>tt7728792</td>\n",
       "      <td>2</td>\n",
       "      <td>nm6074154</td>\n",
       "      <td>0</td>\n",
       "      <td>Harry Hains</td>\n",
       "      <td>1992.0</td>\n",
       "      <td>2020</td>\n",
       "      <td>2022.0</td>\n",
       "      <td>Drama</td>\n",
       "      <td>2020.0</td>\n",
       "      <td>30.0</td>\n",
       "      <td>8.2</td>\n",
       "      <td>19.0</td>\n",
       "      <td>5</td>\n",
       "      <td>4</td>\n",
       "      <td>0</td>\n",
       "      <td>2</td>\n",
       "      <td>0</td>\n",
       "    </tr>\n",
       "    <tr>\n",
       "      <th>698932</th>\n",
       "      <td>tt21045916</td>\n",
       "      <td>3</td>\n",
       "      <td>nm0582378</td>\n",
       "      <td>0</td>\n",
       "      <td>Sombat Metanee</td>\n",
       "      <td>1937.0</td>\n",
       "      <td>2022</td>\n",
       "      <td>2022.0</td>\n",
       "      <td>Drama,Romance</td>\n",
       "      <td>2022.0</td>\n",
       "      <td>85.0</td>\n",
       "      <td>10.0</td>\n",
       "      <td>5.0</td>\n",
       "      <td>16</td>\n",
       "      <td>2</td>\n",
       "      <td>9</td>\n",
       "      <td>2</td>\n",
       "      <td>4</td>\n",
       "    </tr>\n",
       "    <tr>\n",
       "      <th>698933</th>\n",
       "      <td>tt21045922</td>\n",
       "      <td>3</td>\n",
       "      <td>nm0582378</td>\n",
       "      <td>0</td>\n",
       "      <td>Sombat Metanee</td>\n",
       "      <td>1937.0</td>\n",
       "      <td>2022</td>\n",
       "      <td>2022.0</td>\n",
       "      <td>Drama,Romance</td>\n",
       "      <td>2022.0</td>\n",
       "      <td>85.0</td>\n",
       "      <td>10.0</td>\n",
       "      <td>5.0</td>\n",
       "      <td>17</td>\n",
       "      <td>3</td>\n",
       "      <td>9</td>\n",
       "      <td>3</td>\n",
       "      <td>4</td>\n",
       "    </tr>\n",
       "    <tr>\n",
       "      <th>698934</th>\n",
       "      <td>tt21048302</td>\n",
       "      <td>2</td>\n",
       "      <td>nm7670169</td>\n",
       "      <td>0</td>\n",
       "      <td>Papangkorn Lerkchaleampote</td>\n",
       "      <td>1996.0</td>\n",
       "      <td>2022</td>\n",
       "      <td>2022.0</td>\n",
       "      <td>Adventure,Drama,Thriller</td>\n",
       "      <td>2022.0</td>\n",
       "      <td>26.0</td>\n",
       "      <td>8.0</td>\n",
       "      <td>57.0</td>\n",
       "      <td>13</td>\n",
       "      <td>13</td>\n",
       "      <td>0</td>\n",
       "      <td>1</td>\n",
       "      <td>1</td>\n",
       "    </tr>\n",
       "    <tr>\n",
       "      <th>698935</th>\n",
       "      <td>tt21050062</td>\n",
       "      <td>2</td>\n",
       "      <td>nm7670169</td>\n",
       "      <td>0</td>\n",
       "      <td>Papangkorn Lerkchaleampote</td>\n",
       "      <td>1996.0</td>\n",
       "      <td>2022</td>\n",
       "      <td>2022.0</td>\n",
       "      <td>Adventure,Drama,Thriller</td>\n",
       "      <td>2022.0</td>\n",
       "      <td>26.0</td>\n",
       "      <td>7.7</td>\n",
       "      <td>62.0</td>\n",
       "      <td>14</td>\n",
       "      <td>14</td>\n",
       "      <td>0</td>\n",
       "      <td>1</td>\n",
       "      <td>1</td>\n",
       "    </tr>\n",
       "  </tbody>\n",
       "</table>\n",
       "<p>698936 rows × 18 columns</p>\n",
       "</div>"
      ],
      "text/plain": [
       "            tconst  ordering     nconst  gender                 primaryName  \\\n",
       "0        tt7816420         1  nm1155956       0          Eadweard Muybridge   \n",
       "1        tt1758563         1  nm1796515       0           Adolphe Le Prince   \n",
       "2        tt0361921         1  nm1362928       0     Giuseppe Sacco Albanese   \n",
       "3        tt0416047         1  nm1362928       0     Giuseppe Sacco Albanese   \n",
       "4        tt0416046         1  nm1362928       0     Giuseppe Sacco Albanese   \n",
       "...            ...       ...        ...     ...                         ...   \n",
       "698931   tt7728792         2  nm6074154       0                 Harry Hains   \n",
       "698932  tt21045916         3  nm0582378       0              Sombat Metanee   \n",
       "698933  tt21045922         3  nm0582378       0              Sombat Metanee   \n",
       "698934  tt21048302         2  nm7670169       0  Papangkorn Lerkchaleampote   \n",
       "698935  tt21050062         2  nm7670169       0  Papangkorn Lerkchaleampote   \n",
       "\n",
       "        birthYear  deathYear  startYear                    genres  deatYear  \\\n",
       "0          1830.0       1904     1881.0         Documentary,Short    1904.0   \n",
       "1          1872.0       1901     1888.0         Documentary,Short    1901.0   \n",
       "2          1872.0       1943     1890.0         Documentary,Short    1943.0   \n",
       "3          1872.0       1943     1890.0                     Short    1943.0   \n",
       "4          1872.0       1943     1890.0                     Short    1943.0   \n",
       "...           ...        ...        ...                       ...       ...   \n",
       "698931     1992.0       2020     2022.0                     Drama    2020.0   \n",
       "698932     1937.0       2022     2022.0             Drama,Romance    2022.0   \n",
       "698933     1937.0       2022     2022.0             Drama,Romance    2022.0   \n",
       "698934     1996.0       2022     2022.0  Adventure,Drama,Thriller    2022.0   \n",
       "698935     1996.0       2022     2022.0  Adventure,Drama,Thriller    2022.0   \n",
       "\n",
       "        age_at_movie_start  averageRating  numVotes  exp_so_far  \\\n",
       "0                     51.0            5.2     462.0           0   \n",
       "1                     16.0            5.5    1333.0           0   \n",
       "2                     18.0            5.0    1508.0           0   \n",
       "3                     18.0            4.2     425.0           1   \n",
       "4                     18.0            4.8    1106.0           2   \n",
       "...                    ...            ...       ...         ...   \n",
       "698931                30.0            8.2      19.0           5   \n",
       "698932                85.0           10.0       5.0          16   \n",
       "698933                85.0           10.0       5.0          17   \n",
       "698934                26.0            8.0      57.0          13   \n",
       "698935                26.0            7.7      62.0          14   \n",
       "\n",
       "        drama_exp_so_far  action_exp_so_far  romance_exp_so_far  \\\n",
       "0                      0                  0                   0   \n",
       "1                      0                  0                   0   \n",
       "2                      0                  0                   0   \n",
       "3                      0                  0                   0   \n",
       "4                      0                  0                   0   \n",
       "...                  ...                ...                 ...   \n",
       "698931                 4                  0                   2   \n",
       "698932                 2                  9                   2   \n",
       "698933                 3                  9                   3   \n",
       "698934                13                  0                   1   \n",
       "698935                14                  0                   1   \n",
       "\n",
       "        comedy_exp_so_far  \n",
       "0                       0  \n",
       "1                       0  \n",
       "2                       0  \n",
       "3                       0  \n",
       "4                       0  \n",
       "...                   ...  \n",
       "698931                  0  \n",
       "698932                  4  \n",
       "698933                  4  \n",
       "698934                  1  \n",
       "698935                  1  \n",
       "\n",
       "[698936 rows x 18 columns]"
      ]
     },
     "execution_count": 35,
     "metadata": {},
     "output_type": "execute_result"
    }
   ],
   "source": [
    "movie_data = pd.read_csv(\"data/actor_movie_combi2.csv\")\n",
    "movie_data.head(-10)"
   ]
  },
  {
   "cell_type": "markdown",
   "metadata": {},
   "source": [
    "# Credibility\n",
    "- 1. genre pair pattern"
   ]
  },
  {
   "cell_type": "code",
   "execution_count": 36,
   "metadata": {},
   "outputs": [
    {
     "name": "stderr",
     "output_type": "stream",
     "text": [
      "[d3blocks] >INFO> Cleaning edge_properties and config parameters..\n",
      "[d3blocks] >INFO> Cleaning edge_properties and config parameters..\n",
      "[d3blocks] >INFO> Initializing [Chord]\n",
      "[d3blocks] >INFO> Convert to Frame.\n",
      "[d3blocks] >INFO> Node properties are set.\n",
      "[d3blocks] >INFO> Set edge-opacity based on the [source] node-opacity.\n",
      "[d3blocks] >INFO> Set edge-colors based on the [source] node-color.\n",
      "[d3blocks] >INFO> Edge properties are set.\n",
      "[d3blocks] >INFO> File already exists and will be overwritten: [/var/folders/hc/l31vrq9j7_s_2l_yt65xnntr0000gp/T/d3blocks/chord.html]\n",
      "[d3blocks] >INFO> File not found: [file:////var/folders/hc/l31vrq9j7_s_2l_yt65xnntr0000gp/T/d3blocks/chord.html]\n"
     ]
    }
   ],
   "source": [
    "target_genres = [\"Drama\", \"Comedy\", \"Crime\", \"Action\", \"Romance\", \"Family\", \"Adventure\", \"Mystery\", \"War\", \"Musical\", \"Thriller\"]\n",
    "genre_matrix = np.zeros((len(target_genres), len(target_genres)))\n",
    "\n",
    "# filter out movies with single genre.\n",
    "multiple_genres_movie = movie_data[movie_data[\"genres\"].str.contains(\",\")].reset_index()\n",
    "for i in range(len(multiple_genres_movie)):\n",
    "    for index1, first_genre in enumerate(target_genres):\n",
    "        for index2, second_genre in enumerate(target_genres):\n",
    "            if (first_genre != second_genre) and (first_genre in multiple_genres_movie[\"genres\"][i]) and (second_genre in multiple_genres_movie[\"genres\"][i]):\n",
    "                genre_matrix[index1, index2] += 1\n",
    "\n",
    "matrix = [list(genre_matrix[genre_index, :]) for genre_index in range(len(target_genres))]\n",
    "rows = []\n",
    "for index1 in range(len(target_genres)):\n",
    "    for index2 in range(index1, len(target_genres)):\n",
    "        row = {\n",
    "            \"source\": target_genres[index1],\n",
    "            \"target\": target_genres[index2],\n",
    "            \"weight\": matrix[index1][index2],\n",
    "        }\n",
    "        row = pd.DataFrame(data=row, index=[0])\n",
    "        rows.append(row)\n",
    "\n",
    "plot_matrix = pd.concat(rows)\n",
    "\n",
    "# Initialize\n",
    "d3 = D3Blocks()\n",
    "\n",
    "# chord plot\n",
    "d3.chord(plot_matrix)"
   ]
  },
  {
   "cell_type": "markdown",
   "metadata": {},
   "source": [
    "- 2. What background does you need to get a movie of particular genre?"
   ]
  },
  {
   "cell_type": "code",
   "execution_count": 49,
   "metadata": {},
   "outputs": [
    {
     "data": {
      "text/html": [
       "<div>\n",
       "<style scoped>\n",
       "    .dataframe tbody tr th:only-of-type {\n",
       "        vertical-align: middle;\n",
       "    }\n",
       "\n",
       "    .dataframe tbody tr th {\n",
       "        vertical-align: top;\n",
       "    }\n",
       "\n",
       "    .dataframe thead th {\n",
       "        text-align: right;\n",
       "    }\n",
       "</style>\n",
       "<table border=\"1\" class=\"dataframe\">\n",
       "  <thead>\n",
       "    <tr style=\"text-align: right;\">\n",
       "      <th></th>\n",
       "      <th>Unnamed: 0</th>\n",
       "      <th>tconst</th>\n",
       "      <th>ordering</th>\n",
       "      <th>nconst</th>\n",
       "      <th>gender</th>\n",
       "      <th>primaryName</th>\n",
       "      <th>birthYear</th>\n",
       "      <th>deathYear</th>\n",
       "      <th>startYear</th>\n",
       "      <th>genres</th>\n",
       "      <th>...</th>\n",
       "      <th>comedy_exp_so_far</th>\n",
       "      <th>crime_exp_so_far</th>\n",
       "      <th>war_exp_so_far</th>\n",
       "      <th>family_exp_so_far</th>\n",
       "      <th>mystery_exp_so_far</th>\n",
       "      <th>Drama</th>\n",
       "      <th>Action</th>\n",
       "      <th>Adventure</th>\n",
       "      <th>Romance</th>\n",
       "      <th>Comedy</th>\n",
       "    </tr>\n",
       "  </thead>\n",
       "  <tbody>\n",
       "    <tr>\n",
       "      <th>0</th>\n",
       "      <td>15</td>\n",
       "      <td>tt0000009</td>\n",
       "      <td>3</td>\n",
       "      <td>nm1309758</td>\n",
       "      <td>0</td>\n",
       "      <td>Chauncey Depew</td>\n",
       "      <td>1834.0</td>\n",
       "      <td>1928</td>\n",
       "      <td>1894.0</td>\n",
       "      <td>Romance</td>\n",
       "      <td>...</td>\n",
       "      <td>0</td>\n",
       "      <td>0</td>\n",
       "      <td>0</td>\n",
       "      <td>0</td>\n",
       "      <td>0</td>\n",
       "      <td>0</td>\n",
       "      <td>0</td>\n",
       "      <td>0</td>\n",
       "      <td>1</td>\n",
       "      <td>0</td>\n",
       "    </tr>\n",
       "    <tr>\n",
       "      <th>1</th>\n",
       "      <td>16</td>\n",
       "      <td>tt0000009</td>\n",
       "      <td>1</td>\n",
       "      <td>nm0063086</td>\n",
       "      <td>1</td>\n",
       "      <td>Blanche Bayliss</td>\n",
       "      <td>1878.0</td>\n",
       "      <td>1951</td>\n",
       "      <td>1894.0</td>\n",
       "      <td>Romance</td>\n",
       "      <td>...</td>\n",
       "      <td>0</td>\n",
       "      <td>0</td>\n",
       "      <td>0</td>\n",
       "      <td>0</td>\n",
       "      <td>0</td>\n",
       "      <td>0</td>\n",
       "      <td>0</td>\n",
       "      <td>0</td>\n",
       "      <td>1</td>\n",
       "      <td>0</td>\n",
       "    </tr>\n",
       "    <tr>\n",
       "      <th>2</th>\n",
       "      <td>22</td>\n",
       "      <td>tt0000009</td>\n",
       "      <td>2</td>\n",
       "      <td>nm0183823</td>\n",
       "      <td>0</td>\n",
       "      <td>William Courtenay</td>\n",
       "      <td>1875.0</td>\n",
       "      <td>1933</td>\n",
       "      <td>1894.0</td>\n",
       "      <td>Romance</td>\n",
       "      <td>...</td>\n",
       "      <td>0</td>\n",
       "      <td>0</td>\n",
       "      <td>0</td>\n",
       "      <td>0</td>\n",
       "      <td>0</td>\n",
       "      <td>0</td>\n",
       "      <td>0</td>\n",
       "      <td>0</td>\n",
       "      <td>1</td>\n",
       "      <td>0</td>\n",
       "    </tr>\n",
       "    <tr>\n",
       "      <th>3</th>\n",
       "      <td>74</td>\n",
       "      <td>tt1666737</td>\n",
       "      <td>1</td>\n",
       "      <td>nm0525908</td>\n",
       "      <td>0</td>\n",
       "      <td>Auguste Lumière</td>\n",
       "      <td>1862.0</td>\n",
       "      <td>1954</td>\n",
       "      <td>1896.0</td>\n",
       "      <td>Action,Comedy,Family</td>\n",
       "      <td>...</td>\n",
       "      <td>2</td>\n",
       "      <td>0</td>\n",
       "      <td>0</td>\n",
       "      <td>1</td>\n",
       "      <td>0</td>\n",
       "      <td>0</td>\n",
       "      <td>1</td>\n",
       "      <td>0</td>\n",
       "      <td>0</td>\n",
       "      <td>1</td>\n",
       "    </tr>\n",
       "    <tr>\n",
       "      <th>4</th>\n",
       "      <td>142</td>\n",
       "      <td>tt0000211</td>\n",
       "      <td>1</td>\n",
       "      <td>nm0194945</td>\n",
       "      <td>1</td>\n",
       "      <td>Jehanne d'Alcy</td>\n",
       "      <td>1865.0</td>\n",
       "      <td>1956</td>\n",
       "      <td>1898.0</td>\n",
       "      <td>Comedy,Fantasy,Horror</td>\n",
       "      <td>...</td>\n",
       "      <td>1</td>\n",
       "      <td>0</td>\n",
       "      <td>0</td>\n",
       "      <td>0</td>\n",
       "      <td>0</td>\n",
       "      <td>0</td>\n",
       "      <td>0</td>\n",
       "      <td>0</td>\n",
       "      <td>0</td>\n",
       "      <td>1</td>\n",
       "    </tr>\n",
       "    <tr>\n",
       "      <th>...</th>\n",
       "      <td>...</td>\n",
       "      <td>...</td>\n",
       "      <td>...</td>\n",
       "      <td>...</td>\n",
       "      <td>...</td>\n",
       "      <td>...</td>\n",
       "      <td>...</td>\n",
       "      <td>...</td>\n",
       "      <td>...</td>\n",
       "      <td>...</td>\n",
       "      <td>...</td>\n",
       "      <td>...</td>\n",
       "      <td>...</td>\n",
       "      <td>...</td>\n",
       "      <td>...</td>\n",
       "      <td>...</td>\n",
       "      <td>...</td>\n",
       "      <td>...</td>\n",
       "      <td>...</td>\n",
       "      <td>...</td>\n",
       "      <td>...</td>\n",
       "    </tr>\n",
       "    <tr>\n",
       "      <th>486530</th>\n",
       "      <td>698923</td>\n",
       "      <td>tt18351130</td>\n",
       "      <td>3</td>\n",
       "      <td>nm0430074</td>\n",
       "      <td>0</td>\n",
       "      <td>Leslie Jordan</td>\n",
       "      <td>1955.0</td>\n",
       "      <td>2022</td>\n",
       "      <td>2022.0</td>\n",
       "      <td>Comedy</td>\n",
       "      <td>...</td>\n",
       "      <td>99</td>\n",
       "      <td>18</td>\n",
       "      <td>0</td>\n",
       "      <td>1</td>\n",
       "      <td>0</td>\n",
       "      <td>0</td>\n",
       "      <td>0</td>\n",
       "      <td>0</td>\n",
       "      <td>0</td>\n",
       "      <td>1</td>\n",
       "    </tr>\n",
       "    <tr>\n",
       "      <th>486531</th>\n",
       "      <td>698926</td>\n",
       "      <td>tt18561180</td>\n",
       "      <td>3</td>\n",
       "      <td>nm0430074</td>\n",
       "      <td>0</td>\n",
       "      <td>Leslie Jordan</td>\n",
       "      <td>1955.0</td>\n",
       "      <td>2022</td>\n",
       "      <td>2022.0</td>\n",
       "      <td>Comedy</td>\n",
       "      <td>...</td>\n",
       "      <td>100</td>\n",
       "      <td>18</td>\n",
       "      <td>0</td>\n",
       "      <td>1</td>\n",
       "      <td>0</td>\n",
       "      <td>0</td>\n",
       "      <td>0</td>\n",
       "      <td>0</td>\n",
       "      <td>0</td>\n",
       "      <td>1</td>\n",
       "    </tr>\n",
       "    <tr>\n",
       "      <th>486532</th>\n",
       "      <td>698927</td>\n",
       "      <td>tt18568804</td>\n",
       "      <td>3</td>\n",
       "      <td>nm0430074</td>\n",
       "      <td>0</td>\n",
       "      <td>Leslie Jordan</td>\n",
       "      <td>1955.0</td>\n",
       "      <td>2022</td>\n",
       "      <td>2022.0</td>\n",
       "      <td>Comedy</td>\n",
       "      <td>...</td>\n",
       "      <td>101</td>\n",
       "      <td>18</td>\n",
       "      <td>0</td>\n",
       "      <td>1</td>\n",
       "      <td>0</td>\n",
       "      <td>0</td>\n",
       "      <td>0</td>\n",
       "      <td>0</td>\n",
       "      <td>0</td>\n",
       "      <td>1</td>\n",
       "    </tr>\n",
       "    <tr>\n",
       "      <th>486533</th>\n",
       "      <td>698931</td>\n",
       "      <td>tt7728792</td>\n",
       "      <td>2</td>\n",
       "      <td>nm6074154</td>\n",
       "      <td>0</td>\n",
       "      <td>Harry Hains</td>\n",
       "      <td>1992.0</td>\n",
       "      <td>2020</td>\n",
       "      <td>2022.0</td>\n",
       "      <td>Drama</td>\n",
       "      <td>...</td>\n",
       "      <td>0</td>\n",
       "      <td>0</td>\n",
       "      <td>0</td>\n",
       "      <td>0</td>\n",
       "      <td>0</td>\n",
       "      <td>1</td>\n",
       "      <td>0</td>\n",
       "      <td>0</td>\n",
       "      <td>0</td>\n",
       "      <td>0</td>\n",
       "    </tr>\n",
       "    <tr>\n",
       "      <th>486534</th>\n",
       "      <td>698932</td>\n",
       "      <td>tt21045916</td>\n",
       "      <td>3</td>\n",
       "      <td>nm0582378</td>\n",
       "      <td>0</td>\n",
       "      <td>Sombat Metanee</td>\n",
       "      <td>1937.0</td>\n",
       "      <td>2022</td>\n",
       "      <td>2022.0</td>\n",
       "      <td>Drama,Romance</td>\n",
       "      <td>...</td>\n",
       "      <td>4</td>\n",
       "      <td>3</td>\n",
       "      <td>0</td>\n",
       "      <td>0</td>\n",
       "      <td>0</td>\n",
       "      <td>1</td>\n",
       "      <td>0</td>\n",
       "      <td>0</td>\n",
       "      <td>1</td>\n",
       "      <td>0</td>\n",
       "    </tr>\n",
       "  </tbody>\n",
       "</table>\n",
       "<p>486535 rows × 28 columns</p>\n",
       "</div>"
      ],
      "text/plain": [
       "        Unnamed: 0      tconst  ordering     nconst  gender  \\\n",
       "0               15   tt0000009         3  nm1309758       0   \n",
       "1               16   tt0000009         1  nm0063086       1   \n",
       "2               22   tt0000009         2  nm0183823       0   \n",
       "3               74   tt1666737         1  nm0525908       0   \n",
       "4              142   tt0000211         1  nm0194945       1   \n",
       "...            ...         ...       ...        ...     ...   \n",
       "486530      698923  tt18351130         3  nm0430074       0   \n",
       "486531      698926  tt18561180         3  nm0430074       0   \n",
       "486532      698927  tt18568804         3  nm0430074       0   \n",
       "486533      698931   tt7728792         2  nm6074154       0   \n",
       "486534      698932  tt21045916         3  nm0582378       0   \n",
       "\n",
       "              primaryName  birthYear  deathYear  startYear  \\\n",
       "0          Chauncey Depew     1834.0       1928     1894.0   \n",
       "1         Blanche Bayliss     1878.0       1951     1894.0   \n",
       "2       William Courtenay     1875.0       1933     1894.0   \n",
       "3         Auguste Lumière     1862.0       1954     1896.0   \n",
       "4          Jehanne d'Alcy     1865.0       1956     1898.0   \n",
       "...                   ...        ...        ...        ...   \n",
       "486530      Leslie Jordan     1955.0       2022     2022.0   \n",
       "486531      Leslie Jordan     1955.0       2022     2022.0   \n",
       "486532      Leslie Jordan     1955.0       2022     2022.0   \n",
       "486533        Harry Hains     1992.0       2020     2022.0   \n",
       "486534     Sombat Metanee     1937.0       2022     2022.0   \n",
       "\n",
       "                       genres  ...  comedy_exp_so_far  crime_exp_so_far  \\\n",
       "0                     Romance  ...                  0                 0   \n",
       "1                     Romance  ...                  0                 0   \n",
       "2                     Romance  ...                  0                 0   \n",
       "3        Action,Comedy,Family  ...                  2                 0   \n",
       "4       Comedy,Fantasy,Horror  ...                  1                 0   \n",
       "...                       ...  ...                ...               ...   \n",
       "486530                 Comedy  ...                 99                18   \n",
       "486531                 Comedy  ...                100                18   \n",
       "486532                 Comedy  ...                101                18   \n",
       "486533                  Drama  ...                  0                 0   \n",
       "486534          Drama,Romance  ...                  4                 3   \n",
       "\n",
       "        war_exp_so_far  family_exp_so_far  mystery_exp_so_far  Drama  Action  \\\n",
       "0                    0                  0                   0      0       0   \n",
       "1                    0                  0                   0      0       0   \n",
       "2                    0                  0                   0      0       0   \n",
       "3                    0                  1                   0      0       1   \n",
       "4                    0                  0                   0      0       0   \n",
       "...                ...                ...                 ...    ...     ...   \n",
       "486530               0                  1                   0      0       0   \n",
       "486531               0                  1                   0      0       0   \n",
       "486532               0                  1                   0      0       0   \n",
       "486533               0                  0                   0      1       0   \n",
       "486534               0                  0                   0      1       0   \n",
       "\n",
       "        Adventure  Romance  Comedy  \n",
       "0               0        1       0  \n",
       "1               0        1       0  \n",
       "2               0        1       0  \n",
       "3               0        0       1  \n",
       "4               0        0       1  \n",
       "...           ...      ...     ...  \n",
       "486530          0        0       1  \n",
       "486531          0        0       1  \n",
       "486532          0        0       1  \n",
       "486533          0        0       0  \n",
       "486534          0        1       0  \n",
       "\n",
       "[486535 rows x 28 columns]"
      ]
     },
     "execution_count": 49,
     "metadata": {},
     "output_type": "execute_result"
    }
   ],
   "source": [
    "movie_data = pd.read_csv(\"data/genre_experience.csv\")\n",
    "movie_data.head(-10)"
   ]
  },
  {
   "cell_type": "code",
   "execution_count": 56,
   "metadata": {},
   "outputs": [
    {
     "data": {
      "text/plain": [
       "Index(['Unnamed: 0', 'tconst', 'ordering', 'nconst', 'gender', 'primaryName',\n",
       "       'birthYear', 'deathYear', 'startYear', 'genres', 'deatYear',\n",
       "       'age_at_movie_start', 'averageRating', 'numVotes', 'exp_so_far',\n",
       "       'drama_exp_so_far', 'action_exp_so_far', 'romance_exp_so_far',\n",
       "       'comedy_exp_so_far', 'crime_exp_so_far', 'war_exp_so_far',\n",
       "       'family_exp_so_far', 'mystery_exp_so_far', 'Drama', 'Action',\n",
       "       'Adventure', 'Romance', 'Comedy'],\n",
       "      dtype='object')"
      ]
     },
     "execution_count": 56,
     "metadata": {},
     "output_type": "execute_result"
    }
   ],
   "source": [
    "movie_data.columns"
   ]
  },
  {
   "cell_type": "code",
   "execution_count": 73,
   "metadata": {},
   "outputs": [
    {
     "data": {
      "text/plain": [
       "[[1.0,\n",
       "  0.33122421638616023,\n",
       "  0.3475828366072777,\n",
       "  0.4148992625300694,\n",
       "  0.6604587195636393,\n",
       "  0.14133254010769872,\n",
       "  0.33219610937447064,\n",
       "  0.5027843235441387],\n",
       " [0.4741118747804988,\n",
       "  1.0,\n",
       "  0.01053863903995987,\n",
       "  0.23217147187192408,\n",
       "  0.5987133526364763,\n",
       "  0.12570959619981595,\n",
       "  0.12328133616806136,\n",
       "  0.11397715346952726],\n",
       " [0.8236204855536398,\n",
       "  0.11494900241236616,\n",
       "  1.0,\n",
       "  0.632892937004162,\n",
       "  0.1359947922914056,\n",
       "  -0.0034836157456953044,\n",
       "  0.3676120963548429,\n",
       "  0.07908826734728817],\n",
       " [0.3730353223014378,\n",
       "  0.11369746914139921,\n",
       "  0.2401741930318785,\n",
       "  1.0,\n",
       "  0.15588788511153553,\n",
       "  0.13275332471803414,\n",
       "  0.6801294674909604,\n",
       "  0.06305040564199375],\n",
       " [0.8833215613458237,\n",
       "  0.4447523386694388,\n",
       "  -0.00601413384575488,\n",
       "  0.22911398909314215,\n",
       "  1.0,\n",
       "  0.031202789585442037,\n",
       "  0.10042053582611443,\n",
       "  0.6801953937932703],\n",
       " [0.36911828654637924,\n",
       "  0.2954932856416001,\n",
       "  -0.05694774981349347,\n",
       "  0.8459789160094907,\n",
       "  0.2180725236245068,\n",
       "  1.0,\n",
       "  0.055508209227943896,\n",
       "  0.25277941030643275],\n",
       " [0.38779309200620987,\n",
       "  -0.028093780189226675,\n",
       "  0.15222162410627896,\n",
       "  0.9093664825455826,\n",
       "  -0.0014617396940484393,\n",
       "  0.0047117491521686886,\n",
       "  1.0,\n",
       "  0.0037130561086142987],\n",
       " [0.9122147592716158,\n",
       "  0.11452869768049087,\n",
       "  -0.018496017969351866,\n",
       "  0.11874952579151339,\n",
       "  0.9422376666248801,\n",
       "  0.019106009837074042,\n",
       "  0.11831825892310159,\n",
       "  1.0]]"
      ]
     },
     "execution_count": 73,
     "metadata": {},
     "output_type": "execute_result"
    }
   ],
   "source": [
    "genres = [\"Drama\", \"Action\", \"Romance\", \"Comedy\", \"Crime\", \"War\", \"Family\", \"Mystery\"]\n",
    "corr_before_ongoing_genres = []\n",
    "# movie_data_par_genre[\"imp_genres_exp\"] = movie_data_par_genre[\"drama_exp_so_far\"] + movie_data_par_genre[\"action_exp_so_far\"] + movie_data_par_genre[\"romance_exp_so_far\"] + movie_data_par_genre[\"comedy_exp_so_far\"]\n",
    "for genre in genres:\n",
    "    movie_data_par_genre = movie_data[movie_data[\"genres\"].str.contains(genre)]\n",
    "    # corr = movie_data_par_genre[[\"age_at_movie_start\", \"averageRating\", \"numVotes\", \"exp_so_far\", \"drama_exp_so_far\", \"action_exp_so_far\", \"romance_exp_so_far\", \"comedy_exp_so_far\", \"crime_exp_so_far\", \"war_exp_so_far\", \"family_exp_so_far\", \"mystery_exp_so_far\", \"imp_genres_exp\"]].corr()\n",
    "    corr = movie_data_par_genre[[\"drama_exp_so_far\", \"action_exp_so_far\", \"romance_exp_so_far\", \"comedy_exp_so_far\", \"crime_exp_so_far\", \"war_exp_so_far\", \"family_exp_so_far\", \"mystery_exp_so_far\"]].corr()\n",
    "    corr_before_ongoing_genres.append(list(corr.loc[f\"{genre.lower()}_exp_so_far\"]))\n",
    "    # corr.style.background_gradient(cmap='coolwarm').set_precision(2)\n"
   ]
  },
  {
   "cell_type": "code",
   "execution_count": 83,
   "metadata": {},
   "outputs": [
    {
     "data": {
      "application/vnd.plotly.v1+json": {
       "config": {
        "plotlyServerURL": "https://plot.ly"
       },
       "data": [
        {
         "coloraxis": "coloraxis",
         "hovertemplate": "Genres experience in the past: %{x}<br>Genre of the current movie: %{y}<br>correlation: %{z}<extra></extra>",
         "name": "0",
         "type": "heatmap",
         "x": [
          "Drama",
          "Action",
          "Romance",
          "Comedy",
          "Crime",
          "War",
          "Family",
          "Mystery"
         ],
         "xaxis": "x",
         "y": [
          "Drama",
          "Action",
          "Romance",
          "Comedy",
          "Crime",
          "War",
          "Family",
          "Mystery"
         ],
         "yaxis": "y",
         "z": [
          [
           1,
           0.33122421638616023,
           0.3475828366072777,
           0.4148992625300694,
           0.6604587195636393,
           0.14133254010769872,
           0.33219610937447064,
           0.5027843235441387
          ],
          [
           0.4741118747804988,
           1,
           0.01053863903995987,
           0.23217147187192408,
           0.5987133526364763,
           0.12570959619981595,
           0.12328133616806136,
           0.11397715346952726
          ],
          [
           0.8236204855536398,
           0.11494900241236616,
           1,
           0.632892937004162,
           0.1359947922914056,
           -0.0034836157456953044,
           0.3676120963548429,
           0.07908826734728817
          ],
          [
           0.3730353223014378,
           0.11369746914139921,
           0.2401741930318785,
           1,
           0.15588788511153553,
           0.13275332471803414,
           0.6801294674909604,
           0.06305040564199375
          ],
          [
           0.8833215613458237,
           0.4447523386694388,
           -0.00601413384575488,
           0.22911398909314215,
           1,
           0.031202789585442037,
           0.10042053582611443,
           0.6801953937932703
          ],
          [
           0.36911828654637924,
           0.2954932856416001,
           -0.05694774981349347,
           0.8459789160094907,
           0.2180725236245068,
           1,
           0.055508209227943896,
           0.25277941030643275
          ],
          [
           0.38779309200620987,
           -0.028093780189226675,
           0.15222162410627896,
           0.9093664825455826,
           -0.0014617396940484393,
           0.0047117491521686886,
           1,
           0.0037130561086142987
          ],
          [
           0.9122147592716158,
           0.11452869768049087,
           -0.018496017969351866,
           0.11874952579151339,
           0.9422376666248801,
           0.019106009837074042,
           0.11831825892310159,
           1
          ]
         ]
        }
       ],
       "layout": {
        "coloraxis": {
         "colorbar": {
          "title": {
           "text": "correlation"
          }
         },
         "colorscale": [
          [
           0,
           "#fee838"
          ],
          [
           0.1111111111111111,
           "#e1cc55"
          ],
          [
           0.2222222222222222,
           "#c3b369"
          ],
          [
           0.3333333333333333,
           "#a59c74"
          ],
          [
           0.4444444444444444,
           "#8a8678"
          ],
          [
           0.5555555555555556,
           "#707173"
          ],
          [
           0.6666666666666666,
           "#575d6d"
          ],
          [
           0.7777777777777778,
           "#3b496c"
          ],
          [
           0.8888888888888888,
           "#123570"
          ],
          [
           1,
           "#00224e"
          ]
         ]
        },
        "margin": {
         "t": 60
        },
        "template": {
         "data": {
          "bar": [
           {
            "error_x": {
             "color": "#2a3f5f"
            },
            "error_y": {
             "color": "#2a3f5f"
            },
            "marker": {
             "line": {
              "color": "#E5ECF6",
              "width": 0.5
             },
             "pattern": {
              "fillmode": "overlay",
              "size": 10,
              "solidity": 0.2
             }
            },
            "type": "bar"
           }
          ],
          "barpolar": [
           {
            "marker": {
             "line": {
              "color": "#E5ECF6",
              "width": 0.5
             },
             "pattern": {
              "fillmode": "overlay",
              "size": 10,
              "solidity": 0.2
             }
            },
            "type": "barpolar"
           }
          ],
          "carpet": [
           {
            "aaxis": {
             "endlinecolor": "#2a3f5f",
             "gridcolor": "white",
             "linecolor": "white",
             "minorgridcolor": "white",
             "startlinecolor": "#2a3f5f"
            },
            "baxis": {
             "endlinecolor": "#2a3f5f",
             "gridcolor": "white",
             "linecolor": "white",
             "minorgridcolor": "white",
             "startlinecolor": "#2a3f5f"
            },
            "type": "carpet"
           }
          ],
          "choropleth": [
           {
            "colorbar": {
             "outlinewidth": 0,
             "ticks": ""
            },
            "type": "choropleth"
           }
          ],
          "contour": [
           {
            "colorbar": {
             "outlinewidth": 0,
             "ticks": ""
            },
            "colorscale": [
             [
              0,
              "#0d0887"
             ],
             [
              0.1111111111111111,
              "#46039f"
             ],
             [
              0.2222222222222222,
              "#7201a8"
             ],
             [
              0.3333333333333333,
              "#9c179e"
             ],
             [
              0.4444444444444444,
              "#bd3786"
             ],
             [
              0.5555555555555556,
              "#d8576b"
             ],
             [
              0.6666666666666666,
              "#ed7953"
             ],
             [
              0.7777777777777778,
              "#fb9f3a"
             ],
             [
              0.8888888888888888,
              "#fdca26"
             ],
             [
              1,
              "#f0f921"
             ]
            ],
            "type": "contour"
           }
          ],
          "contourcarpet": [
           {
            "colorbar": {
             "outlinewidth": 0,
             "ticks": ""
            },
            "type": "contourcarpet"
           }
          ],
          "heatmap": [
           {
            "colorbar": {
             "outlinewidth": 0,
             "ticks": ""
            },
            "colorscale": [
             [
              0,
              "#0d0887"
             ],
             [
              0.1111111111111111,
              "#46039f"
             ],
             [
              0.2222222222222222,
              "#7201a8"
             ],
             [
              0.3333333333333333,
              "#9c179e"
             ],
             [
              0.4444444444444444,
              "#bd3786"
             ],
             [
              0.5555555555555556,
              "#d8576b"
             ],
             [
              0.6666666666666666,
              "#ed7953"
             ],
             [
              0.7777777777777778,
              "#fb9f3a"
             ],
             [
              0.8888888888888888,
              "#fdca26"
             ],
             [
              1,
              "#f0f921"
             ]
            ],
            "type": "heatmap"
           }
          ],
          "heatmapgl": [
           {
            "colorbar": {
             "outlinewidth": 0,
             "ticks": ""
            },
            "colorscale": [
             [
              0,
              "#0d0887"
             ],
             [
              0.1111111111111111,
              "#46039f"
             ],
             [
              0.2222222222222222,
              "#7201a8"
             ],
             [
              0.3333333333333333,
              "#9c179e"
             ],
             [
              0.4444444444444444,
              "#bd3786"
             ],
             [
              0.5555555555555556,
              "#d8576b"
             ],
             [
              0.6666666666666666,
              "#ed7953"
             ],
             [
              0.7777777777777778,
              "#fb9f3a"
             ],
             [
              0.8888888888888888,
              "#fdca26"
             ],
             [
              1,
              "#f0f921"
             ]
            ],
            "type": "heatmapgl"
           }
          ],
          "histogram": [
           {
            "marker": {
             "pattern": {
              "fillmode": "overlay",
              "size": 10,
              "solidity": 0.2
             }
            },
            "type": "histogram"
           }
          ],
          "histogram2d": [
           {
            "colorbar": {
             "outlinewidth": 0,
             "ticks": ""
            },
            "colorscale": [
             [
              0,
              "#0d0887"
             ],
             [
              0.1111111111111111,
              "#46039f"
             ],
             [
              0.2222222222222222,
              "#7201a8"
             ],
             [
              0.3333333333333333,
              "#9c179e"
             ],
             [
              0.4444444444444444,
              "#bd3786"
             ],
             [
              0.5555555555555556,
              "#d8576b"
             ],
             [
              0.6666666666666666,
              "#ed7953"
             ],
             [
              0.7777777777777778,
              "#fb9f3a"
             ],
             [
              0.8888888888888888,
              "#fdca26"
             ],
             [
              1,
              "#f0f921"
             ]
            ],
            "type": "histogram2d"
           }
          ],
          "histogram2dcontour": [
           {
            "colorbar": {
             "outlinewidth": 0,
             "ticks": ""
            },
            "colorscale": [
             [
              0,
              "#0d0887"
             ],
             [
              0.1111111111111111,
              "#46039f"
             ],
             [
              0.2222222222222222,
              "#7201a8"
             ],
             [
              0.3333333333333333,
              "#9c179e"
             ],
             [
              0.4444444444444444,
              "#bd3786"
             ],
             [
              0.5555555555555556,
              "#d8576b"
             ],
             [
              0.6666666666666666,
              "#ed7953"
             ],
             [
              0.7777777777777778,
              "#fb9f3a"
             ],
             [
              0.8888888888888888,
              "#fdca26"
             ],
             [
              1,
              "#f0f921"
             ]
            ],
            "type": "histogram2dcontour"
           }
          ],
          "mesh3d": [
           {
            "colorbar": {
             "outlinewidth": 0,
             "ticks": ""
            },
            "type": "mesh3d"
           }
          ],
          "parcoords": [
           {
            "line": {
             "colorbar": {
              "outlinewidth": 0,
              "ticks": ""
             }
            },
            "type": "parcoords"
           }
          ],
          "pie": [
           {
            "automargin": true,
            "type": "pie"
           }
          ],
          "scatter": [
           {
            "fillpattern": {
             "fillmode": "overlay",
             "size": 10,
             "solidity": 0.2
            },
            "type": "scatter"
           }
          ],
          "scatter3d": [
           {
            "line": {
             "colorbar": {
              "outlinewidth": 0,
              "ticks": ""
             }
            },
            "marker": {
             "colorbar": {
              "outlinewidth": 0,
              "ticks": ""
             }
            },
            "type": "scatter3d"
           }
          ],
          "scattercarpet": [
           {
            "marker": {
             "colorbar": {
              "outlinewidth": 0,
              "ticks": ""
             }
            },
            "type": "scattercarpet"
           }
          ],
          "scattergeo": [
           {
            "marker": {
             "colorbar": {
              "outlinewidth": 0,
              "ticks": ""
             }
            },
            "type": "scattergeo"
           }
          ],
          "scattergl": [
           {
            "marker": {
             "colorbar": {
              "outlinewidth": 0,
              "ticks": ""
             }
            },
            "type": "scattergl"
           }
          ],
          "scattermapbox": [
           {
            "marker": {
             "colorbar": {
              "outlinewidth": 0,
              "ticks": ""
             }
            },
            "type": "scattermapbox"
           }
          ],
          "scatterpolar": [
           {
            "marker": {
             "colorbar": {
              "outlinewidth": 0,
              "ticks": ""
             }
            },
            "type": "scatterpolar"
           }
          ],
          "scatterpolargl": [
           {
            "marker": {
             "colorbar": {
              "outlinewidth": 0,
              "ticks": ""
             }
            },
            "type": "scatterpolargl"
           }
          ],
          "scatterternary": [
           {
            "marker": {
             "colorbar": {
              "outlinewidth": 0,
              "ticks": ""
             }
            },
            "type": "scatterternary"
           }
          ],
          "surface": [
           {
            "colorbar": {
             "outlinewidth": 0,
             "ticks": ""
            },
            "colorscale": [
             [
              0,
              "#0d0887"
             ],
             [
              0.1111111111111111,
              "#46039f"
             ],
             [
              0.2222222222222222,
              "#7201a8"
             ],
             [
              0.3333333333333333,
              "#9c179e"
             ],
             [
              0.4444444444444444,
              "#bd3786"
             ],
             [
              0.5555555555555556,
              "#d8576b"
             ],
             [
              0.6666666666666666,
              "#ed7953"
             ],
             [
              0.7777777777777778,
              "#fb9f3a"
             ],
             [
              0.8888888888888888,
              "#fdca26"
             ],
             [
              1,
              "#f0f921"
             ]
            ],
            "type": "surface"
           }
          ],
          "table": [
           {
            "cells": {
             "fill": {
              "color": "#EBF0F8"
             },
             "line": {
              "color": "white"
             }
            },
            "header": {
             "fill": {
              "color": "#C8D4E3"
             },
             "line": {
              "color": "white"
             }
            },
            "type": "table"
           }
          ]
         },
         "layout": {
          "annotationdefaults": {
           "arrowcolor": "#2a3f5f",
           "arrowhead": 0,
           "arrowwidth": 1
          },
          "autotypenumbers": "strict",
          "coloraxis": {
           "colorbar": {
            "outlinewidth": 0,
            "ticks": ""
           }
          },
          "colorscale": {
           "diverging": [
            [
             0,
             "#8e0152"
            ],
            [
             0.1,
             "#c51b7d"
            ],
            [
             0.2,
             "#de77ae"
            ],
            [
             0.3,
             "#f1b6da"
            ],
            [
             0.4,
             "#fde0ef"
            ],
            [
             0.5,
             "#f7f7f7"
            ],
            [
             0.6,
             "#e6f5d0"
            ],
            [
             0.7,
             "#b8e186"
            ],
            [
             0.8,
             "#7fbc41"
            ],
            [
             0.9,
             "#4d9221"
            ],
            [
             1,
             "#276419"
            ]
           ],
           "sequential": [
            [
             0,
             "#0d0887"
            ],
            [
             0.1111111111111111,
             "#46039f"
            ],
            [
             0.2222222222222222,
             "#7201a8"
            ],
            [
             0.3333333333333333,
             "#9c179e"
            ],
            [
             0.4444444444444444,
             "#bd3786"
            ],
            [
             0.5555555555555556,
             "#d8576b"
            ],
            [
             0.6666666666666666,
             "#ed7953"
            ],
            [
             0.7777777777777778,
             "#fb9f3a"
            ],
            [
             0.8888888888888888,
             "#fdca26"
            ],
            [
             1,
             "#f0f921"
            ]
           ],
           "sequentialminus": [
            [
             0,
             "#0d0887"
            ],
            [
             0.1111111111111111,
             "#46039f"
            ],
            [
             0.2222222222222222,
             "#7201a8"
            ],
            [
             0.3333333333333333,
             "#9c179e"
            ],
            [
             0.4444444444444444,
             "#bd3786"
            ],
            [
             0.5555555555555556,
             "#d8576b"
            ],
            [
             0.6666666666666666,
             "#ed7953"
            ],
            [
             0.7777777777777778,
             "#fb9f3a"
            ],
            [
             0.8888888888888888,
             "#fdca26"
            ],
            [
             1,
             "#f0f921"
            ]
           ]
          },
          "colorway": [
           "#636efa",
           "#EF553B",
           "#00cc96",
           "#ab63fa",
           "#FFA15A",
           "#19d3f3",
           "#FF6692",
           "#B6E880",
           "#FF97FF",
           "#FECB52"
          ],
          "font": {
           "color": "#2a3f5f"
          },
          "geo": {
           "bgcolor": "white",
           "lakecolor": "white",
           "landcolor": "#E5ECF6",
           "showlakes": true,
           "showland": true,
           "subunitcolor": "white"
          },
          "hoverlabel": {
           "align": "left"
          },
          "hovermode": "closest",
          "mapbox": {
           "style": "light"
          },
          "paper_bgcolor": "white",
          "plot_bgcolor": "#E5ECF6",
          "polar": {
           "angularaxis": {
            "gridcolor": "white",
            "linecolor": "white",
            "ticks": ""
           },
           "bgcolor": "#E5ECF6",
           "radialaxis": {
            "gridcolor": "white",
            "linecolor": "white",
            "ticks": ""
           }
          },
          "scene": {
           "xaxis": {
            "backgroundcolor": "#E5ECF6",
            "gridcolor": "white",
            "gridwidth": 2,
            "linecolor": "white",
            "showbackground": true,
            "ticks": "",
            "zerolinecolor": "white"
           },
           "yaxis": {
            "backgroundcolor": "#E5ECF6",
            "gridcolor": "white",
            "gridwidth": 2,
            "linecolor": "white",
            "showbackground": true,
            "ticks": "",
            "zerolinecolor": "white"
           },
           "zaxis": {
            "backgroundcolor": "#E5ECF6",
            "gridcolor": "white",
            "gridwidth": 2,
            "linecolor": "white",
            "showbackground": true,
            "ticks": "",
            "zerolinecolor": "white"
           }
          },
          "shapedefaults": {
           "line": {
            "color": "#2a3f5f"
           }
          },
          "ternary": {
           "aaxis": {
            "gridcolor": "white",
            "linecolor": "white",
            "ticks": ""
           },
           "baxis": {
            "gridcolor": "white",
            "linecolor": "white",
            "ticks": ""
           },
           "bgcolor": "#E5ECF6",
           "caxis": {
            "gridcolor": "white",
            "linecolor": "white",
            "ticks": ""
           }
          },
          "title": {
           "x": 0.05
          },
          "xaxis": {
           "automargin": true,
           "gridcolor": "white",
           "linecolor": "white",
           "ticks": "",
           "title": {
            "standoff": 15
           },
           "zerolinecolor": "white",
           "zerolinewidth": 2
          },
          "yaxis": {
           "automargin": true,
           "gridcolor": "white",
           "linecolor": "white",
           "ticks": "",
           "title": {
            "standoff": 15
           },
           "zerolinecolor": "white",
           "zerolinewidth": 2
          }
         }
        },
        "xaxis": {
         "anchor": "y",
         "constrain": "domain",
         "domain": [
          0,
          1
         ],
         "scaleanchor": "y",
         "side": "top",
         "title": {
          "text": "Genres experience in the past"
         }
        },
        "yaxis": {
         "anchor": "x",
         "autorange": "reversed",
         "constrain": "domain",
         "domain": [
          0,
          1
         ],
         "title": {
          "text": "Genre of the current movie"
         }
        }
       }
      }
     },
     "metadata": {},
     "output_type": "display_data"
    }
   ],
   "source": [
    "# sns.heatmap(corr_before_ongoing_genres)\n",
    "fig = px.imshow(corr_before_ongoing_genres,\n",
    "                labels=dict(x=\"Genres experience in the past\", y=\"Genre of the current movie\", color=\"correlation\"),\n",
    "                x=['Drama', 'Action', 'Romance', 'Comedy', 'Crime', 'War', 'Family', 'Mystery'],\n",
    "                y=['Drama', 'Action', 'Romance', 'Comedy', 'Crime', 'War', 'Family', 'Mystery'],\n",
    "                color_continuous_scale=px.colors.sequential.Cividis_r\n",
    "               )\n",
    "fig.update_xaxes(side=\"top\")\n",
    "fig.show()\n",
    "fig.write_html(\"./data/correlation_map.html\")"
   ]
  },
  {
   "cell_type": "code",
   "execution_count": 48,
   "metadata": {},
   "outputs": [
    {
     "name": "stderr",
     "output_type": "stream",
     "text": [
      "/Users/haozhao/anaconda3/envs/ada/lib/python3.7/site-packages/ipykernel_launcher.py:5: FutureWarning: this method is deprecated in favour of `Styler.format(precision=..)`\n",
      "  \"\"\"\n"
     ]
    },
    {
     "data": {
      "text/html": [
       "<style type=\"text/css\">\n",
       "#T_90da2_row0_col0, #T_90da2_row1_col1, #T_90da2_row2_col2, #T_90da2_row3_col3, #T_90da2_row4_col4, #T_90da2_row5_col5, #T_90da2_row6_col6, #T_90da2_row7_col7, #T_90da2_row8_col8 {\n",
       "  background-color: #b40426;\n",
       "  color: #f1f1f1;\n",
       "}\n",
       "#T_90da2_row0_col1, #T_90da2_row6_col1 {\n",
       "  background-color: #516ddb;\n",
       "  color: #f1f1f1;\n",
       "}\n",
       "#T_90da2_row0_col2, #T_90da2_row1_col0, #T_90da2_row1_col2, #T_90da2_row1_col3, #T_90da2_row1_col4, #T_90da2_row1_col5, #T_90da2_row1_col6, #T_90da2_row1_col7, #T_90da2_row1_col8, #T_90da2_row3_col1, #T_90da2_row5_col2 {\n",
       "  background-color: #3b4cc0;\n",
       "  color: #f1f1f1;\n",
       "}\n",
       "#T_90da2_row0_col3 {\n",
       "  background-color: #7b9ff9;\n",
       "  color: #f1f1f1;\n",
       "}\n",
       "#T_90da2_row0_col4 {\n",
       "  background-color: #6687ed;\n",
       "  color: #f1f1f1;\n",
       "}\n",
       "#T_90da2_row0_col5, #T_90da2_row6_col5 {\n",
       "  background-color: #4a63d3;\n",
       "  color: #f1f1f1;\n",
       "}\n",
       "#T_90da2_row0_col6 {\n",
       "  background-color: #536edd;\n",
       "  color: #f1f1f1;\n",
       "}\n",
       "#T_90da2_row0_col7, #T_90da2_row6_col7 {\n",
       "  background-color: #7a9df8;\n",
       "  color: #f1f1f1;\n",
       "}\n",
       "#T_90da2_row0_col8, #T_90da2_row3_col6 {\n",
       "  background-color: #7597f6;\n",
       "  color: #f1f1f1;\n",
       "}\n",
       "#T_90da2_row2_col0, #T_90da2_row2_col6, #T_90da2_row3_col2 {\n",
       "  background-color: #3e51c5;\n",
       "  color: #f1f1f1;\n",
       "}\n",
       "#T_90da2_row2_col1, #T_90da2_row6_col0 {\n",
       "  background-color: #5470de;\n",
       "  color: #f1f1f1;\n",
       "}\n",
       "#T_90da2_row2_col3 {\n",
       "  background-color: #5875e1;\n",
       "  color: #f1f1f1;\n",
       "}\n",
       "#T_90da2_row2_col4 {\n",
       "  background-color: #4e68d8;\n",
       "  color: #f1f1f1;\n",
       "}\n",
       "#T_90da2_row2_col5 {\n",
       "  background-color: #455cce;\n",
       "  color: #f1f1f1;\n",
       "}\n",
       "#T_90da2_row2_col7, #T_90da2_row2_col8 {\n",
       "  background-color: #5572df;\n",
       "  color: #f1f1f1;\n",
       "}\n",
       "#T_90da2_row3_col0, #T_90da2_row7_col0, #T_90da2_row7_col6 {\n",
       "  background-color: #6485ec;\n",
       "  color: #f1f1f1;\n",
       "}\n",
       "#T_90da2_row3_col4, #T_90da2_row3_col5 {\n",
       "  background-color: #f7b194;\n",
       "  color: #000000;\n",
       "}\n",
       "#T_90da2_row3_col7 {\n",
       "  background-color: #f7b89c;\n",
       "  color: #000000;\n",
       "}\n",
       "#T_90da2_row3_col8, #T_90da2_row8_col3 {\n",
       "  background-color: #c53334;\n",
       "  color: #f1f1f1;\n",
       "}\n",
       "#T_90da2_row4_col0 {\n",
       "  background-color: #5977e3;\n",
       "  color: #f1f1f1;\n",
       "}\n",
       "#T_90da2_row4_col1 {\n",
       "  background-color: #445acc;\n",
       "  color: #f1f1f1;\n",
       "}\n",
       "#T_90da2_row4_col2, #T_90da2_row8_col2 {\n",
       "  background-color: #3d50c3;\n",
       "  color: #f1f1f1;\n",
       "}\n",
       "#T_90da2_row4_col3 {\n",
       "  background-color: #f7ad90;\n",
       "  color: #000000;\n",
       "}\n",
       "#T_90da2_row4_col5 {\n",
       "  background-color: #92b4fe;\n",
       "  color: #000000;\n",
       "}\n",
       "#T_90da2_row4_col6, #T_90da2_row7_col5 {\n",
       "  background-color: #80a3fa;\n",
       "  color: #f1f1f1;\n",
       "}\n",
       "#T_90da2_row4_col7 {\n",
       "  background-color: #a6c4fe;\n",
       "  color: #000000;\n",
       "}\n",
       "#T_90da2_row4_col8 {\n",
       "  background-color: #f4987a;\n",
       "  color: #000000;\n",
       "}\n",
       "#T_90da2_row5_col0 {\n",
       "  background-color: #4257c9;\n",
       "  color: #f1f1f1;\n",
       "}\n",
       "#T_90da2_row5_col1 {\n",
       "  background-color: #4961d2;\n",
       "  color: #f1f1f1;\n",
       "}\n",
       "#T_90da2_row5_col3, #T_90da2_row5_col8, #T_90da2_row7_col8, #T_90da2_row8_col7 {\n",
       "  background-color: #f7ac8e;\n",
       "  color: #000000;\n",
       "}\n",
       "#T_90da2_row5_col4 {\n",
       "  background-color: #96b7ff;\n",
       "  color: #000000;\n",
       "}\n",
       "#T_90da2_row5_col6 {\n",
       "  background-color: #4055c8;\n",
       "  color: #f1f1f1;\n",
       "}\n",
       "#T_90da2_row5_col7 {\n",
       "  background-color: #8caffe;\n",
       "  color: #000000;\n",
       "}\n",
       "#T_90da2_row6_col2, #T_90da2_row7_col1, #T_90da2_row7_col2, #T_90da2_row8_col1 {\n",
       "  background-color: #3c4ec2;\n",
       "  color: #f1f1f1;\n",
       "}\n",
       "#T_90da2_row6_col3 {\n",
       "  background-color: #8badfd;\n",
       "  color: #000000;\n",
       "}\n",
       "#T_90da2_row6_col4 {\n",
       "  background-color: #8db0fe;\n",
       "  color: #000000;\n",
       "}\n",
       "#T_90da2_row6_col8 {\n",
       "  background-color: #a3c2fe;\n",
       "  color: #000000;\n",
       "}\n",
       "#T_90da2_row7_col3 {\n",
       "  background-color: #f7b79b;\n",
       "  color: #000000;\n",
       "}\n",
       "#T_90da2_row7_col4 {\n",
       "  background-color: #9fbfff;\n",
       "  color: #000000;\n",
       "}\n",
       "#T_90da2_row8_col0 {\n",
       "  background-color: #6180e9;\n",
       "  color: #f1f1f1;\n",
       "}\n",
       "#T_90da2_row8_col4 {\n",
       "  background-color: #f59c7d;\n",
       "  color: #000000;\n",
       "}\n",
       "#T_90da2_row8_col5 {\n",
       "  background-color: #f7b093;\n",
       "  color: #000000;\n",
       "}\n",
       "#T_90da2_row8_col6 {\n",
       "  background-color: #90b2fe;\n",
       "  color: #000000;\n",
       "}\n",
       "</style>\n",
       "<table id=\"T_90da2_\">\n",
       "  <thead>\n",
       "    <tr>\n",
       "      <th class=\"blank level0\" >&nbsp;</th>\n",
       "      <th class=\"col_heading level0 col0\" >age_at_movie_start</th>\n",
       "      <th class=\"col_heading level0 col1\" >averageRating</th>\n",
       "      <th class=\"col_heading level0 col2\" >numVotes</th>\n",
       "      <th class=\"col_heading level0 col3\" >exp_so_far</th>\n",
       "      <th class=\"col_heading level0 col4\" >drama_exp_so_far</th>\n",
       "      <th class=\"col_heading level0 col5\" >action_exp_so_far</th>\n",
       "      <th class=\"col_heading level0 col6\" >romance_exp_so_far</th>\n",
       "      <th class=\"col_heading level0 col7\" >comedy_exp_so_far</th>\n",
       "      <th class=\"col_heading level0 col8\" >imp_genres_exp</th>\n",
       "    </tr>\n",
       "  </thead>\n",
       "  <tbody>\n",
       "    <tr>\n",
       "      <th id=\"T_90da2_level0_row0\" class=\"row_heading level0 row0\" >age_at_movie_start</th>\n",
       "      <td id=\"T_90da2_row0_col0\" class=\"data row0 col0\" >1.00</td>\n",
       "      <td id=\"T_90da2_row0_col1\" class=\"data row0 col1\" >-0.01</td>\n",
       "      <td id=\"T_90da2_row0_col2\" class=\"data row0 col2\" >0.01</td>\n",
       "      <td id=\"T_90da2_row0_col3\" class=\"data row0 col3\" >0.13</td>\n",
       "      <td id=\"T_90da2_row0_col4\" class=\"data row0 col4\" >0.09</td>\n",
       "      <td id=\"T_90da2_row0_col5\" class=\"data row0 col5\" >0.02</td>\n",
       "      <td id=\"T_90da2_row0_col6\" class=\"data row0 col6\" >0.08</td>\n",
       "      <td id=\"T_90da2_row0_col7\" class=\"data row0 col7\" >0.13</td>\n",
       "      <td id=\"T_90da2_row0_col8\" class=\"data row0 col8\" >0.12</td>\n",
       "    </tr>\n",
       "    <tr>\n",
       "      <th id=\"T_90da2_level0_row1\" class=\"row_heading level0 row1\" >averageRating</th>\n",
       "      <td id=\"T_90da2_row1_col0\" class=\"data row1 col0\" >-0.01</td>\n",
       "      <td id=\"T_90da2_row1_col1\" class=\"data row1 col1\" >1.00</td>\n",
       "      <td id=\"T_90da2_row1_col2\" class=\"data row1 col2\" >0.00</td>\n",
       "      <td id=\"T_90da2_row1_col3\" class=\"data row1 col3\" >-0.09</td>\n",
       "      <td id=\"T_90da2_row1_col4\" class=\"data row1 col4\" >-0.06</td>\n",
       "      <td id=\"T_90da2_row1_col5\" class=\"data row1 col5\" >-0.04</td>\n",
       "      <td id=\"T_90da2_row1_col6\" class=\"data row1 col6\" >-0.01</td>\n",
       "      <td id=\"T_90da2_row1_col7\" class=\"data row1 col7\" >-0.09</td>\n",
       "      <td id=\"T_90da2_row1_col8\" class=\"data row1 col8\" >-0.08</td>\n",
       "    </tr>\n",
       "    <tr>\n",
       "      <th id=\"T_90da2_level0_row2\" class=\"row_heading level0 row2\" >numVotes</th>\n",
       "      <td id=\"T_90da2_row2_col0\" class=\"data row2 col0\" >0.01</td>\n",
       "      <td id=\"T_90da2_row2_col1\" class=\"data row2 col1\" >0.00</td>\n",
       "      <td id=\"T_90da2_row2_col2\" class=\"data row2 col2\" >1.00</td>\n",
       "      <td id=\"T_90da2_row2_col3\" class=\"data row2 col3\" >0.01</td>\n",
       "      <td id=\"T_90da2_row2_col4\" class=\"data row2 col4\" >0.01</td>\n",
       "      <td id=\"T_90da2_row2_col5\" class=\"data row2 col5\" >0.00</td>\n",
       "      <td id=\"T_90da2_row2_col6\" class=\"data row2 col6\" >0.01</td>\n",
       "      <td id=\"T_90da2_row2_col7\" class=\"data row2 col7\" >0.01</td>\n",
       "      <td id=\"T_90da2_row2_col8\" class=\"data row2 col8\" >0.01</td>\n",
       "    </tr>\n",
       "    <tr>\n",
       "      <th id=\"T_90da2_level0_row3\" class=\"row_heading level0 row3\" >exp_so_far</th>\n",
       "      <td id=\"T_90da2_row3_col0\" class=\"data row3 col0\" >0.13</td>\n",
       "      <td id=\"T_90da2_row3_col1\" class=\"data row3 col1\" >-0.09</td>\n",
       "      <td id=\"T_90da2_row3_col2\" class=\"data row3 col2\" >0.01</td>\n",
       "      <td id=\"T_90da2_row3_col3\" class=\"data row3 col3\" >1.00</td>\n",
       "      <td id=\"T_90da2_row3_col4\" class=\"data row3 col4\" >0.67</td>\n",
       "      <td id=\"T_90da2_row3_col5\" class=\"data row3 col5\" >0.67</td>\n",
       "      <td id=\"T_90da2_row3_col6\" class=\"data row3 col6\" >0.17</td>\n",
       "      <td id=\"T_90da2_row3_col7\" class=\"data row3 col7\" >0.64</td>\n",
       "      <td id=\"T_90da2_row3_col8\" class=\"data row3 col8\" >0.95</td>\n",
       "    </tr>\n",
       "    <tr>\n",
       "      <th id=\"T_90da2_level0_row4\" class=\"row_heading level0 row4\" >drama_exp_so_far</th>\n",
       "      <td id=\"T_90da2_row4_col0\" class=\"data row4 col0\" >0.09</td>\n",
       "      <td id=\"T_90da2_row4_col1\" class=\"data row4 col1\" >-0.06</td>\n",
       "      <td id=\"T_90da2_row4_col2\" class=\"data row4 col2\" >0.01</td>\n",
       "      <td id=\"T_90da2_row4_col3\" class=\"data row4 col3\" >0.67</td>\n",
       "      <td id=\"T_90da2_row4_col4\" class=\"data row4 col4\" >1.00</td>\n",
       "      <td id=\"T_90da2_row4_col5\" class=\"data row4 col5\" >0.24</td>\n",
       "      <td id=\"T_90da2_row4_col6\" class=\"data row4 col6\" >0.21</td>\n",
       "      <td id=\"T_90da2_row4_col7\" class=\"data row4 col7\" >0.27</td>\n",
       "      <td id=\"T_90da2_row4_col8\" class=\"data row4 col8\" >0.73</td>\n",
       "    </tr>\n",
       "    <tr>\n",
       "      <th id=\"T_90da2_level0_row5\" class=\"row_heading level0 row5\" >action_exp_so_far</th>\n",
       "      <td id=\"T_90da2_row5_col0\" class=\"data row5 col0\" >0.02</td>\n",
       "      <td id=\"T_90da2_row5_col1\" class=\"data row5 col1\" >-0.04</td>\n",
       "      <td id=\"T_90da2_row5_col2\" class=\"data row5 col2\" >0.00</td>\n",
       "      <td id=\"T_90da2_row5_col3\" class=\"data row5 col3\" >0.67</td>\n",
       "      <td id=\"T_90da2_row5_col4\" class=\"data row5 col4\" >0.24</td>\n",
       "      <td id=\"T_90da2_row5_col5\" class=\"data row5 col5\" >1.00</td>\n",
       "      <td id=\"T_90da2_row5_col6\" class=\"data row5 col6\" >0.02</td>\n",
       "      <td id=\"T_90da2_row5_col7\" class=\"data row5 col7\" >0.18</td>\n",
       "      <td id=\"T_90da2_row5_col8\" class=\"data row5 col8\" >0.68</td>\n",
       "    </tr>\n",
       "    <tr>\n",
       "      <th id=\"T_90da2_level0_row6\" class=\"row_heading level0 row6\" >romance_exp_so_far</th>\n",
       "      <td id=\"T_90da2_row6_col0\" class=\"data row6 col0\" >0.08</td>\n",
       "      <td id=\"T_90da2_row6_col1\" class=\"data row6 col1\" >-0.01</td>\n",
       "      <td id=\"T_90da2_row6_col2\" class=\"data row6 col2\" >0.01</td>\n",
       "      <td id=\"T_90da2_row6_col3\" class=\"data row6 col3\" >0.17</td>\n",
       "      <td id=\"T_90da2_row6_col4\" class=\"data row6 col4\" >0.21</td>\n",
       "      <td id=\"T_90da2_row6_col5\" class=\"data row6 col5\" >0.02</td>\n",
       "      <td id=\"T_90da2_row6_col6\" class=\"data row6 col6\" >1.00</td>\n",
       "      <td id=\"T_90da2_row6_col7\" class=\"data row6 col7\" >0.13</td>\n",
       "      <td id=\"T_90da2_row6_col8\" class=\"data row6 col8\" >0.26</td>\n",
       "    </tr>\n",
       "    <tr>\n",
       "      <th id=\"T_90da2_level0_row7\" class=\"row_heading level0 row7\" >comedy_exp_so_far</th>\n",
       "      <td id=\"T_90da2_row7_col0\" class=\"data row7 col0\" >0.13</td>\n",
       "      <td id=\"T_90da2_row7_col1\" class=\"data row7 col1\" >-0.09</td>\n",
       "      <td id=\"T_90da2_row7_col2\" class=\"data row7 col2\" >0.01</td>\n",
       "      <td id=\"T_90da2_row7_col3\" class=\"data row7 col3\" >0.64</td>\n",
       "      <td id=\"T_90da2_row7_col4\" class=\"data row7 col4\" >0.27</td>\n",
       "      <td id=\"T_90da2_row7_col5\" class=\"data row7 col5\" >0.18</td>\n",
       "      <td id=\"T_90da2_row7_col6\" class=\"data row7 col6\" >0.13</td>\n",
       "      <td id=\"T_90da2_row7_col7\" class=\"data row7 col7\" >1.00</td>\n",
       "      <td id=\"T_90da2_row7_col8\" class=\"data row7 col8\" >0.68</td>\n",
       "    </tr>\n",
       "    <tr>\n",
       "      <th id=\"T_90da2_level0_row8\" class=\"row_heading level0 row8\" >imp_genres_exp</th>\n",
       "      <td id=\"T_90da2_row8_col0\" class=\"data row8 col0\" >0.12</td>\n",
       "      <td id=\"T_90da2_row8_col1\" class=\"data row8 col1\" >-0.08</td>\n",
       "      <td id=\"T_90da2_row8_col2\" class=\"data row8 col2\" >0.01</td>\n",
       "      <td id=\"T_90da2_row8_col3\" class=\"data row8 col3\" >0.95</td>\n",
       "      <td id=\"T_90da2_row8_col4\" class=\"data row8 col4\" >0.73</td>\n",
       "      <td id=\"T_90da2_row8_col5\" class=\"data row8 col5\" >0.68</td>\n",
       "      <td id=\"T_90da2_row8_col6\" class=\"data row8 col6\" >0.26</td>\n",
       "      <td id=\"T_90da2_row8_col7\" class=\"data row8 col7\" >0.68</td>\n",
       "      <td id=\"T_90da2_row8_col8\" class=\"data row8 col8\" >1.00</td>\n",
       "    </tr>\n",
       "  </tbody>\n",
       "</table>\n"
      ],
      "text/plain": [
       "<pandas.io.formats.style.Styler at 0x7f9f02f1ef50>"
      ]
     },
     "execution_count": 48,
     "metadata": {},
     "output_type": "execute_result"
    }
   ],
   "source": [
    "imp_movie_data = movie_data[movie_data[\"averageRating\"] > 8.0]\n",
    "imp_movie_data = imp_movie_data[imp_movie_data[\"startYear\"] >= 1997.0]\n",
    "imp_movie_data[\"imp_genres_exp\"] = imp_movie_data[\"drama_exp_so_far\"] + imp_movie_data[\"action_exp_so_far\"] + imp_movie_data[\"romance_exp_so_far\"] + imp_movie_data[\"comedy_exp_so_far\"]\n",
    "corr = imp_movie_data[[\"age_at_movie_start\", \"averageRating\", \"numVotes\", \"exp_so_far\", \"drama_exp_so_far\", \"action_exp_so_far\", \"romance_exp_so_far\", \"comedy_exp_so_far\", \"imp_genres_exp\"]].corr()\n",
    "corr.style.background_gradient(cmap='coolwarm').set_precision(2)"
   ]
  },
  {
   "cell_type": "code",
   "execution_count": 42,
   "metadata": {},
   "outputs": [
    {
     "data": {
      "text/plain": [
       "305465"
      ]
     },
     "execution_count": 42,
     "metadata": {},
     "output_type": "execute_result"
    }
   ],
   "source": [
    "imp_movie_data = movie_data[movie_data[\"averageRating\"] > 7.0]\n",
    "len(imp_movie_data)"
   ]
  },
  {
   "cell_type": "markdown",
   "metadata": {},
   "source": [
    "# Rating\n",
    "In this section, we are going to explore the relationship between average rating and actor features (i.e, age_at_movie_start, exp_so_far and gender)."
   ]
  },
  {
   "cell_type": "code",
   "execution_count": null,
   "metadata": {},
   "outputs": [],
   "source": [
    "# Build linear regression model\n",
    "mod = smf.ols(formula='averageRating ~ age_at_movie_start + exp_so_far + C(gender)', data=movie_data)\n",
    "\n",
    "# fit.\n",
    "res = mod.fit()\n",
    "print(res.summary())"
   ]
  },
  {
   "cell_type": "code",
   "execution_count": null,
   "metadata": {},
   "outputs": [],
   "source": [
    "# compute feature importance\n",
    "# split data\n",
    "features = ['age_at_movie_start', 'exp_so_far', 'gender', 'averageRating']\n",
    "df_train, df_test = train_test_split(movie_data, test_size=0.20)\n",
    "df_train = df_train[features]\n",
    "df_test = df_test[features]\n",
    "\n",
    "X_train, y_train = df_train.drop('averageRating',axis=1), df_train['averageRating']\n",
    "X_test, y_test = df_test.drop('averageRating',axis=1), df_test['averageRating']\n",
    "\n",
    "# train\n",
    "rf = RandomForestRegressor(n_estimators=10, n_jobs=-1)\n",
    "rf.fit(X_train, y_train)\n",
    "\n",
    "# Permutation feature importance\n",
    "imp = rfpimp.importances(rf, X_test, y_test)\n",
    "\n",
    "# plot\n",
    "fig, ax = plt.subplots(figsize=(6, 3))\n",
    "\n",
    "ax.barh(imp.index, imp['Importance'], height=0.8, facecolor='grey', alpha=0.8, edgecolor='k')\n",
    "ax.set_xlabel('Importance score')\n",
    "ax.set_title('Permutation feature importance')\n",
    "plt.gca().invert_yaxis()\n",
    "\n",
    "fig.tight_layout()"
   ]
  },
  {
   "cell_type": "code",
   "execution_count": null,
   "metadata": {},
   "outputs": [],
   "source": [
    "# Build linear regression model\n",
    "mod = smf.ols(formula='averageRating ~ age_at_movie_start + exp_so_far + numVotes + C(gender)', data=movie_data)\n",
    "\n",
    "# fit.\n",
    "res = mod.fit()\n",
    "print(res.summary())"
   ]
  },
  {
   "cell_type": "code",
   "execution_count": null,
   "metadata": {},
   "outputs": [],
   "source": [
    "# compute feature importance\n",
    "# split data\n",
    "features = ['age_at_movie_start', 'numVotes', 'exp_so_far', 'gender', 'averageRating']\n",
    "df_train, df_test = train_test_split(movie_data, test_size=0.20)\n",
    "df_train = df_train[features]\n",
    "df_test = df_test[features]\n",
    "\n",
    "X_train, y_train = df_train.drop('averageRating',axis=1), df_train['averageRating']\n",
    "X_test, y_test = df_test.drop('averageRating',axis=1), df_test['averageRating']\n",
    "\n",
    "# train\n",
    "rf = RandomForestRegressor(n_estimators=10, n_jobs=-1)\n",
    "rf.fit(X_train, y_train)\n",
    "\n",
    "# Permutation feature importance\n",
    "imp = rfpimp.importances(rf, X_test, y_test)\n",
    "\n",
    "# plot\n",
    "fig, ax = plt.subplots(figsize=(6, 3))\n",
    "\n",
    "ax.barh(imp.index, imp['Importance'], height=0.8, facecolor='grey', alpha=0.8, edgecolor='k')\n",
    "ax.set_xlabel('Importance score')\n",
    "ax.set_title('Permutation feature importance')\n",
    "plt.gca().invert_yaxis()\n",
    "\n",
    "fig.tight_layout()"
   ]
  },
  {
   "cell_type": "code",
   "execution_count": 24,
   "metadata": {},
   "outputs": [
    {
     "name": "stderr",
     "output_type": "stream",
     "text": [
      "[d3blocks] >INFO> Cleaning edge_properties and config parameters..\n",
      "[d3blocks] >INFO> Extracting files..\n",
      "[d3blocks] >INFO> Import dataset: [energy]\n",
      "[d3blocks] >INFO> Cleaning edge_properties and config parameters..\n",
      "[d3blocks] >INFO> Initializing [Chord]\n",
      "[d3blocks] >INFO> Convert to Frame.\n",
      "[d3blocks] >INFO> Node properties are set.\n",
      "[d3blocks] >INFO> Set edge-opacity based on the [source] node-opacity.\n",
      "[d3blocks] >INFO> Set edge-colors based on the [source] node-color.\n",
      "[d3blocks] >INFO> Edge properties are set.\n",
      "[d3blocks] >INFO> File already exists and will be overwritten: [/var/folders/hc/l31vrq9j7_s_2l_yt65xnntr0000gp/T/d3blocks/chord.html]\n",
      "[d3blocks] >INFO> File not found: [file:////var/folders/hc/l31vrq9j7_s_2l_yt65xnntr0000gp/T/d3blocks/chord.html]\n",
      "[d3blocks] >INFO> Cleaning edge_properties and config parameters..\n",
      "[d3blocks] >INFO> Initializing [Chord]\n",
      "[d3blocks] >INFO> Convert to Frame.\n",
      "[d3blocks] >INFO> Node properties are set.\n",
      "[d3blocks] >INFO> Set edge-opacity based on the [source] node-opacity.\n",
      "[d3blocks] >INFO> Set edge-colors based on the [source] node-color.\n",
      "[d3blocks] >INFO> Edge properties are set.\n",
      "[d3blocks] >INFO> File already exists and will be overwritten: [/var/folders/hc/l31vrq9j7_s_2l_yt65xnntr0000gp/T/d3blocks/chord.html]\n",
      "[d3blocks] >INFO> File not found: [file:////var/folders/hc/l31vrq9j7_s_2l_yt65xnntr0000gp/T/d3blocks/chord.html]\n"
     ]
    }
   ],
   "source": [
    "# Load d3blocks\n",
    "from d3blocks import D3Blocks\n",
    "\n",
    "# Initialize\n",
    "d3 = D3Blocks()\n",
    "\n",
    "# Load example data\n",
    "df = d3.import_example('energy')\n",
    "\n",
    "# Plot\n",
    "d3.chord(df)\n",
    "\n",
    "# Or specify the output path\n",
    "d3.chord(df)"
   ]
  },
  {
   "cell_type": "markdown",
   "metadata": {},
   "source": [
    "- 1. covariance map on the basis of dataset that filter in particular genres.\n",
    "- 2. Create hierarchical Edge Bundling based on the `genres` column.\n",
    "- 3. repeat the same procedure of computing covariance map as before but filtering out low quality movies which means low rating."
   ]
  }
 ],
 "metadata": {
  "kernelspec": {
   "display_name": "Python 3.7.15 ('ada')",
   "language": "python",
   "name": "python3"
  },
  "language_info": {
   "codemirror_mode": {
    "name": "ipython",
    "version": 3
   },
   "file_extension": ".py",
   "mimetype": "text/x-python",
   "name": "python",
   "nbconvert_exporter": "python",
   "pygments_lexer": "ipython3",
   "version": "3.7.15"
  },
  "orig_nbformat": 4,
  "vscode": {
   "interpreter": {
    "hash": "63b0f96a7ed47cef9ab35015ef1216089d7ec8d8d7aec9bdd2a146a1ec72f473"
   }
  }
 },
 "nbformat": 4,
 "nbformat_minor": 2
}
