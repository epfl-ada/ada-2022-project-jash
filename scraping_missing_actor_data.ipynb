{
 "cells": [
  {
   "attachments": {},
   "cell_type": "markdown",
   "metadata": {},
   "source": [
    "# !!!DEPRECATED!!!!"
   ]
  },
  {
   "cell_type": "code",
   "execution_count": 39,
   "metadata": {},
   "outputs": [],
   "source": [
    "import pandas as pd\n",
    "import numpy as np\n",
    "\n",
    "import requests\n",
    "from bs4 import BeautifulSoup\n",
    "import re"
   ]
  },
  {
   "attachments": {},
   "cell_type": "markdown",
   "metadata": {},
   "source": [
    "# Scraping missing actor data\n",
    "In this notebook, we are scrappping missing actor data for our data story: analysing the ideal actor profile for each genre over time.\n",
    "\n",
    "The missing data is:\n",
    "1. height of every actor\n",
    "2. nationality of every actor\n",
    "3. ..."
   ]
  },
  {
   "attachments": {},
   "cell_type": "markdown",
   "metadata": {},
   "source": [
    "## Import actor data from imdb\n"
   ]
  },
  {
   "cell_type": "code",
   "execution_count": 3,
   "metadata": {},
   "outputs": [
    {
     "ename": "NameError",
     "evalue": "name 'pd' is not defined",
     "output_type": "error",
     "traceback": [
      "\u001b[1;31m---------------------------------------------------------------------------\u001b[0m",
      "\u001b[1;31mNameError\u001b[0m                                 Traceback (most recent call last)",
      "Cell \u001b[1;32mIn [3], line 2\u001b[0m\n\u001b[0;32m      1\u001b[0m \u001b[39m# get imdb actor list (source: https://datasets.imdbws.com/)\u001b[39;00m\n\u001b[1;32m----> 2\u001b[0m actors \u001b[39m=\u001b[39m pd\u001b[39m.\u001b[39mread_csv(\u001b[39m'\u001b[39m\u001b[39m./data/name.basics.tsv/data.tsv\u001b[39m\u001b[39m'\u001b[39m, sep\u001b[39m=\u001b[39m\u001b[39m'\u001b[39m\u001b[39m\\t\u001b[39;00m\u001b[39m'\u001b[39m)\n\u001b[0;32m      3\u001b[0m actors\u001b[39m.\u001b[39mhead()\n",
      "\u001b[1;31mNameError\u001b[0m: name 'pd' is not defined"
     ]
    }
   ],
   "source": [
    "# get imdb actor list (source: https://datasets.imdbws.com/)\n",
    "actors = pd.read_csv('./data/name.basics.tsv/data.tsv', sep='\\t')\n",
    "actors.head()"
   ]
  },
  {
   "cell_type": "code",
   "execution_count": null,
   "metadata": {},
   "outputs": [],
   "source": [
    "actors.shape"
   ]
  },
  {
   "attachments": {},
   "cell_type": "markdown",
   "metadata": {},
   "source": [
    "## Scraping the height and birthplace (=nationality) of every actor\n",
    "Since we regard the birthplace as the decider for the nationality of an actor, we definitely determine some actors' nationality wrong. However, due to the work bound to finding the proper nationality exceeds this project's frame and the fact that the birthplace in mostcases reflects the nationality, we decided to neglect this error."
   ]
  },
  {
   "cell_type": "code",
   "execution_count": 52,
   "metadata": {},
   "outputs": [],
   "source": [
    "# input string of imdb actor id and output is an array of birthday, birthplace, height (in this order)\n",
    "def getImdbActorInfo(imdbActorId):\n",
    "    try:\n",
    "        page = requests.get('https://www.imdb.com/name/'+imdbActorId+'/bio/')\n",
    "        soup = BeautifulSoup(page.text, 'html.parser')\n",
    "    \n",
    "        table = soup.find('table', attrs={'id':'overviewTable'})\n",
    "        birthday = table.find(\"time\")['datetime']\n",
    "        birthplace = \"\".join([a.contents for a in table.find_all(\"a\", href=True) if \"birth_place\" in a[\"href\"]][0])\n",
    "        height = int(re.findall(r'\\(.*?\\)', table.find_all('td')[[idx for idx, td in enumerate(table.find_all('td')) if \"Height\" in td.contents][0]+1].contents[0])[0].replace(\"(\", \"\").replace(\")\", \"\").replace(\".\", \"\").replace(\"\\xa0\", \"\").replace(\"m\", \"\"))\n",
    "        return [birthday, birthplace, height]\n",
    "    except:\n",
    "        return \"NA\""
   ]
  },
  {
   "cell_type": "code",
   "execution_count": 53,
   "metadata": {},
   "outputs": [
    {
     "name": "stdout",
     "output_type": "stream",
     "text": [
      "['1968-9-25', 'Philadelphia, Pennsylvania, USA', 187]\n"
     ]
    }
   ],
   "source": [
    "#test upper function\n",
    "print(getImdbActorInfo(\"nm0000226\"))"
   ]
  },
  {
   "cell_type": "code",
   "execution_count": 58,
   "metadata": {},
   "outputs": [],
   "source": [
    "# scrape for personal info of actor on imdb\n",
    "# TODO make more efficient takes way too long time\n",
    "birthdays = []\n",
    "birthplaces = []\n",
    "heights = []\n",
    "for idx, actor in enumerate(actors.loc[100, \"nconst\"]):\n",
    "    info = getImdbActorInfo(actor)\n",
    "    if info == \"NA\": \n",
    "        birthdays.append(\"NA\")\n",
    "        birthplaces.append(\"NA\")\n",
    "        heights.append(\"NA\")\n",
    "    else:\n",
    "        birthdays.append(info[0])\n",
    "        birthplaces.append(info[1])\n",
    "        heights.append(info[2])\n",
    "actors[\"birthday\"] = birthdays\n",
    "actors[\"birthplace\"] = birthplaces\n",
    "actors[\"height\"] = heights"
   ]
  }
 ],
 "metadata": {
  "kernelspec": {
   "display_name": "Python 3",
   "language": "python",
   "name": "python3"
  },
  "language_info": {
   "codemirror_mode": {
    "name": "ipython",
    "version": 3
   },
   "file_extension": ".py",
   "mimetype": "text/x-python",
   "name": "python",
   "nbconvert_exporter": "python",
   "pygments_lexer": "ipython3",
   "version": "3.10.5 (tags/v3.10.5:f377153, Jun  6 2022, 16:14:13) [MSC v.1929 64 bit (AMD64)]"
  },
  "orig_nbformat": 4,
  "vscode": {
   "interpreter": {
    "hash": "b58835502958df7a8f6f9a9f687cdfbc590c168a3f7a37877418ee335f674714"
   }
  }
 },
 "nbformat": 4,
 "nbformat_minor": 2
}
